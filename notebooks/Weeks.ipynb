{
 "cells": [
  {
   "cell_type": "code",
   "execution_count": 1,
   "id": "3e66f79f",
   "metadata": {},
   "outputs": [],
   "source": [
    "import pandas as pd\n",
    "import numpy as np\n",
    "import matplotlib.pyplot as plt\n",
    "import seaborn as sns\n",
    "import gc\n",
    "import matplotlib.pyplot as plt\n",
    "from statsmodels.stats.proportion import proportions_ztest, proportion_confint\n",
    "from sklearn.linear_model import LogisticRegression\n",
    "from sklearn.model_selection import train_test_split\n",
    "from sklearn.metrics import classification_report, roc_auc_score"
   ]
  },
  {
   "cell_type": "code",
   "execution_count": 2,
   "id": "dd091383",
   "metadata": {},
   "outputs": [],
   "source": [
    "plays = pd.read_csv('nfl_data/plays_new.csv', sep='\\t', index_col=0).drop(['playDescription', 'timeToSack'], axis=1)\n"
   ]
  },
  {
   "cell_type": "code",
   "execution_count": 3,
   "id": "e0c7edb0",
   "metadata": {},
   "outputs": [],
   "source": [
    "players =  pd.read_csv('nfl_data/players.csv')\n",
    "players = players.drop(['height', 'weight', 'birthDate', 'collegeName', 'displayName'], axis=1)"
   ]
  },
  {
   "cell_type": "code",
   "execution_count": 4,
   "id": "1e23a4fe",
   "metadata": {},
   "outputs": [],
   "source": [
    "pp =  pd.read_csv('nfl_data/player_play.csv').drop(['penaltyNames', 'penaltyYards'], axis=1)"
   ]
  },
  {
   "cell_type": "code",
   "execution_count": 5,
   "id": "80108307",
   "metadata": {},
   "outputs": [],
   "source": [
    "pp['wasRunningRoute'] = pp['wasRunningRoute'].fillna(0).astype(int)"
   ]
  },
  {
   "cell_type": "code",
   "execution_count": 10,
   "id": "7ae64335",
   "metadata": {},
   "outputs": [],
   "source": [
    "\n",
    "\n",
    "# week = pd.read_csv('nfl_data/tracking_week_1.csv')\n",
    "\n",
    "\n",
    "week = pd.read_csv('nfl_data/tracking_week_1.csv')\n",
    "week2 = pd.read_csv('nfl_data/tracking_week_2.csv')\n",
    "week3 = pd.read_csv('nfl_data/tracking_week_3.csv')\n",
    "week4 = pd.read_csv('nfl_data/tracking_week_4.csv')\n",
    "week5 = pd.read_csv('nfl_data/tracking_week_5.csv')\n",
    "week6 = pd.read_csv('nfl_data/tracking_week_6.csv')\n",
    "week7 = pd.read_csv('nfl_data/tracking_week_7.csv')\n",
    "week8 = pd.read_csv('nfl_data/tracking_week_8.csv')\n",
    "week9 = pd.read_csv('nfl_data/tracking_week_9.csv')\n",
    "\n"
   ]
  },
  {
   "cell_type": "markdown",
   "id": "e0d71255",
   "metadata": {},
   "source": [
    "**wasRunningRoute** hadRushAttempt hadPassReception wasTargettedReceiver yardageGainedAfterTheCatch receivingYards fumbles forcedFumbleAsDefense (CB) soloTackle tackleAssist hadInterception pff_runConceptPrimary receiverAlignment  routeRan"
   ]
  },
  {
   "cell_type": "code",
   "execution_count": 11,
   "id": "155e2945",
   "metadata": {},
   "outputs": [],
   "source": [
    "week1 = pd.concat([week,week2,week3,week4,week5,week6,week7])"
   ]
  },
  {
   "cell_type": "code",
   "execution_count": 12,
   "id": "7fe652b1",
   "metadata": {},
   "outputs": [],
   "source": [
    "for i in [week,week2,week3,week4,week5,week6,week7]:\n",
    "    del i\n",
    "    gc.collect()"
   ]
  },
  {
   "cell_type": "code",
   "execution_count": 13,
   "id": "b45ab1e7",
   "metadata": {},
   "outputs": [],
   "source": [
    "# Gameplays with forward pass\n",
    "\n",
    "pass_forward = week1.query('event==\"pass_forward\"')[['gameId','playId']].drop_duplicates()"
   ]
  },
  {
   "cell_type": "code",
   "execution_count": 14,
   "id": "9152e3a7",
   "metadata": {},
   "outputs": [],
   "source": [
    "pp = pp.merge(pass_forward, on=['gameId','playId'], how='inner')\n",
    "plays = plays.merge(pass_forward, on=['gameId','playId'], how='inner')"
   ]
  },
  {
   "cell_type": "code",
   "execution_count": 15,
   "id": "89fea0a0",
   "metadata": {},
   "outputs": [
    {
     "data": {
      "text/html": [
       "<div>\n",
       "<style scoped>\n",
       "    .dataframe tbody tr th:only-of-type {\n",
       "        vertical-align: middle;\n",
       "    }\n",
       "\n",
       "    .dataframe tbody tr th {\n",
       "        vertical-align: top;\n",
       "    }\n",
       "\n",
       "    .dataframe thead th {\n",
       "        text-align: right;\n",
       "    }\n",
       "</style>\n",
       "<table border=\"1\" class=\"dataframe\">\n",
       "  <thead>\n",
       "    <tr style=\"text-align: right;\">\n",
       "      <th></th>\n",
       "      <th>dropbackType</th>\n",
       "      <th>passResult</th>\n",
       "      <th>passLength</th>\n",
       "      <th>targetX</th>\n",
       "      <th>targetY</th>\n",
       "    </tr>\n",
       "  </thead>\n",
       "  <tbody>\n",
       "    <tr>\n",
       "      <th>391</th>\n",
       "      <td>UNKNOWN</td>\n",
       "      <td>NoPass</td>\n",
       "      <td>0.0</td>\n",
       "      <td>NaN</td>\n",
       "      <td>NaN</td>\n",
       "    </tr>\n",
       "    <tr>\n",
       "      <th>1505</th>\n",
       "      <td>UNKNOWN</td>\n",
       "      <td>NoPass</td>\n",
       "      <td>0.0</td>\n",
       "      <td>NaN</td>\n",
       "      <td>NaN</td>\n",
       "    </tr>\n",
       "    <tr>\n",
       "      <th>1563</th>\n",
       "      <td>UNKNOWN</td>\n",
       "      <td>NoPass</td>\n",
       "      <td>0.0</td>\n",
       "      <td>NaN</td>\n",
       "      <td>NaN</td>\n",
       "    </tr>\n",
       "    <tr>\n",
       "      <th>2484</th>\n",
       "      <td>UNKNOWN</td>\n",
       "      <td>NoPass</td>\n",
       "      <td>0.0</td>\n",
       "      <td>NaN</td>\n",
       "      <td>NaN</td>\n",
       "    </tr>\n",
       "    <tr>\n",
       "      <th>3034</th>\n",
       "      <td>UNKNOWN</td>\n",
       "      <td>NoPass</td>\n",
       "      <td>0.0</td>\n",
       "      <td>NaN</td>\n",
       "      <td>NaN</td>\n",
       "    </tr>\n",
       "    <tr>\n",
       "      <th>4434</th>\n",
       "      <td>UNKNOWN</td>\n",
       "      <td>NoPass</td>\n",
       "      <td>0.0</td>\n",
       "      <td>NaN</td>\n",
       "      <td>NaN</td>\n",
       "    </tr>\n",
       "    <tr>\n",
       "      <th>5111</th>\n",
       "      <td>UNKNOWN</td>\n",
       "      <td>NoPass</td>\n",
       "      <td>0.0</td>\n",
       "      <td>NaN</td>\n",
       "      <td>NaN</td>\n",
       "    </tr>\n",
       "    <tr>\n",
       "      <th>5450</th>\n",
       "      <td>UNKNOWN</td>\n",
       "      <td>NoPass</td>\n",
       "      <td>0.0</td>\n",
       "      <td>NaN</td>\n",
       "      <td>NaN</td>\n",
       "    </tr>\n",
       "    <tr>\n",
       "      <th>5669</th>\n",
       "      <td>UNKNOWN</td>\n",
       "      <td>NoPass</td>\n",
       "      <td>0.0</td>\n",
       "      <td>NaN</td>\n",
       "      <td>NaN</td>\n",
       "    </tr>\n",
       "    <tr>\n",
       "      <th>5780</th>\n",
       "      <td>UNKNOWN</td>\n",
       "      <td>NoPass</td>\n",
       "      <td>0.0</td>\n",
       "      <td>NaN</td>\n",
       "      <td>NaN</td>\n",
       "    </tr>\n",
       "    <tr>\n",
       "      <th>6460</th>\n",
       "      <td>UNKNOWN</td>\n",
       "      <td>NoPass</td>\n",
       "      <td>0.0</td>\n",
       "      <td>NaN</td>\n",
       "      <td>NaN</td>\n",
       "    </tr>\n",
       "    <tr>\n",
       "      <th>6878</th>\n",
       "      <td>UNKNOWN</td>\n",
       "      <td>NoPass</td>\n",
       "      <td>0.0</td>\n",
       "      <td>NaN</td>\n",
       "      <td>NaN</td>\n",
       "    </tr>\n",
       "  </tbody>\n",
       "</table>\n",
       "</div>"
      ],
      "text/plain": [
       "     dropbackType passResult  passLength  targetX  targetY\n",
       "391       UNKNOWN     NoPass         0.0      NaN      NaN\n",
       "1505      UNKNOWN     NoPass         0.0      NaN      NaN\n",
       "1563      UNKNOWN     NoPass         0.0      NaN      NaN\n",
       "2484      UNKNOWN     NoPass         0.0      NaN      NaN\n",
       "3034      UNKNOWN     NoPass         0.0      NaN      NaN\n",
       "4434      UNKNOWN     NoPass         0.0      NaN      NaN\n",
       "5111      UNKNOWN     NoPass         0.0      NaN      NaN\n",
       "5450      UNKNOWN     NoPass         0.0      NaN      NaN\n",
       "5669      UNKNOWN     NoPass         0.0      NaN      NaN\n",
       "5780      UNKNOWN     NoPass         0.0      NaN      NaN\n",
       "6460      UNKNOWN     NoPass         0.0      NaN      NaN\n",
       "6878      UNKNOWN     NoPass         0.0      NaN      NaN"
      ]
     },
     "execution_count": 15,
     "metadata": {},
     "output_type": "execute_result"
    }
   ],
   "source": [
    "plays.query('passResult==\"NoPass\"')[['dropbackType', 'passResult','passLength', 'targetX', 'targetY']]#.loc[239]"
   ]
  },
  {
   "cell_type": "code",
   "execution_count": 16,
   "id": "6b726b63",
   "metadata": {},
   "outputs": [],
   "source": [
    "plays = plays.query('passResult!=\"NoPass\"')"
   ]
  },
  {
   "cell_type": "code",
   "execution_count": 17,
   "id": "b08a8c6a",
   "metadata": {},
   "outputs": [],
   "source": [
    "pp = pp.merge(plays, on=['gameId', 'playId']).merge(players[['position', 'nflId']], on='nflId', how='left')"
   ]
  },
  {
   "cell_type": "code",
   "execution_count": 18,
   "id": "b81635cc",
   "metadata": {},
   "outputs": [
    {
     "data": {
      "text/plain": [
       "0"
      ]
     },
     "execution_count": 18,
     "metadata": {},
     "output_type": "execute_result"
    }
   ],
   "source": [
    "len(pp.query('qbSpike==1 or qbKneel==1'))"
   ]
  },
  {
   "cell_type": "code",
   "execution_count": 19,
   "id": "7bf4a0bc",
   "metadata": {},
   "outputs": [],
   "source": [
    "pp = pp.drop(['qbSpike', 'qbKneel', 'dropbackDistance', 'penalty', 'hadDropback', 'timeToPressureAsPassRusher', \n",
    "              'sackYardsAsOffense', 'absoluteYardlineNumber'], axis=1) # 'isDropback', "
   ]
  },
  {
   "cell_type": "code",
   "execution_count": 20,
   "id": "5d2f9e12",
   "metadata": {},
   "outputs": [],
   "source": [
    "# week1.query('event.isin([\"shift\", \"man_in_motion\"])')"
   ]
  },
  {
   "cell_type": "code",
   "execution_count": 21,
   "id": "688bca76",
   "metadata": {},
   "outputs": [],
   "source": [
    "week1 = week1.merge(pass_forward, on=['gameId','playId'], how='inner')"
   ]
  },
  {
   "cell_type": "code",
   "execution_count": 22,
   "id": "fe864e41",
   "metadata": {},
   "outputs": [],
   "source": [
    "# week1 = week.copy()\n",
    "\n",
    "week1 = week1.query('~nflId.isna()')\n",
    "\n",
    "week1['time'] = pd.to_datetime(week1['time'], errors='coerce')\n",
    " \n",
    "week1 = week1.sort_values(['gameId', 'playId', 'nflId', 'frameId'])\n",
    "week1['event'] = week1.groupby(['gameId', 'playId', 'nflId'])['event'].ffill()\n",
    "\n",
    "# week1\n",
    "week1['dx'] = week1.groupby(['gameId', 'playId', 'nflId'])['x'].diff().fillna(0)\n",
    "week1['dy'] = week1.groupby(['gameId', 'playId', 'nflId'])['y'].diff().fillna(0)\n",
    "week1['displacement'] = (week1['dx']**2 + week1['dy']**2)**0.5\n",
    "\n",
    "\n",
    "# week1 = week1.merge(plays[['gameId', 'playId', 'possessionTeam']], on=['gameId', 'playId'], how='left')\n",
    "# week1['isOffense'] = week1['club'] == week1['possessionTeam']\n",
    "# week1 = week1.drop('possessionTeam', axis=1)\n",
    "\n",
    "week1 = week1.merge(players[players['position'].isin(['WR', 'CB'])][['nflId','position']], on='nflId', how='inner')"
   ]
  },
  {
   "cell_type": "code",
   "execution_count": 23,
   "id": "25df319b",
   "metadata": {},
   "outputs": [],
   "source": [
    "week1 = week1.drop(['displayName', 'jerseyNumber'], axis=1)"
   ]
  },
  {
   "cell_type": "markdown",
   "id": "ed2c4c7f",
   "metadata": {},
   "source": [
    "Now this df consists of CB and WR."
   ]
  },
  {
   "cell_type": "code",
   "execution_count": 24,
   "id": "d77f0e40",
   "metadata": {},
   "outputs": [],
   "source": [
    "# pp[pp['shiftSinceLineset']==True]['position'].unique()"
   ]
  },
  {
   "cell_type": "code",
   "execution_count": 25,
   "id": "c2de30a5",
   "metadata": {},
   "outputs": [],
   "source": [
    "before = week1[week1['frameType'] == 'BEFORE_SNAP']#.tail(frames_before)\n",
    "# snap = week1[week1['frameType'] == 'SNAP']#.tail(frames_before)\n",
    "# after = week1[week1['frameType'] == 'AFTER_SNAP']#.head(frames_after)"
   ]
  },
  {
   "cell_type": "code",
   "execution_count": null,
   "id": "c7d7ed25",
   "metadata": {},
   "outputs": [],
   "source": [
    "# del players\n",
    "# del plays"
   ]
  },
  {
   "cell_type": "code",
   "execution_count": 26,
   "id": "e1047a57",
   "metadata": {},
   "outputs": [],
   "source": [
    "# exclude plays where the receiver did not run a route at all to focus on \"active\" WRs who are potential pass targets.\n",
    "pp = pp.query('~(position==\"WR\" and wasRunningRoute!=1)')"
   ]
  },
  {
   "cell_type": "markdown",
   "id": "9adf7603",
   "metadata": {},
   "source": [
    "Don't exclude plays where the WR wasn't targeted because the CB doesn't know whether the pass will go to their WR."
   ]
  },
  {
   "cell_type": "markdown",
   "id": "762e3c09",
   "metadata": {},
   "source": [
    "## Games and plays where all WRs moved before the snap are referred to as moved."
   ]
  },
  {
   "cell_type": "code",
   "execution_count": 27,
   "id": "8a39ab94",
   "metadata": {},
   "outputs": [],
   "source": [
    "# player play with the shiftSinceLineset or motionSinceLineset\n",
    "linesetShift = pp[( (pp['shiftSinceLineset']==True) | ((pp['motionSinceLineset']==True)) ) & (pp['position']==\"WR\")][['gameId', 'playId']].drop_duplicates()\n"
   ]
  },
  {
   "cell_type": "code",
   "execution_count": 31,
   "id": "7864d3a9",
   "metadata": {},
   "outputs": [
    {
     "data": {
      "text/html": [
       "<div>\n",
       "<style scoped>\n",
       "    .dataframe tbody tr th:only-of-type {\n",
       "        vertical-align: middle;\n",
       "    }\n",
       "\n",
       "    .dataframe tbody tr th {\n",
       "        vertical-align: top;\n",
       "    }\n",
       "\n",
       "    .dataframe thead th {\n",
       "        text-align: right;\n",
       "    }\n",
       "</style>\n",
       "<table border=\"1\" class=\"dataframe\">\n",
       "  <thead>\n",
       "    <tr style=\"text-align: right;\">\n",
       "      <th></th>\n",
       "      <th>gameId</th>\n",
       "      <th>playId</th>\n",
       "    </tr>\n",
       "  </thead>\n",
       "  <tbody>\n",
       "    <tr>\n",
       "      <th>616</th>\n",
       "      <td>2022090800</td>\n",
       "      <td>569</td>\n",
       "    </tr>\n",
       "    <tr>\n",
       "      <th>977</th>\n",
       "      <td>2022090800</td>\n",
       "      <td>617</td>\n",
       "    </tr>\n",
       "  </tbody>\n",
       "</table>\n",
       "</div>"
      ],
      "text/plain": [
       "         gameId  playId\n",
       "616  2022090800     569\n",
       "977  2022090800     617"
      ]
     },
     "execution_count": 31,
     "metadata": {},
     "output_type": "execute_result"
    }
   ],
   "source": [
    "# gameplay pairs where WR moved before snap according to the event column\n",
    "\n",
    "WR_moved = before[before['event'].isin(['man_in_motion', 'shift']) & (before['position']==\"WR\")][['gameId', 'playId']].drop_duplicates()\n",
    "WR_moved.head(2)"
   ]
  },
  {
   "cell_type": "code",
   "execution_count": 32,
   "id": "68679254",
   "metadata": {},
   "outputs": [],
   "source": [
    "# Either event or shiftSinceLineset\n",
    "\n",
    "WR_moved = WR_moved.merge(linesetShift, on=['gameId', 'playId'], how='outer')"
   ]
  },
  {
   "cell_type": "code",
   "execution_count": 33,
   "id": "5f1d27a7",
   "metadata": {},
   "outputs": [],
   "source": [
    "week1_move = week1.merge(WR_moved, on=['gameId', 'playId'])\n"
   ]
  },
  {
   "cell_type": "code",
   "execution_count": 34,
   "id": "a65c44e2",
   "metadata": {},
   "outputs": [],
   "source": [
    "# week1[week1.set_index(['gameId', 'playId']).index.isin(\n",
    "#         WR_moved.set_index(['gameId', 'playId']).index)][['gameId', 'playId']].drop_duplicates().reset_index(drop=True)\n"
   ]
  },
  {
   "cell_type": "code",
   "execution_count": 35,
   "id": "90273a10",
   "metadata": {},
   "outputs": [],
   "source": [
    "\n",
    "week1_nomove = week1[~week1.set_index(['gameId', 'playId']).index.isin(WR_moved.set_index(['gameId', 'playId']).index)] #[['gameId', 'playId']].drop_duplicates()\n"
   ]
  },
  {
   "cell_type": "code",
   "execution_count": 36,
   "id": "6884ab6a",
   "metadata": {},
   "outputs": [],
   "source": [
    "WR_NOmoved = week1_nomove[['gameId', 'playId']].drop_duplicates() # gameplay pairs"
   ]
  },
  {
   "cell_type": "code",
   "execution_count": 37,
   "id": "a8722227",
   "metadata": {},
   "outputs": [],
   "source": [
    "# before = before.merge(WR_moved, on=['gameId', 'playId'])\n",
    "# snap = snap.merge(WR_moved, on=['gameId', 'playId'])\n",
    "# after = after.merge(WR_moved, on=['gameId', 'playId'])"
   ]
  },
  {
   "cell_type": "code",
   "execution_count": 38,
   "id": "0bb08a1d",
   "metadata": {},
   "outputs": [],
   "source": [
    "# MAN_cov = plays[plays['pff_manZone']=='Man'][['gameId', 'playId']].drop_duplicates()\n",
    "# Zone_cov = plays[plays['pff_manZone']=='Zone'][['gameId', 'playId']].drop_duplicates()\n",
    "\n",
    "# pp_man = pp.query('pff_defensiveCoverageAssignment==\"MAN\"')[['gameId', 'playId']].drop_duplicates()\n",
    "# pp_zone = pp.query('pff_defensiveCoverageAssignment!=\"MAN\"')[['gameId', 'playId']].drop_duplicates()\n",
    "\n",
    "# man_plays = MAN_cov.merge(pp_man, on=['gameId', 'playId'], how='inner')\n",
    "# zone_plays = Zone_cov.merge(pp_zone, on=['gameId', 'playId'], how='outer')"
   ]
  },
  {
   "cell_type": "code",
   "execution_count": 39,
   "id": "336d6b1a",
   "metadata": {},
   "outputs": [
    {
     "data": {
      "text/html": [
       "<div>\n",
       "<style scoped>\n",
       "    .dataframe tbody tr th:only-of-type {\n",
       "        vertical-align: middle;\n",
       "    }\n",
       "\n",
       "    .dataframe tbody tr th {\n",
       "        vertical-align: top;\n",
       "    }\n",
       "\n",
       "    .dataframe thead th {\n",
       "        text-align: right;\n",
       "    }\n",
       "</style>\n",
       "<table border=\"1\" class=\"dataframe\">\n",
       "  <thead>\n",
       "    <tr style=\"text-align: right;\">\n",
       "      <th></th>\n",
       "      <th>pff_manZone</th>\n",
       "      <th>pff_defensiveCoverageAssignment</th>\n",
       "    </tr>\n",
       "  </thead>\n",
       "  <tbody>\n",
       "    <tr>\n",
       "      <th>66</th>\n",
       "      <td>Man</td>\n",
       "      <td>NaN</td>\n",
       "    </tr>\n",
       "    <tr>\n",
       "      <th>67</th>\n",
       "      <td>Man</td>\n",
       "      <td>NaN</td>\n",
       "    </tr>\n",
       "    <tr>\n",
       "      <th>68</th>\n",
       "      <td>Man</td>\n",
       "      <td>NaN</td>\n",
       "    </tr>\n",
       "    <tr>\n",
       "      <th>69</th>\n",
       "      <td>Man</td>\n",
       "      <td>NaN</td>\n",
       "    </tr>\n",
       "    <tr>\n",
       "      <th>70</th>\n",
       "      <td>Man</td>\n",
       "      <td>NaN</td>\n",
       "    </tr>\n",
       "  </tbody>\n",
       "</table>\n",
       "</div>"
      ],
      "text/plain": [
       "   pff_manZone pff_defensiveCoverageAssignment\n",
       "66         Man                             NaN\n",
       "67         Man                             NaN\n",
       "68         Man                             NaN\n",
       "69         Man                             NaN\n",
       "70         Man                             NaN"
      ]
     },
     "metadata": {},
     "output_type": "display_data"
    },
    {
     "data": {
      "text/html": [
       "<div>\n",
       "<style scoped>\n",
       "    .dataframe tbody tr th:only-of-type {\n",
       "        vertical-align: middle;\n",
       "    }\n",
       "\n",
       "    .dataframe tbody tr th {\n",
       "        vertical-align: top;\n",
       "    }\n",
       "\n",
       "    .dataframe thead th {\n",
       "        text-align: right;\n",
       "    }\n",
       "</style>\n",
       "<table border=\"1\" class=\"dataframe\">\n",
       "  <thead>\n",
       "    <tr style=\"text-align: right;\">\n",
       "      <th></th>\n",
       "      <th>pff_manZone</th>\n",
       "      <th>pff_defensiveCoverageAssignment</th>\n",
       "    </tr>\n",
       "  </thead>\n",
       "  <tbody>\n",
       "    <tr>\n",
       "      <th>0</th>\n",
       "      <td>Zone</td>\n",
       "      <td>NaN</td>\n",
       "    </tr>\n",
       "    <tr>\n",
       "      <th>1</th>\n",
       "      <td>Zone</td>\n",
       "      <td>NaN</td>\n",
       "    </tr>\n",
       "    <tr>\n",
       "      <th>2</th>\n",
       "      <td>Zone</td>\n",
       "      <td>NaN</td>\n",
       "    </tr>\n",
       "    <tr>\n",
       "      <th>3</th>\n",
       "      <td>Zone</td>\n",
       "      <td>NaN</td>\n",
       "    </tr>\n",
       "    <tr>\n",
       "      <th>4</th>\n",
       "      <td>Zone</td>\n",
       "      <td>NaN</td>\n",
       "    </tr>\n",
       "  </tbody>\n",
       "</table>\n",
       "</div>"
      ],
      "text/plain": [
       "  pff_manZone pff_defensiveCoverageAssignment\n",
       "0        Zone                             NaN\n",
       "1        Zone                             NaN\n",
       "2        Zone                             NaN\n",
       "3        Zone                             NaN\n",
       "4        Zone                             NaN"
      ]
     },
     "metadata": {},
     "output_type": "display_data"
    }
   ],
   "source": [
    "display(pp.query('pff_manZone==\"Man\" and pff_defensiveCoverageAssignment.isna()')[['pff_manZone','pff_defensiveCoverageAssignment']].head())\n",
    "display(pp.query('pff_manZone==\"Zone\" and pff_defensiveCoverageAssignment.isna()')[['pff_manZone','pff_defensiveCoverageAssignment']].head())"
   ]
  },
  {
   "cell_type": "code",
   "execution_count": 40,
   "id": "0289efb7",
   "metadata": {},
   "outputs": [],
   "source": [
    "pp['pff_defensiveCoverageAssignment'] = pp['pff_defensiveCoverageAssignment'].where(pp['pff_defensiveCoverageAssignment'].notna(),\n",
    "        pp['pff_manZone'].map({'Man': 'MAN', 'Zone': 'ZONE'}))"
   ]
  },
  {
   "cell_type": "code",
   "execution_count": 41,
   "id": "e070d5fe",
   "metadata": {},
   "outputs": [
    {
     "data": {
      "text/plain": [
       "pff_manZone                        Man\n",
       "pff_defensiveCoverageAssignment    MAN\n",
       "Name: 68, dtype: object"
      ]
     },
     "execution_count": 41,
     "metadata": {},
     "output_type": "execute_result"
    }
   ],
   "source": [
    "pp.loc[68][['pff_manZone','pff_defensiveCoverageAssignment']]"
   ]
  },
  {
   "cell_type": "code",
   "execution_count": 42,
   "id": "96b922b0",
   "metadata": {},
   "outputs": [
    {
     "data": {
      "text/plain": [
       "pff_manZone                        Zone\n",
       "pff_defensiveCoverageAssignment    ZONE\n",
       "Name: 2, dtype: object"
      ]
     },
     "execution_count": 42,
     "metadata": {},
     "output_type": "execute_result"
    }
   ],
   "source": [
    "pp.loc[2][['pff_manZone','pff_defensiveCoverageAssignment']]"
   ]
  },
  {
   "cell_type": "code",
   "execution_count": 43,
   "id": "911a7bc0",
   "metadata": {},
   "outputs": [
    {
     "data": {
      "text/plain": [
       "array(['ZONE', 'HCR', '4OR', 'FL', 'CFR', '4IR', '2L', 'HCL', 'CFL', '3L',\n",
       "       'HOL', '3R', '3M', 'MAN', 'DF', '2R', 'FR', '4OL', '4IL', nan,\n",
       "       'PRE'], dtype=object)"
      ]
     },
     "execution_count": 43,
     "metadata": {},
     "output_type": "execute_result"
    }
   ],
   "source": [
    "pp.pff_defensiveCoverageAssignment.unique()"
   ]
  },
  {
   "cell_type": "code",
   "execution_count": 44,
   "id": "4c36b849",
   "metadata": {},
   "outputs": [],
   "source": [
    "pp = pp[pp['pff_manZone'].notna()]"
   ]
  },
  {
   "cell_type": "code",
   "execution_count": 45,
   "id": "57de7a31",
   "metadata": {},
   "outputs": [],
   "source": [
    "# player play data for zone and man\n",
    "\n",
    "zone = pp.query('pff_defensiveCoverageAssignment!=\"MAN\" and position.isin([\"CB\", \"WR\"])')\n",
    "man = pp.query('pff_defensiveCoverageAssignment==\"MAN\" and position.isin([\"CB\", \"WR\"])')"
   ]
  },
  {
   "cell_type": "code",
   "execution_count": 46,
   "id": "99cfb866",
   "metadata": {},
   "outputs": [],
   "source": [
    "zone_plays_move = WR_moved.merge(zone, on=['gameId', 'playId'], how='inner') # before snap \n",
    "man_plays_move = WR_moved.merge(man, on=['gameId', 'playId'], how='inner') # before snap"
   ]
  },
  {
   "cell_type": "code",
   "execution_count": 47,
   "id": "c111de3e",
   "metadata": {},
   "outputs": [],
   "source": [
    "zone_plays_nomove = WR_NOmoved.merge(zone, on=['gameId', 'playId'], how='inner')\n",
    "man_plays_nomove = WR_NOmoved.merge(man, on=['gameId', 'playId'], how='inner')"
   ]
  },
  {
   "cell_type": "markdown",
   "id": "0a3ea8eb",
   "metadata": {},
   "source": [
    "# Man analysis"
   ]
  },
  {
   "cell_type": "code",
   "execution_count": 48,
   "id": "af66350c",
   "metadata": {},
   "outputs": [],
   "source": [
    "# # Tracking data\n",
    "# before_man = before.merge(man_plays[['gameId', 'playId']].drop_duplicates(), on=['gameId', 'playId'])\n",
    "# snap_man = snap.merge(man_plays[['gameId', 'playId']].drop_duplicates(), on=['gameId', 'playId'])\n",
    "# after_man = after.merge(man_plays[['gameId', 'playId']].drop_duplicates(), on=['gameId', 'playId'])"
   ]
  },
  {
   "cell_type": "markdown",
   "id": "4ac2e948",
   "metadata": {},
   "source": [
    "## 1.1 WR Did NOT Move Before Snap"
   ]
  },
  {
   "cell_type": "code",
   "execution_count": 49,
   "id": "95fc22ec",
   "metadata": {},
   "outputs": [
    {
     "data": {
      "text/html": [
       "<div>\n",
       "<style scoped>\n",
       "    .dataframe tbody tr th:only-of-type {\n",
       "        vertical-align: middle;\n",
       "    }\n",
       "\n",
       "    .dataframe tbody tr th {\n",
       "        vertical-align: top;\n",
       "    }\n",
       "\n",
       "    .dataframe thead th {\n",
       "        text-align: right;\n",
       "    }\n",
       "</style>\n",
       "<table border=\"1\" class=\"dataframe\">\n",
       "  <thead>\n",
       "    <tr style=\"text-align: right;\">\n",
       "      <th></th>\n",
       "      <th>gameId</th>\n",
       "      <th>playId</th>\n",
       "      <th>nflId</th>\n",
       "      <th>teamAbbr</th>\n",
       "      <th>hadRushAttempt</th>\n",
       "      <th>rushingYards</th>\n",
       "      <th>passingYards</th>\n",
       "      <th>hadPassReception</th>\n",
       "      <th>receivingYards</th>\n",
       "      <th>wasTargettedReceiver</th>\n",
       "      <th>...</th>\n",
       "      <th>yardsGained</th>\n",
       "      <th>isDropback</th>\n",
       "      <th>pff_runConceptPrimary</th>\n",
       "      <th>pff_runConceptSecondary</th>\n",
       "      <th>pff_runPassOption</th>\n",
       "      <th>pff_passCoverage</th>\n",
       "      <th>pff_manZone</th>\n",
       "      <th>distanceFromOwnEndZone</th>\n",
       "      <th>passAfterScramble</th>\n",
       "      <th>position</th>\n",
       "    </tr>\n",
       "  </thead>\n",
       "  <tbody>\n",
       "    <tr>\n",
       "      <th>0</th>\n",
       "      <td>2022090800</td>\n",
       "      <td>1126</td>\n",
       "      <td>42489</td>\n",
       "      <td>BUF</td>\n",
       "      <td>0</td>\n",
       "      <td>0</td>\n",
       "      <td>0</td>\n",
       "      <td>0</td>\n",
       "      <td>0</td>\n",
       "      <td>0</td>\n",
       "      <td>...</td>\n",
       "      <td>0</td>\n",
       "      <td>1</td>\n",
       "      <td>UNKNOWN</td>\n",
       "      <td>UNKNOWN</td>\n",
       "      <td>0</td>\n",
       "      <td>Cover-1</td>\n",
       "      <td>Man</td>\n",
       "      <td>77</td>\n",
       "      <td>0</td>\n",
       "      <td>WR</td>\n",
       "    </tr>\n",
       "    <tr>\n",
       "      <th>1</th>\n",
       "      <td>2022090800</td>\n",
       "      <td>1126</td>\n",
       "      <td>44985</td>\n",
       "      <td>BUF</td>\n",
       "      <td>0</td>\n",
       "      <td>0</td>\n",
       "      <td>0</td>\n",
       "      <td>0</td>\n",
       "      <td>0</td>\n",
       "      <td>0</td>\n",
       "      <td>...</td>\n",
       "      <td>0</td>\n",
       "      <td>1</td>\n",
       "      <td>UNKNOWN</td>\n",
       "      <td>UNKNOWN</td>\n",
       "      <td>0</td>\n",
       "      <td>Cover-1</td>\n",
       "      <td>Man</td>\n",
       "      <td>77</td>\n",
       "      <td>0</td>\n",
       "      <td>WR</td>\n",
       "    </tr>\n",
       "  </tbody>\n",
       "</table>\n",
       "<p>2 rows × 83 columns</p>\n",
       "</div>"
      ],
      "text/plain": [
       "       gameId  playId  nflId teamAbbr  hadRushAttempt  rushingYards  \\\n",
       "0  2022090800    1126  42489      BUF               0             0   \n",
       "1  2022090800    1126  44985      BUF               0             0   \n",
       "\n",
       "   passingYards  hadPassReception  receivingYards  wasTargettedReceiver  ...  \\\n",
       "0             0                 0               0                     0  ...   \n",
       "1             0                 0               0                     0  ...   \n",
       "\n",
       "   yardsGained  isDropback  pff_runConceptPrimary  pff_runConceptSecondary  \\\n",
       "0            0           1                UNKNOWN                  UNKNOWN   \n",
       "1            0           1                UNKNOWN                  UNKNOWN   \n",
       "\n",
       "   pff_runPassOption  pff_passCoverage  pff_manZone  distanceFromOwnEndZone  \\\n",
       "0                  0           Cover-1          Man                      77   \n",
       "1                  0           Cover-1          Man                      77   \n",
       "\n",
       "   passAfterScramble  position  \n",
       "0                  0        WR  \n",
       "1                  0        WR  \n",
       "\n",
       "[2 rows x 83 columns]"
      ]
     },
     "execution_count": 49,
     "metadata": {},
     "output_type": "execute_result"
    }
   ],
   "source": [
    "# players play data man no move\n",
    "man_plays_nomove.head(2)"
   ]
  },
  {
   "cell_type": "code",
   "execution_count": 50,
   "id": "767d308b",
   "metadata": {},
   "outputs": [],
   "source": [
    "# Man tracking data no movement\n",
    "\n",
    "man_week_nomove= week1_nomove.query('frameType!=\"BEFORE_SNAP\"').merge(man_plays_nomove[['gameId', 'playId']].drop_duplicates(), on=['gameId', 'playId'])\n"
   ]
  },
  {
   "cell_type": "code",
   "execution_count": 51,
   "id": "9c0794a9",
   "metadata": {},
   "outputs": [
    {
     "data": {
      "text/html": [
       "<div>\n",
       "<style scoped>\n",
       "    .dataframe tbody tr th:only-of-type {\n",
       "        vertical-align: middle;\n",
       "    }\n",
       "\n",
       "    .dataframe tbody tr th {\n",
       "        vertical-align: top;\n",
       "    }\n",
       "\n",
       "    .dataframe thead th {\n",
       "        text-align: right;\n",
       "    }\n",
       "</style>\n",
       "<table border=\"1\" class=\"dataframe\">\n",
       "  <thead>\n",
       "    <tr style=\"text-align: right;\">\n",
       "      <th></th>\n",
       "      <th>gameId</th>\n",
       "      <th>playId</th>\n",
       "      <th>nflId</th>\n",
       "      <th>frameId</th>\n",
       "      <th>frameType</th>\n",
       "      <th>time</th>\n",
       "      <th>club</th>\n",
       "      <th>playDirection</th>\n",
       "      <th>x</th>\n",
       "      <th>y</th>\n",
       "      <th>s</th>\n",
       "      <th>a</th>\n",
       "      <th>dis</th>\n",
       "      <th>o</th>\n",
       "      <th>dir</th>\n",
       "      <th>event</th>\n",
       "      <th>dx</th>\n",
       "      <th>dy</th>\n",
       "      <th>displacement</th>\n",
       "      <th>position</th>\n",
       "    </tr>\n",
       "  </thead>\n",
       "  <tbody>\n",
       "    <tr>\n",
       "      <th>0</th>\n",
       "      <td>2022090800</td>\n",
       "      <td>1126</td>\n",
       "      <td>42489.0</td>\n",
       "      <td>133</td>\n",
       "      <td>SNAP</td>\n",
       "      <td>2022-09-09 01:04:30.800</td>\n",
       "      <td>BUF</td>\n",
       "      <td>right</td>\n",
       "      <td>86.06</td>\n",
       "      <td>20.35</td>\n",
       "      <td>0.15</td>\n",
       "      <td>1.71</td>\n",
       "      <td>0.01</td>\n",
       "      <td>75.29</td>\n",
       "      <td>79.73</td>\n",
       "      <td>ball_snap</td>\n",
       "      <td>0.01</td>\n",
       "      <td>0.00</td>\n",
       "      <td>0.010000</td>\n",
       "      <td>WR</td>\n",
       "    </tr>\n",
       "    <tr>\n",
       "      <th>1</th>\n",
       "      <td>2022090800</td>\n",
       "      <td>1126</td>\n",
       "      <td>42489.0</td>\n",
       "      <td>134</td>\n",
       "      <td>AFTER_SNAP</td>\n",
       "      <td>2022-09-09 01:04:30.900</td>\n",
       "      <td>BUF</td>\n",
       "      <td>right</td>\n",
       "      <td>86.09</td>\n",
       "      <td>20.36</td>\n",
       "      <td>0.46</td>\n",
       "      <td>2.83</td>\n",
       "      <td>0.03</td>\n",
       "      <td>75.29</td>\n",
       "      <td>79.81</td>\n",
       "      <td>ball_snap</td>\n",
       "      <td>0.03</td>\n",
       "      <td>0.01</td>\n",
       "      <td>0.031623</td>\n",
       "      <td>WR</td>\n",
       "    </tr>\n",
       "  </tbody>\n",
       "</table>\n",
       "</div>"
      ],
      "text/plain": [
       "       gameId  playId    nflId  frameId   frameType                    time  \\\n",
       "0  2022090800    1126  42489.0      133        SNAP 2022-09-09 01:04:30.800   \n",
       "1  2022090800    1126  42489.0      134  AFTER_SNAP 2022-09-09 01:04:30.900   \n",
       "\n",
       "  club playDirection      x      y     s     a   dis      o    dir      event  \\\n",
       "0  BUF         right  86.06  20.35  0.15  1.71  0.01  75.29  79.73  ball_snap   \n",
       "1  BUF         right  86.09  20.36  0.46  2.83  0.03  75.29  79.81  ball_snap   \n",
       "\n",
       "     dx    dy  displacement position  \n",
       "0  0.01  0.00      0.010000       WR  \n",
       "1  0.03  0.01      0.031623       WR  "
      ]
     },
     "execution_count": 51,
     "metadata": {},
     "output_type": "execute_result"
    }
   ],
   "source": [
    "man_week_nomove.head(2)"
   ]
  },
  {
   "cell_type": "code",
   "execution_count": 52,
   "id": "e8758f08",
   "metadata": {},
   "outputs": [],
   "source": [
    "# def aggregation_per_second(df, pos, when):    \n",
    "    \n",
    "#     temp = df.query('position==@pos and frameType== @when').copy()\n",
    "\n",
    "#     temp['frame_group'] = (temp.groupby(['gameId', 'playId', 'nflId']).cumcount() // 10)\n",
    "\n",
    "#     aggregated = temp.groupby(['gameId', 'playId', 'nflId', 'frame_group']).agg(\n",
    "#         x_start=('x', 'first'),  \n",
    "#         y_start=('y', 'first'),\n",
    "#         x_end=('x', 'last'),\n",
    "#         y_end=('y', 'last')\n",
    "#     ).reset_index()\n",
    "\n",
    "#     aggregated['dx'] = aggregated['x_end'] - aggregated['x_start']\n",
    "#     aggregated['dy'] = aggregated['y_end'] - aggregated['y_start']\n",
    "\n",
    "#     aggregated['displacement'] = (aggregated['dx']**2 + aggregated['dy']**2)**0.5\n",
    "\n",
    "# #     display(aggregated.head())\n",
    "#     display(aggregated[['dx','dy','displacement']].describe())\n",
    "\n",
    "\n",
    "# aggregation_per_second(man_week_nomove, \"WR\", \"BEFORE_SNAP\") # WR stats in man plays where WR did not move before snap in man plays"
   ]
  },
  {
   "cell_type": "code",
   "execution_count": 53,
   "id": "a751fd09",
   "metadata": {},
   "outputs": [],
   "source": [
    "# aggregation_per_second(man_week_nomove, \"CB\", \"BEFORE_SNAP\") # CB stats in man plays where WR moved before snap in man plays\n"
   ]
  },
  {
   "cell_type": "code",
   "execution_count": 54,
   "id": "8f74bb24",
   "metadata": {},
   "outputs": [
    {
     "data": {
      "text/html": [
       "<div>\n",
       "<style scoped>\n",
       "    .dataframe tbody tr th:only-of-type {\n",
       "        vertical-align: middle;\n",
       "    }\n",
       "\n",
       "    .dataframe tbody tr th {\n",
       "        vertical-align: top;\n",
       "    }\n",
       "\n",
       "    .dataframe thead th {\n",
       "        text-align: right;\n",
       "    }\n",
       "</style>\n",
       "<table border=\"1\" class=\"dataframe\">\n",
       "  <thead>\n",
       "    <tr style=\"text-align: right;\">\n",
       "      <th></th>\n",
       "      <th>gameId</th>\n",
       "      <th>playId</th>\n",
       "      <th>nflId</th>\n",
       "      <th>position</th>\n",
       "      <th>pff_primaryDefensiveCoverageMatchupNflId</th>\n",
       "    </tr>\n",
       "  </thead>\n",
       "  <tbody>\n",
       "    <tr>\n",
       "      <th>3</th>\n",
       "      <td>2022090800</td>\n",
       "      <td>1126</td>\n",
       "      <td>42816</td>\n",
       "      <td>CB</td>\n",
       "      <td>52536.0</td>\n",
       "    </tr>\n",
       "    <tr>\n",
       "      <th>4</th>\n",
       "      <td>2022090800</td>\n",
       "      <td>1126</td>\n",
       "      <td>43294</td>\n",
       "      <td>CB</td>\n",
       "      <td>44985.0</td>\n",
       "    </tr>\n",
       "    <tr>\n",
       "      <th>5</th>\n",
       "      <td>2022090800</td>\n",
       "      <td>1126</td>\n",
       "      <td>47862</td>\n",
       "      <td>CB</td>\n",
       "      <td>47879.0</td>\n",
       "    </tr>\n",
       "    <tr>\n",
       "      <th>9</th>\n",
       "      <td>2022090800</td>\n",
       "      <td>1563</td>\n",
       "      <td>42816</td>\n",
       "      <td>CB</td>\n",
       "      <td>44985.0</td>\n",
       "    </tr>\n",
       "    <tr>\n",
       "      <th>10</th>\n",
       "      <td>2022090800</td>\n",
       "      <td>1563</td>\n",
       "      <td>43294</td>\n",
       "      <td>CB</td>\n",
       "      <td>42489.0</td>\n",
       "    </tr>\n",
       "  </tbody>\n",
       "</table>\n",
       "</div>"
      ],
      "text/plain": [
       "        gameId  playId  nflId position  \\\n",
       "3   2022090800    1126  42816       CB   \n",
       "4   2022090800    1126  43294       CB   \n",
       "5   2022090800    1126  47862       CB   \n",
       "9   2022090800    1563  42816       CB   \n",
       "10  2022090800    1563  43294       CB   \n",
       "\n",
       "    pff_primaryDefensiveCoverageMatchupNflId  \n",
       "3                                    52536.0  \n",
       "4                                    44985.0  \n",
       "5                                    47879.0  \n",
       "9                                    44985.0  \n",
       "10                                   42489.0  "
      ]
     },
     "execution_count": 54,
     "metadata": {},
     "output_type": "execute_result"
    }
   ],
   "source": [
    "\n",
    "man_plays_nomove.query('pff_primaryDefensiveCoverageMatchupNflId.notna()')[['gameId','playId','nflId', 'position', \n",
    "                                                                     'pff_primaryDefensiveCoverageMatchupNflId']].head()"
   ]
  },
  {
   "cell_type": "code",
   "execution_count": 55,
   "id": "12d55a51",
   "metadata": {},
   "outputs": [],
   "source": [
    "def create_matchup(plays_data, weeks):\n",
    "    \"\"\"\n",
    "    plays_data: plays data (man/zone, moved/did not move)\n",
    "    weeks: tracking data (man/zone, moved/did not move)\n",
    "    \"\"\"\n",
    "    \n",
    "    matchup = plays_data.query('position==\"CB\"')[['gameId', 'playId', 'nflId', 'position', \n",
    "                     'pff_primaryDefensiveCoverageMatchupNflId']].dropna().drop(columns=['position'])\n",
    "\n",
    "    matchup = matchup.rename(columns={'nflId': 'CBid', 'pff_primaryDefensiveCoverageMatchupNflId': 'WRid'})\n",
    "\n",
    "    wr_man = weeks[weeks['position'] == \"WR\"]\n",
    "    wr_man = wr_man.merge(matchup, left_on=['gameId', 'playId', 'nflId'], right_on=['gameId', 'playId', 'WRid'], how='inner')\n",
    "\n",
    "    cb_man = weeks[weeks['position'] == \"CB\"]\n",
    "    cb_man = cb_man.merge(matchup, left_on=['gameId', 'playId', 'nflId'], right_on=['gameId', 'playId', 'CBid'], how='inner')\n",
    "\n",
    "\n",
    "    cb_wr_track = wr_man.drop('nflId', axis=1).merge(\n",
    "                                                cb_man.drop('nflId', axis=1),\n",
    "                                                on=['gameId', 'playId', 'frameId', 'CBid', 'WRid'], \n",
    "                                                how='inner',\n",
    "                                                suffixes=('_wr', '_cb')).drop(['frameType_cb', 'time_cb', 'event_cb'], axis=1)\n",
    "    \n",
    "    \n",
    "    cb_wr_track = cb_wr_track.rename(columns={'frameType_wr': 'frameType', 'time_wr': 'time', 'event_wr': 'event'})\n",
    "\n",
    "    cb_wr_track['distance'] = ((cb_wr_track['x_wr'] - cb_wr_track['x_cb'])**2 + \n",
    "                               (cb_wr_track['y_wr'] - cb_wr_track['y_cb'])**2)**0.5\n",
    "\n",
    "    return cb_wr_track"
   ]
  },
  {
   "cell_type": "code",
   "execution_count": 56,
   "id": "b598e308",
   "metadata": {},
   "outputs": [],
   "source": [
    "man_nomove_matchaup = create_matchup(man_plays_nomove, man_week_nomove)"
   ]
  },
  {
   "cell_type": "code",
   "execution_count": 57,
   "id": "8d56a4bb",
   "metadata": {},
   "outputs": [],
   "source": [
    "\n",
    "# matchap_nomove = man_plays_nomove.query('position==\"CB\"')[['gameId', 'playId', 'nflId', 'position', \n",
    "#                      'pff_primaryDefensiveCoverageMatchupNflId']].dropna().drop(columns=['position'])\n",
    "\n",
    "# matchap_nomove = matchap_nomove.rename(columns={'nflId': 'CBid', 'pff_primaryDefensiveCoverageMatchupNflId': 'WRid'})\n",
    "\n",
    "\n",
    "\n",
    "\n",
    "# wr_man = week1_NoMove_man[week1_NoMove_man['position'] == \"WR\"]\n",
    "# wr_man = wr_man.merge(matchap_nomove, left_on=['gameId', 'playId', 'nflId'], right_on=['gameId', 'playId', 'WRid'], how='inner')\n",
    "\n",
    "# cb_man = week1_NoMove_man[week1_NoMove_man['position'] == \"CB\"]\n",
    "# cb_man = cb_man.merge(matchap_nomove, left_on=['gameId', 'playId', 'nflId'], right_on=['gameId', 'playId', 'CBid'], how='inner')\n",
    "\n",
    "# # В wr_tracking у нас данные WR, а в cb_tracking — данные CB, которые их прикрывают\n",
    "# display(wr_man.head())\n",
    "# display(cb_man.head())\n",
    "\n",
    "\n",
    "\n",
    "# cb_wr_track = wr_man.drop('nflId', axis=1).merge(\n",
    "#     cb_man.drop('nflId', axis=1),\n",
    "#     on=['gameId', 'playId', 'frameId', 'CBid', 'WRid'], \n",
    "#     how='inner',\n",
    "#     suffixes=('_wr', '_cb')).drop(['frameType_cb', 'time_cb', 'event_cb'], axis=1)\n",
    "\n",
    "\n",
    "\n",
    "# cb_wr_track = cb_wr_track.rename(columns={'frameType_wr': 'frameType', 'time_wr': 'time', 'event_wr': 'event'})\n",
    "\n",
    "# # Distance between CB and WR\n",
    "# cb_wr_track['distance'] = ((cb_wr_track['x_wr'] - cb_wr_track['x_cb'])**2 + \n",
    "#                            (cb_wr_track['y_wr'] - cb_wr_track['y_cb'])**2)**0.5\n",
    "\n",
    "# cb_wr_track"
   ]
  },
  {
   "cell_type": "code",
   "execution_count": 58,
   "id": "10ec7ad9",
   "metadata": {},
   "outputs": [
    {
     "data": {
      "text/plain": [
       "gameId      playId  event              \n",
       "2022090800  1126    pass_forward           1.766098\n",
       "            1563    pass_forward           2.177457\n",
       "                    pass_outcome_caught    1.749640\n",
       "            1609    pass_forward           1.880512\n",
       "            1836    pass_forward           1.334985\n",
       "                                             ...   \n",
       "2022102400  1754    pass_forward           1.894077\n",
       "                    pass_outcome_caught    3.219953\n",
       "            2513    pass_forward           3.716771\n",
       "                    pass_outcome_caught    5.912040\n",
       "            3623    pass_forward           1.433593\n",
       "Name: distance, Length: 2248, dtype: float64"
      ]
     },
     "execution_count": 58,
     "metadata": {},
     "output_type": "execute_result"
    }
   ],
   "source": [
    "man_nomove_matchaup.query('event.isin([\"pass_forward\", \"pass_release\", \"pass_outcome_caught\"])').groupby(['gameId', 'playId', 'event'])['distance'].mean()\n"
   ]
  },
  {
   "cell_type": "code",
   "execution_count": 59,
   "id": "cc7da4d8",
   "metadata": {},
   "outputs": [
    {
     "data": {
      "text/plain": [
       "array(['ball_snap', 'pass_forward', 'pass_outcome_incomplete',\n",
       "       'pass_arrived', 'pass_outcome_caught', 'out_of_bounds',\n",
       "       'pass_outcome_interception', 'first_contact', 'tackle',\n",
       "       'play_action', 'pass_outcome_touchdown', 'man_in_motion',\n",
       "       'dropped_pass', 'touchdown', 'fumble', 'fumble_defense_recovered',\n",
       "       'touchback', 'line_set', 'pass_tipped', 'shift',\n",
       "       'fumble_offense_recovered', 'snap_direct', 'qb_strip_sack',\n",
       "       'play_submit', 'handoff', 'lateral'], dtype=object)"
      ]
     },
     "execution_count": 59,
     "metadata": {},
     "output_type": "execute_result"
    }
   ],
   "source": [
    "man_nomove_matchaup.event.unique()"
   ]
  },
  {
   "cell_type": "code",
   "execution_count": 60,
   "id": "dc3fd62b",
   "metadata": {},
   "outputs": [],
   "source": [
    "def pass_events_results(matchup_data):\n",
    "\n",
    "    pass_events = matchup_data.query('event.isin([\"pass_forward\", \"pass_arrived\", \"pass_outcome_caught\", \"ball_snap\"])')\n",
    "\n",
    "    pass_events = pass_events.groupby(['gameId', 'playId', 'CBid', 'WRid', 'event']).agg(\n",
    "        avg_dist=('distance', 'mean'), final_dist=('distance', 'first')).reset_index()\n",
    "\n",
    "    pass_events = pass_events.pivot( index=['gameId', 'playId', 'CBid', 'WRid'], columns='event', values=['avg_dist', 'final_dist'])\n",
    "\n",
    "    pass_events.columns = ['_'.join(col).strip() for col in pass_events.columns.values]\n",
    "    pass_events.reset_index(inplace=True)\n",
    "\n",
    "\n",
    "    # Each row represents unique pairs of gameplay, receiver ID, and cornerback ID, along with the average and final distances for specific actions.\n",
    "\n",
    "    pass_events = pass_events.merge(\n",
    "        pp[['gameId', 'playId', 'nflId', 'offenseFormation', 'hadPassReception', 'wasTargettedReceiver', 'passResult', \n",
    "            'yardsGained', 'receivingYards', 'yardageGainedAfterTheCatch', 'distanceFromOwnEndZone', 'routeRan', 'receiverAlignment']],\n",
    "        left_on=['gameId', 'playId', 'WRid'], right_on = ['gameId', 'playId', 'nflId'],\n",
    "        how='left')#.merge(pp)\n",
    "\n",
    "    pass_events = pass_events.drop('nflId', axis=1)\n",
    "    return pass_events"
   ]
  },
  {
   "cell_type": "code",
   "execution_count": 61,
   "id": "6d376588",
   "metadata": {},
   "outputs": [
    {
     "data": {
      "text/html": [
       "<div>\n",
       "<style scoped>\n",
       "    .dataframe tbody tr th:only-of-type {\n",
       "        vertical-align: middle;\n",
       "    }\n",
       "\n",
       "    .dataframe tbody tr th {\n",
       "        vertical-align: top;\n",
       "    }\n",
       "\n",
       "    .dataframe thead th {\n",
       "        text-align: right;\n",
       "    }\n",
       "</style>\n",
       "<table border=\"1\" class=\"dataframe\">\n",
       "  <thead>\n",
       "    <tr style=\"text-align: right;\">\n",
       "      <th></th>\n",
       "      <th>gameId</th>\n",
       "      <th>playId</th>\n",
       "      <th>CBid</th>\n",
       "      <th>WRid</th>\n",
       "      <th>avg_dist_ball_snap</th>\n",
       "      <th>avg_dist_pass_arrived</th>\n",
       "      <th>avg_dist_pass_forward</th>\n",
       "      <th>avg_dist_pass_outcome_caught</th>\n",
       "      <th>final_dist_ball_snap</th>\n",
       "      <th>final_dist_pass_arrived</th>\n",
       "      <th>...</th>\n",
       "      <th>offenseFormation</th>\n",
       "      <th>hadPassReception</th>\n",
       "      <th>wasTargettedReceiver</th>\n",
       "      <th>passResult</th>\n",
       "      <th>yardsGained</th>\n",
       "      <th>receivingYards</th>\n",
       "      <th>yardageGainedAfterTheCatch</th>\n",
       "      <th>distanceFromOwnEndZone</th>\n",
       "      <th>routeRan</th>\n",
       "      <th>receiverAlignment</th>\n",
       "    </tr>\n",
       "  </thead>\n",
       "  <tbody>\n",
       "    <tr>\n",
       "      <th>0</th>\n",
       "      <td>2022090800</td>\n",
       "      <td>1126</td>\n",
       "      <td>42816</td>\n",
       "      <td>52536.0</td>\n",
       "      <td>5.834207</td>\n",
       "      <td>NaN</td>\n",
       "      <td>1.151469</td>\n",
       "      <td>NaN</td>\n",
       "      <td>7.722545</td>\n",
       "      <td>NaN</td>\n",
       "      <td>...</td>\n",
       "      <td>SHOTGUN</td>\n",
       "      <td>0.0</td>\n",
       "      <td>1.0</td>\n",
       "      <td>I</td>\n",
       "      <td>0.0</td>\n",
       "      <td>0.0</td>\n",
       "      <td>0.0</td>\n",
       "      <td>77.0</td>\n",
       "      <td>OUT</td>\n",
       "      <td>3x1</td>\n",
       "    </tr>\n",
       "    <tr>\n",
       "      <th>1</th>\n",
       "      <td>2022090800</td>\n",
       "      <td>1126</td>\n",
       "      <td>43294</td>\n",
       "      <td>44985.0</td>\n",
       "      <td>5.138407</td>\n",
       "      <td>NaN</td>\n",
       "      <td>2.380726</td>\n",
       "      <td>NaN</td>\n",
       "      <td>6.890007</td>\n",
       "      <td>NaN</td>\n",
       "      <td>...</td>\n",
       "      <td>SHOTGUN</td>\n",
       "      <td>0.0</td>\n",
       "      <td>0.0</td>\n",
       "      <td>I</td>\n",
       "      <td>0.0</td>\n",
       "      <td>0.0</td>\n",
       "      <td>0.0</td>\n",
       "      <td>77.0</td>\n",
       "      <td>CROSS</td>\n",
       "      <td>3x1</td>\n",
       "    </tr>\n",
       "  </tbody>\n",
       "</table>\n",
       "<p>2 rows × 22 columns</p>\n",
       "</div>"
      ],
      "text/plain": [
       "       gameId  playId   CBid     WRid  avg_dist_ball_snap  \\\n",
       "0  2022090800    1126  42816  52536.0            5.834207   \n",
       "1  2022090800    1126  43294  44985.0            5.138407   \n",
       "\n",
       "   avg_dist_pass_arrived  avg_dist_pass_forward  avg_dist_pass_outcome_caught  \\\n",
       "0                    NaN               1.151469                           NaN   \n",
       "1                    NaN               2.380726                           NaN   \n",
       "\n",
       "   final_dist_ball_snap  final_dist_pass_arrived  ...  offenseFormation  \\\n",
       "0              7.722545                      NaN  ...           SHOTGUN   \n",
       "1              6.890007                      NaN  ...           SHOTGUN   \n",
       "\n",
       "   hadPassReception wasTargettedReceiver  passResult  yardsGained  \\\n",
       "0               0.0                  1.0           I          0.0   \n",
       "1               0.0                  0.0           I          0.0   \n",
       "\n",
       "  receivingYards  yardageGainedAfterTheCatch  distanceFromOwnEndZone  \\\n",
       "0            0.0                         0.0                    77.0   \n",
       "1            0.0                         0.0                    77.0   \n",
       "\n",
       "   routeRan  receiverAlignment  \n",
       "0       OUT                3x1  \n",
       "1     CROSS                3x1  \n",
       "\n",
       "[2 rows x 22 columns]"
      ]
     },
     "execution_count": 61,
     "metadata": {},
     "output_type": "execute_result"
    }
   ],
   "source": [
    "man_nomove_results = pass_events_results(man_nomove_matchaup)\n",
    "man_nomove_results.head(2)"
   ]
  },
  {
   "cell_type": "code",
   "execution_count": 81,
   "id": "804cd20c",
   "metadata": {},
   "outputs": [
    {
     "data": {
      "text/plain": [
       "SHOTGUN       4934\n",
       "EMPTY          929\n",
       "SINGLEBACK     431\n",
       "PISTOL          89\n",
       "I_FORM          80\n",
       "WILDCAT         11\n",
       "JUMBO            4\n",
       "Name: offenseFormation, dtype: int64"
      ]
     },
     "execution_count": 81,
     "metadata": {},
     "output_type": "execute_result"
    }
   ],
   "source": [
    "man_plays_nomove['offenseFormation'].value_counts()"
   ]
  },
  {
   "cell_type": "code",
   "execution_count": 82,
   "id": "512ab3b4",
   "metadata": {},
   "outputs": [],
   "source": [
    "man_plays_nomove = man_plays_nomove.query('offenseFormation != \"JUMBO\"')"
   ]
  },
  {
   "cell_type": "markdown",
   "id": "da68f1d5",
   "metadata": {},
   "source": [
    "## 1.2 WR Moved Before Snap"
   ]
  },
  {
   "cell_type": "code",
   "execution_count": 83,
   "id": "00d0d9aa",
   "metadata": {},
   "outputs": [
    {
     "data": {
      "text/html": [
       "<div>\n",
       "<style scoped>\n",
       "    .dataframe tbody tr th:only-of-type {\n",
       "        vertical-align: middle;\n",
       "    }\n",
       "\n",
       "    .dataframe tbody tr th {\n",
       "        vertical-align: top;\n",
       "    }\n",
       "\n",
       "    .dataframe thead th {\n",
       "        text-align: right;\n",
       "    }\n",
       "</style>\n",
       "<table border=\"1\" class=\"dataframe\">\n",
       "  <thead>\n",
       "    <tr style=\"text-align: right;\">\n",
       "      <th></th>\n",
       "      <th>gameId</th>\n",
       "      <th>playId</th>\n",
       "      <th>nflId</th>\n",
       "      <th>teamAbbr</th>\n",
       "      <th>hadRushAttempt</th>\n",
       "      <th>rushingYards</th>\n",
       "      <th>passingYards</th>\n",
       "      <th>hadPassReception</th>\n",
       "      <th>receivingYards</th>\n",
       "      <th>wasTargettedReceiver</th>\n",
       "      <th>...</th>\n",
       "      <th>yardsGained</th>\n",
       "      <th>isDropback</th>\n",
       "      <th>pff_runConceptPrimary</th>\n",
       "      <th>pff_runConceptSecondary</th>\n",
       "      <th>pff_runPassOption</th>\n",
       "      <th>pff_passCoverage</th>\n",
       "      <th>pff_manZone</th>\n",
       "      <th>distanceFromOwnEndZone</th>\n",
       "      <th>passAfterScramble</th>\n",
       "      <th>position</th>\n",
       "    </tr>\n",
       "  </thead>\n",
       "  <tbody>\n",
       "    <tr>\n",
       "      <th>0</th>\n",
       "      <td>2022090800</td>\n",
       "      <td>2733</td>\n",
       "      <td>43294</td>\n",
       "      <td>LA</td>\n",
       "      <td>0</td>\n",
       "      <td>0</td>\n",
       "      <td>0</td>\n",
       "      <td>0</td>\n",
       "      <td>0</td>\n",
       "      <td>0</td>\n",
       "      <td>...</td>\n",
       "      <td>0</td>\n",
       "      <td>1</td>\n",
       "      <td>UNKNOWN</td>\n",
       "      <td>UNKNOWN</td>\n",
       "      <td>0</td>\n",
       "      <td>Red Zone</td>\n",
       "      <td>Other</td>\n",
       "      <td>96</td>\n",
       "      <td>0</td>\n",
       "      <td>CB</td>\n",
       "    </tr>\n",
       "    <tr>\n",
       "      <th>1</th>\n",
       "      <td>2022091900</td>\n",
       "      <td>344</td>\n",
       "      <td>53451</td>\n",
       "      <td>TEN</td>\n",
       "      <td>0</td>\n",
       "      <td>0</td>\n",
       "      <td>0</td>\n",
       "      <td>0</td>\n",
       "      <td>0</td>\n",
       "      <td>0</td>\n",
       "      <td>...</td>\n",
       "      <td>11</td>\n",
       "      <td>1</td>\n",
       "      <td>POWER</td>\n",
       "      <td>UNKNOWN</td>\n",
       "      <td>0</td>\n",
       "      <td>Red Zone</td>\n",
       "      <td>Other</td>\n",
       "      <td>89</td>\n",
       "      <td>0</td>\n",
       "      <td>CB</td>\n",
       "    </tr>\n",
       "    <tr>\n",
       "      <th>2</th>\n",
       "      <td>2022091900</td>\n",
       "      <td>1798</td>\n",
       "      <td>42489</td>\n",
       "      <td>BUF</td>\n",
       "      <td>0</td>\n",
       "      <td>0</td>\n",
       "      <td>0</td>\n",
       "      <td>1</td>\n",
       "      <td>4</td>\n",
       "      <td>1</td>\n",
       "      <td>...</td>\n",
       "      <td>4</td>\n",
       "      <td>1</td>\n",
       "      <td>UNDEFINED</td>\n",
       "      <td>UNKNOWN</td>\n",
       "      <td>0</td>\n",
       "      <td>Cover-0</td>\n",
       "      <td>Man</td>\n",
       "      <td>96</td>\n",
       "      <td>0</td>\n",
       "      <td>WR</td>\n",
       "    </tr>\n",
       "  </tbody>\n",
       "</table>\n",
       "<p>3 rows × 83 columns</p>\n",
       "</div>"
      ],
      "text/plain": [
       "       gameId  playId  nflId teamAbbr  hadRushAttempt  rushingYards  \\\n",
       "0  2022090800    2733  43294       LA               0             0   \n",
       "1  2022091900     344  53451      TEN               0             0   \n",
       "2  2022091900    1798  42489      BUF               0             0   \n",
       "\n",
       "   passingYards  hadPassReception  receivingYards  wasTargettedReceiver  ...  \\\n",
       "0             0                 0               0                     0  ...   \n",
       "1             0                 0               0                     0  ...   \n",
       "2             0                 1               4                     1  ...   \n",
       "\n",
       "   yardsGained  isDropback  pff_runConceptPrimary  pff_runConceptSecondary  \\\n",
       "0            0           1                UNKNOWN                  UNKNOWN   \n",
       "1           11           1                  POWER                  UNKNOWN   \n",
       "2            4           1              UNDEFINED                  UNKNOWN   \n",
       "\n",
       "   pff_runPassOption  pff_passCoverage  pff_manZone  distanceFromOwnEndZone  \\\n",
       "0                  0          Red Zone        Other                      96   \n",
       "1                  0          Red Zone        Other                      89   \n",
       "2                  0           Cover-0          Man                      96   \n",
       "\n",
       "   passAfterScramble  position  \n",
       "0                  0        CB  \n",
       "1                  0        CB  \n",
       "2                  0        WR  \n",
       "\n",
       "[3 rows x 83 columns]"
      ]
     },
     "execution_count": 83,
     "metadata": {},
     "output_type": "execute_result"
    }
   ],
   "source": [
    "man_plays_move.head(3)"
   ]
  },
  {
   "cell_type": "code",
   "execution_count": 84,
   "id": "c81ff94e",
   "metadata": {},
   "outputs": [
    {
     "data": {
      "text/plain": [
       "SHOTGUN       3470\n",
       "SINGLEBACK     761\n",
       "EMPTY          682\n",
       "I_FORM         147\n",
       "PISTOL          89\n",
       "WILDCAT          8\n",
       "JUMBO            3\n",
       "Name: offenseFormation, dtype: int64"
      ]
     },
     "execution_count": 84,
     "metadata": {},
     "output_type": "execute_result"
    }
   ],
   "source": [
    "man_plays_move['offenseFormation'].value_counts()"
   ]
  },
  {
   "cell_type": "code",
   "execution_count": 85,
   "id": "bdfa648b",
   "metadata": {},
   "outputs": [],
   "source": [
    "man_plays_move = man_plays_move.query('offenseFormation != \"JUMBO\"')"
   ]
  },
  {
   "cell_type": "code",
   "execution_count": 86,
   "id": "46bbb837",
   "metadata": {},
   "outputs": [],
   "source": [
    "# Take man.\n",
    "\n",
    "man_week_move = week1_move.query('frameType!=\"BEFORE_SNAP\"').merge(man_plays_move[['gameId', 'playId']].drop_duplicates(), on=['gameId', 'playId'])"
   ]
  },
  {
   "cell_type": "code",
   "execution_count": 87,
   "id": "cf69c821",
   "metadata": {},
   "outputs": [
    {
     "data": {
      "text/html": [
       "<div>\n",
       "<style scoped>\n",
       "    .dataframe tbody tr th:only-of-type {\n",
       "        vertical-align: middle;\n",
       "    }\n",
       "\n",
       "    .dataframe tbody tr th {\n",
       "        vertical-align: top;\n",
       "    }\n",
       "\n",
       "    .dataframe thead th {\n",
       "        text-align: right;\n",
       "    }\n",
       "</style>\n",
       "<table border=\"1\" class=\"dataframe\">\n",
       "  <thead>\n",
       "    <tr style=\"text-align: right;\">\n",
       "      <th></th>\n",
       "      <th>gameId</th>\n",
       "      <th>playId</th>\n",
       "      <th>nflId</th>\n",
       "      <th>position</th>\n",
       "      <th>pff_primaryDefensiveCoverageMatchupNflId</th>\n",
       "    </tr>\n",
       "  </thead>\n",
       "  <tbody>\n",
       "    <tr>\n",
       "      <th>0</th>\n",
       "      <td>2022090800</td>\n",
       "      <td>2733</td>\n",
       "      <td>43294</td>\n",
       "      <td>CB</td>\n",
       "      <td>42489.0</td>\n",
       "    </tr>\n",
       "    <tr>\n",
       "      <th>1</th>\n",
       "      <td>2022091900</td>\n",
       "      <td>344</td>\n",
       "      <td>53451</td>\n",
       "      <td>CB</td>\n",
       "      <td>42489.0</td>\n",
       "    </tr>\n",
       "    <tr>\n",
       "      <th>5</th>\n",
       "      <td>2022091900</td>\n",
       "      <td>1798</td>\n",
       "      <td>52651</td>\n",
       "      <td>CB</td>\n",
       "      <td>42818.0</td>\n",
       "    </tr>\n",
       "    <tr>\n",
       "      <th>6</th>\n",
       "      <td>2022091900</td>\n",
       "      <td>1798</td>\n",
       "      <td>53451</td>\n",
       "      <td>CB</td>\n",
       "      <td>42489.0</td>\n",
       "    </tr>\n",
       "    <tr>\n",
       "      <th>7</th>\n",
       "      <td>2022091900</td>\n",
       "      <td>1798</td>\n",
       "      <td>54500</td>\n",
       "      <td>CB</td>\n",
       "      <td>47879.0</td>\n",
       "    </tr>\n",
       "  </tbody>\n",
       "</table>\n",
       "</div>"
      ],
      "text/plain": [
       "       gameId  playId  nflId position  \\\n",
       "0  2022090800    2733  43294       CB   \n",
       "1  2022091900     344  53451       CB   \n",
       "5  2022091900    1798  52651       CB   \n",
       "6  2022091900    1798  53451       CB   \n",
       "7  2022091900    1798  54500       CB   \n",
       "\n",
       "   pff_primaryDefensiveCoverageMatchupNflId  \n",
       "0                                   42489.0  \n",
       "1                                   42489.0  \n",
       "5                                   42818.0  \n",
       "6                                   42489.0  \n",
       "7                                   47879.0  "
      ]
     },
     "execution_count": 87,
     "metadata": {},
     "output_type": "execute_result"
    }
   ],
   "source": [
    "man_plays_move.query('pff_primaryDefensiveCoverageMatchupNflId.notna()')[['gameId','playId','nflId', 'position', \n",
    "                                                                     'pff_primaryDefensiveCoverageMatchupNflId']].head()"
   ]
  },
  {
   "cell_type": "code",
   "execution_count": 88,
   "id": "79f59bca",
   "metadata": {},
   "outputs": [],
   "source": [
    "man_move_matchaup = create_matchup(man_plays_move, man_week_move)"
   ]
  },
  {
   "cell_type": "code",
   "execution_count": 89,
   "id": "7ddf9553",
   "metadata": {},
   "outputs": [
    {
     "data": {
      "text/html": [
       "<div>\n",
       "<style scoped>\n",
       "    .dataframe tbody tr th:only-of-type {\n",
       "        vertical-align: middle;\n",
       "    }\n",
       "\n",
       "    .dataframe tbody tr th {\n",
       "        vertical-align: top;\n",
       "    }\n",
       "\n",
       "    .dataframe thead th {\n",
       "        text-align: right;\n",
       "    }\n",
       "</style>\n",
       "<table border=\"1\" class=\"dataframe\">\n",
       "  <thead>\n",
       "    <tr style=\"text-align: right;\">\n",
       "      <th></th>\n",
       "      <th>gameId</th>\n",
       "      <th>playId</th>\n",
       "      <th>frameId</th>\n",
       "      <th>frameType</th>\n",
       "      <th>time</th>\n",
       "      <th>club_wr</th>\n",
       "      <th>playDirection_wr</th>\n",
       "      <th>x_wr</th>\n",
       "      <th>y_wr</th>\n",
       "      <th>s_wr</th>\n",
       "      <th>...</th>\n",
       "      <th>s_cb</th>\n",
       "      <th>a_cb</th>\n",
       "      <th>dis_cb</th>\n",
       "      <th>o_cb</th>\n",
       "      <th>dir_cb</th>\n",
       "      <th>dx_cb</th>\n",
       "      <th>dy_cb</th>\n",
       "      <th>displacement_cb</th>\n",
       "      <th>position_cb</th>\n",
       "      <th>distance</th>\n",
       "    </tr>\n",
       "  </thead>\n",
       "  <tbody>\n",
       "    <tr>\n",
       "      <th>0</th>\n",
       "      <td>2022090800</td>\n",
       "      <td>2733</td>\n",
       "      <td>121</td>\n",
       "      <td>SNAP</td>\n",
       "      <td>2022-09-09 02:28:22.700</td>\n",
       "      <td>BUF</td>\n",
       "      <td>right</td>\n",
       "      <td>105.05</td>\n",
       "      <td>13.31</td>\n",
       "      <td>0.02</td>\n",
       "      <td>...</td>\n",
       "      <td>0.01</td>\n",
       "      <td>0.01</td>\n",
       "      <td>0.01</td>\n",
       "      <td>270.03</td>\n",
       "      <td>125.14</td>\n",
       "      <td>0.00</td>\n",
       "      <td>-0.01</td>\n",
       "      <td>0.010000</td>\n",
       "      <td>CB</td>\n",
       "      <td>2.035534</td>\n",
       "    </tr>\n",
       "    <tr>\n",
       "      <th>1</th>\n",
       "      <td>2022090800</td>\n",
       "      <td>2733</td>\n",
       "      <td>122</td>\n",
       "      <td>AFTER_SNAP</td>\n",
       "      <td>2022-09-09 02:28:22.800</td>\n",
       "      <td>BUF</td>\n",
       "      <td>right</td>\n",
       "      <td>105.06</td>\n",
       "      <td>13.31</td>\n",
       "      <td>0.11</td>\n",
       "      <td>...</td>\n",
       "      <td>0.01</td>\n",
       "      <td>0.01</td>\n",
       "      <td>0.02</td>\n",
       "      <td>270.03</td>\n",
       "      <td>132.42</td>\n",
       "      <td>0.01</td>\n",
       "      <td>-0.02</td>\n",
       "      <td>0.022361</td>\n",
       "      <td>CB</td>\n",
       "      <td>2.034158</td>\n",
       "    </tr>\n",
       "  </tbody>\n",
       "</table>\n",
       "<p>2 rows × 35 columns</p>\n",
       "</div>"
      ],
      "text/plain": [
       "       gameId  playId  frameId   frameType                    time club_wr  \\\n",
       "0  2022090800    2733      121        SNAP 2022-09-09 02:28:22.700     BUF   \n",
       "1  2022090800    2733      122  AFTER_SNAP 2022-09-09 02:28:22.800     BUF   \n",
       "\n",
       "  playDirection_wr    x_wr   y_wr  s_wr  ...  s_cb  a_cb  dis_cb    o_cb  \\\n",
       "0            right  105.05  13.31  0.02  ...  0.01  0.01    0.01  270.03   \n",
       "1            right  105.06  13.31  0.11  ...  0.01  0.01    0.02  270.03   \n",
       "\n",
       "   dir_cb  dx_cb  dy_cb  displacement_cb position_cb  distance  \n",
       "0  125.14   0.00  -0.01         0.010000          CB  2.035534  \n",
       "1  132.42   0.01  -0.02         0.022361          CB  2.034158  \n",
       "\n",
       "[2 rows x 35 columns]"
      ]
     },
     "execution_count": 89,
     "metadata": {},
     "output_type": "execute_result"
    }
   ],
   "source": [
    "man_move_matchaup.head(2)"
   ]
  },
  {
   "cell_type": "code",
   "execution_count": 90,
   "id": "a7512ccb",
   "metadata": {},
   "outputs": [],
   "source": [
    "# # matchup = man_plays_move.query('position==\"CB\"')[['gameId', 'playId', 'nflId', 'position', \n",
    "# #                      'pff_primaryDefensiveCoverageMatchupNflId']].dropna()\n",
    "\n",
    "# # matchup = matchup.rename(columns={'nflId': 'CBid', 'pff_primaryDefensiveCoverageMatchupNflId': 'WRid'})\n",
    "# # matchup = matchup.drop(columns=['position'])\n",
    "\n",
    "\n",
    "# # wr_man = man_week_move[man_week_move['position'] == \"WR\"]\n",
    "# # wr_man = wr_man.merge(matchup, left_on=['gameId', 'playId', 'nflId'], right_on=['gameId', 'playId', 'WRid'], how='inner')\n",
    "\n",
    "# # cb_man = man_week_move[man_week_move['position'] == \"CB\"]\n",
    "# # cb_man = cb_man.merge(matchup, left_on=['gameId', 'playId', 'nflId'], right_on=['gameId', 'playId', 'CBid'], how='inner')\n",
    "# # display(wr_man.head())\n",
    "# # display(cb_man.head())\n",
    "\n",
    "\n",
    "# # cb_wr_track = wr_man.drop('nflId', axis=1).merge(\n",
    "# #     cb_man.drop('nflId', axis=1),\n",
    "# #     on=['gameId', 'playId', 'frameId', 'CBid', 'WRid'], \n",
    "# #     how='inner',\n",
    "# #     suffixes=('_wr', '_cb')).drop(['frameType_cb', 'time_cb', 'event_cb'], axis=1)\n",
    "\n",
    "# cb_wr_track = cb_wr_track.rename(columns={'frameType_wr': 'frameType', 'time_wr': 'time', 'event_wr': 'event'})\n",
    "\n",
    "\n",
    "# # Distance between CB and WR\n",
    "# cb_wr_track['distance'] = ((cb_wr_track['x_wr'] - cb_wr_track['x_cb'])**2 + \n",
    "#                            (cb_wr_track['y_wr'] - cb_wr_track['y_cb'])**2)**0.5"
   ]
  },
  {
   "cell_type": "code",
   "execution_count": 91,
   "id": "479d01d1",
   "metadata": {},
   "outputs": [],
   "source": [
    "# aggregation_per_second(man_week_move[man_week_move['event'].isin(['man_in_motion', 'shift'])], \"CB\")"
   ]
  },
  {
   "cell_type": "code",
   "execution_count": 94,
   "id": "9530d280",
   "metadata": {},
   "outputs": [],
   "source": [
    "# cb_wr_track.query('distance>3 and event.isin([\"pass_forward\", \"pass_release\", \"pass_outcome_caught\"])').groupby(['gameId', 'playId', 'event'])['distance'].mean()\n"
   ]
  },
  {
   "cell_type": "code",
   "execution_count": 95,
   "id": "81a9d01f",
   "metadata": {},
   "outputs": [],
   "source": [
    "# cb_wr_track.query('event==\"pass_outcome_caught\"')"
   ]
  },
  {
   "cell_type": "code",
   "execution_count": 96,
   "id": "d58f6fb7",
   "metadata": {},
   "outputs": [],
   "source": [
    "# events = cb_wr_track[cb_wr_track['event'].isin(['pass_forward', 'pass_release', 'pass_catch'])]\n",
    "\n",
    "# events.query('distance > 2').groupby(['gameId', 'playId', 'event']).agg(avg_distance=('distance', 'mean')).reset_index()\n",
    "\n",
    "\n",
    "# events = cb_wr_track[cb_wr_track['event'].isin(['pass_forward', 'pass_outcome_caught'])]\n",
    "# events"
   ]
  },
  {
   "cell_type": "markdown",
   "id": "7493b606",
   "metadata": {},
   "source": []
  },
  {
   "cell_type": "code",
   "execution_count": 97,
   "id": "df90aca3",
   "metadata": {},
   "outputs": [],
   "source": [
    "# pass_events = cb_wr_track.query('event.isin([\"pass_forward\", \"pass_arrived\", \"pass_outcome_caught\"])')\n",
    "\n",
    "# pass_events = pass_events.groupby(['gameId', 'playId', 'CBid', 'WRid', 'event']).agg(\n",
    "#     avg_dist=('distance', 'mean'), final_dist=('distance', 'first')).reset_index()\n",
    "\n",
    "# pass_events = pass_events.pivot( index=['gameId', 'playId', 'CBid', 'WRid'], columns='event', values=['avg_dist', 'final_dist'])\n",
    "\n",
    "# pass_events.columns = ['_'.join(col).strip() for col in pass_events.columns.values]\n",
    "# pass_events.reset_index(inplace=True)\n",
    "\n",
    "# pass_events"
   ]
  },
  {
   "cell_type": "markdown",
   "id": "9141a26d",
   "metadata": {},
   "source": [
    "<!-- Каждая строка - уникальные пары геймплей, id ресивера и корнербэка, средние и финальные расстояния в том или ином действии.\n",
    "\n",
    "Ниже добавим туда результат розыгрыша. -->"
   ]
  },
  {
   "cell_type": "code",
   "execution_count": 98,
   "id": "d345c6ee",
   "metadata": {},
   "outputs": [],
   "source": [
    "# pass_events = pass_events.merge(\n",
    "#     pp[['gameId', 'playId', 'nflId', 'hadPassReception', 'wasTargettedReceiver', 'passResult', 'yardsGained', 'receivingYards', 'yardageGainedAfterTheCatch']],\n",
    "#     left_on=['gameId', 'playId', 'WRid'], right_on = ['gameId', 'playId', 'nflId'],\n",
    "#     how='left'\n",
    "# )#.merge(pp)\n",
    "\n",
    "# pass_events"
   ]
  },
  {
   "cell_type": "code",
   "execution_count": 99,
   "id": "efe48b1f",
   "metadata": {},
   "outputs": [
    {
     "data": {
      "text/html": [
       "<div>\n",
       "<style scoped>\n",
       "    .dataframe tbody tr th:only-of-type {\n",
       "        vertical-align: middle;\n",
       "    }\n",
       "\n",
       "    .dataframe tbody tr th {\n",
       "        vertical-align: top;\n",
       "    }\n",
       "\n",
       "    .dataframe thead th {\n",
       "        text-align: right;\n",
       "    }\n",
       "</style>\n",
       "<table border=\"1\" class=\"dataframe\">\n",
       "  <thead>\n",
       "    <tr style=\"text-align: right;\">\n",
       "      <th></th>\n",
       "      <th>gameId</th>\n",
       "      <th>playId</th>\n",
       "      <th>CBid</th>\n",
       "      <th>WRid</th>\n",
       "      <th>avg_dist_ball_snap</th>\n",
       "      <th>avg_dist_pass_arrived</th>\n",
       "      <th>avg_dist_pass_forward</th>\n",
       "      <th>avg_dist_pass_outcome_caught</th>\n",
       "      <th>final_dist_ball_snap</th>\n",
       "      <th>final_dist_pass_arrived</th>\n",
       "      <th>...</th>\n",
       "      <th>offenseFormation</th>\n",
       "      <th>hadPassReception</th>\n",
       "      <th>wasTargettedReceiver</th>\n",
       "      <th>passResult</th>\n",
       "      <th>yardsGained</th>\n",
       "      <th>receivingYards</th>\n",
       "      <th>yardageGainedAfterTheCatch</th>\n",
       "      <th>distanceFromOwnEndZone</th>\n",
       "      <th>routeRan</th>\n",
       "      <th>receiverAlignment</th>\n",
       "    </tr>\n",
       "  </thead>\n",
       "  <tbody>\n",
       "    <tr>\n",
       "      <th>0</th>\n",
       "      <td>2022090800</td>\n",
       "      <td>212</td>\n",
       "      <td>42816</td>\n",
       "      <td>44985.0</td>\n",
       "      <td>3.549796</td>\n",
       "      <td>2.753821</td>\n",
       "      <td>2.624595</td>\n",
       "      <td>2.779943</td>\n",
       "      <td>7.869949</td>\n",
       "      <td>2.749636</td>\n",
       "      <td>...</td>\n",
       "      <td>SHOTGUN</td>\n",
       "      <td>0.0</td>\n",
       "      <td>0.0</td>\n",
       "      <td>C</td>\n",
       "      <td>8.0</td>\n",
       "      <td>0.0</td>\n",
       "      <td>0.0</td>\n",
       "      <td>66.0</td>\n",
       "      <td>OUT</td>\n",
       "      <td>2x2</td>\n",
       "    </tr>\n",
       "    <tr>\n",
       "      <th>1</th>\n",
       "      <td>2022090800</td>\n",
       "      <td>212</td>\n",
       "      <td>43294</td>\n",
       "      <td>52536.0</td>\n",
       "      <td>2.128847</td>\n",
       "      <td>2.554520</td>\n",
       "      <td>1.523558</td>\n",
       "      <td>3.087910</td>\n",
       "      <td>2.722646</td>\n",
       "      <td>2.411244</td>\n",
       "      <td>...</td>\n",
       "      <td>SHOTGUN</td>\n",
       "      <td>0.0</td>\n",
       "      <td>0.0</td>\n",
       "      <td>C</td>\n",
       "      <td>8.0</td>\n",
       "      <td>0.0</td>\n",
       "      <td>0.0</td>\n",
       "      <td>66.0</td>\n",
       "      <td>CROSS</td>\n",
       "      <td>2x2</td>\n",
       "    </tr>\n",
       "  </tbody>\n",
       "</table>\n",
       "<p>2 rows × 22 columns</p>\n",
       "</div>"
      ],
      "text/plain": [
       "       gameId  playId   CBid     WRid  avg_dist_ball_snap  \\\n",
       "0  2022090800     212  42816  44985.0            3.549796   \n",
       "1  2022090800     212  43294  52536.0            2.128847   \n",
       "\n",
       "   avg_dist_pass_arrived  avg_dist_pass_forward  avg_dist_pass_outcome_caught  \\\n",
       "0               2.753821               2.624595                      2.779943   \n",
       "1               2.554520               1.523558                      3.087910   \n",
       "\n",
       "   final_dist_ball_snap  final_dist_pass_arrived  ...  offenseFormation  \\\n",
       "0              7.869949                 2.749636  ...           SHOTGUN   \n",
       "1              2.722646                 2.411244  ...           SHOTGUN   \n",
       "\n",
       "   hadPassReception wasTargettedReceiver  passResult  yardsGained  \\\n",
       "0               0.0                  0.0           C          8.0   \n",
       "1               0.0                  0.0           C          8.0   \n",
       "\n",
       "  receivingYards  yardageGainedAfterTheCatch  distanceFromOwnEndZone  \\\n",
       "0            0.0                         0.0                    66.0   \n",
       "1            0.0                         0.0                    66.0   \n",
       "\n",
       "   routeRan  receiverAlignment  \n",
       "0       OUT                2x2  \n",
       "1     CROSS                2x2  \n",
       "\n",
       "[2 rows x 22 columns]"
      ]
     },
     "execution_count": 99,
     "metadata": {},
     "output_type": "execute_result"
    }
   ],
   "source": [
    "man_move_results = pass_events_results(man_move_matchaup)\n",
    "man_move_results.head(2)"
   ]
  },
  {
   "cell_type": "markdown",
   "id": "24cb46da",
   "metadata": {},
   "source": [
    "## 1.3 Compare data"
   ]
  },
  {
   "cell_type": "markdown",
   "id": "c152a7c7",
   "metadata": {},
   "source": [
    "Presnap motions are aimed at deception to create confusion in the defense, so we can propose a hypothesis: WRs are less likely (or more likely) to get open without presnap motion compared to when they move before snap."
   ]
  },
  {
   "cell_type": "markdown",
   "id": "b2ae9e71",
   "metadata": {},
   "source": [
    "man_move_results\n",
    "man_nomove_results\n",
    "\n"
   ]
  },
  {
   "cell_type": "code",
   "execution_count": 100,
   "id": "bb9e341e",
   "metadata": {},
   "outputs": [
    {
     "data": {
      "text/plain": [
       "count    2517.000000\n",
       "mean        6.946365\n",
       "std        10.392989\n",
       "min       -15.000000\n",
       "25%         0.000000\n",
       "50%         3.000000\n",
       "75%        11.000000\n",
       "max        81.000000\n",
       "Name: yardsGained, dtype: float64"
      ]
     },
     "metadata": {},
     "output_type": "display_data"
    },
    {
     "data": {
      "text/plain": [
       "count    3255.000000\n",
       "mean        7.032258\n",
       "std        11.456763\n",
       "min       -61.000000\n",
       "25%         0.000000\n",
       "50%         2.000000\n",
       "75%        11.000000\n",
       "max        98.000000\n",
       "Name: yardsGained, dtype: float64"
      ]
     },
     "execution_count": 100,
     "metadata": {},
     "output_type": "execute_result"
    }
   ],
   "source": [
    "display(man_move_results['yardsGained'].describe())\n",
    "man_nomove_results['yardsGained'].describe()"
   ]
  },
  {
   "cell_type": "markdown",
   "id": "06c8a829",
   "metadata": {},
   "source": [
    "It is interesting to analyze the average distance to WR in plays where the offense gained significant yardage. Let's focus on plays with gains of more than 10 yards (75th percentile is 11 yards)."
   ]
  },
  {
   "cell_type": "code",
   "execution_count": 101,
   "id": "7a0e590e",
   "metadata": {},
   "outputs": [
    {
     "data": {
      "text/html": [
       "<div>\n",
       "<style scoped>\n",
       "    .dataframe tbody tr th:only-of-type {\n",
       "        vertical-align: middle;\n",
       "    }\n",
       "\n",
       "    .dataframe tbody tr th {\n",
       "        vertical-align: top;\n",
       "    }\n",
       "\n",
       "    .dataframe thead th {\n",
       "        text-align: right;\n",
       "    }\n",
       "</style>\n",
       "<table border=\"1\" class=\"dataframe\">\n",
       "  <thead>\n",
       "    <tr style=\"text-align: right;\">\n",
       "      <th></th>\n",
       "      <th>final_dist_pass_forward</th>\n",
       "      <th>final_dist_pass_outcome_caught</th>\n",
       "    </tr>\n",
       "  </thead>\n",
       "  <tbody>\n",
       "    <tr>\n",
       "      <th>count</th>\n",
       "      <td>823.000000</td>\n",
       "      <td>737.000000</td>\n",
       "    </tr>\n",
       "    <tr>\n",
       "      <th>mean</th>\n",
       "      <td>2.203470</td>\n",
       "      <td>2.539616</td>\n",
       "    </tr>\n",
       "    <tr>\n",
       "      <th>std</th>\n",
       "      <td>1.880123</td>\n",
       "      <td>2.708107</td>\n",
       "    </tr>\n",
       "    <tr>\n",
       "      <th>min</th>\n",
       "      <td>0.270185</td>\n",
       "      <td>0.246982</td>\n",
       "    </tr>\n",
       "    <tr>\n",
       "      <th>25%</th>\n",
       "      <td>1.033658</td>\n",
       "      <td>1.032763</td>\n",
       "    </tr>\n",
       "    <tr>\n",
       "      <th>50%</th>\n",
       "      <td>1.589119</td>\n",
       "      <td>1.669731</td>\n",
       "    </tr>\n",
       "    <tr>\n",
       "      <th>75%</th>\n",
       "      <td>2.646562</td>\n",
       "      <td>3.014233</td>\n",
       "    </tr>\n",
       "    <tr>\n",
       "      <th>max</th>\n",
       "      <td>16.113504</td>\n",
       "      <td>22.487225</td>\n",
       "    </tr>\n",
       "  </tbody>\n",
       "</table>\n",
       "</div>"
      ],
      "text/plain": [
       "       final_dist_pass_forward  final_dist_pass_outcome_caught\n",
       "count               823.000000                      737.000000\n",
       "mean                  2.203470                        2.539616\n",
       "std                   1.880123                        2.708107\n",
       "min                   0.270185                        0.246982\n",
       "25%                   1.033658                        1.032763\n",
       "50%                   1.589119                        1.669731\n",
       "75%                   2.646562                        3.014233\n",
       "max                  16.113504                       22.487225"
      ]
     },
     "execution_count": 101,
     "metadata": {},
     "output_type": "execute_result"
    }
   ],
   "source": [
    "man_nomove_results.query('yardsGained>10')[['final_dist_pass_forward', 'final_dist_pass_outcome_caught']].describe()"
   ]
  },
  {
   "cell_type": "code",
   "execution_count": 102,
   "id": "cc1a7921",
   "metadata": {},
   "outputs": [
    {
     "data": {
      "text/html": [
       "<div>\n",
       "<style scoped>\n",
       "    .dataframe tbody tr th:only-of-type {\n",
       "        vertical-align: middle;\n",
       "    }\n",
       "\n",
       "    .dataframe tbody tr th {\n",
       "        vertical-align: top;\n",
       "    }\n",
       "\n",
       "    .dataframe thead th {\n",
       "        text-align: right;\n",
       "    }\n",
       "</style>\n",
       "<table border=\"1\" class=\"dataframe\">\n",
       "  <thead>\n",
       "    <tr style=\"text-align: right;\">\n",
       "      <th></th>\n",
       "      <th>final_dist_pass_forward</th>\n",
       "      <th>final_dist_pass_outcome_caught</th>\n",
       "    </tr>\n",
       "  </thead>\n",
       "  <tbody>\n",
       "    <tr>\n",
       "      <th>count</th>\n",
       "      <td>647.000000</td>\n",
       "      <td>606.000000</td>\n",
       "    </tr>\n",
       "    <tr>\n",
       "      <th>mean</th>\n",
       "      <td>2.434686</td>\n",
       "      <td>2.792185</td>\n",
       "    </tr>\n",
       "    <tr>\n",
       "      <th>std</th>\n",
       "      <td>2.266646</td>\n",
       "      <td>2.851920</td>\n",
       "    </tr>\n",
       "    <tr>\n",
       "      <th>min</th>\n",
       "      <td>0.390512</td>\n",
       "      <td>0.208087</td>\n",
       "    </tr>\n",
       "    <tr>\n",
       "      <th>25%</th>\n",
       "      <td>1.039495</td>\n",
       "      <td>1.083062</td>\n",
       "    </tr>\n",
       "    <tr>\n",
       "      <th>50%</th>\n",
       "      <td>1.676305</td>\n",
       "      <td>1.894596</td>\n",
       "    </tr>\n",
       "    <tr>\n",
       "      <th>75%</th>\n",
       "      <td>2.920494</td>\n",
       "      <td>3.316839</td>\n",
       "    </tr>\n",
       "    <tr>\n",
       "      <th>max</th>\n",
       "      <td>19.590472</td>\n",
       "      <td>33.286702</td>\n",
       "    </tr>\n",
       "  </tbody>\n",
       "</table>\n",
       "</div>"
      ],
      "text/plain": [
       "       final_dist_pass_forward  final_dist_pass_outcome_caught\n",
       "count               647.000000                      606.000000\n",
       "mean                  2.434686                        2.792185\n",
       "std                   2.266646                        2.851920\n",
       "min                   0.390512                        0.208087\n",
       "25%                   1.039495                        1.083062\n",
       "50%                   1.676305                        1.894596\n",
       "75%                   2.920494                        3.316839\n",
       "max                  19.590472                       33.286702"
      ]
     },
     "execution_count": 102,
     "metadata": {},
     "output_type": "execute_result"
    }
   ],
   "source": [
    "man_move_results.query('yardsGained>10')[[ 'final_dist_pass_forward', 'final_dist_pass_outcome_caught']].describe()"
   ]
  },
  {
   "cell_type": "markdown",
   "id": "6f028549",
   "metadata": {},
   "source": [
    "CB have a significantly greater distance to the receiver at the moment of the catch in the sample with motion.\n",
    "\n",
    "The 75th percentile is approximately 3 yards,  we will use as a threshold."
   ]
  },
  {
   "cell_type": "code",
   "execution_count": 103,
   "id": "ded7a6fd",
   "metadata": {},
   "outputs": [],
   "source": [
    "man_nomove_results['coverageGap_pass'] = (man_nomove_results['final_dist_pass_forward'] > 3).astype(int)\n",
    "man_move_results['coverageGap_pass'] = (man_move_results['final_dist_pass_forward'] > 3).astype(int)\n",
    "\n",
    "man_nomove_results['coverageGap_caught'] = (man_nomove_results['final_dist_pass_outcome_caught'] > 3).astype(int)\n",
    "man_move_results['coverageGap_caught'] = (man_move_results['final_dist_pass_outcome_caught'] > 3).astype(int)"
   ]
  },
  {
   "cell_type": "code",
   "execution_count": 104,
   "id": "e2bb8fd5",
   "metadata": {},
   "outputs": [
    {
     "name": "stdout",
     "output_type": "stream",
     "text": [
      "ROC AUC 0.9918767507002801\n",
      "              precision    recall  f1-score   support\n",
      "\n",
      "           0       1.00      0.99      1.00       119\n",
      "           1       0.99      1.00      1.00       150\n",
      "\n",
      "    accuracy                           1.00       269\n",
      "   macro avg       1.00      1.00      1.00       269\n",
      "weighted avg       1.00      1.00      1.00       269\n",
      "\n",
      "                        Feature  Coefficient\n",
      "0                      movement     0.307509\n",
      "1            coverageGap_caught     0.534936\n",
      "2        distanceFromOwnEndZone    -0.001464\n",
      "3         receiverAlignment_2x1     0.198573\n",
      "4         receiverAlignment_2x2     0.035576\n",
      "5         receiverAlignment_3x1    -0.230189\n",
      "6         receiverAlignment_3x2    -0.185929\n",
      "7         receiverAlignment_4x1     0.136613\n",
      "8                  passResult_I    -7.370347\n",
      "9                 passResult_IN    -4.984256\n",
      "10              routeRan_CORNER     0.084439\n",
      "11               routeRan_CROSS     0.128952\n",
      "12                routeRan_FLAT    -0.340524\n",
      "13                  routeRan_GO     0.164630\n",
      "14               routeRan_HITCH     0.281934\n",
      "15                  routeRan_IN     0.233580\n",
      "16                 routeRan_OUT     0.480948\n",
      "17                routeRan_POST     0.099939\n",
      "18              routeRan_SCREEN    -1.623350\n",
      "19               routeRan_SLANT     0.520822\n",
      "20      offenseFormation_I_FORM    -0.103711\n",
      "21      offenseFormation_PISTOL    -0.202834\n",
      "22     offenseFormation_SHOTGUN     0.270202\n",
      "23  offenseFormation_SINGLEBACK     0.063793\n",
      "24     offenseFormation_WILDCAT     0.032427\n"
     ]
    },
    {
     "name": "stderr",
     "output_type": "stream",
     "text": [
      "C:\\Users\\Msi\\AppData\\Local\\Temp\\ipykernel_25384\\2896314332.py:19: SettingWithCopyWarning: \n",
      "A value is trying to be set on a copy of a slice from a DataFrame\n",
      "\n",
      "See the caveats in the documentation: https://pandas.pydata.org/pandas-docs/stable/user_guide/indexing.html#returning-a-view-versus-a-copy\n",
      "  data[['distanceFromOwnEndZone','receiverAlignment', 'routeRan', 'offenseFormation']].fillna('unknown', inplace=True)\n"
     ]
    }
   ],
   "source": [
    "# quick check\n",
    "\n",
    "move = man_move_results.copy()\n",
    "nomove = man_nomove_results.copy()\n",
    "move['movement'] = 1\n",
    "nomove['movement'] = 0\n",
    "\n",
    "all_man = pd.concat([move, nomove], ignore_index=True)\n",
    "\n",
    "data = all_man.query('wasTargettedReceiver==1').copy()\n",
    "\n",
    "data['yardsGained'] = data['yardsGained'].fillna(0)\n",
    "data['hadYardsGained'] = (data['yardsGained']>0).astype(int)\n",
    "\n",
    "data[['distanceFromOwnEndZone','receiverAlignment', 'routeRan', 'offenseFormation']].fillna('unknown', inplace=True)\n",
    "# data = data.dropna()\n",
    "\n",
    "X = data[['movement', 'passResult', 'coverageGap_caught', 'distanceFromOwnEndZone', #  'wasTargettedReceiver', 'yardsGained'\n",
    "          'receiverAlignment', 'routeRan', 'offenseFormation', ]]\n",
    "\n",
    "X = pd.get_dummies(X, columns=['receiverAlignment', 'passResult', 'routeRan', 'offenseFormation'], drop_first=True)\n",
    "y = data['hadYardsGained'] #  \n",
    "\n",
    "X_train, X_test, y_train, y_test = train_test_split(X, y, test_size=0.2, random_state=2)\n",
    "\n",
    "model = LogisticRegression(max_iter=1000, class_weight='balanced', random_state=2)\n",
    "model.fit(X_train, y_train)\n",
    "\n",
    "y_pred = model.predict(X_test)\n",
    "y_pred_proba = model.predict_proba(X_test)[:, 1]\n",
    "\n",
    "print(\"ROC AUC\", roc_auc_score(y_test, y_pred_proba))\n",
    "print(classification_report(y_test, y_pred))\n",
    "\n",
    "coefficients = pd.DataFrame({ 'Feature': X.columns, 'Coefficient': model.coef_[0]})\n",
    "print(coefficients)\n"
   ]
  },
  {
   "cell_type": "code",
   "execution_count": null,
   "id": "44b73bb5",
   "metadata": {},
   "outputs": [],
   "source": [
    "# data.groupby('movement')['hadYardsGained'].mean()"
   ]
  },
  {
   "cell_type": "code",
   "execution_count": null,
   "id": "32d92d31",
   "metadata": {},
   "outputs": [],
   "source": [
    "# all_man.query('wasTargettedReceiver==1').groupby('movement')['coverageGap'].mean()"
   ]
  },
  {
   "cell_type": "markdown",
   "id": "216826e5",
   "metadata": {},
   "source": [
    "The proportion is almost the same. However, it might be possible that the distance is closed more quickly?"
   ]
  },
  {
   "cell_type": "markdown",
   "id": "5fdcb387",
   "metadata": {},
   "source": [
    "Diff(dist_at_snap, dist_at_pass) > 0 --> CB decreased distance."
   ]
  },
  {
   "cell_type": "code",
   "execution_count": 105,
   "id": "958aa19b",
   "metadata": {},
   "outputs": [],
   "source": [
    "def decrease_stats(move, nomove, d1, d2, threshold=None):\n",
    "    \n",
    "    print('\\033[94m' + \"Distance between {} and {}\".format(d1,d2)  + '\\033[0m')\n",
    "    \n",
    "    A = ((nomove[d1] - nomove[d2])>0).astype(int)\n",
    "    B = ((move[d1] - move[d2])>0).astype(int)\n",
    "    \n",
    "    if threshold:\n",
    "        print(\"When final distance is less than \", threshold)\n",
    "        \n",
    "        A = A & (nomove[d2] < threshold)\n",
    "        B = B & (move[d2] < threshold)\n",
    "    \n",
    "    print('\\nShare of NOMOVE plays when CB descreased distance: {:.2%} '.format(A.mean()))\n",
    "    print('Share of MOVE plays when CB descreased distance: {:.2%} '.format(B.mean()))  \n",
    "\n",
    "    count = [A.sum(), B.sum()]\n",
    "    nobs = [len(A), len(B)]\n",
    "    print(\"\\nZ test pvalue: \", proportions_ztest(count, nobs)[1])\n",
    "    \n",
    "    ci_nomove = proportion_confint(A.sum(), len(A), alpha=0.05, method='normal')\n",
    "    ci_move = proportion_confint(B.sum(), len(B), alpha=0.05, method='normal')\n",
    "    \n",
    "    print(\"\\nConfidence interval for NOMOVE: {:.2%} to {:.2%}\".format(ci_nomove[0], ci_nomove[1]))\n",
    "    print(\"Confidence interval for MOVE: {:.2%} to {:.2%}\".format(ci_move[0], ci_move[1]))\n",
    "    print('='*20)\n",
    "\n",
    "def decrease_dist(d1, d2, target=False, threshold=None):\n",
    "    \n",
    "    nomove = man_nomove_results.copy()\n",
    "    move = man_move_results.copy()\n",
    "        \n",
    "    if target == True: \n",
    "        nomove = nomove.query('wasTargettedReceiver == 1').copy()\n",
    "        move = move.query('wasTargettedReceiver == 1').copy()\n",
    "        \n",
    "        print('\\x1B[35m' + '\\nIf WR was a targetted receiver:\\n' + '\\x1B[0m')\n",
    "        \n",
    "    \n",
    "    decrease_stats(move, nomove, d1, d2, threshold)\n",
    "    \n",
    "\n"
   ]
  },
  {
   "cell_type": "markdown",
   "id": "98c1a181",
   "metadata": {},
   "source": [
    "Distance at snap --- distance at pass"
   ]
  },
  {
   "cell_type": "code",
   "execution_count": 106,
   "id": "37a134bd",
   "metadata": {},
   "outputs": [
    {
     "name": "stdout",
     "output_type": "stream",
     "text": [
      "\u001b[94mDistance between final_dist_ball_snap and final_dist_pass_forward\u001b[0m\n",
      "\n",
      "Share of NOMOVE plays when CB descreased distance: 92.03% \n",
      "Share of MOVE plays when CB descreased distance: 88.95% \n",
      "\n",
      "Z test pvalue:  6.45284559197443e-05\n",
      "\n",
      "Confidence interval for NOMOVE: 91.10% to 92.96%\n",
      "Confidence interval for MOVE: 87.73% to 90.17%\n",
      "====================\n"
     ]
    }
   ],
   "source": [
    "decrease_dist('final_dist_ball_snap', 'final_dist_pass_forward')"
   ]
  },
  {
   "cell_type": "code",
   "execution_count": 107,
   "id": "970ef034",
   "metadata": {},
   "outputs": [
    {
     "name": "stdout",
     "output_type": "stream",
     "text": [
      "\u001b[35m\n",
      "If WR was a targetted receiver:\n",
      "\u001b[0m\n",
      "\u001b[94mDistance between final_dist_ball_snap and final_dist_pass_forward\u001b[0m\n",
      "\n",
      "Share of NOMOVE plays when CB descreased distance: 89.18% \n",
      "Share of MOVE plays when CB descreased distance: 82.93% \n",
      "\n",
      "Z test pvalue:  0.000915918493690175\n",
      "\n",
      "Confidence interval for NOMOVE: 86.98% to 91.38%\n",
      "Confidence interval for MOVE: 79.85% to 86.01%\n",
      "====================\n"
     ]
    }
   ],
   "source": [
    "decrease_dist('final_dist_ball_snap', 'final_dist_pass_forward', target=True)"
   ]
  },
  {
   "cell_type": "markdown",
   "id": "c176790f",
   "metadata": {},
   "source": [
    "Decreased distance so that it's less than 2 yards (mean = 2 yards, median = 1.5 yards) at the moment of pass:"
   ]
  },
  {
   "cell_type": "code",
   "execution_count": 108,
   "id": "f8f651a6",
   "metadata": {},
   "outputs": [
    {
     "name": "stdout",
     "output_type": "stream",
     "text": [
      "\u001b[94mDistance between final_dist_ball_snap and final_dist_pass_forward\u001b[0m\n",
      "When final distance is less than  2\n",
      "\n",
      "Share of NOMOVE plays when CB descreased distance: 64.13% \n",
      "Share of MOVE plays when CB descreased distance: 60.87% \n",
      "\n",
      "Z test pvalue:  0.010783140829364777\n",
      "\n",
      "Confidence interval for NOMOVE: 62.49% to 65.78%\n",
      "Confidence interval for MOVE: 58.97% to 62.77%\n",
      "====================\n"
     ]
    }
   ],
   "source": [
    "decrease_dist('final_dist_ball_snap', 'final_dist_pass_forward', threshold=2)"
   ]
  },
  {
   "cell_type": "code",
   "execution_count": 109,
   "id": "52dbd29c",
   "metadata": {},
   "outputs": [
    {
     "name": "stdout",
     "output_type": "stream",
     "text": [
      "\u001b[35m\n",
      "If WR was a targetted receiver:\n",
      "\u001b[0m\n",
      "\u001b[94mDistance between final_dist_ball_snap and final_dist_pass_forward\u001b[0m\n",
      "When final distance is less than  2\n",
      "\n",
      "Share of NOMOVE plays when CB descreased distance: 58.28% \n",
      "Share of MOVE plays when CB descreased distance: 51.05% \n",
      "\n",
      "Z test pvalue:  0.008399363950614813\n",
      "\n",
      "Confidence interval for NOMOVE: 54.79% to 61.77%\n",
      "Confidence interval for MOVE: 46.96% to 55.13%\n",
      "====================\n"
     ]
    }
   ],
   "source": [
    "decrease_dist('final_dist_ball_snap', 'final_dist_pass_forward', target=True, threshold=2)"
   ]
  },
  {
   "cell_type": "markdown",
   "id": "bf5a42ac",
   "metadata": {},
   "source": [
    "**Conclusion:** in plays when WR did not move before snap, CBs have more chances to dicrease their distance from WR before QB makes a pass.\n",
    "\n",
    "WR motion before the snap can be a useful strategy to increase the chances of a receiver getting open.At the same time, CBs may struggle to effectively close the gap when WRs use presnap motion, especially if the receiver is targeted. In such cases, they may require support from their teammates."
   ]
  },
  {
   "cell_type": "code",
   "execution_count": 110,
   "id": "1993b3ba",
   "metadata": {},
   "outputs": [
    {
     "name": "stdout",
     "output_type": "stream",
     "text": [
      "\u001b[94mDistance between final_dist_ball_snap and final_dist_pass_outcome_caught\u001b[0m\n",
      "\n",
      "Share of NOMOVE plays when CB descreased distance: 40.80% \n",
      "Share of MOVE plays when CB descreased distance: 43.04% \n",
      "\n",
      "Z test pvalue:  0.08708284069293815\n",
      "\n",
      "Confidence interval for NOMOVE: 39.12% to 42.49%\n",
      "Confidence interval for MOVE: 41.11% to 44.96%\n",
      "====================\n",
      "\u001b[35m\n",
      "If WR was a targetted receiver:\n",
      "\u001b[0m\n",
      "\u001b[94mDistance between final_dist_ball_snap and final_dist_pass_outcome_caught\u001b[0m\n",
      "\n",
      "Share of NOMOVE plays when CB descreased distance: 39.24% \n",
      "Share of MOVE plays when CB descreased distance: 38.85% \n",
      "\n",
      "Z test pvalue:  0.8837807034319017\n",
      "\n",
      "Confidence interval for NOMOVE: 35.79% to 42.70%\n",
      "Confidence interval for MOVE: 34.86% to 42.84%\n",
      "====================\n"
     ]
    }
   ],
   "source": [
    "decrease_dist('final_dist_ball_snap', 'final_dist_pass_outcome_caught')\n",
    "decrease_dist('final_dist_ball_snap', 'final_dist_pass_outcome_caught', target=True)"
   ]
  },
  {
   "cell_type": "code",
   "execution_count": 111,
   "id": "5a956e5c",
   "metadata": {},
   "outputs": [
    {
     "name": "stdout",
     "output_type": "stream",
     "text": [
      "\u001b[94mDistance between final_dist_ball_snap and final_dist_pass_outcome_caught\u001b[0m\n",
      "When final distance is less than  2\n",
      "\n",
      "Share of NOMOVE plays when CB descreased distance: 29.09% \n",
      "Share of MOVE plays when CB descreased distance: 29.63% \n",
      "\n",
      "Z test pvalue:  0.6585574617734637\n",
      "\n",
      "Confidence interval for NOMOVE: 27.53% to 30.65%\n",
      "Confidence interval for MOVE: 27.85% to 31.40%\n",
      "====================\n",
      "\u001b[35m\n",
      "If WR was a targetted receiver:\n",
      "\u001b[0m\n",
      "\u001b[94mDistance between final_dist_ball_snap and final_dist_pass_outcome_caught\u001b[0m\n",
      "When final distance is less than  2\n",
      "\n",
      "Share of NOMOVE plays when CB descreased distance: 26.73% \n",
      "Share of MOVE plays when CB descreased distance: 22.82% \n",
      "\n",
      "Z test pvalue:  0.10248989940818574\n",
      "\n",
      "Confidence interval for NOMOVE: 23.60% to 29.86%\n",
      "Confidence interval for MOVE: 19.39% to 26.26%\n",
      "====================\n"
     ]
    }
   ],
   "source": [
    "decrease_dist('final_dist_ball_snap', 'final_dist_pass_outcome_caught', threshold=2)\n",
    "decrease_dist('final_dist_ball_snap', 'final_dist_pass_outcome_caught', target=True, threshold=2)"
   ]
  },
  {
   "cell_type": "code",
   "execution_count": 112,
   "id": "bfeea6a6",
   "metadata": {},
   "outputs": [
    {
     "name": "stdout",
     "output_type": "stream",
     "text": [
      "\u001b[94mDistance between final_dist_pass_forward and final_dist_pass_outcome_caught\u001b[0m\n",
      "\n",
      "Share of NOMOVE plays when CB descreased distance: 26.76% \n",
      "Share of MOVE plays when CB descreased distance: 28.99% \n",
      "\n",
      "Z test pvalue:  0.05978628290429428\n",
      "\n",
      "Confidence interval for NOMOVE: 25.24% to 28.28%\n",
      "Confidence interval for MOVE: 27.23% to 30.76%\n",
      "====================\n",
      "\u001b[35m\n",
      "If WR was a targetted receiver:\n",
      "\u001b[0m\n",
      "\u001b[94mDistance between final_dist_pass_forward and final_dist_pass_outcome_caught\u001b[0m\n",
      "\n",
      "Share of NOMOVE plays when CB descreased distance: 32.46% \n",
      "Share of MOVE plays when CB descreased distance: 34.15% \n",
      "\n",
      "Z test pvalue:  0.5174331228749652\n",
      "\n",
      "Confidence interval for NOMOVE: 29.15% to 35.78%\n",
      "Confidence interval for MOVE: 30.27% to 38.03%\n",
      "====================\n"
     ]
    }
   ],
   "source": [
    "decrease_dist('final_dist_pass_forward', 'final_dist_pass_outcome_caught')\n",
    "decrease_dist('final_dist_pass_forward', 'final_dist_pass_outcome_caught', target=True)"
   ]
  },
  {
   "cell_type": "code",
   "execution_count": 113,
   "id": "a40871c7",
   "metadata": {},
   "outputs": [
    {
     "name": "stdout",
     "output_type": "stream",
     "text": [
      "\u001b[94mDistance between final_dist_pass_forward and final_dist_pass_outcome_caught\u001b[0m\n",
      "When final distance is less than  2\n",
      "\n",
      "Share of NOMOVE plays when CB descreased distance: 19.80% \n",
      "Share of MOVE plays when CB descreased distance: 20.36% \n",
      "\n",
      "Z test pvalue:  0.6030362101649342\n",
      "\n",
      "Confidence interval for NOMOVE: 18.44% to 21.17%\n",
      "Confidence interval for MOVE: 18.79% to 21.92%\n",
      "====================\n",
      "\u001b[35m\n",
      "If WR was a targetted receiver:\n",
      "\u001b[0m\n",
      "\u001b[94mDistance between final_dist_pass_forward and final_dist_pass_outcome_caught\u001b[0m\n",
      "When final distance is less than  2\n",
      "\n",
      "Share of NOMOVE plays when CB descreased distance: 23.47% \n",
      "Share of MOVE plays when CB descreased distance: 19.69% \n",
      "\n",
      "Z test pvalue:  0.09727899094929468\n",
      "\n",
      "Confidence interval for NOMOVE: 20.47% to 26.47%\n",
      "Confidence interval for MOVE: 16.43% to 22.94%\n",
      "====================\n"
     ]
    }
   ],
   "source": [
    "decrease_dist('final_dist_pass_forward', 'final_dist_pass_outcome_caught', threshold=2)\n",
    "decrease_dist('final_dist_pass_forward', 'final_dist_pass_outcome_caught', target=True, threshold=2)"
   ]
  },
  {
   "cell_type": "markdown",
   "id": "7b7d5557",
   "metadata": {},
   "source": [
    "In plays without motion (NOMOVE), the probability that a CB reduces the distance is 92.03%, which is 3.11 percentage points higher than in plays with motion (MOVE), where the share is 88.92%.\n",
    "This difference is statistically significant (p-value < 0.0001), confirming that CBs are more likely to close the distance in scenarios without motion.\n",
    "\n",
    "For targeted receivers in plays without motion, the probability of reducing the distance is 89.18%, which is 6.25 percentage points higher than in plays with motion (82.93%).\n",
    "Targeted receivers are more challenging for CBs, as the overall reduction rates are lower compared to the general case.\n",
    "\n",
    "**CBs find it more difficult to achieve sufficient distance reduction when defending against motion plays, especially against targeted receivers.**\n",
    "\n",
    "===\n",
    "\n",
    "\n",
    "\n",
    "\n",
    "CBs are more likely to achieve distance reduction in plays without motion (NOMOVE), both in general and when considering targeted receivers. However, in situations where the reduction needs to be below 2 yards, the difference becomes less pronounced."
   ]
  },
  {
   "cell_type": "markdown",
   "id": "b3e62d25",
   "metadata": {},
   "source": [
    "Overall, they manage to reduce the distance by the time of the catch. Perhaps if the CB clearly sees the ball's trajectory, they can adapt more effectively and close the gap, regardless of whether the WR moved before the snap or not. "
   ]
  },
  {
   "cell_type": "code",
   "execution_count": 114,
   "id": "f9c1ccb7",
   "metadata": {},
   "outputs": [],
   "source": [
    "import numpy as np\n",
    "\n",
    "def share(x): return np.round(x.mean()*100, 2)"
   ]
  },
  {
   "cell_type": "code",
   "execution_count": 115,
   "id": "0642dd5b",
   "metadata": {},
   "outputs": [],
   "source": [
    "all_man['decreased_pass_caught_dist'] = ((all_man['final_dist_pass_forward'] - all_man['final_dist_pass_outcome_caught'])>0).astype(int)\n"
   ]
  },
  {
   "cell_type": "code",
   "execution_count": 147,
   "id": "7392ecc7",
   "metadata": {},
   "outputs": [
    {
     "data": {
      "text/html": [
       "<div>\n",
       "<style scoped>\n",
       "    .dataframe tbody tr th:only-of-type {\n",
       "        vertical-align: middle;\n",
       "    }\n",
       "\n",
       "    .dataframe tbody tr th {\n",
       "        vertical-align: top;\n",
       "    }\n",
       "\n",
       "    .dataframe thead tr th {\n",
       "        text-align: left;\n",
       "    }\n",
       "\n",
       "    .dataframe thead tr:last-of-type th {\n",
       "        text-align: right;\n",
       "    }\n",
       "</style>\n",
       "<table border=\"1\" class=\"dataframe\">\n",
       "  <thead>\n",
       "    <tr>\n",
       "      <th></th>\n",
       "      <th colspan=\"2\" halign=\"left\">coverageGap_pass</th>\n",
       "      <th>coverageGap_caught</th>\n",
       "      <th>yardsGained</th>\n",
       "    </tr>\n",
       "    <tr>\n",
       "      <th></th>\n",
       "      <th>count</th>\n",
       "      <th>share</th>\n",
       "      <th>share</th>\n",
       "      <th>mean</th>\n",
       "    </tr>\n",
       "    <tr>\n",
       "      <th>movement</th>\n",
       "      <th></th>\n",
       "      <th></th>\n",
       "      <th></th>\n",
       "      <th></th>\n",
       "    </tr>\n",
       "  </thead>\n",
       "  <tbody>\n",
       "    <tr>\n",
       "      <th>0</th>\n",
       "      <td>3236</td>\n",
       "      <td>21.79</td>\n",
       "      <td>11.5</td>\n",
       "      <td>6.759889</td>\n",
       "    </tr>\n",
       "    <tr>\n",
       "      <th>1</th>\n",
       "      <td>2508</td>\n",
       "      <td>22.85</td>\n",
       "      <td>13.0</td>\n",
       "      <td>6.710526</td>\n",
       "    </tr>\n",
       "  </tbody>\n",
       "</table>\n",
       "</div>"
      ],
      "text/plain": [
       "         coverageGap_pass        coverageGap_caught yardsGained\n",
       "                    count  share              share        mean\n",
       "movement                                                       \n",
       "0                    3236  21.79               11.5    6.759889\n",
       "1                    2508  22.85               13.0    6.710526"
      ]
     },
     "execution_count": 147,
     "metadata": {},
     "output_type": "execute_result"
    }
   ],
   "source": [
    "all_man.query('60 > yardsGained>-20').groupby(['movement']).agg({'coverageGap_pass':['count', share], \n",
    "                                                                'coverageGap_caught':share, 'yardsGained': 'mean'})"
   ]
  },
  {
   "cell_type": "code",
   "execution_count": 148,
   "id": "71cd6033",
   "metadata": {},
   "outputs": [
    {
     "name": "stdout",
     "output_type": "stream",
     "text": [
      "0.33773848927891525\n"
     ]
    },
    {
     "data": {
      "text/plain": [
       "(0.2120374987512203, 0.2449003002918419)"
      ]
     },
     "execution_count": 148,
     "metadata": {},
     "output_type": "execute_result"
    }
   ],
   "source": [
    "A = all_man.query('60 > yardsGained>-20').query(\"movement == 1\")['coverageGap_pass']\n",
    "B = all_man.query('60 > yardsGained>-20').query(\"movement == 0\")['coverageGap_pass']\n",
    "\n",
    "count = [A.sum(), B.sum()]\n",
    "nobs = [len(A), len(B)]\n",
    "\n",
    "print(proportions_ztest(count, nobs)[1])\n",
    "proportion_confint(A.sum(), len(A), alpha=0.05, method='normal')"
   ]
  },
  {
   "cell_type": "code",
   "execution_count": 149,
   "id": "56e92938",
   "metadata": {},
   "outputs": [
    {
     "name": "stdout",
     "output_type": "stream",
     "text": [
      "0.08383739848903371\n"
     ]
    },
    {
     "data": {
      "text/plain": [
       "(0.11682292749090653, 0.1431451745824587)"
      ]
     },
     "execution_count": 149,
     "metadata": {},
     "output_type": "execute_result"
    }
   ],
   "source": [
    "A = all_man.query('60 > yardsGained>-20').query(\"movement == 1\")['coverageGap_caught']\n",
    "B = all_man.query('60 > yardsGained>-20').query(\"movement == 0\")['coverageGap_caught']\n",
    "\n",
    "count = [A.sum(), B.sum()]\n",
    "nobs = [len(A), len(B)]\n",
    "\n",
    "print(proportions_ztest(count, nobs)[1])\n",
    "proportion_confint(A.sum(), len(A), alpha=0.05, method='normal')"
   ]
  },
  {
   "cell_type": "code",
   "execution_count": 150,
   "id": "d6ce8f4f",
   "metadata": {},
   "outputs": [
    {
     "data": {
      "text/html": [
       "<div>\n",
       "<style scoped>\n",
       "    .dataframe tbody tr th:only-of-type {\n",
       "        vertical-align: middle;\n",
       "    }\n",
       "\n",
       "    .dataframe tbody tr th {\n",
       "        vertical-align: top;\n",
       "    }\n",
       "\n",
       "    .dataframe thead tr th {\n",
       "        text-align: left;\n",
       "    }\n",
       "\n",
       "    .dataframe thead tr:last-of-type th {\n",
       "        text-align: right;\n",
       "    }\n",
       "</style>\n",
       "<table border=\"1\" class=\"dataframe\">\n",
       "  <thead>\n",
       "    <tr>\n",
       "      <th></th>\n",
       "      <th></th>\n",
       "      <th colspan=\"2\" halign=\"left\">coverageGap_pass</th>\n",
       "      <th>coverageGap_caught</th>\n",
       "      <th>yardsGained</th>\n",
       "    </tr>\n",
       "    <tr>\n",
       "      <th></th>\n",
       "      <th></th>\n",
       "      <th>count</th>\n",
       "      <th>share</th>\n",
       "      <th>share</th>\n",
       "      <th>mean</th>\n",
       "    </tr>\n",
       "    <tr>\n",
       "      <th>movement</th>\n",
       "      <th>wasTargettedReceiver</th>\n",
       "      <th></th>\n",
       "      <th></th>\n",
       "      <th></th>\n",
       "      <th></th>\n",
       "    </tr>\n",
       "  </thead>\n",
       "  <tbody>\n",
       "    <tr>\n",
       "      <th rowspan=\"2\" valign=\"top\">0</th>\n",
       "      <th>0.0</th>\n",
       "      <td>2474</td>\n",
       "      <td>20.53</td>\n",
       "      <td>11.48</td>\n",
       "      <td>6.536783</td>\n",
       "    </tr>\n",
       "    <tr>\n",
       "      <th>1.0</th>\n",
       "      <td>762</td>\n",
       "      <td>25.85</td>\n",
       "      <td>11.55</td>\n",
       "      <td>7.484252</td>\n",
       "    </tr>\n",
       "    <tr>\n",
       "      <th rowspan=\"2\" valign=\"top\">1</th>\n",
       "      <th>0.0</th>\n",
       "      <td>1938</td>\n",
       "      <td>20.54</td>\n",
       "      <td>12.13</td>\n",
       "      <td>6.515996</td>\n",
       "    </tr>\n",
       "    <tr>\n",
       "      <th>1.0</th>\n",
       "      <td>570</td>\n",
       "      <td>30.70</td>\n",
       "      <td>15.96</td>\n",
       "      <td>7.371930</td>\n",
       "    </tr>\n",
       "  </tbody>\n",
       "</table>\n",
       "</div>"
      ],
      "text/plain": [
       "                              coverageGap_pass        coverageGap_caught  \\\n",
       "                                         count  share              share   \n",
       "movement wasTargettedReceiver                                              \n",
       "0        0.0                              2474  20.53              11.48   \n",
       "         1.0                               762  25.85              11.55   \n",
       "1        0.0                              1938  20.54              12.13   \n",
       "         1.0                               570  30.70              15.96   \n",
       "\n",
       "                              yardsGained  \n",
       "                                     mean  \n",
       "movement wasTargettedReceiver              \n",
       "0        0.0                     6.536783  \n",
       "         1.0                     7.484252  \n",
       "1        0.0                     6.515996  \n",
       "         1.0                     7.371930  "
      ]
     },
     "execution_count": 150,
     "metadata": {},
     "output_type": "execute_result"
    }
   ],
   "source": [
    "all_man.query('60 > yardsGained>-20').groupby(['movement','wasTargettedReceiver']).agg({'coverageGap_pass':['count', share],\n",
    "                                                                                       'coverageGap_caught':share, \n",
    "                                                                                       'yardsGained': 'mean',})"
   ]
  },
  {
   "cell_type": "code",
   "execution_count": null,
   "id": "678c116f",
   "metadata": {},
   "outputs": [],
   "source": [
    "# all_man.groupby(['movement','decreased_pass_caught_dist', \n",
    "#                  'wasTargettedReceiver']).agg({'coverageGap':['count', share], 'yardsGained': 'mean',})"
   ]
  },
  {
   "cell_type": "markdown",
   "id": "4a1ee889",
   "metadata": {},
   "source": [
    "With motion and the condition that the receiver is targeted, there are more gaps."
   ]
  },
  {
   "cell_type": "code",
   "execution_count": 151,
   "id": "effdd6de",
   "metadata": {},
   "outputs": [
    {
     "name": "stdout",
     "output_type": "stream",
     "text": [
      "0.050986957406200684\n",
      "0.019374569676847\n"
     ]
    },
    {
     "data": {
      "text/plain": [
       "(0.1295797575617313, 0.1897184880523038)"
      ]
     },
     "execution_count": 151,
     "metadata": {},
     "output_type": "execute_result"
    }
   ],
   "source": [
    "A = all_man.query('60 > yardsGained>-20 and movement == 1 and wasTargettedReceiver == 1')['coverageGap_pass']\n",
    "B = all_man.query('60 > yardsGained>-20 and movement == 0 and wasTargettedReceiver == 1')['coverageGap_pass']\n",
    "\n",
    "count = [A.sum(), B.sum()]\n",
    "nobs = [len(A), len(B)]\n",
    "\n",
    "print(proportions_ztest(count, nobs)[1])\n",
    "\n",
    "\n",
    "A = all_man.query('60 > yardsGained>-20 and movement == 1 and wasTargettedReceiver == 1')['coverageGap_caught']\n",
    "B = all_man.query('60 > yardsGained>-20 and movement == 0 and wasTargettedReceiver == 1')['coverageGap_caught']\n",
    "\n",
    "count = [A.sum(), B.sum()]\n",
    "nobs = [len(A), len(B)]\n",
    "\n",
    "print(proportions_ztest(count, nobs)[1])\n",
    "proportion_confint(A.sum(), len(A), alpha=0.05, method='normal')"
   ]
  },
  {
   "cell_type": "markdown",
   "id": "9653e5fa",
   "metadata": {},
   "source": [
    "**Receiver motion before the snap significantly impacts the coverage gap only at the moment of the catch, but not at the pass.\n",
    "This may indicate that motion helps the receiver create additional separation from the defense at the final stage of the route, ultimately increasing the likelihood of a successful play execution.**"
   ]
  },
  {
   "cell_type": "code",
   "execution_count": 152,
   "id": "7ec2ae7f",
   "metadata": {},
   "outputs": [
    {
     "data": {
      "text/html": [
       "<div>\n",
       "<style scoped>\n",
       "    .dataframe tbody tr th:only-of-type {\n",
       "        vertical-align: middle;\n",
       "    }\n",
       "\n",
       "    .dataframe tbody tr th {\n",
       "        vertical-align: top;\n",
       "    }\n",
       "\n",
       "    .dataframe thead tr th {\n",
       "        text-align: left;\n",
       "    }\n",
       "\n",
       "    .dataframe thead tr:last-of-type th {\n",
       "        text-align: right;\n",
       "    }\n",
       "</style>\n",
       "<table border=\"1\" class=\"dataframe\">\n",
       "  <thead>\n",
       "    <tr>\n",
       "      <th></th>\n",
       "      <th colspan=\"2\" halign=\"left\">coverageGap_pass</th>\n",
       "      <th>coverageGap_caught</th>\n",
       "      <th>yardsGained</th>\n",
       "      <th>yardageGainedAfterTheCatch</th>\n",
       "    </tr>\n",
       "    <tr>\n",
       "      <th></th>\n",
       "      <th>count</th>\n",
       "      <th>share</th>\n",
       "      <th>share</th>\n",
       "      <th>mean</th>\n",
       "      <th>mean</th>\n",
       "    </tr>\n",
       "    <tr>\n",
       "      <th>movement</th>\n",
       "      <th></th>\n",
       "      <th></th>\n",
       "      <th></th>\n",
       "      <th></th>\n",
       "      <th></th>\n",
       "    </tr>\n",
       "  </thead>\n",
       "  <tbody>\n",
       "    <tr>\n",
       "      <th>0</th>\n",
       "      <td>762</td>\n",
       "      <td>25.85</td>\n",
       "      <td>11.55</td>\n",
       "      <td>7.484252</td>\n",
       "      <td>2.064304</td>\n",
       "    </tr>\n",
       "    <tr>\n",
       "      <th>1</th>\n",
       "      <td>570</td>\n",
       "      <td>30.70</td>\n",
       "      <td>15.96</td>\n",
       "      <td>7.371930</td>\n",
       "      <td>2.473684</td>\n",
       "    </tr>\n",
       "  </tbody>\n",
       "</table>\n",
       "</div>"
      ],
      "text/plain": [
       "         coverageGap_pass        coverageGap_caught yardsGained  \\\n",
       "                    count  share              share        mean   \n",
       "movement                                                          \n",
       "0                     762  25.85              11.55    7.484252   \n",
       "1                     570  30.70              15.96    7.371930   \n",
       "\n",
       "         yardageGainedAfterTheCatch  \n",
       "                               mean  \n",
       "movement                             \n",
       "0                          2.064304  \n",
       "1                          2.473684  "
      ]
     },
     "execution_count": 152,
     "metadata": {},
     "output_type": "execute_result"
    }
   ],
   "source": [
    "all_man.query('60 > yardsGained>-20 and wasTargettedReceiver==1').groupby(['movement']).agg({'coverageGap_pass':['count', share],\n",
    "                                                                    'coverageGap_caught':share, \n",
    "                                                          'yardsGained': 'mean', 'yardageGainedAfterTheCatch': 'mean', })"
   ]
  },
  {
   "cell_type": "markdown",
   "id": "356d1a8f",
   "metadata": {},
   "source": [
    "Object columns:"
   ]
  },
  {
   "cell_type": "code",
   "execution_count": 159,
   "id": "5eaba2ae",
   "metadata": {},
   "outputs": [],
   "source": [
    "# all_man.query('60 > yardsGained>-20 and ~offenseFormation.isin([\"WILDCAT\"])').groupby(['offenseFormation', 'movement']).agg({'coverageGap_pass':['count', share],\n",
    "#                                                                     'coverageGap_caught':share, })\n"
   ]
  },
  {
   "cell_type": "code",
   "execution_count": 224,
   "id": "976048a8",
   "metadata": {},
   "outputs": [
    {
     "data": {
      "text/html": [
       "<div>\n",
       "<style scoped>\n",
       "    .dataframe tbody tr th:only-of-type {\n",
       "        vertical-align: middle;\n",
       "    }\n",
       "\n",
       "    .dataframe tbody tr th {\n",
       "        vertical-align: top;\n",
       "    }\n",
       "\n",
       "    .dataframe thead tr th {\n",
       "        text-align: left;\n",
       "    }\n",
       "\n",
       "    .dataframe thead tr:last-of-type th {\n",
       "        text-align: right;\n",
       "    }\n",
       "</style>\n",
       "<table border=\"1\" class=\"dataframe\">\n",
       "  <thead>\n",
       "    <tr>\n",
       "      <th></th>\n",
       "      <th></th>\n",
       "      <th colspan=\"2\" halign=\"left\">coverageGap_pass</th>\n",
       "      <th>coverageGap_caught</th>\n",
       "      <th>yardsGained</th>\n",
       "      <th>yardageGainedAfterTheCatch</th>\n",
       "    </tr>\n",
       "    <tr>\n",
       "      <th></th>\n",
       "      <th></th>\n",
       "      <th>count</th>\n",
       "      <th>share</th>\n",
       "      <th>share</th>\n",
       "      <th>mean</th>\n",
       "      <th>mean</th>\n",
       "    </tr>\n",
       "    <tr>\n",
       "      <th>offenseFormation</th>\n",
       "      <th>movement</th>\n",
       "      <th></th>\n",
       "      <th></th>\n",
       "      <th></th>\n",
       "      <th></th>\n",
       "      <th></th>\n",
       "    </tr>\n",
       "  </thead>\n",
       "  <tbody>\n",
       "    <tr>\n",
       "      <th rowspan=\"2\" valign=\"top\">EMPTY</th>\n",
       "      <th>0</th>\n",
       "      <td>97</td>\n",
       "      <td>32.99</td>\n",
       "      <td>15.46</td>\n",
       "      <td>6.742268</td>\n",
       "      <td>2.525773</td>\n",
       "    </tr>\n",
       "    <tr>\n",
       "      <th>1</th>\n",
       "      <td>71</td>\n",
       "      <td>29.58</td>\n",
       "      <td>21.13</td>\n",
       "      <td>7.281690</td>\n",
       "      <td>2.718310</td>\n",
       "    </tr>\n",
       "    <tr>\n",
       "      <th rowspan=\"2\" valign=\"top\">I_FORM</th>\n",
       "      <th>0</th>\n",
       "      <td>10</td>\n",
       "      <td>20.00</td>\n",
       "      <td>10.00</td>\n",
       "      <td>8.600000</td>\n",
       "      <td>2.800000</td>\n",
       "    </tr>\n",
       "    <tr>\n",
       "      <th>1</th>\n",
       "      <td>19</td>\n",
       "      <td>21.05</td>\n",
       "      <td>5.26</td>\n",
       "      <td>6.842105</td>\n",
       "      <td>0.736842</td>\n",
       "    </tr>\n",
       "    <tr>\n",
       "      <th rowspan=\"2\" valign=\"top\">PISTOL</th>\n",
       "      <th>0</th>\n",
       "      <td>16</td>\n",
       "      <td>31.25</td>\n",
       "      <td>12.50</td>\n",
       "      <td>5.062500</td>\n",
       "      <td>0.562500</td>\n",
       "    </tr>\n",
       "    <tr>\n",
       "      <th>1</th>\n",
       "      <td>13</td>\n",
       "      <td>15.38</td>\n",
       "      <td>7.69</td>\n",
       "      <td>6.692308</td>\n",
       "      <td>2.076923</td>\n",
       "    </tr>\n",
       "    <tr>\n",
       "      <th rowspan=\"2\" valign=\"top\">SHOTGUN</th>\n",
       "      <th>0</th>\n",
       "      <td>572</td>\n",
       "      <td>24.30</td>\n",
       "      <td>9.27</td>\n",
       "      <td>6.944056</td>\n",
       "      <td>1.772727</td>\n",
       "    </tr>\n",
       "    <tr>\n",
       "      <th>1</th>\n",
       "      <td>378</td>\n",
       "      <td>32.80</td>\n",
       "      <td>15.87</td>\n",
       "      <td>7.203704</td>\n",
       "      <td>2.584656</td>\n",
       "    </tr>\n",
       "    <tr>\n",
       "      <th rowspan=\"2\" valign=\"top\">SINGLEBACK</th>\n",
       "      <th>0</th>\n",
       "      <td>65</td>\n",
       "      <td>27.69</td>\n",
       "      <td>24.62</td>\n",
       "      <td>13.369231</td>\n",
       "      <td>3.861538</td>\n",
       "    </tr>\n",
       "    <tr>\n",
       "      <th>1</th>\n",
       "      <td>89</td>\n",
       "      <td>26.97</td>\n",
       "      <td>15.73</td>\n",
       "      <td>8.370787</td>\n",
       "      <td>2.235955</td>\n",
       "    </tr>\n",
       "  </tbody>\n",
       "</table>\n",
       "</div>"
      ],
      "text/plain": [
       "                          coverageGap_pass        coverageGap_caught  \\\n",
       "                                     count  share              share   \n",
       "offenseFormation movement                                              \n",
       "EMPTY            0                      97  32.99              15.46   \n",
       "                 1                      71  29.58              21.13   \n",
       "I_FORM           0                      10  20.00              10.00   \n",
       "                 1                      19  21.05               5.26   \n",
       "PISTOL           0                      16  31.25              12.50   \n",
       "                 1                      13  15.38               7.69   \n",
       "SHOTGUN          0                     572  24.30               9.27   \n",
       "                 1                     378  32.80              15.87   \n",
       "SINGLEBACK       0                      65  27.69              24.62   \n",
       "                 1                      89  26.97              15.73   \n",
       "\n",
       "                          yardsGained yardageGainedAfterTheCatch  \n",
       "                                 mean                       mean  \n",
       "offenseFormation movement                                         \n",
       "EMPTY            0           6.742268                   2.525773  \n",
       "                 1           7.281690                   2.718310  \n",
       "I_FORM           0           8.600000                   2.800000  \n",
       "                 1           6.842105                   0.736842  \n",
       "PISTOL           0           5.062500                   0.562500  \n",
       "                 1           6.692308                   2.076923  \n",
       "SHOTGUN          0           6.944056                   1.772727  \n",
       "                 1           7.203704                   2.584656  \n",
       "SINGLEBACK       0          13.369231                   3.861538  \n",
       "                 1           8.370787                   2.235955  "
      ]
     },
     "execution_count": 224,
     "metadata": {},
     "output_type": "execute_result"
    }
   ],
   "source": [
    "all_man.query(\n",
    "    '60 > yardsGained>-20 and ~offenseFormation.isin([\"WILDCAT\"]) and wasTargettedReceiver==1'\n",
    ").groupby(['offenseFormation', 'movement']).agg({'coverageGap_pass':['count', share],\n",
    "                                                                    'coverageGap_caught':share, \n",
    "                                                          'yardsGained': 'mean', 'yardageGainedAfterTheCatch': 'mean', })"
   ]
  },
  {
   "cell_type": "code",
   "execution_count": 318,
   "id": "ad49647d",
   "metadata": {},
   "outputs": [],
   "source": [
    "def z_test(col, formation=None, route=None, alignment=None):\n",
    "\n",
    "    A = all_man.query('60 > yardsGained>-20 and movement == 1  and wasTargettedReceiver == 1')\n",
    "    B = all_man.query('60 > yardsGained>-20 and movement == 0  and wasTargettedReceiver == 1')\n",
    "    \n",
    "    if formation:\n",
    "        A = A.query('offenseFormation==@formation')\n",
    "        B = B.query('offenseFormation==@formation')\n",
    "        \n",
    "    if route:\n",
    "        A = A.query('routeRan==@route')\n",
    "        B = B.query('routeRan==@route')\n",
    "        \n",
    "    if alignment:\n",
    "        A = A.query('receiverAlignment==@alignment')\n",
    "        B = B.query('receiverAlignment==@alignment')\n",
    "    \n",
    "    A = A[col]\n",
    "    B = B[col]\n",
    "\n",
    "    count = [A.sum(), B.sum()]\n",
    "    nobs = [len(A), len(B)]\n",
    "\n",
    "    print('\\033[94m' + 'column {}'.format(col) + '\\033[0m', np.round(proportions_ztest(count, nobs)[1], 3))\n",
    "    print(proportion_confint(A.sum(), len(A), alpha=0.05, method='normal'))"
   ]
  },
  {
   "cell_type": "code",
   "execution_count": 319,
   "id": "549db9af",
   "metadata": {},
   "outputs": [],
   "source": [
    "def t_test(col, formation=None, route=None, alignment=None):\n",
    "\n",
    "    A = all_man.query('60 > yardsGained>-20 and movement == 1  and wasTargettedReceiver == 1')\n",
    "    B = all_man.query('60 > yardsGained>-20 and movement == 0  and wasTargettedReceiver == 1')\n",
    "    \n",
    "    if formation:\n",
    "        A = A.query('offenseFormation==@formation')\n",
    "        B = B.query('offenseFormation==@formation')\n",
    "        \n",
    "    if route:\n",
    "        A = A.query('routeRan==@route')\n",
    "        B = B.query('routeRan==@route')\n",
    "        \n",
    "    if alignment:\n",
    "        A = A.query('receiverAlignment==@alignment')\n",
    "        B = B.query('receiverAlignment==@alignment')\n",
    "    \n",
    "    A = A[col]\n",
    "    B = B[col]\n",
    "\n",
    "    print('\\033[94m' + 'column {}'.format(col) + '\\033[0m', np.round(ttest_ind(A, B, equal_var=False)[1], 3))\n"
   ]
  },
  {
   "cell_type": "code",
   "execution_count": 204,
   "id": "da8f14bd",
   "metadata": {
    "scrolled": true
   },
   "outputs": [
    {
     "name": "stdout",
     "output_type": "stream",
     "text": [
      "\u001b[94mformation SHOTGUN\u001b[0m\n",
      "\u001b[94mcolumn coverageGap_pass\u001b[0m 0.004\n",
      "(0.2807121550136926, 0.3753725010709634)\n",
      "\u001b[94mcolumn coverageGap_caught\u001b[0m 0.002\n",
      "(0.12189185905932788, 0.19556845840098958)\n",
      "\n",
      "\n",
      "\n",
      "\u001b[94mformation I_FORM\u001b[0m\n",
      "\u001b[94mcolumn coverageGap_pass\u001b[0m 0.947\n",
      "(0.027213294733072574, 0.3938393368458748)\n",
      "\u001b[94mcolumn coverageGap_caught\u001b[0m 0.632\n",
      "(0.0, 0.15303625566437878)\n",
      "\n",
      "\n",
      "\n",
      "\u001b[94mformation SINGLEBACK\u001b[0m\n",
      "\u001b[94mcolumn coverageGap_pass\u001b[0m 0.92\n",
      "(0.17746409764850088, 0.3618617450481283)\n",
      "\u001b[94mcolumn coverageGap_caught\u001b[0m 0.169\n",
      "(0.08166228912614851, 0.2329444524468852)\n",
      "\n",
      "\n",
      "\n",
      "\u001b[94mformation PISTOL\u001b[0m\n",
      "\u001b[94mcolumn coverageGap_pass\u001b[0m 0.321\n",
      "(0.0, 0.349976323034732)\n",
      "\u001b[94mcolumn coverageGap_caught\u001b[0m 0.672\n",
      "(0.0, 0.22177480663178212)\n",
      "\n",
      "\n",
      "\n",
      "\u001b[94mformation EMPTY\u001b[0m\n",
      "\u001b[94mcolumn coverageGap_pass\u001b[0m 0.638\n",
      "(0.18961603933739665, 0.4019332564372512)\n",
      "\u001b[94mcolumn coverageGap_caught\u001b[0m 0.344\n",
      "(0.1163164595880317, 0.3062187516795739)\n",
      "\n",
      "\n",
      "\n"
     ]
    }
   ],
   "source": [
    "for i in all_man.query('~offenseFormation.isin([\"WILDCAT\"]) and offenseFormation.notna()')['offenseFormation'].unique():\n",
    "    print('\\033[94m' + 'formation {}'.format(i) + '\\033[0m')\n",
    "    z_test('coverageGap_pass', formation=i)\n",
    "    z_test('coverageGap_caught', formation=i)\n",
    "    print(\"\\n\\n\")"
   ]
  },
  {
   "cell_type": "code",
   "execution_count": 205,
   "id": "160333ac",
   "metadata": {},
   "outputs": [
    {
     "name": "stdout",
     "output_type": "stream",
     "text": [
      "\u001b[94mformation SHOTGUN\u001b[0m\n",
      "\u001b[94mcolumn yardsGained\u001b[0m 0.705\n",
      "\u001b[94mcolumn yardageGainedAfterTheCatch\u001b[0m 0.019\n",
      "\n",
      "\n",
      "\u001b[94mformation I_FORM\u001b[0m\n",
      "\u001b[94mcolumn yardsGained\u001b[0m 0.775\n",
      "\u001b[94mcolumn yardageGainedAfterTheCatch\u001b[0m 0.371\n",
      "\n",
      "\n",
      "\u001b[94mformation SINGLEBACK\u001b[0m\n",
      "\u001b[94mcolumn yardsGained\u001b[0m 0.035\n",
      "\u001b[94mcolumn yardageGainedAfterTheCatch\u001b[0m 0.095\n",
      "\n",
      "\n",
      "\u001b[94mformation PISTOL\u001b[0m\n",
      "\u001b[94mcolumn yardsGained\u001b[0m 0.642\n",
      "\u001b[94mcolumn yardageGainedAfterTheCatch\u001b[0m 0.29\n",
      "\n",
      "\n",
      "\u001b[94mformation EMPTY\u001b[0m\n",
      "\u001b[94mcolumn yardsGained\u001b[0m 0.722\n",
      "\u001b[94mcolumn yardageGainedAfterTheCatch\u001b[0m 0.803\n",
      "\n",
      "\n"
     ]
    }
   ],
   "source": [
    "for i in all_man.query('~offenseFormation.isin([\"WILDCAT\"]) and offenseFormation.notna()')['offenseFormation'].unique():\n",
    "    print('\\033[94m' + 'formation {}'.format(i) + '\\033[0m')\n",
    "    t_test('yardsGained', formation=i)\n",
    "    t_test('yardageGainedAfterTheCatch', formation=i)\n",
    "    print(\"\\n\")"
   ]
  },
  {
   "cell_type": "markdown",
   "id": "15faacac",
   "metadata": {},
   "source": [
    "SHOTGUN has the highest potential for creating gaps in the defense (coverageGap_pass, coverageGap_caught), especially when motion is used (movement=1). \n",
    "\n",
    "This makes it a versatile formation suitable for flexible offensive strategies.\n",
    "SINGLEBACK, on the other hand, demonstrates low gap metrics, making it less effective in terms of creating space for receivers.\n",
    "EMPTY stands out positively when motion is employed, showing an improvement in coverageGap_caught, highlighting its strength in \"clean\" offensive situations."
   ]
  },
  {
   "cell_type": "code",
   "execution_count": 373,
   "id": "60852941",
   "metadata": {},
   "outputs": [
    {
     "name": "stderr",
     "output_type": "stream",
     "text": [
      "C:\\Users\\Msi\\anaconda3\\lib\\site-packages\\seaborn\\axisgrid.py:675: UserWarning: Using the barplot function without specifying `hue_order` is likely to produce an incorrect plot.\n",
      "  warnings.warn(warning)\n"
     ]
    },
    {
     "data": {
      "image/png": "[encoded data removed]",
      "text/plain": [
       "<Figure size 1880.25x600 with 2 Axes>"
      ]
     },
     "metadata": {},
     "output_type": "display_data"
    }
   ],
   "source": [
    "data = all_man.query(\n",
    "    '60 > yardsGained > -20 and wasTargettedReceiver == 1 and offenseFormation.isin([\"SHOTGUN\", \"SINGLEBACK\", \"EMPTY\"])'\n",
    ").groupby(['movement', 'offenseFormation'])[['coverageGap_pass', 'coverageGap_caught']].agg(share).reset_index()\n",
    "\n",
    "data= data.melt(id_vars=['movement', 'offenseFormation'], var_name='Metric', value_name='Share')\n",
    "\n",
    "data['Metric'] = data['Metric'].replace({'coverageGap_pass': 'CGP','coverageGap_caught': 'CGC'})\n",
    "\n",
    "graph = sns.FacetGrid(data, col=\"movement\", height=6, aspect=1.5, sharey=True)\n",
    "graph.map(sns.barplot, \"offenseFormation\", \"Share\", \"Metric\", order=[\"SHOTGUN\", \"SINGLEBACK\", \"EMPTY\"], palette=\"magma\", ci=None)\n",
    "\n",
    "graph.set_titles(\"Movement = {col_name}\")\n",
    "graph.set_axis_labels(\"offenseFormation\", \"Share (%)\")\n",
    "graph.add_legend(title=\"Metric\")\n",
    "plt.show()\n",
    "\n",
    "graph.savefig(\"formations_share.png\")"
   ]
  },
  {
   "cell_type": "code",
   "execution_count": 374,
   "id": "e4e9e0fe",
   "metadata": {},
   "outputs": [],
   "source": [
    "# data = all_man.query(\n",
    "#     '60 > yardsGained > -20 and wasTargettedReceiver == 1 and offenseFormation.isin([\"SHOTGUN\", \"SINGLEBACK\", \"EMPTY\"])'\n",
    "# ).groupby(['movement', 'offenseFormation'])[['coverageGap_pass', 'coverageGap_caught']].agg(share).reset_index()\n",
    "\n",
    "# data= data.melt(id_vars=['movement', 'offenseFormation'], var_name='Metric', value_name='Share')\n",
    "\n",
    "# data['Metric'] = data['Metric'].replace({'coverageGap_pass': 'CGP','coverageGap_caught': 'CGC'})\n",
    "\n",
    "# graph = sns.FacetGrid(data, col=\"movement\", height=6, aspect=1.5, sharey=True)\n",
    "# graph.map(sns.barplot, \"offenseFormation\", \"Share\", \"Metric\", order=[\"SHOTGUN\", \"SINGLEBACK\", \"EMPTY\"], palette=\"magma\", ci=None)\n",
    "\n",
    "# graph.set_titles(\"Movement = {col_name}\")\n",
    "# graph.set_axis_labels(\"Offense Formation\", \"Share (%)\")\n",
    "# graph.add_legend(title=\"Metric\")\n",
    "# plt.show()"
   ]
  },
  {
   "cell_type": "code",
   "execution_count": 375,
   "id": "e245b02e",
   "metadata": {},
   "outputs": [
    {
     "data": {
      "image/png": "[encoded data removed]",
      "text/plain": [
       "<Figure size 1880.25x600 with 2 Axes>"
      ]
     },
     "metadata": {},
     "output_type": "display_data"
    }
   ],
   "source": [
    "data = all_man.query(\n",
    "    '60 > yardsGained > -20 and wasTargettedReceiver == 1 and offenseFormation.isin([\"SHOTGUN\", \"SINGLEBACK\", \"EMPTY\"]) and (coverageGap_pass == 1 or coverageGap_caught == 1)'\n",
    ")\n",
    "\n",
    "data = data.melt(id_vars=['movement', 'offenseFormation', 'yardsGained'], value_vars=['coverageGap_pass', 'coverageGap_caught'], \n",
    "    var_name='Metric', value_name='Coverage Gap').query('`Coverage Gap` == 1')\n",
    "data['Metric'] = data['Metric'].replace({'coverageGap_pass': 'CGP','coverageGap_caught': 'CGC'})\n",
    "\n",
    "data = data.groupby(['movement', 'offenseFormation', 'Metric'], as_index=False)['yardsGained'].mean()\n",
    "\n",
    "graph = sns.catplot(data=data, kind=\"bar\", x=\"offenseFormation\", y=\"yardsGained\", hue=\"Metric\", col=\"movement\", palette=\"magma\",ci=None,\n",
    "    height=6,aspect=1.5)\n",
    "graph.set_titles(\"Movement = {col_name}\")\n",
    "graph.set_axis_labels(\"Offense Formation\", \"Average Yards Gained\")\n",
    "graph._legend.set_title(\"Metric\")\n",
    "graph.tight_layout()\n",
    "\n",
    "plt.show()\n",
    "graph.savefig(\"formations_yards.png\")\n"
   ]
  },
  {
   "cell_type": "code",
   "execution_count": null,
   "id": "73191a09",
   "metadata": {},
   "outputs": [],
   "source": []
  },
  {
   "cell_type": "code",
   "execution_count": 186,
   "id": "91118b27",
   "metadata": {},
   "outputs": [
    {
     "data": {
      "text/html": [
       "<div>\n",
       "<style scoped>\n",
       "    .dataframe tbody tr th:only-of-type {\n",
       "        vertical-align: middle;\n",
       "    }\n",
       "\n",
       "    .dataframe tbody tr th {\n",
       "        vertical-align: top;\n",
       "    }\n",
       "\n",
       "    .dataframe thead tr th {\n",
       "        text-align: left;\n",
       "    }\n",
       "\n",
       "    .dataframe thead tr:last-of-type th {\n",
       "        text-align: right;\n",
       "    }\n",
       "</style>\n",
       "<table border=\"1\" class=\"dataframe\">\n",
       "  <thead>\n",
       "    <tr>\n",
       "      <th></th>\n",
       "      <th></th>\n",
       "      <th colspan=\"2\" halign=\"left\">coverageGap_pass</th>\n",
       "      <th>coverageGap_caught</th>\n",
       "      <th>yardsGained</th>\n",
       "    </tr>\n",
       "    <tr>\n",
       "      <th></th>\n",
       "      <th></th>\n",
       "      <th>count</th>\n",
       "      <th>share</th>\n",
       "      <th>share</th>\n",
       "      <th>mean</th>\n",
       "    </tr>\n",
       "    <tr>\n",
       "      <th>routeRan</th>\n",
       "      <th>movement</th>\n",
       "      <th></th>\n",
       "      <th></th>\n",
       "      <th></th>\n",
       "      <th></th>\n",
       "    </tr>\n",
       "  </thead>\n",
       "  <tbody>\n",
       "    <tr>\n",
       "      <th rowspan=\"2\" valign=\"top\">CORNER</th>\n",
       "      <th>0</th>\n",
       "      <td>28</td>\n",
       "      <td>10.71</td>\n",
       "      <td>7.14</td>\n",
       "      <td>5.535714</td>\n",
       "    </tr>\n",
       "    <tr>\n",
       "      <th>1</th>\n",
       "      <td>24</td>\n",
       "      <td>12.50</td>\n",
       "      <td>8.33</td>\n",
       "      <td>10.875000</td>\n",
       "    </tr>\n",
       "    <tr>\n",
       "      <th rowspan=\"2\" valign=\"top\">CROSS</th>\n",
       "      <th>0</th>\n",
       "      <td>93</td>\n",
       "      <td>31.18</td>\n",
       "      <td>19.35</td>\n",
       "      <td>9.032258</td>\n",
       "    </tr>\n",
       "    <tr>\n",
       "      <th>1</th>\n",
       "      <td>98</td>\n",
       "      <td>47.96</td>\n",
       "      <td>29.59</td>\n",
       "      <td>8.530612</td>\n",
       "    </tr>\n",
       "    <tr>\n",
       "      <th rowspan=\"2\" valign=\"top\">FLAT</th>\n",
       "      <th>0</th>\n",
       "      <td>21</td>\n",
       "      <td>90.48</td>\n",
       "      <td>23.81</td>\n",
       "      <td>3.333333</td>\n",
       "    </tr>\n",
       "    <tr>\n",
       "      <th>1</th>\n",
       "      <td>25</td>\n",
       "      <td>64.00</td>\n",
       "      <td>36.00</td>\n",
       "      <td>5.240000</td>\n",
       "    </tr>\n",
       "    <tr>\n",
       "      <th rowspan=\"2\" valign=\"top\">GO</th>\n",
       "      <th>0</th>\n",
       "      <td>189</td>\n",
       "      <td>6.88</td>\n",
       "      <td>3.17</td>\n",
       "      <td>10.174603</td>\n",
       "    </tr>\n",
       "    <tr>\n",
       "      <th>1</th>\n",
       "      <td>103</td>\n",
       "      <td>3.88</td>\n",
       "      <td>2.91</td>\n",
       "      <td>7.320388</td>\n",
       "    </tr>\n",
       "    <tr>\n",
       "      <th rowspan=\"2\" valign=\"top\">HITCH</th>\n",
       "      <th>0</th>\n",
       "      <td>99</td>\n",
       "      <td>31.31</td>\n",
       "      <td>6.06</td>\n",
       "      <td>4.696970</td>\n",
       "    </tr>\n",
       "    <tr>\n",
       "      <th>1</th>\n",
       "      <td>64</td>\n",
       "      <td>40.62</td>\n",
       "      <td>12.50</td>\n",
       "      <td>7.015625</td>\n",
       "    </tr>\n",
       "    <tr>\n",
       "      <th rowspan=\"2\" valign=\"top\">IN</th>\n",
       "      <th>0</th>\n",
       "      <td>51</td>\n",
       "      <td>23.53</td>\n",
       "      <td>15.69</td>\n",
       "      <td>7.098039</td>\n",
       "    </tr>\n",
       "    <tr>\n",
       "      <th>1</th>\n",
       "      <td>58</td>\n",
       "      <td>27.59</td>\n",
       "      <td>10.34</td>\n",
       "      <td>8.586207</td>\n",
       "    </tr>\n",
       "    <tr>\n",
       "      <th rowspan=\"2\" valign=\"top\">OUT</th>\n",
       "      <th>0</th>\n",
       "      <td>101</td>\n",
       "      <td>41.58</td>\n",
       "      <td>15.84</td>\n",
       "      <td>5.237624</td>\n",
       "    </tr>\n",
       "    <tr>\n",
       "      <th>1</th>\n",
       "      <td>76</td>\n",
       "      <td>31.58</td>\n",
       "      <td>15.79</td>\n",
       "      <td>6.078947</td>\n",
       "    </tr>\n",
       "    <tr>\n",
       "      <th rowspan=\"2\" valign=\"top\">POST</th>\n",
       "      <th>0</th>\n",
       "      <td>47</td>\n",
       "      <td>12.77</td>\n",
       "      <td>6.38</td>\n",
       "      <td>12.510638</td>\n",
       "    </tr>\n",
       "    <tr>\n",
       "      <th>1</th>\n",
       "      <td>23</td>\n",
       "      <td>30.43</td>\n",
       "      <td>13.04</td>\n",
       "      <td>10.695652</td>\n",
       "    </tr>\n",
       "    <tr>\n",
       "      <th rowspan=\"2\" valign=\"top\">SCREEN</th>\n",
       "      <th>0</th>\n",
       "      <td>23</td>\n",
       "      <td>78.26</td>\n",
       "      <td>65.22</td>\n",
       "      <td>3.869565</td>\n",
       "    </tr>\n",
       "    <tr>\n",
       "      <th>1</th>\n",
       "      <td>29</td>\n",
       "      <td>58.62</td>\n",
       "      <td>55.17</td>\n",
       "      <td>5.413793</td>\n",
       "    </tr>\n",
       "    <tr>\n",
       "      <th rowspan=\"2\" valign=\"top\">SLANT</th>\n",
       "      <th>0</th>\n",
       "      <td>110</td>\n",
       "      <td>21.82</td>\n",
       "      <td>8.18</td>\n",
       "      <td>6.200000</td>\n",
       "    </tr>\n",
       "    <tr>\n",
       "      <th>1</th>\n",
       "      <td>69</td>\n",
       "      <td>21.74</td>\n",
       "      <td>4.35</td>\n",
       "      <td>5.913043</td>\n",
       "    </tr>\n",
       "  </tbody>\n",
       "</table>\n",
       "</div>"
      ],
      "text/plain": [
       "                  coverageGap_pass        coverageGap_caught yardsGained\n",
       "                             count  share              share        mean\n",
       "routeRan movement                                                       \n",
       "CORNER   0                      28  10.71               7.14    5.535714\n",
       "         1                      24  12.50               8.33   10.875000\n",
       "CROSS    0                      93  31.18              19.35    9.032258\n",
       "         1                      98  47.96              29.59    8.530612\n",
       "FLAT     0                      21  90.48              23.81    3.333333\n",
       "         1                      25  64.00              36.00    5.240000\n",
       "GO       0                     189   6.88               3.17   10.174603\n",
       "         1                     103   3.88               2.91    7.320388\n",
       "HITCH    0                      99  31.31               6.06    4.696970\n",
       "         1                      64  40.62              12.50    7.015625\n",
       "IN       0                      51  23.53              15.69    7.098039\n",
       "         1                      58  27.59              10.34    8.586207\n",
       "OUT      0                     101  41.58              15.84    5.237624\n",
       "         1                      76  31.58              15.79    6.078947\n",
       "POST     0                      47  12.77               6.38   12.510638\n",
       "         1                      23  30.43              13.04   10.695652\n",
       "SCREEN   0                      23  78.26              65.22    3.869565\n",
       "         1                      29  58.62              55.17    5.413793\n",
       "SLANT    0                     110  21.82               8.18    6.200000\n",
       "         1                      69  21.74               4.35    5.913043"
      ]
     },
     "execution_count": 186,
     "metadata": {},
     "output_type": "execute_result"
    }
   ],
   "source": [
    "all_man.query('60 > yardsGained>-20 and wasTargettedReceiver == 1 and ~routeRan.isin([\"ANGLE\"])'\n",
    "             ).groupby(['routeRan', 'movement']).agg({'coverageGap_pass':['count', share],\n",
    "                                                                    'coverageGap_caught':share, 'yardsGained': 'mean'})"
   ]
  },
  {
   "cell_type": "code",
   "execution_count": 145,
   "id": "8ded0734",
   "metadata": {},
   "outputs": [],
   "source": [
    "all_man = all_man.merge(plays[['gameId', 'playId', 'yardsToGo', 'distanceFromOwnEndZone']], on=['gameId', 'playId'])"
   ]
  },
  {
   "cell_type": "code",
   "execution_count": 194,
   "id": "6faf011c",
   "metadata": {},
   "outputs": [
    {
     "name": "stdout",
     "output_type": "stream",
     "text": [
      "\u001b[94mroute: OUT\u001b[0m\n",
      "\u001b[94mcolumn coverageGap_pass\u001b[0m 0.173\n",
      "(0.21128497282961584, 0.4202939745388052)\n",
      "\u001b[94mcolumn coverageGap_caught\u001b[0m 0.992\n",
      "(0.07591466159351262, 0.2398748120906979)\n",
      "\n",
      "\n",
      "\n",
      "\u001b[94mroute: CROSS\u001b[0m\n",
      "\u001b[94mcolumn coverageGap_pass\u001b[0m 0.018\n",
      "(0.38068120071358935, 0.5785024727557984)\n",
      "\u001b[94mcolumn coverageGap_caught\u001b[0m 0.101\n",
      "(0.2055466528135738, 0.3862900818803038)\n",
      "\n",
      "\n",
      "\n",
      "\u001b[94mroute: IN\u001b[0m\n",
      "\u001b[94mcolumn coverageGap_pass\u001b[0m 0.629\n",
      "(0.16083746750097566, 0.3908866704300588)\n",
      "\u001b[94mcolumn coverageGap_caught\u001b[0m 0.406\n",
      "(0.02507222124464953, 0.1818243304794884)\n",
      "\n",
      "\n",
      "\n",
      "\u001b[94mroute: HITCH\u001b[0m\n",
      "\u001b[94mcolumn coverageGap_pass\u001b[0m 0.223\n",
      "(0.28592479719609376, 0.5265752028039062)\n",
      "\u001b[94mcolumn coverageGap_caught\u001b[0m 0.152\n",
      "(0.04397535497287143, 0.20602464502712858)\n",
      "\n",
      "\n",
      "\n",
      "\u001b[94mroute: GO\u001b[0m\n",
      "\u001b[94mcolumn coverageGap_pass\u001b[0m 0.296\n",
      "(0.0015236973390243685, 0.07614620557359698)\n",
      "\u001b[94mcolumn coverageGap_caught\u001b[0m 0.902\n",
      "(0.0, 0.061601491879755915)\n",
      "\n",
      "\n",
      "\n",
      "\u001b[94mroute: SLANT\u001b[0m\n",
      "\u001b[94mcolumn coverageGap_pass\u001b[0m 0.99\n",
      "(0.12006797343177407, 0.3147146352638781)\n",
      "\u001b[94mcolumn coverageGap_caught\u001b[0m 0.318\n",
      "(0.0, 0.09159620350281425)\n",
      "\n",
      "\n",
      "\n",
      "\u001b[94mroute: CORNER\u001b[0m\n",
      "\u001b[94mcolumn coverageGap_pass\u001b[0m 0.841\n",
      "(0.0, 0.2573126912710663)\n",
      "\u001b[94mcolumn coverageGap_caught\u001b[0m 0.872\n",
      "(0.0, 0.19390849084796336)\n",
      "\n",
      "\n",
      "\n",
      "\u001b[94mroute: FLAT\u001b[0m\n",
      "\u001b[94mcolumn coverageGap_pass\u001b[0m 0.036\n",
      "(0.4518434574841548, 0.8281565425158453)\n",
      "\u001b[94mcolumn coverageGap_caught\u001b[0m 0.371\n",
      "(0.17184345748415475, 0.5481565425158452)\n",
      "\n",
      "\n",
      "\n",
      "\u001b[94mroute: SCREEN\u001b[0m\n",
      "\u001b[94mcolumn coverageGap_pass\u001b[0m 0.134\n",
      "(0.40695400176923985, 0.7654597913342083)\n",
      "\u001b[94mcolumn coverageGap_caught\u001b[0m 0.463\n",
      "(0.37072239300548276, 0.7327258828565861)\n",
      "\n",
      "\n",
      "\n",
      "\u001b[94mroute: POST\u001b[0m\n",
      "\u001b[94mcolumn coverageGap_pass\u001b[0m 0.074\n",
      "(0.11630128548714641, 0.49239436668676667)\n",
      "\u001b[94mcolumn coverageGap_caught\u001b[0m 0.35\n",
      "(0.0, 0.2680707571255011)\n",
      "\n",
      "\n",
      "\n"
     ]
    }
   ],
   "source": [
    "for i in all_man.query('~routeRan.isin([\"ANGLE\"]) and routeRan.notna()')['routeRan'].unique():\n",
    "    print('\\033[94m' + 'route: {}'.format(i) + '\\033[0m')\n",
    "    z_test('coverageGap_pass', route=i)\n",
    "    z_test('coverageGap_caught', route=i)\n",
    "    print(\"\\n\\n\")"
   ]
  },
  {
   "cell_type": "markdown",
   "id": "d34317a2",
   "metadata": {},
   "source": [
    " for the CROSS route, the share of gaps increases by 16.78 percentage points for coverageGap_pass and by 10.24 p.p for coverageGap_caught when motion is used. A Z-test confirms that this difference is statistically significant.\n",
    "For the HITCH route, there is also a noticeable increase in coverageGap_pass by 9.31 percentage points with motion, highlighting the strategic advantage of motion in creating gaps.\n",
    "\n",
    "There is a relationship between increased coverageGap_caught and average yards after the catch (yardageGainedAfterTheCatch). For instance, on the CROSS route, an increase in coverageGap_caught is associated with improved yards after the catch, confirming that the metric reflects the effectiveness of receivers against defenders.\n",
    "For GO and CROSS routes, a reduction in coverageGap_pass without motion correlates with a decrease in the average number of yards gained, emphasizing the importance of motion in enhancing offensive outcomes."
   ]
  },
  {
   "cell_type": "code",
   "execution_count": 206,
   "id": "57241deb",
   "metadata": {
    "collapsed": true
   },
   "outputs": [
    {
     "name": "stdout",
     "output_type": "stream",
     "text": [
      "\u001b[94mrounte OUT\u001b[0m\n",
      "\u001b[94mcolumn yardsGained\u001b[0m 0.425\n",
      "\u001b[94mcolumn yardageGainedAfterTheCatch\u001b[0m 0.586\n",
      "\n",
      "\n",
      "\u001b[94mrounte CROSS\u001b[0m\n",
      "\u001b[94mcolumn yardsGained\u001b[0m 0.763\n",
      "\u001b[94mcolumn yardageGainedAfterTheCatch\u001b[0m 0.847\n",
      "\n",
      "\n",
      "\u001b[94mrounte IN\u001b[0m\n",
      "\u001b[94mcolumn yardsGained\u001b[0m 0.465\n",
      "\u001b[94mcolumn yardageGainedAfterTheCatch\u001b[0m 0.109\n",
      "\n",
      "\n",
      "\u001b[94mrounte HITCH\u001b[0m\n",
      "\u001b[94mcolumn yardsGained\u001b[0m 0.031\n",
      "\u001b[94mcolumn yardageGainedAfterTheCatch\u001b[0m 0.183\n",
      "\n",
      "\n",
      "\u001b[94mrounte GO\u001b[0m\n",
      "\u001b[94mcolumn yardsGained\u001b[0m 0.106\n",
      "\u001b[94mcolumn yardageGainedAfterTheCatch\u001b[0m 0.031\n",
      "\n",
      "\n",
      "\u001b[94mrounte SLANT\u001b[0m\n",
      "\u001b[94mcolumn yardsGained\u001b[0m 0.787\n",
      "\u001b[94mcolumn yardageGainedAfterTheCatch\u001b[0m 0.241\n",
      "\n",
      "\n",
      "\u001b[94mrounte CORNER\u001b[0m\n",
      "\u001b[94mcolumn yardsGained\u001b[0m 0.129\n",
      "\u001b[94mcolumn yardageGainedAfterTheCatch\u001b[0m 0.26\n",
      "\n",
      "\n",
      "\u001b[94mrounte FLAT\u001b[0m\n",
      "\u001b[94mcolumn yardsGained\u001b[0m 0.193\n",
      "\u001b[94mcolumn yardageGainedAfterTheCatch\u001b[0m 0.751\n",
      "\n",
      "\n",
      "\u001b[94mrounte SCREEN\u001b[0m\n",
      "\u001b[94mcolumn yardsGained\u001b[0m 0.322\n",
      "\u001b[94mcolumn yardageGainedAfterTheCatch\u001b[0m 0.277\n",
      "\n",
      "\n",
      "\u001b[94mrounte POST\u001b[0m\n",
      "\u001b[94mcolumn yardsGained\u001b[0m 0.655\n",
      "\u001b[94mcolumn yardageGainedAfterTheCatch\u001b[0m 0.76\n",
      "\n",
      "\n"
     ]
    }
   ],
   "source": [
    "for i in all_man.query('~routeRan.isin([\"ANGLE\"]) and routeRan.notna()')['routeRan'].unique():\n",
    "    print('\\033[94m' + 'rounte {}'.format(i) + '\\033[0m')\n",
    "    t_test('yardsGained', route=i)\n",
    "    t_test('yardageGainedAfterTheCatch', route=i)\n",
    "    print(\"\\n\")"
   ]
  },
  {
   "cell_type": "code",
   "execution_count": 376,
   "id": "d451c242",
   "metadata": {},
   "outputs": [
    {
     "name": "stderr",
     "output_type": "stream",
     "text": [
      "C:\\Users\\Msi\\anaconda3\\lib\\site-packages\\seaborn\\axisgrid.py:675: UserWarning: Using the barplot function without specifying `hue_order` is likely to produce an incorrect plot.\n",
      "  warnings.warn(warning)\n"
     ]
    },
    {
     "data": {
      "image/png": "[encoded data removed]",
      "text/plain": [
       "<Figure size 1880.25x600 with 2 Axes>"
      ]
     },
     "metadata": {},
     "output_type": "display_data"
    }
   ],
   "source": [
    "data = all_man.query(\n",
    "    '60 > yardsGained > -20 and wasTargettedReceiver == 1 and routeRan.isin([\"GO\", \"CROSS\", \"HITCH\", \"FLAT\", \"POST\"])'\n",
    ").groupby(['movement', 'routeRan'])[['coverageGap_pass', 'coverageGap_caught']].agg(share).reset_index()\n",
    "\n",
    "data= data.melt(id_vars=['movement', 'routeRan'], var_name='Metric', value_name='Share')\n",
    "\n",
    "data['Metric'] = data['Metric'].replace({'coverageGap_pass': 'CGP','coverageGap_caught': 'CGC'})\n",
    "\n",
    "graph = sns.FacetGrid(data, col=\"movement\", height=6, aspect=1.5, sharey=True)\n",
    "graph.map(sns.barplot, \"routeRan\", \"Share\", \"Metric\", order=[\"GO\", \"CROSS\", \"HITCH\", \"FLAT\", \"POST\"], palette=\"magma\", ci=None)\n",
    "\n",
    "graph.set_titles(\"Movement = {col_name}\")\n",
    "graph.set_axis_labels(\"Route\", \"Share (%)\")\n",
    "graph.add_legend(title=\"Metric\")\n",
    "graph.savefig(\"route_share.png\")\n",
    "\n",
    "plt.show()"
   ]
  },
  {
   "cell_type": "code",
   "execution_count": 377,
   "id": "82f35150",
   "metadata": {},
   "outputs": [
    {
     "data": {
      "image/png": "[encoded data removed]",
      "text/plain": [
       "<Figure size 1880.25x600 with 2 Axes>"
      ]
     },
     "metadata": {},
     "output_type": "display_data"
    }
   ],
   "source": [
    "data = all_man.query(\n",
    "    '60 > yardsGained > -20 and wasTargettedReceiver == 1 and routeRan.isin([\"GO\", \"CROSS\", \"HITCH\", \"FLAT\", \"POST\"]) and (coverageGap_pass == 1 or coverageGap_caught == 1)'\n",
    ")\n",
    "\n",
    "data = data.melt(id_vars=['movement', 'routeRan', 'yardsGained'], value_vars=['coverageGap_pass', 'coverageGap_caught'], \n",
    "    var_name='Metric', value_name='Coverage Gap').query('`Coverage Gap` == 1')\n",
    "data['Metric'] = data['Metric'].replace({'coverageGap_pass': 'CGP','coverageGap_caught': 'CGC'})\n",
    "\n",
    "data = data.groupby(['movement', 'routeRan', 'Metric'], as_index=False)['yardsGained'].mean()\n",
    "\n",
    "g = sns.catplot(data=data, kind=\"bar\", x=\"routeRan\", y=\"yardsGained\", hue=\"Metric\", col=\"movement\", palette=\"magma\",ci=None,\n",
    "    height=6,aspect=1.5)\n",
    "g.set_titles(\"Movement = {col_name}\")\n",
    "g.set_axis_labels(\"Route\", \"Average Yards Gained\")\n",
    "g._legend.set_title(\"Metric\")\n",
    "g.tight_layout()\n",
    "graph.savefig(\"route_yards.png\")\n",
    "\n",
    "plt.show()\n"
   ]
  },
  {
   "cell_type": "markdown",
   "id": "87490656",
   "metadata": {},
   "source": [
    "Since we are considering the impact of presnap motions, coverageGap_pass is a more critical metric as it reflects how effectively the offense creates gaps before the ball is thrown. However, coverageGap_caught is also important because it captures the final gap and allows for an assessment of the defense's effectiveness in the outcome of the play."
   ]
  },
  {
   "cell_type": "code",
   "execution_count": 208,
   "id": "02f0a29c",
   "metadata": {
    "scrolled": true
   },
   "outputs": [
    {
     "data": {
      "text/html": [
       "<div>\n",
       "<style scoped>\n",
       "    .dataframe tbody tr th:only-of-type {\n",
       "        vertical-align: middle;\n",
       "    }\n",
       "\n",
       "    .dataframe tbody tr th {\n",
       "        vertical-align: top;\n",
       "    }\n",
       "\n",
       "    .dataframe thead tr th {\n",
       "        text-align: left;\n",
       "    }\n",
       "\n",
       "    .dataframe thead tr:last-of-type th {\n",
       "        text-align: right;\n",
       "    }\n",
       "</style>\n",
       "<table border=\"1\" class=\"dataframe\">\n",
       "  <thead>\n",
       "    <tr>\n",
       "      <th></th>\n",
       "      <th></th>\n",
       "      <th colspan=\"2\" halign=\"left\">coverageGap_pass</th>\n",
       "      <th>coverageGap_caught</th>\n",
       "      <th>yardsGained</th>\n",
       "    </tr>\n",
       "    <tr>\n",
       "      <th></th>\n",
       "      <th></th>\n",
       "      <th>count</th>\n",
       "      <th>share</th>\n",
       "      <th>share</th>\n",
       "      <th>mean</th>\n",
       "    </tr>\n",
       "    <tr>\n",
       "      <th>receiverAlignment</th>\n",
       "      <th>movement</th>\n",
       "      <th></th>\n",
       "      <th></th>\n",
       "      <th></th>\n",
       "      <th></th>\n",
       "    </tr>\n",
       "  </thead>\n",
       "  <tbody>\n",
       "    <tr>\n",
       "      <th rowspan=\"2\" valign=\"top\">2x1</th>\n",
       "      <th>0</th>\n",
       "      <td>30</td>\n",
       "      <td>20.00</td>\n",
       "      <td>13.33</td>\n",
       "      <td>9.933333</td>\n",
       "    </tr>\n",
       "    <tr>\n",
       "      <th>1</th>\n",
       "      <td>36</td>\n",
       "      <td>19.44</td>\n",
       "      <td>11.11</td>\n",
       "      <td>7.055556</td>\n",
       "    </tr>\n",
       "    <tr>\n",
       "      <th rowspan=\"2\" valign=\"top\">2x2</th>\n",
       "      <th>0</th>\n",
       "      <td>264</td>\n",
       "      <td>28.03</td>\n",
       "      <td>11.36</td>\n",
       "      <td>7.545455</td>\n",
       "    </tr>\n",
       "    <tr>\n",
       "      <th>1</th>\n",
       "      <td>223</td>\n",
       "      <td>33.18</td>\n",
       "      <td>14.80</td>\n",
       "      <td>7.372197</td>\n",
       "    </tr>\n",
       "    <tr>\n",
       "      <th rowspan=\"2\" valign=\"top\">3x1</th>\n",
       "      <th>0</th>\n",
       "      <td>368</td>\n",
       "      <td>23.10</td>\n",
       "      <td>10.60</td>\n",
       "      <td>7.312500</td>\n",
       "    </tr>\n",
       "    <tr>\n",
       "      <th>1</th>\n",
       "      <td>238</td>\n",
       "      <td>30.67</td>\n",
       "      <td>15.97</td>\n",
       "      <td>7.457983</td>\n",
       "    </tr>\n",
       "    <tr>\n",
       "      <th rowspan=\"2\" valign=\"top\">3x2</th>\n",
       "      <th>0</th>\n",
       "      <td>95</td>\n",
       "      <td>33.68</td>\n",
       "      <td>15.79</td>\n",
       "      <td>6.642105</td>\n",
       "    </tr>\n",
       "    <tr>\n",
       "      <th>1</th>\n",
       "      <td>63</td>\n",
       "      <td>30.16</td>\n",
       "      <td>22.22</td>\n",
       "      <td>7.031746</td>\n",
       "    </tr>\n",
       "  </tbody>\n",
       "</table>\n",
       "</div>"
      ],
      "text/plain": [
       "                           coverageGap_pass        coverageGap_caught  \\\n",
       "                                      count  share              share   \n",
       "receiverAlignment movement                                              \n",
       "2x1               0                      30  20.00              13.33   \n",
       "                  1                      36  19.44              11.11   \n",
       "2x2               0                     264  28.03              11.36   \n",
       "                  1                     223  33.18              14.80   \n",
       "3x1               0                     368  23.10              10.60   \n",
       "                  1                     238  30.67              15.97   \n",
       "3x2               0                      95  33.68              15.79   \n",
       "                  1                      63  30.16              22.22   \n",
       "\n",
       "                           yardsGained  \n",
       "                                  mean  \n",
       "receiverAlignment movement              \n",
       "2x1               0           9.933333  \n",
       "                  1           7.055556  \n",
       "2x2               0           7.545455  \n",
       "                  1           7.372197  \n",
       "3x1               0           7.312500  \n",
       "                  1           7.457983  \n",
       "3x2               0           6.642105  \n",
       "                  1           7.031746  "
      ]
     },
     "execution_count": 208,
     "metadata": {},
     "output_type": "execute_result"
    }
   ],
   "source": [
    "all_man.query('60 > yardsGained>-20 and wasTargettedReceiver == 1 and ~receiverAlignment.isin([\"1x1\", \"4x1\"])'\n",
    "             ).groupby(['receiverAlignment', 'movement']).agg({'coverageGap_pass':['count', share],\n",
    "                                                                    'coverageGap_caught':share, 'yardsGained': 'mean'})"
   ]
  },
  {
   "cell_type": "code",
   "execution_count": 325,
   "id": "37a10823",
   "metadata": {},
   "outputs": [
    {
     "name": "stdout",
     "output_type": "stream",
     "text": [
      "\u001b[94mreceiverAlignment 2x2\u001b[0m\n",
      "\u001b[94mcolumn coverageGap_pass\u001b[0m 0.218\n",
      "(0.2700369548183855, 0.39364017522645756)\n",
      "\u001b[94mcolumn coverageGap_caught\u001b[0m 0.26\n",
      "(0.10137791541414842, 0.19458621014638972)\n",
      "\n",
      "\n",
      "\n",
      "\u001b[94mreceiverAlignment 3x1\u001b[0m\n",
      "\u001b[94mcolumn coverageGap_pass\u001b[0m 0.038\n",
      "(0.24813773988531101, 0.36530763826594953)\n",
      "\u001b[94mcolumn coverageGap_caught\u001b[0m 0.053\n",
      "(0.11312782260079501, 0.20619990849164194)\n",
      "\n",
      "\n",
      "\n",
      "\u001b[94mreceiverAlignment 2x1\u001b[0m\n",
      "\u001b[94mcolumn coverageGap_pass\u001b[0m 0.955\n",
      "(0.0651611653598049, 0.32372772352908397)\n",
      "\u001b[94mcolumn coverageGap_caught\u001b[0m 0.783\n",
      "(0.008451568566690507, 0.21377065365553172)\n",
      "\n",
      "\n",
      "\n",
      "\u001b[94mreceiverAlignment 3x2\u001b[0m\n",
      "\u001b[94mcolumn coverageGap_pass\u001b[0m 0.643\n",
      "(0.18825847148330993, 0.4149161316912932)\n",
      "\u001b[94mcolumn coverageGap_caught\u001b[0m 0.306\n",
      "(0.11956267967780161, 0.3248817647666428)\n",
      "\n",
      "\n",
      "\n"
     ]
    }
   ],
   "source": [
    "for i in all_man.query('~receiverAlignment.isin([\"1x1\", \"4x1\", \"2x0\", \"3x3\"]) and receiverAlignment.notna()')['receiverAlignment'].unique():\n",
    "    print('\\033[94m' + 'receiverAlignment {}'.format(i) + '\\033[0m')\n",
    "    z_test('coverageGap_pass', alignment=i)\n",
    "    z_test('coverageGap_caught', alignment=i)\n",
    "    print(\"\\n\\n\")"
   ]
  },
  {
   "cell_type": "code",
   "execution_count": 326,
   "id": "515ec400",
   "metadata": {},
   "outputs": [
    {
     "name": "stdout",
     "output_type": "stream",
     "text": [
      "\u001b[94mreceiverAlignment 2x2\u001b[0m\n",
      "\u001b[94mcolumn yardsGained\u001b[0m 0.862\n",
      "\u001b[94mcolumn yardageGainedAfterTheCatch\u001b[0m 0.375\n",
      "\n",
      "\n",
      "\u001b[94mreceiverAlignment 3x1\u001b[0m\n",
      "\u001b[94mcolumn yardsGained\u001b[0m 0.869\n",
      "\u001b[94mcolumn yardageGainedAfterTheCatch\u001b[0m 0.093\n",
      "\n",
      "\n",
      "\u001b[94mreceiverAlignment 2x1\u001b[0m\n",
      "\u001b[94mcolumn yardsGained\u001b[0m 0.376\n",
      "\u001b[94mcolumn yardageGainedAfterTheCatch\u001b[0m 0.397\n",
      "\n",
      "\n",
      "\u001b[94mreceiverAlignment 3x2\u001b[0m\n",
      "\u001b[94mcolumn yardsGained\u001b[0m 0.806\n",
      "\u001b[94mcolumn yardageGainedAfterTheCatch\u001b[0m 0.892\n",
      "\n",
      "\n"
     ]
    }
   ],
   "source": [
    "for i in all_man.query('~receiverAlignment.isin([\"1x1\", \"4x1\", \"2x0\", \"3x3\"]) and receiverAlignment.notna()')['receiverAlignment'].unique():\n",
    "    print('\\033[94m' + 'receiverAlignment {}'.format(i) + '\\033[0m')\n",
    "    t_test('yardsGained', alignment=i)\n",
    "    t_test('yardageGainedAfterTheCatch', alignment=i)\n",
    "    print(\"\\n\")"
   ]
  },
  {
   "cell_type": "markdown",
   "id": "b35a6ed5",
   "metadata": {},
   "source": [
    "3x2 and 3x1 alignments show the highest coverageGap_pass values, with motion significantly increasing the proportion of gaps. Significant differences in coverageGap_pass and coverageGap_caught are found between 2x1 and 3x2. Alignments 2x2 and 3x2 show significant increases in yards after the catch, making them strategically advantageous for creating gaps and gaining yardage. Presnap motion increases coverageGap_pass across all alignments, with the strongest effects in 3x1 and 3x2.  3x2 shows the highest average yardage and gap proportions, highlighting the alignment's offensive efficiency."
   ]
  },
  {
   "cell_type": "markdown",
   "id": "d270e3eb",
   "metadata": {},
   "source": [
    "With movement, mean yards gained is higher. Take a look at the passResult values:"
   ]
  },
  {
   "cell_type": "code",
   "execution_count": 365,
   "id": "7a9d2d5c",
   "metadata": {},
   "outputs": [
    {
     "data": {
      "text/plain": [
       "coverageGap_pass  movement\n",
       "0                 0           43.362832\n",
       "                  1           45.822785\n",
       "1                 0           71.065990\n",
       "                  1           80.000000\n",
       "Name: passResult, dtype: float64"
      ]
     },
     "execution_count": 365,
     "metadata": {},
     "output_type": "execute_result"
    }
   ],
   "source": [
    "all_man.query(\n",
    "    '60 > yardsGained > -20 and wasTargettedReceiver == 1 and passResult != \"NoPass\"'\n",
    ").groupby(['coverageGap_pass', 'movement'])['passResult'].apply(lambda x: (x == 'C').mean() * 100)"
   ]
  },
  {
   "cell_type": "code",
   "execution_count": 366,
   "id": "b38f4c66",
   "metadata": {},
   "outputs": [
    {
     "data": {
      "text/plain": [
       "coverageGap_caught  movement\n",
       "0                   0            44.065282\n",
       "                    1            48.016701\n",
       "1                   0           100.000000\n",
       "                    1           100.000000\n",
       "Name: passResult, dtype: float64"
      ]
     },
     "execution_count": 366,
     "metadata": {},
     "output_type": "execute_result"
    }
   ],
   "source": [
    "all_man.query(\n",
    "    '60 > yardsGained > -20 and wasTargettedReceiver == 1 and passResult != \"NoPass\"'\n",
    ").groupby(['coverageGap_caught', 'movement'])['passResult'].apply(lambda x: (x == 'C').mean() * 100)"
   ]
  },
  {
   "cell_type": "code",
   "execution_count": 370,
   "id": "3c7e4208",
   "metadata": {},
   "outputs": [
    {
     "data": {
      "text/plain": [
       "coverageGap_pass  movement\n",
       "0                 0           44.169611\n",
       "                  1           44.242424\n",
       "1                 0           65.882353\n",
       "                  1           78.082192\n",
       "Name: passResult, dtype: float64"
      ]
     },
     "execution_count": 370,
     "metadata": {},
     "output_type": "execute_result"
    }
   ],
   "source": [
    "df = all_man.query('receiverAlignment.isin([\"3x1\"]) and receiverAlignment.notna() and 60 > yardsGained > -20 and wasTargettedReceiver == 1 and passResult != \"NoPass\"')\n",
    "df.groupby(['coverageGap_pass', 'movement'])['passResult'].apply(lambda x: (x == 'C').mean() * 100)\n",
    "    "
   ]
  },
  {
   "cell_type": "markdown",
   "id": "b344a230",
   "metadata": {},
   "source": [
    "When the gap (coverageGap_pass) is greater than 3 yards, the completion rate increases, especially when there is movement (movement=1)."
   ]
  }
 ],
 "metadata": {
  "kernelspec": {
   "display_name": "Python 3 (ipykernel)",
   "language": "python",
   "name": "python3"
  },
  "language_info": {
   "codemirror_mode": {
    "name": "ipython",
    "version": 3
   },
   "file_extension": ".py",
   "mimetype": "text/x-python",
   "name": "python",
   "nbconvert_exporter": "python",
   "pygments_lexer": "ipython3",
   "version": "3.9.13"
  }
 },
 "nbformat": 4,
 "nbformat_minor": 5
}
