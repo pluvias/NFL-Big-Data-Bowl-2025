{
 "cells": [
  {
   "cell_type": "code",
   "execution_count": 7,
   "id": "a52a4aa4",
   "metadata": {},
   "outputs": [],
   "source": [
    "import pandas as pd\n",
    "import numpy as np\n",
    "import seaborn as sns\n",
    "import matplotlib.pyplot as plt\n",
    "\n",
    "plays = pd.read_csv('nfl_data/plays.csv')\n",
    "\n",
    "pd.set_option('max_colwidth', 100)"
   ]
  },
  {
   "cell_type": "code",
   "execution_count": 8,
   "id": "77341fdb",
   "metadata": {},
   "outputs": [],
   "source": [
    "# plays.info()"
   ]
  },
  {
   "cell_type": "code",
   "execution_count": 9,
   "id": "0da94319",
   "metadata": {},
   "outputs": [],
   "source": [
    "plays[['quarter', 'down', 'yardsToGo','yardlineNumber','preSnapHomeScore', \n",
    "    'preSnapVisitorScore', 'absoluteYardlineNumber', 'yardsGained', 'isDropback',\n",
    "      'playAction']] = plays[['quarter', 'down', 'yardsToGo', 'yardlineNumber','preSnapHomeScore', \n",
    "                              'preSnapVisitorScore', \n",
    "                              'absoluteYardlineNumber', 'yardsGained', 'isDropback',\n",
    "                              'playAction'\n",
    "                              ]].astype(int)\n",
    "\n",
    "\n",
    "\n",
    "plays[['passLength', 'targetX', 'targetY', 'dropbackDistance',\n",
    "       'timeToThrow', 'timeInTackleBox', 'timeToSack', \n",
    "       'penaltyYards', 'prePenaltyYardsGained']] = plays[['passLength', 'targetX', 'targetY',  'dropbackDistance',\n",
    "                                                           'timeToThrow', 'timeInTackleBox', 'timeToSack', \n",
    "                                                            'penaltyYards', 'prePenaltyYardsGained']].astype('float')"
   ]
  },
  {
   "cell_type": "code",
   "execution_count": 10,
   "id": "540a7e63",
   "metadata": {},
   "outputs": [
    {
     "data": {
      "text/plain": [
       "array(['N'], dtype=object)"
      ]
     },
     "execution_count": 10,
     "metadata": {},
     "output_type": "execute_result"
    }
   ],
   "source": [
    "plays['playNullifiedByPenalty'].unique()  # Можно удалить"
   ]
  },
  {
   "cell_type": "code",
   "execution_count": 11,
   "id": "b9e1b427",
   "metadata": {},
   "outputs": [],
   "source": [
    "plays = plays.drop(['preSnapHomeTeamWinProbability', 'preSnapVisitorTeamWinProbability', 'expectedPoints', \n",
    "               'homeTeamWinProbabilityAdded', 'visitorTeamWinProbilityAdded',\n",
    "                    'expectedPointsAdded', 'playNullifiedByPenalty'], axis=1)\n"
   ]
  },
  {
   "cell_type": "code",
   "execution_count": 12,
   "id": "b2934fe6",
   "metadata": {},
   "outputs": [],
   "source": [
    "plays['timeToThrow'] = pd.to_numeric(plays['timeToThrow'], errors='coerce')\n",
    "plays['timeInTackleBox'] = pd.to_numeric(plays['timeInTackleBox'], errors='coerce')"
   ]
  },
  {
   "cell_type": "markdown",
   "id": "2dbbe902",
   "metadata": {},
   "source": [
    "# Dates"
   ]
  },
  {
   "cell_type": "code",
   "execution_count": null,
   "id": "3eec33c3",
   "metadata": {},
   "outputs": [],
   "source": []
  },
  {
   "cell_type": "markdown",
   "id": "84aeea8c",
   "metadata": {},
   "source": [
    "# Basic Info ✅"
   ]
  },
  {
   "cell_type": "markdown",
   "id": "a3bd0aea",
   "metadata": {},
   "source": [
    "✅ `gameClock`"
   ]
  },
  {
   "cell_type": "markdown",
   "id": "fdfcdae5",
   "metadata": {},
   "source": [
    "`playClockAtSnap`"
   ]
  },
  {
   "cell_type": "code",
   "execution_count": 13,
   "id": "d1c83d72",
   "metadata": {},
   "outputs": [
    {
     "data": {
      "text/plain": [
       "0    10.0\n",
       "1     9.0\n",
       "2    12.0\n",
       "3    11.0\n",
       "4     8.0\n",
       "5    15.0\n",
       "6    18.0\n",
       "7     2.0\n",
       "8     3.0\n",
       "9    12.0\n",
       "Name: playClockAtSnap, dtype: float64"
      ]
     },
     "execution_count": 13,
     "metadata": {},
     "output_type": "execute_result"
    }
   ],
   "source": [
    "plays['playClockAtSnap'].head(10)"
   ]
  },
  {
   "cell_type": "code",
   "execution_count": null,
   "id": "17611597",
   "metadata": {},
   "outputs": [],
   "source": []
  },
  {
   "cell_type": "code",
   "execution_count": 14,
   "id": "5f9ab655",
   "metadata": {},
   "outputs": [
    {
     "data": {
      "text/html": [
       "<div>\n",
       "<style scoped>\n",
       "    .dataframe tbody tr th:only-of-type {\n",
       "        vertical-align: middle;\n",
       "    }\n",
       "\n",
       "    .dataframe tbody tr th {\n",
       "        vertical-align: top;\n",
       "    }\n",
       "\n",
       "    .dataframe thead th {\n",
       "        text-align: right;\n",
       "    }\n",
       "</style>\n",
       "<table border=\"1\" class=\"dataframe\">\n",
       "  <thead>\n",
       "    <tr style=\"text-align: right;\">\n",
       "      <th></th>\n",
       "      <th>quarter</th>\n",
       "      <th>down</th>\n",
       "      <th>yardsToGo</th>\n",
       "      <th>yardlineNumber</th>\n",
       "    </tr>\n",
       "  </thead>\n",
       "  <tbody>\n",
       "    <tr>\n",
       "      <th>count</th>\n",
       "      <td>16124.000000</td>\n",
       "      <td>16124.000000</td>\n",
       "      <td>16124.000000</td>\n",
       "      <td>16124.000000</td>\n",
       "    </tr>\n",
       "    <tr>\n",
       "      <th>mean</th>\n",
       "      <td>2.572253</td>\n",
       "      <td>1.800794</td>\n",
       "      <td>8.461300</td>\n",
       "      <td>29.226185</td>\n",
       "    </tr>\n",
       "    <tr>\n",
       "      <th>std</th>\n",
       "      <td>1.135404</td>\n",
       "      <td>0.827194</td>\n",
       "      <td>3.908658</td>\n",
       "      <td>12.662828</td>\n",
       "    </tr>\n",
       "    <tr>\n",
       "      <th>min</th>\n",
       "      <td>1.000000</td>\n",
       "      <td>1.000000</td>\n",
       "      <td>1.000000</td>\n",
       "      <td>1.000000</td>\n",
       "    </tr>\n",
       "    <tr>\n",
       "      <th>25%</th>\n",
       "      <td>2.000000</td>\n",
       "      <td>1.000000</td>\n",
       "      <td>6.000000</td>\n",
       "      <td>21.000000</td>\n",
       "    </tr>\n",
       "    <tr>\n",
       "      <th>50%</th>\n",
       "      <td>3.000000</td>\n",
       "      <td>2.000000</td>\n",
       "      <td>10.000000</td>\n",
       "      <td>30.000000</td>\n",
       "    </tr>\n",
       "    <tr>\n",
       "      <th>75%</th>\n",
       "      <td>4.000000</td>\n",
       "      <td>2.000000</td>\n",
       "      <td>10.000000</td>\n",
       "      <td>40.000000</td>\n",
       "    </tr>\n",
       "    <tr>\n",
       "      <th>max</th>\n",
       "      <td>5.000000</td>\n",
       "      <td>4.000000</td>\n",
       "      <td>38.000000</td>\n",
       "      <td>50.000000</td>\n",
       "    </tr>\n",
       "  </tbody>\n",
       "</table>\n",
       "</div>"
      ],
      "text/plain": [
       "            quarter          down     yardsToGo  yardlineNumber\n",
       "count  16124.000000  16124.000000  16124.000000    16124.000000\n",
       "mean       2.572253      1.800794      8.461300       29.226185\n",
       "std        1.135404      0.827194      3.908658       12.662828\n",
       "min        1.000000      1.000000      1.000000        1.000000\n",
       "25%        2.000000      1.000000      6.000000       21.000000\n",
       "50%        3.000000      2.000000     10.000000       30.000000\n",
       "75%        4.000000      2.000000     10.000000       40.000000\n",
       "max        5.000000      4.000000     38.000000       50.000000"
      ]
     },
     "execution_count": 14,
     "metadata": {},
     "output_type": "execute_result"
    }
   ],
   "source": [
    "plays[['quarter', 'down', 'yardsToGo','yardlineNumber']].describe()"
   ]
  },
  {
   "cell_type": "markdown",
   "id": "69d4ca32",
   "metadata": {},
   "source": [
    "quarter 5"
   ]
  },
  {
   "cell_type": "code",
   "execution_count": 15,
   "id": "4f1c3dad",
   "metadata": {},
   "outputs": [
    {
     "data": {
      "text/html": [
       "<div>\n",
       "<style scoped>\n",
       "    .dataframe tbody tr th:only-of-type {\n",
       "        vertical-align: middle;\n",
       "    }\n",
       "\n",
       "    .dataframe tbody tr th {\n",
       "        vertical-align: top;\n",
       "    }\n",
       "\n",
       "    .dataframe thead th {\n",
       "        text-align: right;\n",
       "    }\n",
       "</style>\n",
       "<table border=\"1\" class=\"dataframe\">\n",
       "  <thead>\n",
       "    <tr style=\"text-align: right;\">\n",
       "      <th></th>\n",
       "      <th>gameId</th>\n",
       "      <th>playId</th>\n",
       "      <th>preSnapHomeScore</th>\n",
       "      <th>preSnapVisitorScore</th>\n",
       "    </tr>\n",
       "  </thead>\n",
       "  <tbody>\n",
       "    <tr>\n",
       "      <th>3735</th>\n",
       "      <td>2022110610</td>\n",
       "      <td>4581</td>\n",
       "      <td>20</td>\n",
       "      <td>17</td>\n",
       "    </tr>\n",
       "    <tr>\n",
       "      <th>7675</th>\n",
       "      <td>2022100600</td>\n",
       "      <td>4661</td>\n",
       "      <td>9</td>\n",
       "      <td>12</td>\n",
       "    </tr>\n",
       "    <tr>\n",
       "      <th>7977</th>\n",
       "      <td>2022100600</td>\n",
       "      <td>4608</td>\n",
       "      <td>9</td>\n",
       "      <td>12</td>\n",
       "    </tr>\n",
       "    <tr>\n",
       "      <th>14615</th>\n",
       "      <td>2022100600</td>\n",
       "      <td>4637</td>\n",
       "      <td>9</td>\n",
       "      <td>12</td>\n",
       "    </tr>\n",
       "  </tbody>\n",
       "</table>\n",
       "</div>"
      ],
      "text/plain": [
       "           gameId  playId  preSnapHomeScore  preSnapVisitorScore\n",
       "3735   2022110610    4581                20                   17\n",
       "7675   2022100600    4661                 9                   12\n",
       "7977   2022100600    4608                 9                   12\n",
       "14615  2022100600    4637                 9                   12"
      ]
     },
     "execution_count": 15,
     "metadata": {},
     "output_type": "execute_result"
    }
   ],
   "source": [
    "plays.query('quarter==5 and down==1 and preSnapHomeScore != preSnapVisitorScore')[['gameId', 'playId', 'preSnapHomeScore', 'preSnapVisitorScore']]\n"
   ]
  },
  {
   "cell_type": "code",
   "execution_count": 16,
   "id": "6566d1d4",
   "metadata": {},
   "outputs": [
    {
     "data": {
      "text/html": [
       "<div>\n",
       "<style scoped>\n",
       "    .dataframe tbody tr th:only-of-type {\n",
       "        vertical-align: middle;\n",
       "    }\n",
       "\n",
       "    .dataframe tbody tr th {\n",
       "        vertical-align: top;\n",
       "    }\n",
       "\n",
       "    .dataframe thead th {\n",
       "        text-align: right;\n",
       "    }\n",
       "</style>\n",
       "<table border=\"1\" class=\"dataframe\">\n",
       "  <thead>\n",
       "    <tr style=\"text-align: right;\">\n",
       "      <th></th>\n",
       "      <th>playId</th>\n",
       "      <th>quarter</th>\n",
       "      <th>down</th>\n",
       "      <th>preSnapHomeScore</th>\n",
       "      <th>preSnapVisitorScore</th>\n",
       "    </tr>\n",
       "  </thead>\n",
       "  <tbody>\n",
       "    <tr>\n",
       "      <th>4010</th>\n",
       "      <td>64</td>\n",
       "      <td>1</td>\n",
       "      <td>1</td>\n",
       "      <td>0</td>\n",
       "      <td>0</td>\n",
       "    </tr>\n",
       "    <tr>\n",
       "      <th>13610</th>\n",
       "      <td>88</td>\n",
       "      <td>1</td>\n",
       "      <td>2</td>\n",
       "      <td>0</td>\n",
       "      <td>0</td>\n",
       "    </tr>\n",
       "    <tr>\n",
       "      <th>4118</th>\n",
       "      <td>112</td>\n",
       "      <td>1</td>\n",
       "      <td>1</td>\n",
       "      <td>0</td>\n",
       "      <td>0</td>\n",
       "    </tr>\n",
       "    <tr>\n",
       "      <th>8312</th>\n",
       "      <td>141</td>\n",
       "      <td>1</td>\n",
       "      <td>2</td>\n",
       "      <td>0</td>\n",
       "      <td>0</td>\n",
       "    </tr>\n",
       "    <tr>\n",
       "      <th>8713</th>\n",
       "      <td>170</td>\n",
       "      <td>1</td>\n",
       "      <td>1</td>\n",
       "      <td>0</td>\n",
       "      <td>0</td>\n",
       "    </tr>\n",
       "    <tr>\n",
       "      <th>...</th>\n",
       "      <td>...</td>\n",
       "      <td>...</td>\n",
       "      <td>...</td>\n",
       "      <td>...</td>\n",
       "      <td>...</td>\n",
       "    </tr>\n",
       "    <tr>\n",
       "      <th>13574</th>\n",
       "      <td>4525</td>\n",
       "      <td>5</td>\n",
       "      <td>3</td>\n",
       "      <td>17</td>\n",
       "      <td>17</td>\n",
       "    </tr>\n",
       "    <tr>\n",
       "      <th>3735</th>\n",
       "      <td>4581</td>\n",
       "      <td>5</td>\n",
       "      <td>1</td>\n",
       "      <td>20</td>\n",
       "      <td>17</td>\n",
       "    </tr>\n",
       "    <tr>\n",
       "      <th>14476</th>\n",
       "      <td>4602</td>\n",
       "      <td>5</td>\n",
       "      <td>2</td>\n",
       "      <td>20</td>\n",
       "      <td>17</td>\n",
       "    </tr>\n",
       "    <tr>\n",
       "      <th>2197</th>\n",
       "      <td>4621</td>\n",
       "      <td>5</td>\n",
       "      <td>3</td>\n",
       "      <td>20</td>\n",
       "      <td>17</td>\n",
       "    </tr>\n",
       "    <tr>\n",
       "      <th>6406</th>\n",
       "      <td>4640</td>\n",
       "      <td>5</td>\n",
       "      <td>4</td>\n",
       "      <td>20</td>\n",
       "      <td>17</td>\n",
       "    </tr>\n",
       "  </tbody>\n",
       "</table>\n",
       "<p>137 rows × 5 columns</p>\n",
       "</div>"
      ],
      "text/plain": [
       "       playId  quarter  down  preSnapHomeScore  preSnapVisitorScore\n",
       "4010       64        1     1                 0                    0\n",
       "13610      88        1     2                 0                    0\n",
       "4118      112        1     1                 0                    0\n",
       "8312      141        1     2                 0                    0\n",
       "8713      170        1     1                 0                    0\n",
       "...       ...      ...   ...               ...                  ...\n",
       "13574    4525        5     3                17                   17\n",
       "3735     4581        5     1                20                   17\n",
       "14476    4602        5     2                20                   17\n",
       "2197     4621        5     3                20                   17\n",
       "6406     4640        5     4                20                   17\n",
       "\n",
       "[137 rows x 5 columns]"
      ]
     },
     "execution_count": 16,
     "metadata": {},
     "output_type": "execute_result"
    }
   ],
   "source": [
    "plays.query('gameId==2022110610').sort_values(by='playId')[['playId', 'quarter', 'down', 'preSnapHomeScore', 'preSnapVisitorScore']]\n"
   ]
  },
  {
   "cell_type": "markdown",
   "id": "7b886469",
   "metadata": {},
   "source": [
    "📌 Since each team has one down per quarter, sorting by plays, quarters, and downs is not suitable. We sort by game time instead."
   ]
  },
  {
   "cell_type": "code",
   "execution_count": 17,
   "id": "92162401",
   "metadata": {
    "scrolled": true
   },
   "outputs": [
    {
     "data": {
      "text/html": [
       "<div>\n",
       "<style scoped>\n",
       "    .dataframe tbody tr th:only-of-type {\n",
       "        vertical-align: middle;\n",
       "    }\n",
       "\n",
       "    .dataframe tbody tr th {\n",
       "        vertical-align: top;\n",
       "    }\n",
       "\n",
       "    .dataframe thead th {\n",
       "        text-align: right;\n",
       "    }\n",
       "</style>\n",
       "<table border=\"1\" class=\"dataframe\">\n",
       "  <thead>\n",
       "    <tr style=\"text-align: right;\">\n",
       "      <th></th>\n",
       "      <th>gameClock</th>\n",
       "      <th>playId</th>\n",
       "      <th>quarter</th>\n",
       "      <th>down</th>\n",
       "      <th>preSnapHomeScore</th>\n",
       "      <th>preSnapVisitorScore</th>\n",
       "      <th>possessionTeam</th>\n",
       "      <th>defensiveTeam</th>\n",
       "    </tr>\n",
       "  </thead>\n",
       "  <tbody>\n",
       "    <tr>\n",
       "      <th>14898</th>\n",
       "      <td>09:47</td>\n",
       "      <td>4255</td>\n",
       "      <td>5</td>\n",
       "      <td>1</td>\n",
       "      <td>17</td>\n",
       "      <td>17</td>\n",
       "      <td>KC</td>\n",
       "      <td>TEN</td>\n",
       "    </tr>\n",
       "    <tr>\n",
       "      <th>15120</th>\n",
       "      <td>09:08</td>\n",
       "      <td>4279</td>\n",
       "      <td>5</td>\n",
       "      <td>2</td>\n",
       "      <td>17</td>\n",
       "      <td>17</td>\n",
       "      <td>KC</td>\n",
       "      <td>TEN</td>\n",
       "    </tr>\n",
       "    <tr>\n",
       "      <th>1139</th>\n",
       "      <td>08:27</td>\n",
       "      <td>4303</td>\n",
       "      <td>5</td>\n",
       "      <td>1</td>\n",
       "      <td>17</td>\n",
       "      <td>17</td>\n",
       "      <td>KC</td>\n",
       "      <td>TEN</td>\n",
       "    </tr>\n",
       "    <tr>\n",
       "      <th>8380</th>\n",
       "      <td>07:49</td>\n",
       "      <td>4324</td>\n",
       "      <td>5</td>\n",
       "      <td>2</td>\n",
       "      <td>17</td>\n",
       "      <td>17</td>\n",
       "      <td>KC</td>\n",
       "      <td>TEN</td>\n",
       "    </tr>\n",
       "    <tr>\n",
       "      <th>6273</th>\n",
       "      <td>07:04</td>\n",
       "      <td>4348</td>\n",
       "      <td>5</td>\n",
       "      <td>3</td>\n",
       "      <td>17</td>\n",
       "      <td>17</td>\n",
       "      <td>KC</td>\n",
       "      <td>TEN</td>\n",
       "    </tr>\n",
       "    <tr>\n",
       "      <th>5834</th>\n",
       "      <td>06:32</td>\n",
       "      <td>4383</td>\n",
       "      <td>5</td>\n",
       "      <td>1</td>\n",
       "      <td>17</td>\n",
       "      <td>17</td>\n",
       "      <td>KC</td>\n",
       "      <td>TEN</td>\n",
       "    </tr>\n",
       "    <tr>\n",
       "      <th>1363</th>\n",
       "      <td>05:53</td>\n",
       "      <td>4407</td>\n",
       "      <td>5</td>\n",
       "      <td>2</td>\n",
       "      <td>17</td>\n",
       "      <td>17</td>\n",
       "      <td>KC</td>\n",
       "      <td>TEN</td>\n",
       "    </tr>\n",
       "    <tr>\n",
       "      <th>15136</th>\n",
       "      <td>05:17</td>\n",
       "      <td>4428</td>\n",
       "      <td>5</td>\n",
       "      <td>3</td>\n",
       "      <td>17</td>\n",
       "      <td>17</td>\n",
       "      <td>KC</td>\n",
       "      <td>TEN</td>\n",
       "    </tr>\n",
       "    <tr>\n",
       "      <th>7777</th>\n",
       "      <td>05:13</td>\n",
       "      <td>4450</td>\n",
       "      <td>5</td>\n",
       "      <td>4</td>\n",
       "      <td>17</td>\n",
       "      <td>17</td>\n",
       "      <td>KC</td>\n",
       "      <td>TEN</td>\n",
       "    </tr>\n",
       "    <tr>\n",
       "      <th>11371</th>\n",
       "      <td>04:27</td>\n",
       "      <td>4481</td>\n",
       "      <td>5</td>\n",
       "      <td>1</td>\n",
       "      <td>17</td>\n",
       "      <td>17</td>\n",
       "      <td>KC</td>\n",
       "      <td>TEN</td>\n",
       "    </tr>\n",
       "    <tr>\n",
       "      <th>11111</th>\n",
       "      <td>04:21</td>\n",
       "      <td>4503</td>\n",
       "      <td>5</td>\n",
       "      <td>2</td>\n",
       "      <td>17</td>\n",
       "      <td>17</td>\n",
       "      <td>KC</td>\n",
       "      <td>TEN</td>\n",
       "    </tr>\n",
       "    <tr>\n",
       "      <th>13574</th>\n",
       "      <td>04:16</td>\n",
       "      <td>4525</td>\n",
       "      <td>5</td>\n",
       "      <td>3</td>\n",
       "      <td>17</td>\n",
       "      <td>17</td>\n",
       "      <td>KC</td>\n",
       "      <td>TEN</td>\n",
       "    </tr>\n",
       "    <tr>\n",
       "      <th>3735</th>\n",
       "      <td>04:04</td>\n",
       "      <td>4581</td>\n",
       "      <td>5</td>\n",
       "      <td>1</td>\n",
       "      <td>20</td>\n",
       "      <td>17</td>\n",
       "      <td>TEN</td>\n",
       "      <td>KC</td>\n",
       "    </tr>\n",
       "    <tr>\n",
       "      <th>14476</th>\n",
       "      <td>03:26</td>\n",
       "      <td>4602</td>\n",
       "      <td>5</td>\n",
       "      <td>2</td>\n",
       "      <td>20</td>\n",
       "      <td>17</td>\n",
       "      <td>TEN</td>\n",
       "      <td>KC</td>\n",
       "    </tr>\n",
       "    <tr>\n",
       "      <th>2197</th>\n",
       "      <td>02:39</td>\n",
       "      <td>4621</td>\n",
       "      <td>5</td>\n",
       "      <td>3</td>\n",
       "      <td>20</td>\n",
       "      <td>17</td>\n",
       "      <td>TEN</td>\n",
       "      <td>KC</td>\n",
       "    </tr>\n",
       "    <tr>\n",
       "      <th>6406</th>\n",
       "      <td>02:13</td>\n",
       "      <td>4640</td>\n",
       "      <td>5</td>\n",
       "      <td>4</td>\n",
       "      <td>20</td>\n",
       "      <td>17</td>\n",
       "      <td>TEN</td>\n",
       "      <td>KC</td>\n",
       "    </tr>\n",
       "  </tbody>\n",
       "</table>\n",
       "</div>"
      ],
      "text/plain": [
       "      gameClock  playId  quarter  down  preSnapHomeScore  preSnapVisitorScore  \\\n",
       "14898     09:47    4255        5     1                17                   17   \n",
       "15120     09:08    4279        5     2                17                   17   \n",
       "1139      08:27    4303        5     1                17                   17   \n",
       "8380      07:49    4324        5     2                17                   17   \n",
       "6273      07:04    4348        5     3                17                   17   \n",
       "5834      06:32    4383        5     1                17                   17   \n",
       "1363      05:53    4407        5     2                17                   17   \n",
       "15136     05:17    4428        5     3                17                   17   \n",
       "7777      05:13    4450        5     4                17                   17   \n",
       "11371     04:27    4481        5     1                17                   17   \n",
       "11111     04:21    4503        5     2                17                   17   \n",
       "13574     04:16    4525        5     3                17                   17   \n",
       "3735      04:04    4581        5     1                20                   17   \n",
       "14476     03:26    4602        5     2                20                   17   \n",
       "2197      02:39    4621        5     3                20                   17   \n",
       "6406      02:13    4640        5     4                20                   17   \n",
       "\n",
       "      possessionTeam defensiveTeam  \n",
       "14898             KC           TEN  \n",
       "15120             KC           TEN  \n",
       "1139              KC           TEN  \n",
       "8380              KC           TEN  \n",
       "6273              KC           TEN  \n",
       "5834              KC           TEN  \n",
       "1363              KC           TEN  \n",
       "15136             KC           TEN  \n",
       "7777              KC           TEN  \n",
       "11371             KC           TEN  \n",
       "11111             KC           TEN  \n",
       "13574             KC           TEN  \n",
       "3735             TEN            KC  \n",
       "14476            TEN            KC  \n",
       "2197             TEN            KC  \n",
       "6406             TEN            KC  "
      ]
     },
     "execution_count": 17,
     "metadata": {},
     "output_type": "execute_result"
    }
   ],
   "source": [
    "plays.query('gameId==2022110610').query('quarter==5').sort_values(by='gameClock', ascending=False)[['gameClock', 'playId', 'quarter', 'down', \n",
    "                                                                                   'preSnapHomeScore', 'preSnapVisitorScore',\n",
    "                                                                                  'possessionTeam', 'defensiveTeam']]"
   ]
  },
  {
   "cell_type": "markdown",
   "id": "7ead71b3",
   "metadata": {},
   "source": [
    "An increase in preSnapHomeScore from 17 to 20 indicates that the home team (KC) scored 3 points. This is most likely the result of a successfully executed field goal.\n",
    "\n",
    "In the initial plays where Kansas City had possession, the team was simply gaining 10 yards every two plays and steadily advancing down the field."
   ]
  },
  {
   "cell_type": "markdown",
   "id": "e8ff8e16",
   "metadata": {},
   "source": [
    "✅ ok"
   ]
  },
  {
   "cell_type": "markdown",
   "id": "9ec9423b",
   "metadata": {},
   "source": [
    "## `yardsGained` ✅"
   ]
  },
  {
   "cell_type": "code",
   "execution_count": 18,
   "id": "800ebfff",
   "metadata": {},
   "outputs": [],
   "source": [
    "# plays['yardsGained'].hist(bins=100)\n",
    "# plt.xlim([-25, 25])"
   ]
  },
  {
   "cell_type": "code",
   "execution_count": 19,
   "id": "6036e074",
   "metadata": {},
   "outputs": [],
   "source": [
    "# plays['yardsGained'].describe()"
   ]
  },
  {
   "cell_type": "code",
   "execution_count": 20,
   "id": "23ec8690",
   "metadata": {
    "scrolled": false
   },
   "outputs": [],
   "source": [
    "# plays.loc[9499]"
   ]
  },
  {
   "cell_type": "markdown",
   "id": "acfc7a7f",
   "metadata": {},
   "source": [
    "If Buffalo is attacking from their 2-yard line, how can their absoluteYardlineNumber be 108 instead of 12?\n",
    "\n",
    "Should we replace absoluteYardlineNumber with 12?"
   ]
  },
  {
   "cell_type": "markdown",
   "id": "df149da3",
   "metadata": {},
   "source": [
    "# Where the play started\n",
    "\n",
    "## `absoluteYardlineNumber` , `yardlineNumber`"
   ]
  },
  {
   "cell_type": "code",
   "execution_count": 21,
   "id": "b4bf7a9e",
   "metadata": {},
   "outputs": [],
   "source": [
    "# plays['absoluteYardlineNumber'].describe()"
   ]
  },
  {
   "cell_type": "code",
   "execution_count": 22,
   "id": "b9fecbe4",
   "metadata": {},
   "outputs": [],
   "source": [
    "# plays.query('absoluteYardlineNumber==109')['yardlineNumber'].unique() # ok"
   ]
  },
  {
   "cell_type": "code",
   "execution_count": 23,
   "id": "5d0eb677",
   "metadata": {},
   "outputs": [],
   "source": [
    "# (plays['absoluteYardlineNumber'] + plays['yardlineNumber']).max() # ok"
   ]
  },
  {
   "cell_type": "code",
   "execution_count": 24,
   "id": "2eacd3d1",
   "metadata": {},
   "outputs": [],
   "source": [
    "# plays.query('yardlineNumber==50')['absoluteYardlineNumber'].unique() # ok"
   ]
  },
  {
   "cell_type": "code",
   "execution_count": 25,
   "id": "de5bf861",
   "metadata": {},
   "outputs": [
    {
     "data": {
      "text/plain": [
       "gameId                                                                                     2022100901\n",
       "playId                                                                                             96\n",
       "playDescription            (14:49) D.Singletary right guard to BUF 2 for no gain (M.Jack, C.Heyward).\n",
       "quarter                                                                                             1\n",
       "down                                                                                                2\n",
       "yardsToGo                                                                                          10\n",
       "possessionTeam                                                                                    BUF\n",
       "defensiveTeam                                                                                     PIT\n",
       "yardlineSide                                                                                      BUF\n",
       "yardlineNumber                                                                                      2\n",
       "gameClock                                                                                       14:49\n",
       "preSnapHomeScore                                                                                    0\n",
       "preSnapVisitorScore                                                                                 0\n",
       "absoluteYardlineNumber                                                                            108\n",
       "offenseFormation                                                                           SINGLEBACK\n",
       "receiverAlignment                                                                                 2x2\n",
       "playClockAtSnap                                                                                  10.0\n",
       "passResult                                                                                        NaN\n",
       "passLength                                                                                        NaN\n",
       "targetX                                                                                           NaN\n",
       "targetY                                                                                           NaN\n",
       "playAction                                                                                          0\n",
       "dropbackType                                                                                      NaN\n",
       "dropbackDistance                                                                                  NaN\n",
       "passLocationType                                                                                  NaN\n",
       "timeToThrow                                                                                       NaN\n",
       "timeInTackleBox                                                                                   NaN\n",
       "timeToSack                                                                                        NaN\n",
       "passTippedAtLine                                                                                  NaN\n",
       "unblockedPressure                                                                                 NaN\n",
       "qbSpike                                                                                           NaN\n",
       "qbKneel                                                                                             0\n",
       "qbSneak                                                                                         False\n",
       "rushLocationType                                                                          INSIDE_LEFT\n",
       "penaltyYards                                                                                      NaN\n",
       "prePenaltyYardsGained                                                                             0.0\n",
       "yardsGained                                                                                         0\n",
       "isDropback                                                                                          0\n",
       "pff_runConceptPrimary                                                                    OUTSIDE ZONE\n",
       "pff_runConceptSecondary                                                                           NaN\n",
       "pff_runPassOption                                                                                   0\n",
       "pff_passCoverage                                                                              Cover-3\n",
       "pff_manZone                                                                                      Zone\n",
       "Name: 2027, dtype: object"
      ]
     },
     "execution_count": 25,
     "metadata": {},
     "output_type": "execute_result"
    }
   ],
   "source": [
    "# plays.query('absoluteYardlineNumber>100').loc[23]\n",
    "\n",
    "plays.query('absoluteYardlineNumber==108 and yardlineNumber==2 and possessionTeam==\"BUF\"').loc[2027]"
   ]
  },
  {
   "cell_type": "code",
   "execution_count": 26,
   "id": "836dcb00",
   "metadata": {},
   "outputs": [
    {
     "data": {
      "text/plain": [
       "array([nan, 'MAN', 'INSIDE ZONE', 'UNDEFINED', 'PULL LEAD',\n",
       "       'OUTSIDE ZONE', 'TRAP', 'SNEAK', 'POWER', 'COUNTER', 'DRAW',\n",
       "       'TRICK', 'FB RUN'], dtype=object)"
      ]
     },
     "execution_count": 26,
     "metadata": {},
     "output_type": "execute_result"
    }
   ],
   "source": [
    "plays.pff_runConceptPrimary.unique()"
   ]
  },
  {
   "cell_type": "code",
   "execution_count": 27,
   "id": "ffadf728",
   "metadata": {},
   "outputs": [],
   "source": [
    "# plays[['possessionTeam', 'yardlineSide', 'absoluteYardlineNumber', 'yardlineNumber']].sample(50)"
   ]
  },
  {
   "cell_type": "code",
   "execution_count": 28,
   "id": "20580405",
   "metadata": {},
   "outputs": [],
   "source": [
    "def check_and_correct_yardline_data(data):\n",
    "\n",
    "    counter = 0\n",
    "    possession_team = data['possessionTeam']\n",
    "    yardline_side = data['yardlineSide']  # чья сторона поля \n",
    "    absolute_yardline_number = data['absoluteYardlineNumber']\n",
    "    yardline_number = data['yardlineNumber']\n",
    "    \n",
    "        \n",
    "    if ((absolute_yardline_number < 0 ) or (absolute_yardline_number > 110)):\n",
    "        raise ValueError(\"err\")\n",
    "\n",
    "    if possession_team == yardline_side:\n",
    "        \n",
    "        calculated_absolute_yardline = yardline_number + 10  \n",
    "    else:\n",
    "        calculated_absolute_yardline = 100 - yardline_number + 10\n",
    "    \n",
    "    if absolute_yardline_number != calculated_absolute_yardline:\n",
    "        return True\n",
    "    \n",
    "    return False\n"
   ]
  },
  {
   "cell_type": "code",
   "execution_count": 29,
   "id": "83ec6b1c",
   "metadata": {},
   "outputs": [
    {
     "data": {
      "text/plain": [
       "7902"
      ]
     },
     "execution_count": 29,
     "metadata": {},
     "output_type": "execute_result"
    }
   ],
   "source": [
    "plays.apply(check_and_correct_yardline_data, axis=1).sum()"
   ]
  },
  {
   "cell_type": "markdown",
   "id": "b99c00c8",
   "metadata": {},
   "source": [
    "# 💊\n",
    "We will introduce a new column that indicates the distance from the team's own end zone. The values will range from 0 to 100, making them easier to interpret. The absoluteYardlineNumber column will be removed!\n"
   ]
  },
  {
   "cell_type": "code",
   "execution_count": 30,
   "id": "4e35ed7e",
   "metadata": {},
   "outputs": [],
   "source": [
    "def distance_from_own_endzone(row):\n",
    "    if row['possessionTeam'] == row['yardlineSide']:\n",
    "        return row['yardlineNumber']\n",
    "    else:\n",
    "        return 100 - row['yardlineNumber']\n",
    "\n",
    "plays['distanceFromOwnEndZone'] = plays.apply(distance_from_own_endzone, axis=1)"
   ]
  },
  {
   "cell_type": "code",
   "execution_count": 31,
   "id": "cccb3c41",
   "metadata": {},
   "outputs": [
    {
     "data": {
      "text/plain": [
       "count    16124.000000\n",
       "mean        48.921670\n",
       "std         24.305607\n",
       "min          1.000000\n",
       "25%         28.000000\n",
       "50%         45.000000\n",
       "75%         68.000000\n",
       "max         99.000000\n",
       "Name: distanceFromOwnEndZone, dtype: float64"
      ]
     },
     "execution_count": 31,
     "metadata": {},
     "output_type": "execute_result"
    }
   ],
   "source": [
    "plays['distanceFromOwnEndZone'].describe()"
   ]
  },
  {
   "cell_type": "code",
   "execution_count": 32,
   "id": "77758f9e",
   "metadata": {},
   "outputs": [
    {
     "data": {
      "text/html": [
       "<div>\n",
       "<style scoped>\n",
       "    .dataframe tbody tr th:only-of-type {\n",
       "        vertical-align: middle;\n",
       "    }\n",
       "\n",
       "    .dataframe tbody tr th {\n",
       "        vertical-align: top;\n",
       "    }\n",
       "\n",
       "    .dataframe thead th {\n",
       "        text-align: right;\n",
       "    }\n",
       "</style>\n",
       "<table border=\"1\" class=\"dataframe\">\n",
       "  <thead>\n",
       "    <tr style=\"text-align: right;\">\n",
       "      <th></th>\n",
       "      <th>playDescription</th>\n",
       "      <th>pff_manZone</th>\n",
       "      <th>possessionTeam</th>\n",
       "      <th>yardlineSide</th>\n",
       "      <th>yardlineNumber</th>\n",
       "      <th>down</th>\n",
       "      <th>yardsGained</th>\n",
       "    </tr>\n",
       "  </thead>\n",
       "  <tbody>\n",
       "    <tr>\n",
       "      <th>1313</th>\n",
       "      <td>(8:07) A.Dillon up the middle to GB 5 for 4 yards (M.Adams; N.Morrow).</td>\n",
       "      <td>Man</td>\n",
       "      <td>GB</td>\n",
       "      <td>GB</td>\n",
       "      <td>1</td>\n",
       "      <td>1</td>\n",
       "      <td>4</td>\n",
       "    </tr>\n",
       "    <tr>\n",
       "      <th>1822</th>\n",
       "      <td>(:17) (Shotgun) J.Winston pass deep right intended for C.Olave INTERCEPTED by J.Horn at 50. J.Ho...</td>\n",
       "      <td>Zone</td>\n",
       "      <td>NO</td>\n",
       "      <td>NO</td>\n",
       "      <td>1</td>\n",
       "      <td>1</td>\n",
       "      <td>0</td>\n",
       "    </tr>\n",
       "    <tr>\n",
       "      <th>1872</th>\n",
       "      <td>(12:38) J.Herbert pass incomplete short right to T.McKitty.</td>\n",
       "      <td>Zone</td>\n",
       "      <td>LAC</td>\n",
       "      <td>LAC</td>\n",
       "      <td>1</td>\n",
       "      <td>2</td>\n",
       "      <td>0</td>\n",
       "    </tr>\n",
       "    <tr>\n",
       "      <th>1886</th>\n",
       "      <td>(6:55) (Shotgun) C.Edwards-Helaire up the middle to KC 1 for no gain (G.Stewart).</td>\n",
       "      <td>Zone</td>\n",
       "      <td>KC</td>\n",
       "      <td>KC</td>\n",
       "      <td>1</td>\n",
       "      <td>1</td>\n",
       "      <td>0</td>\n",
       "    </tr>\n",
       "    <tr>\n",
       "      <th>2139</th>\n",
       "      <td>(1:18) (Shotgun) J.Allen pass deep middle to G.Davis to BUF 19 for 18 yards (J.Williams).</td>\n",
       "      <td>Zone</td>\n",
       "      <td>BUF</td>\n",
       "      <td>BUF</td>\n",
       "      <td>1</td>\n",
       "      <td>3</td>\n",
       "      <td>18</td>\n",
       "    </tr>\n",
       "    <tr>\n",
       "      <th>2381</th>\n",
       "      <td>(1:43) T.Tagovailoa up the middle to MIA 1 for no gain (D.Jones; T.Edmunds).</td>\n",
       "      <td>Zone</td>\n",
       "      <td>MIA</td>\n",
       "      <td>MIA</td>\n",
       "      <td>1</td>\n",
       "      <td>2</td>\n",
       "      <td>0</td>\n",
       "    </tr>\n",
       "    <tr>\n",
       "      <th>2534</th>\n",
       "      <td>(4:46) (Shotgun) M.Ryan pass deep right to A.Pierce to IND 31 for 30 yards (Ja.Watson).</td>\n",
       "      <td>Zone</td>\n",
       "      <td>IND</td>\n",
       "      <td>IND</td>\n",
       "      <td>1</td>\n",
       "      <td>1</td>\n",
       "      <td>30</td>\n",
       "    </tr>\n",
       "    <tr>\n",
       "      <th>2690</th>\n",
       "      <td>(7:58) D.Cook right guard to MIN 5 for 4 yards (D.Campbell; Q.Walker).</td>\n",
       "      <td>Zone</td>\n",
       "      <td>MIN</td>\n",
       "      <td>MIN</td>\n",
       "      <td>1</td>\n",
       "      <td>1</td>\n",
       "      <td>4</td>\n",
       "    </tr>\n",
       "    <tr>\n",
       "      <th>3118</th>\n",
       "      <td>(11:18) B.Robinson left guard to WAS 2 for 1 yard (R.Smith).</td>\n",
       "      <td>Zone</td>\n",
       "      <td>WAS</td>\n",
       "      <td>WAS</td>\n",
       "      <td>1</td>\n",
       "      <td>1</td>\n",
       "      <td>1</td>\n",
       "    </tr>\n",
       "    <tr>\n",
       "      <th>4956</th>\n",
       "      <td>(1:47) (Shotgun) Direct snap to N.Harris.  N.Harris up the middle to PIT 4 for 3 yards (J.Hargra...</td>\n",
       "      <td>Zone</td>\n",
       "      <td>PIT</td>\n",
       "      <td>PIT</td>\n",
       "      <td>1</td>\n",
       "      <td>1</td>\n",
       "      <td>3</td>\n",
       "    </tr>\n",
       "    <tr>\n",
       "      <th>5339</th>\n",
       "      <td>(:06) R.Tannehill up the middle to TEN 3 for 2 yards.</td>\n",
       "      <td>NaN</td>\n",
       "      <td>TEN</td>\n",
       "      <td>TEN</td>\n",
       "      <td>1</td>\n",
       "      <td>1</td>\n",
       "      <td>2</td>\n",
       "    </tr>\n",
       "    <tr>\n",
       "      <th>5423</th>\n",
       "      <td>(9:42) B.Rypien pass short left to G.Dulcich to DEN 10 for 9 yards (K.Alexander).</td>\n",
       "      <td>Zone</td>\n",
       "      <td>DEN</td>\n",
       "      <td>DEN</td>\n",
       "      <td>1</td>\n",
       "      <td>1</td>\n",
       "      <td>9</td>\n",
       "    </tr>\n",
       "    <tr>\n",
       "      <th>6651</th>\n",
       "      <td>(9:57) (Shotgun) A.Dillon right tackle to GB 6 for 5 yards (J.Jacobs, M.Rodriguez).</td>\n",
       "      <td>Zone</td>\n",
       "      <td>GB</td>\n",
       "      <td>GB</td>\n",
       "      <td>1</td>\n",
       "      <td>2</td>\n",
       "      <td>5</td>\n",
       "    </tr>\n",
       "    <tr>\n",
       "      <th>8084</th>\n",
       "      <td>(10:42) (Shotgun) J.Garoppolo pass short right to G.Kittle pushed ob at SF 10 for 9 yards (R.Eva...</td>\n",
       "      <td>Zone</td>\n",
       "      <td>SF</td>\n",
       "      <td>SF</td>\n",
       "      <td>1</td>\n",
       "      <td>1</td>\n",
       "      <td>9</td>\n",
       "    </tr>\n",
       "    <tr>\n",
       "      <th>8225</th>\n",
       "      <td>(6:16) D.Mills left guard to HST 2 for 1 yard (G.Stewart).</td>\n",
       "      <td>Zone</td>\n",
       "      <td>HOU</td>\n",
       "      <td>HOU</td>\n",
       "      <td>1</td>\n",
       "      <td>1</td>\n",
       "      <td>1</td>\n",
       "    </tr>\n",
       "    <tr>\n",
       "      <th>8313</th>\n",
       "      <td>(6:16) (Shotgun) P.Mahomes pass short left to C.Edwards-Helaire to KC 4 for 3 yards (B.Okereke).</td>\n",
       "      <td>Zone</td>\n",
       "      <td>KC</td>\n",
       "      <td>KC</td>\n",
       "      <td>1</td>\n",
       "      <td>2</td>\n",
       "      <td>3</td>\n",
       "    </tr>\n",
       "    <tr>\n",
       "      <th>8477</th>\n",
       "      <td>(14:46) M.Gordon up the middle to DEN 1 for no gain (A.Billings; J.Hankins).</td>\n",
       "      <td>Zone</td>\n",
       "      <td>DEN</td>\n",
       "      <td>DEN</td>\n",
       "      <td>1</td>\n",
       "      <td>1</td>\n",
       "      <td>0</td>\n",
       "    </tr>\n",
       "    <tr>\n",
       "      <th>9129</th>\n",
       "      <td>(1:40) T.Tagovailoa pass incomplete short right to R.Mostert.</td>\n",
       "      <td>Man</td>\n",
       "      <td>MIA</td>\n",
       "      <td>MIA</td>\n",
       "      <td>1</td>\n",
       "      <td>3</td>\n",
       "      <td>0</td>\n",
       "    </tr>\n",
       "    <tr>\n",
       "      <th>10558</th>\n",
       "      <td>(12:33) (Shotgun) J.Herbert pass short left to A.Ekeler to LAC 11 for 10 yards (D.Harmon, J.Abram).</td>\n",
       "      <td>Zone</td>\n",
       "      <td>LAC</td>\n",
       "      <td>LAC</td>\n",
       "      <td>1</td>\n",
       "      <td>3</td>\n",
       "      <td>10</td>\n",
       "    </tr>\n",
       "    <tr>\n",
       "      <th>11217</th>\n",
       "      <td>(:34) (Shotgun) Z.Moss left tackle to BUF 8 for 7 yards (C.Sutton).</td>\n",
       "      <td>Zone</td>\n",
       "      <td>BUF</td>\n",
       "      <td>BUF</td>\n",
       "      <td>1</td>\n",
       "      <td>1</td>\n",
       "      <td>7</td>\n",
       "    </tr>\n",
       "    <tr>\n",
       "      <th>12325</th>\n",
       "      <td>(12:21) D.Prescott pass short right to T.Pollard pushed ob at DAL 20 for 19 yards (K.Joseph).</td>\n",
       "      <td>Zone</td>\n",
       "      <td>DAL</td>\n",
       "      <td>DAL</td>\n",
       "      <td>1</td>\n",
       "      <td>1</td>\n",
       "      <td>19</td>\n",
       "    </tr>\n",
       "    <tr>\n",
       "      <th>13205</th>\n",
       "      <td>(14:01) (Shotgun) R.Wilson pass short right to R.Wilson to DEN 2 for 1 yard (K.Vickers).</td>\n",
       "      <td>Zone</td>\n",
       "      <td>DEN</td>\n",
       "      <td>DEN</td>\n",
       "      <td>1</td>\n",
       "      <td>2</td>\n",
       "      <td>1</td>\n",
       "    </tr>\n",
       "    <tr>\n",
       "      <th>13507</th>\n",
       "      <td>(9:17) J.Williams up the middle to DEN 8 for 7 yards (H.Ridgeway; A.Al-Shaair).</td>\n",
       "      <td>Zone</td>\n",
       "      <td>DEN</td>\n",
       "      <td>DEN</td>\n",
       "      <td>1</td>\n",
       "      <td>1</td>\n",
       "      <td>7</td>\n",
       "    </tr>\n",
       "    <tr>\n",
       "      <th>13513</th>\n",
       "      <td>(:30) C.Wentz up the middle to WAS 1 for no gain (R.Smith).</td>\n",
       "      <td>Other</td>\n",
       "      <td>WAS</td>\n",
       "      <td>WAS</td>\n",
       "      <td>1</td>\n",
       "      <td>1</td>\n",
       "      <td>0</td>\n",
       "    </tr>\n",
       "    <tr>\n",
       "      <th>14364</th>\n",
       "      <td>(11:51) Z.Horvath left guard to LAC 4 for 3 yards (J.Phillips, D.Ward).</td>\n",
       "      <td>Zone</td>\n",
       "      <td>LAC</td>\n",
       "      <td>LAC</td>\n",
       "      <td>1</td>\n",
       "      <td>1</td>\n",
       "      <td>3</td>\n",
       "    </tr>\n",
       "    <tr>\n",
       "      <th>15273</th>\n",
       "      <td>(14:10) B.Scott up the middle tackled in End Zone for -1 yards, SAFETY (D.Payne).</td>\n",
       "      <td>Zone</td>\n",
       "      <td>PHI</td>\n",
       "      <td>PHI</td>\n",
       "      <td>1</td>\n",
       "      <td>1</td>\n",
       "      <td>-1</td>\n",
       "    </tr>\n",
       "    <tr>\n",
       "      <th>16093</th>\n",
       "      <td>(:45) A.Dillon right guard to GB 6 for 5 yards (D.Payne; C.Holcomb).</td>\n",
       "      <td>Zone</td>\n",
       "      <td>GB</td>\n",
       "      <td>GB</td>\n",
       "      <td>1</td>\n",
       "      <td>1</td>\n",
       "      <td>5</td>\n",
       "    </tr>\n",
       "  </tbody>\n",
       "</table>\n",
       "</div>"
      ],
      "text/plain": [
       "                                                                                           playDescription  \\\n",
       "1313                                (8:07) A.Dillon up the middle to GB 5 for 4 yards (M.Adams; N.Morrow).   \n",
       "1822   (:17) (Shotgun) J.Winston pass deep right intended for C.Olave INTERCEPTED by J.Horn at 50. J.Ho...   \n",
       "1872                                           (12:38) J.Herbert pass incomplete short right to T.McKitty.   \n",
       "1886                     (6:55) (Shotgun) C.Edwards-Helaire up the middle to KC 1 for no gain (G.Stewart).   \n",
       "2139             (1:18) (Shotgun) J.Allen pass deep middle to G.Davis to BUF 19 for 18 yards (J.Williams).   \n",
       "2381                          (1:43) T.Tagovailoa up the middle to MIA 1 for no gain (D.Jones; T.Edmunds).   \n",
       "2534               (4:46) (Shotgun) M.Ryan pass deep right to A.Pierce to IND 31 for 30 yards (Ja.Watson).   \n",
       "2690                                (7:58) D.Cook right guard to MIN 5 for 4 yards (D.Campbell; Q.Walker).   \n",
       "3118                                          (11:18) B.Robinson left guard to WAS 2 for 1 yard (R.Smith).   \n",
       "4956   (1:47) (Shotgun) Direct snap to N.Harris.  N.Harris up the middle to PIT 4 for 3 yards (J.Hargra...   \n",
       "5339                                                 (:06) R.Tannehill up the middle to TEN 3 for 2 yards.   \n",
       "5423                     (9:42) B.Rypien pass short left to G.Dulcich to DEN 10 for 9 yards (K.Alexander).   \n",
       "6651                   (9:57) (Shotgun) A.Dillon right tackle to GB 6 for 5 yards (J.Jacobs, M.Rodriguez).   \n",
       "8084   (10:42) (Shotgun) J.Garoppolo pass short right to G.Kittle pushed ob at SF 10 for 9 yards (R.Eva...   \n",
       "8225                                            (6:16) D.Mills left guard to HST 2 for 1 yard (G.Stewart).   \n",
       "8313      (6:16) (Shotgun) P.Mahomes pass short left to C.Edwards-Helaire to KC 4 for 3 yards (B.Okereke).   \n",
       "8477                          (14:46) M.Gordon up the middle to DEN 1 for no gain (A.Billings; J.Hankins).   \n",
       "9129                                         (1:40) T.Tagovailoa pass incomplete short right to R.Mostert.   \n",
       "10558  (12:33) (Shotgun) J.Herbert pass short left to A.Ekeler to LAC 11 for 10 yards (D.Harmon, J.Abram).   \n",
       "11217                                  (:34) (Shotgun) Z.Moss left tackle to BUF 8 for 7 yards (C.Sutton).   \n",
       "12325        (12:21) D.Prescott pass short right to T.Pollard pushed ob at DAL 20 for 19 yards (K.Joseph).   \n",
       "13205             (14:01) (Shotgun) R.Wilson pass short right to R.Wilson to DEN 2 for 1 yard (K.Vickers).   \n",
       "13507                      (9:17) J.Williams up the middle to DEN 8 for 7 yards (H.Ridgeway; A.Al-Shaair).   \n",
       "13513                                          (:30) C.Wentz up the middle to WAS 1 for no gain (R.Smith).   \n",
       "14364                              (11:51) Z.Horvath left guard to LAC 4 for 3 yards (J.Phillips, D.Ward).   \n",
       "15273                    (14:10) B.Scott up the middle tackled in End Zone for -1 yards, SAFETY (D.Payne).   \n",
       "16093                                 (:45) A.Dillon right guard to GB 6 for 5 yards (D.Payne; C.Holcomb).   \n",
       "\n",
       "      pff_manZone possessionTeam yardlineSide  yardlineNumber  down  \\\n",
       "1313          Man             GB           GB               1     1   \n",
       "1822         Zone             NO           NO               1     1   \n",
       "1872         Zone            LAC          LAC               1     2   \n",
       "1886         Zone             KC           KC               1     1   \n",
       "2139         Zone            BUF          BUF               1     3   \n",
       "2381         Zone            MIA          MIA               1     2   \n",
       "2534         Zone            IND          IND               1     1   \n",
       "2690         Zone            MIN          MIN               1     1   \n",
       "3118         Zone            WAS          WAS               1     1   \n",
       "4956         Zone            PIT          PIT               1     1   \n",
       "5339          NaN            TEN          TEN               1     1   \n",
       "5423         Zone            DEN          DEN               1     1   \n",
       "6651         Zone             GB           GB               1     2   \n",
       "8084         Zone             SF           SF               1     1   \n",
       "8225         Zone            HOU          HOU               1     1   \n",
       "8313         Zone             KC           KC               1     2   \n",
       "8477         Zone            DEN          DEN               1     1   \n",
       "9129          Man            MIA          MIA               1     3   \n",
       "10558        Zone            LAC          LAC               1     3   \n",
       "11217        Zone            BUF          BUF               1     1   \n",
       "12325        Zone            DAL          DAL               1     1   \n",
       "13205        Zone            DEN          DEN               1     2   \n",
       "13507        Zone            DEN          DEN               1     1   \n",
       "13513       Other            WAS          WAS               1     1   \n",
       "14364        Zone            LAC          LAC               1     1   \n",
       "15273        Zone            PHI          PHI               1     1   \n",
       "16093        Zone             GB           GB               1     1   \n",
       "\n",
       "       yardsGained  \n",
       "1313             4  \n",
       "1822             0  \n",
       "1872             0  \n",
       "1886             0  \n",
       "2139            18  \n",
       "2381             0  \n",
       "2534            30  \n",
       "2690             4  \n",
       "3118             1  \n",
       "4956             3  \n",
       "5339             2  \n",
       "5423             9  \n",
       "6651             5  \n",
       "8084             9  \n",
       "8225             1  \n",
       "8313             3  \n",
       "8477             0  \n",
       "9129             0  \n",
       "10558           10  \n",
       "11217            7  \n",
       "12325           19  \n",
       "13205            1  \n",
       "13507            7  \n",
       "13513            0  \n",
       "14364            3  \n",
       "15273           -1  \n",
       "16093            5  "
      ]
     },
     "execution_count": 32,
     "metadata": {},
     "output_type": "execute_result"
    }
   ],
   "source": [
    "plays[plays['distanceFromOwnEndZone']==1][['playDescription', 'pff_manZone', 'possessionTeam', 'yardlineSide', 'yardlineNumber','down', 'yardsGained']]"
   ]
  },
  {
   "cell_type": "markdown",
   "id": "7a105e9b",
   "metadata": {},
   "source": [
    "# Penalty ✅\n",
    "\n",
    "## `penaltyYards`, `prePenaltyYardsGained` \n",
    "\n"
   ]
  },
  {
   "cell_type": "code",
   "execution_count": 33,
   "id": "bcd2d414",
   "metadata": {},
   "outputs": [],
   "source": [
    "# sorted(list(plays.query(\"gameId==2022101604\")['playId'].unique()))"
   ]
  },
  {
   "cell_type": "code",
   "execution_count": 34,
   "id": "34b0db9f",
   "metadata": {},
   "outputs": [],
   "source": [
    "# plays.query(\"gameId==2022101604 and playId==2791\").T"
   ]
  },
  {
   "cell_type": "code",
   "execution_count": 35,
   "id": "5d666a75",
   "metadata": {},
   "outputs": [],
   "source": [
    "# plays.query(\"gameId==2022101604 and playId==2861\").T"
   ]
  },
  {
   "cell_type": "code",
   "execution_count": 36,
   "id": "faa24e4e",
   "metadata": {},
   "outputs": [
    {
     "data": {
      "text/plain": [
       "384"
      ]
     },
     "execution_count": 36,
     "metadata": {},
     "output_type": "execute_result"
    }
   ],
   "source": [
    "len(plays) - plays['penaltyYards'].isna().sum()"
   ]
  },
  {
   "cell_type": "code",
   "execution_count": 37,
   "id": "c4e6dee8",
   "metadata": {},
   "outputs": [],
   "source": [
    "def penalty(row):\n",
    "    return True if 'penalty' in row.lower() else False"
   ]
  },
  {
   "cell_type": "code",
   "execution_count": 38,
   "id": "fd3536c3",
   "metadata": {},
   "outputs": [
    {
     "data": {
      "text/plain": [
       "0"
      ]
     },
     "execution_count": 38,
     "metadata": {},
     "output_type": "execute_result"
    }
   ],
   "source": [
    "\n",
    "plays[plays['playDescription'].apply(penalty)]['penaltyYards'].isna().sum() #[['penaltyYards', 'prePenaltyYardsGained']]"
   ]
  },
  {
   "cell_type": "code",
   "execution_count": 39,
   "id": "92ddcab6",
   "metadata": {},
   "outputs": [
    {
     "data": {
      "text/plain": [
       "384"
      ]
     },
     "execution_count": 39,
     "metadata": {},
     "output_type": "execute_result"
    }
   ],
   "source": [
    "len(plays[plays['playDescription'].apply(penalty)])"
   ]
  },
  {
   "cell_type": "code",
   "execution_count": 40,
   "id": "613b8520",
   "metadata": {},
   "outputs": [
    {
     "data": {
      "text/plain": [
       "True"
      ]
     },
     "execution_count": 40,
     "metadata": {},
     "output_type": "execute_result"
    }
   ],
   "source": [
    "set(plays[plays['playDescription'].apply(penalty)]['penaltyYards'].index)==set(plays.query('~penaltyYards.isna()').index)\n"
   ]
  },
  {
   "cell_type": "code",
   "execution_count": 41,
   "id": "a5f7b79c",
   "metadata": {},
   "outputs": [],
   "source": [
    "plays['penalty'] = plays['penaltyYards'].notna().astype(int)\n",
    "plays['penaltyYards'] = plays['penaltyYards'].fillna(0)\n"
   ]
  },
  {
   "cell_type": "markdown",
   "id": "ad479593",
   "metadata": {},
   "source": [
    "# QB \n",
    "\n",
    "✅ `qbKneel`, `qbSneak`, `qbSpike`"
   ]
  },
  {
   "cell_type": "markdown",
   "id": "afbaa331",
   "metadata": {},
   "source": [
    "### `qbKneel` ✅"
   ]
  },
  {
   "cell_type": "code",
   "execution_count": 42,
   "id": "ae15a9fb",
   "metadata": {},
   "outputs": [],
   "source": [
    "def kneels(row):\n",
    "    return True if 'kneels' in row.lower() else False\n"
   ]
  },
  {
   "cell_type": "code",
   "execution_count": 43,
   "id": "72292ddb",
   "metadata": {},
   "outputs": [
    {
     "data": {
      "text/plain": [
       "164"
      ]
     },
     "execution_count": 43,
     "metadata": {},
     "output_type": "execute_result"
    }
   ],
   "source": [
    "len(plays[plays['playDescription'].apply(kneels)]['qbKneel'])"
   ]
  },
  {
   "cell_type": "code",
   "execution_count": 44,
   "id": "7725c8ef",
   "metadata": {},
   "outputs": [
    {
     "data": {
      "text/plain": [
       "165"
      ]
     },
     "execution_count": 44,
     "metadata": {},
     "output_type": "execute_result"
    }
   ],
   "source": [
    "len(plays.query('qbKneel==1'))"
   ]
  },
  {
   "cell_type": "code",
   "execution_count": 45,
   "id": "92d4e1e5",
   "metadata": {},
   "outputs": [
    {
     "data": {
      "text/html": [
       "<div>\n",
       "<style scoped>\n",
       "    .dataframe tbody tr th:only-of-type {\n",
       "        vertical-align: middle;\n",
       "    }\n",
       "\n",
       "    .dataframe tbody tr th {\n",
       "        vertical-align: top;\n",
       "    }\n",
       "\n",
       "    .dataframe thead th {\n",
       "        text-align: right;\n",
       "    }\n",
       "</style>\n",
       "<table border=\"1\" class=\"dataframe\">\n",
       "  <thead>\n",
       "    <tr style=\"text-align: right;\">\n",
       "      <th></th>\n",
       "      <th>10816</th>\n",
       "    </tr>\n",
       "  </thead>\n",
       "  <tbody>\n",
       "    <tr>\n",
       "      <th>gameId</th>\n",
       "      <td>2022092506</td>\n",
       "    </tr>\n",
       "    <tr>\n",
       "      <th>playId</th>\n",
       "      <td>4081</td>\n",
       "    </tr>\n",
       "    <tr>\n",
       "      <th>playDescription</th>\n",
       "      <td>(3:15) J.Burrow left end to NYJ 31 for -6 yards (D.Reed).</td>\n",
       "    </tr>\n",
       "    <tr>\n",
       "      <th>quarter</th>\n",
       "      <td>4</td>\n",
       "    </tr>\n",
       "    <tr>\n",
       "      <th>down</th>\n",
       "      <td>1</td>\n",
       "    </tr>\n",
       "    <tr>\n",
       "      <th>yardsToGo</th>\n",
       "      <td>10</td>\n",
       "    </tr>\n",
       "    <tr>\n",
       "      <th>possessionTeam</th>\n",
       "      <td>CIN</td>\n",
       "    </tr>\n",
       "    <tr>\n",
       "      <th>defensiveTeam</th>\n",
       "      <td>NYJ</td>\n",
       "    </tr>\n",
       "    <tr>\n",
       "      <th>yardlineSide</th>\n",
       "      <td>NYJ</td>\n",
       "    </tr>\n",
       "    <tr>\n",
       "      <th>yardlineNumber</th>\n",
       "      <td>25</td>\n",
       "    </tr>\n",
       "    <tr>\n",
       "      <th>gameClock</th>\n",
       "      <td>03:15</td>\n",
       "    </tr>\n",
       "    <tr>\n",
       "      <th>preSnapHomeScore</th>\n",
       "      <td>12</td>\n",
       "    </tr>\n",
       "    <tr>\n",
       "      <th>preSnapVisitorScore</th>\n",
       "      <td>27</td>\n",
       "    </tr>\n",
       "    <tr>\n",
       "      <th>absoluteYardlineNumber</th>\n",
       "      <td>85</td>\n",
       "    </tr>\n",
       "    <tr>\n",
       "      <th>offenseFormation</th>\n",
       "      <td>NaN</td>\n",
       "    </tr>\n",
       "    <tr>\n",
       "      <th>receiverAlignment</th>\n",
       "      <td>NaN</td>\n",
       "    </tr>\n",
       "    <tr>\n",
       "      <th>playClockAtSnap</th>\n",
       "      <td>2.0</td>\n",
       "    </tr>\n",
       "    <tr>\n",
       "      <th>passResult</th>\n",
       "      <td>NaN</td>\n",
       "    </tr>\n",
       "    <tr>\n",
       "      <th>passLength</th>\n",
       "      <td>NaN</td>\n",
       "    </tr>\n",
       "    <tr>\n",
       "      <th>targetX</th>\n",
       "      <td>NaN</td>\n",
       "    </tr>\n",
       "    <tr>\n",
       "      <th>targetY</th>\n",
       "      <td>NaN</td>\n",
       "    </tr>\n",
       "    <tr>\n",
       "      <th>playAction</th>\n",
       "      <td>1</td>\n",
       "    </tr>\n",
       "    <tr>\n",
       "      <th>dropbackType</th>\n",
       "      <td>NaN</td>\n",
       "    </tr>\n",
       "    <tr>\n",
       "      <th>dropbackDistance</th>\n",
       "      <td>NaN</td>\n",
       "    </tr>\n",
       "    <tr>\n",
       "      <th>passLocationType</th>\n",
       "      <td>NaN</td>\n",
       "    </tr>\n",
       "    <tr>\n",
       "      <th>timeToThrow</th>\n",
       "      <td>NaN</td>\n",
       "    </tr>\n",
       "    <tr>\n",
       "      <th>timeInTackleBox</th>\n",
       "      <td>NaN</td>\n",
       "    </tr>\n",
       "    <tr>\n",
       "      <th>timeToSack</th>\n",
       "      <td>NaN</td>\n",
       "    </tr>\n",
       "    <tr>\n",
       "      <th>passTippedAtLine</th>\n",
       "      <td>NaN</td>\n",
       "    </tr>\n",
       "    <tr>\n",
       "      <th>unblockedPressure</th>\n",
       "      <td>NaN</td>\n",
       "    </tr>\n",
       "    <tr>\n",
       "      <th>qbSpike</th>\n",
       "      <td>NaN</td>\n",
       "    </tr>\n",
       "    <tr>\n",
       "      <th>qbKneel</th>\n",
       "      <td>1</td>\n",
       "    </tr>\n",
       "    <tr>\n",
       "      <th>qbSneak</th>\n",
       "      <td>False</td>\n",
       "    </tr>\n",
       "    <tr>\n",
       "      <th>rushLocationType</th>\n",
       "      <td>UNKNOWN</td>\n",
       "    </tr>\n",
       "    <tr>\n",
       "      <th>penaltyYards</th>\n",
       "      <td>0.0</td>\n",
       "    </tr>\n",
       "    <tr>\n",
       "      <th>prePenaltyYardsGained</th>\n",
       "      <td>-6.0</td>\n",
       "    </tr>\n",
       "    <tr>\n",
       "      <th>yardsGained</th>\n",
       "      <td>-6</td>\n",
       "    </tr>\n",
       "    <tr>\n",
       "      <th>isDropback</th>\n",
       "      <td>0</td>\n",
       "    </tr>\n",
       "    <tr>\n",
       "      <th>pff_runConceptPrimary</th>\n",
       "      <td>TRICK</td>\n",
       "    </tr>\n",
       "    <tr>\n",
       "      <th>pff_runConceptSecondary</th>\n",
       "      <td>MISDIRECTION;QB RUNS</td>\n",
       "    </tr>\n",
       "    <tr>\n",
       "      <th>pff_runPassOption</th>\n",
       "      <td>0</td>\n",
       "    </tr>\n",
       "    <tr>\n",
       "      <th>pff_passCoverage</th>\n",
       "      <td>Cover-1</td>\n",
       "    </tr>\n",
       "    <tr>\n",
       "      <th>pff_manZone</th>\n",
       "      <td>Man</td>\n",
       "    </tr>\n",
       "    <tr>\n",
       "      <th>distanceFromOwnEndZone</th>\n",
       "      <td>75</td>\n",
       "    </tr>\n",
       "    <tr>\n",
       "      <th>penalty</th>\n",
       "      <td>0</td>\n",
       "    </tr>\n",
       "  </tbody>\n",
       "</table>\n",
       "</div>"
      ],
      "text/plain": [
       "                                                                             10816\n",
       "gameId                                                                  2022092506\n",
       "playId                                                                        4081\n",
       "playDescription          (3:15) J.Burrow left end to NYJ 31 for -6 yards (D.Reed).\n",
       "quarter                                                                          4\n",
       "down                                                                             1\n",
       "yardsToGo                                                                       10\n",
       "possessionTeam                                                                 CIN\n",
       "defensiveTeam                                                                  NYJ\n",
       "yardlineSide                                                                   NYJ\n",
       "yardlineNumber                                                                  25\n",
       "gameClock                                                                    03:15\n",
       "preSnapHomeScore                                                                12\n",
       "preSnapVisitorScore                                                             27\n",
       "absoluteYardlineNumber                                                          85\n",
       "offenseFormation                                                               NaN\n",
       "receiverAlignment                                                              NaN\n",
       "playClockAtSnap                                                                2.0\n",
       "passResult                                                                     NaN\n",
       "passLength                                                                     NaN\n",
       "targetX                                                                        NaN\n",
       "targetY                                                                        NaN\n",
       "playAction                                                                       1\n",
       "dropbackType                                                                   NaN\n",
       "dropbackDistance                                                               NaN\n",
       "passLocationType                                                               NaN\n",
       "timeToThrow                                                                    NaN\n",
       "timeInTackleBox                                                                NaN\n",
       "timeToSack                                                                     NaN\n",
       "passTippedAtLine                                                               NaN\n",
       "unblockedPressure                                                              NaN\n",
       "qbSpike                                                                        NaN\n",
       "qbKneel                                                                          1\n",
       "qbSneak                                                                      False\n",
       "rushLocationType                                                           UNKNOWN\n",
       "penaltyYards                                                                   0.0\n",
       "prePenaltyYardsGained                                                         -6.0\n",
       "yardsGained                                                                     -6\n",
       "isDropback                                                                       0\n",
       "pff_runConceptPrimary                                                        TRICK\n",
       "pff_runConceptSecondary                                       MISDIRECTION;QB RUNS\n",
       "pff_runPassOption                                                                0\n",
       "pff_passCoverage                                                           Cover-1\n",
       "pff_manZone                                                                    Man\n",
       "distanceFromOwnEndZone                                                          75\n",
       "penalty                                                                          0"
      ]
     },
     "execution_count": 45,
     "metadata": {},
     "output_type": "execute_result"
    }
   ],
   "source": [
    "plays[(~plays['playDescription'].apply(kneels)) & (plays['qbKneel']==1)].T"
   ]
  },
  {
   "cell_type": "code",
   "execution_count": 46,
   "id": "488294c4",
   "metadata": {},
   "outputs": [
    {
     "data": {
      "text/plain": [
       "gameId                                                                    2022092506\n",
       "playId                                                                          4081\n",
       "playDescription            (3:15) J.Burrow left end to NYJ 31 for -6 yards (D.Reed).\n",
       "quarter                                                                            4\n",
       "down                                                                               1\n",
       "yardsToGo                                                                         10\n",
       "possessionTeam                                                                   CIN\n",
       "defensiveTeam                                                                    NYJ\n",
       "yardlineSide                                                                     NYJ\n",
       "yardlineNumber                                                                    25\n",
       "gameClock                                                                      03:15\n",
       "preSnapHomeScore                                                                  12\n",
       "preSnapVisitorScore                                                               27\n",
       "absoluteYardlineNumber                                                            85\n",
       "offenseFormation                                                                 NaN\n",
       "receiverAlignment                                                                NaN\n",
       "playClockAtSnap                                                                  2.0\n",
       "passResult                                                                       NaN\n",
       "passLength                                                                       NaN\n",
       "targetX                                                                          NaN\n",
       "targetY                                                                          NaN\n",
       "playAction                                                                         1\n",
       "dropbackType                                                                     NaN\n",
       "dropbackDistance                                                                 NaN\n",
       "passLocationType                                                                 NaN\n",
       "timeToThrow                                                                      NaN\n",
       "timeInTackleBox                                                                  NaN\n",
       "timeToSack                                                                       NaN\n",
       "passTippedAtLine                                                                 NaN\n",
       "unblockedPressure                                                                NaN\n",
       "qbSpike                                                                          NaN\n",
       "qbKneel                                                                            1\n",
       "qbSneak                                                                        False\n",
       "rushLocationType                                                             UNKNOWN\n",
       "penaltyYards                                                                     0.0\n",
       "prePenaltyYardsGained                                                           -6.0\n",
       "yardsGained                                                                       -6\n",
       "isDropback                                                                         0\n",
       "pff_runConceptPrimary                                                          TRICK\n",
       "pff_runConceptSecondary                                         MISDIRECTION;QB RUNS\n",
       "pff_runPassOption                                                                  0\n",
       "pff_passCoverage                                                             Cover-1\n",
       "pff_manZone                                                                      Man\n",
       "distanceFromOwnEndZone                                                            75\n",
       "penalty                                                                            0\n",
       "Name: 10816, dtype: object"
      ]
     },
     "execution_count": 46,
     "metadata": {},
     "output_type": "execute_result"
    }
   ],
   "source": [
    "plays.loc[10816]"
   ]
  },
  {
   "cell_type": "code",
   "execution_count": 47,
   "id": "2e47ca83",
   "metadata": {},
   "outputs": [],
   "source": [
    "plays.loc[10816, 'qbKneel'] = 0"
   ]
  },
  {
   "cell_type": "code",
   "execution_count": 48,
   "id": "a92ad8fb",
   "metadata": {},
   "outputs": [
    {
     "data": {
      "text/plain": [
       "True"
      ]
     },
     "execution_count": 48,
     "metadata": {},
     "output_type": "execute_result"
    }
   ],
   "source": [
    "set(plays[plays['playDescription'].apply(kneels)]['qbKneel'].index)==set(plays.query('qbKneel==1').index)\n"
   ]
  },
  {
   "cell_type": "code",
   "execution_count": 49,
   "id": "d8a7c32e",
   "metadata": {},
   "outputs": [
    {
     "data": {
      "text/plain": [
       "0"
      ]
     },
     "execution_count": 49,
     "metadata": {},
     "output_type": "execute_result"
    }
   ],
   "source": [
    "plays.qbKneel.isna().sum()"
   ]
  },
  {
   "cell_type": "markdown",
   "id": "b84b4a7b",
   "metadata": {},
   "source": [
    "### `qbSpike` ✅ "
   ]
  },
  {
   "cell_type": "code",
   "execution_count": 50,
   "id": "20118133",
   "metadata": {},
   "outputs": [],
   "source": [
    "def spikes(row):\n",
    "    return True if 'spiked' in row.lower() else False\n"
   ]
  },
  {
   "cell_type": "code",
   "execution_count": 51,
   "id": "8f09699a",
   "metadata": {},
   "outputs": [],
   "source": [
    "# len(plays[plays['playDescription'].apply(spikes)]['qbSpike'])\n",
    "\n",
    "# len(plays.query('qbSpike==1'))"
   ]
  },
  {
   "cell_type": "code",
   "execution_count": 52,
   "id": "21297808",
   "metadata": {},
   "outputs": [
    {
     "data": {
      "text/plain": [
       "True"
      ]
     },
     "execution_count": 52,
     "metadata": {},
     "output_type": "execute_result"
    }
   ],
   "source": [
    "set(plays[plays['playDescription'].apply(spikes)]['qbSpike'].index)==set(plays.query('qbSpike==1').index)"
   ]
  },
  {
   "cell_type": "code",
   "execution_count": 53,
   "id": "5be20a0b",
   "metadata": {},
   "outputs": [
    {
     "data": {
      "text/html": [
       "<div>\n",
       "<style scoped>\n",
       "    .dataframe tbody tr th:only-of-type {\n",
       "        vertical-align: middle;\n",
       "    }\n",
       "\n",
       "    .dataframe tbody tr th {\n",
       "        vertical-align: top;\n",
       "    }\n",
       "\n",
       "    .dataframe thead th {\n",
       "        text-align: right;\n",
       "    }\n",
       "</style>\n",
       "<table border=\"1\" class=\"dataframe\">\n",
       "  <thead>\n",
       "    <tr style=\"text-align: right;\">\n",
       "      <th></th>\n",
       "      <th>playDescription</th>\n",
       "      <th>dropbackType</th>\n",
       "    </tr>\n",
       "  </thead>\n",
       "  <tbody>\n",
       "    <tr>\n",
       "      <th>4</th>\n",
       "      <td>(2:16) (Shotgun) L.Jackson up the middle to TB 28 for -1 yards (R.Nunez-Roches).</td>\n",
       "      <td>DESIGNED_RUN</td>\n",
       "    </tr>\n",
       "    <tr>\n",
       "      <th>5</th>\n",
       "      <td>(14:15) Ja.Williams up the middle to DET 32 for 3 yards (C.Barton; U.Nwosu).</td>\n",
       "      <td>NaN</td>\n",
       "    </tr>\n",
       "    <tr>\n",
       "      <th>6</th>\n",
       "      <td>(:29) (Shotgun) J.Wilkins up the middle to IND 45 for 5 yards (J.Uche).</td>\n",
       "      <td>NaN</td>\n",
       "    </tr>\n",
       "    <tr>\n",
       "      <th>11</th>\n",
       "      <td>(12:55) (Shotgun) A.Dillon left tackle to WAS 46 for no gain (J.Smith-Williams; M.Sweat).</td>\n",
       "      <td>NaN</td>\n",
       "    </tr>\n",
       "    <tr>\n",
       "      <th>14</th>\n",
       "      <td>(9:41) (Shotgun) M.Mariota scrambles left end pushed ob at SEA 36 for 2 yards (J.Brooks).</td>\n",
       "      <td>SCRAMBLE_ROLLOUT_LEFT</td>\n",
       "    </tr>\n",
       "    <tr>\n",
       "      <th>...</th>\n",
       "      <td>...</td>\n",
       "      <td>...</td>\n",
       "    </tr>\n",
       "    <tr>\n",
       "      <th>16111</th>\n",
       "      <td>(2:17) (Shotgun) H.Haskins up the middle to TEN 38 for 3 yards (T.Johnson).</td>\n",
       "      <td>NaN</td>\n",
       "    </tr>\n",
       "    <tr>\n",
       "      <th>16115</th>\n",
       "      <td>(2:49) J.Mixon up the middle to PIT 3 for -2 yards (T.Watt, A.Highsmith). PIT-A.Highsmith was in...</td>\n",
       "      <td>NaN</td>\n",
       "    </tr>\n",
       "    <tr>\n",
       "      <th>16118</th>\n",
       "      <td>(13:41) (Shotgun) C.Patterson right tackle to NO 17 for 8 yards (M.Maye, T.Mathieu).</td>\n",
       "      <td>NaN</td>\n",
       "    </tr>\n",
       "    <tr>\n",
       "      <th>16121</th>\n",
       "      <td>(9:59) (Shotgun) P.Mahomes scrambles right end to IND 3 for 10 yards (R.Thomas).</td>\n",
       "      <td>SCRAMBLE</td>\n",
       "    </tr>\n",
       "    <tr>\n",
       "      <th>16123</th>\n",
       "      <td>(15:00) Br.Hall up the middle for 34 yards, TOUCHDOWN.</td>\n",
       "      <td>NaN</td>\n",
       "    </tr>\n",
       "  </tbody>\n",
       "</table>\n",
       "<p>6624 rows × 2 columns</p>\n",
       "</div>"
      ],
      "text/plain": [
       "                                                                                           playDescription  \\\n",
       "4                         (2:16) (Shotgun) L.Jackson up the middle to TB 28 for -1 yards (R.Nunez-Roches).   \n",
       "5                             (14:15) Ja.Williams up the middle to DET 32 for 3 yards (C.Barton; U.Nwosu).   \n",
       "6                                  (:29) (Shotgun) J.Wilkins up the middle to IND 45 for 5 yards (J.Uche).   \n",
       "11               (12:55) (Shotgun) A.Dillon left tackle to WAS 46 for no gain (J.Smith-Williams; M.Sweat).   \n",
       "14               (9:41) (Shotgun) M.Mariota scrambles left end pushed ob at SEA 36 for 2 yards (J.Brooks).   \n",
       "...                                                                                                    ...   \n",
       "16111                          (2:17) (Shotgun) H.Haskins up the middle to TEN 38 for 3 yards (T.Johnson).   \n",
       "16115  (2:49) J.Mixon up the middle to PIT 3 for -2 yards (T.Watt, A.Highsmith). PIT-A.Highsmith was in...   \n",
       "16118                 (13:41) (Shotgun) C.Patterson right tackle to NO 17 for 8 yards (M.Maye, T.Mathieu).   \n",
       "16121                     (9:59) (Shotgun) P.Mahomes scrambles right end to IND 3 for 10 yards (R.Thomas).   \n",
       "16123                                               (15:00) Br.Hall up the middle for 34 yards, TOUCHDOWN.   \n",
       "\n",
       "                dropbackType  \n",
       "4               DESIGNED_RUN  \n",
       "5                        NaN  \n",
       "6                        NaN  \n",
       "11                       NaN  \n",
       "14     SCRAMBLE_ROLLOUT_LEFT  \n",
       "...                      ...  \n",
       "16111                    NaN  \n",
       "16115                    NaN  \n",
       "16118                    NaN  \n",
       "16121               SCRAMBLE  \n",
       "16123                    NaN  \n",
       "\n",
       "[6624 rows x 2 columns]"
      ]
     },
     "execution_count": 53,
     "metadata": {},
     "output_type": "execute_result"
    }
   ],
   "source": [
    "plays.query('qbSpike.isna() and qbKneel != 1')[['playDescription', 'dropbackType']]"
   ]
  },
  {
   "cell_type": "code",
   "execution_count": 54,
   "id": "90ff65c5",
   "metadata": {},
   "outputs": [
    {
     "data": {
      "text/html": [
       "<div>\n",
       "<style scoped>\n",
       "    .dataframe tbody tr th:only-of-type {\n",
       "        vertical-align: middle;\n",
       "    }\n",
       "\n",
       "    .dataframe tbody tr th {\n",
       "        vertical-align: top;\n",
       "    }\n",
       "\n",
       "    .dataframe thead th {\n",
       "        text-align: right;\n",
       "    }\n",
       "</style>\n",
       "<table border=\"1\" class=\"dataframe\">\n",
       "  <thead>\n",
       "    <tr style=\"text-align: right;\">\n",
       "      <th></th>\n",
       "      <th>isDropback</th>\n",
       "      <th>dropbackType</th>\n",
       "    </tr>\n",
       "  </thead>\n",
       "  <tbody>\n",
       "    <tr>\n",
       "      <th>468</th>\n",
       "      <td>1</td>\n",
       "      <td>UNKNOWN</td>\n",
       "    </tr>\n",
       "    <tr>\n",
       "      <th>530</th>\n",
       "      <td>1</td>\n",
       "      <td>UNKNOWN</td>\n",
       "    </tr>\n",
       "    <tr>\n",
       "      <th>620</th>\n",
       "      <td>1</td>\n",
       "      <td>NaN</td>\n",
       "    </tr>\n",
       "    <tr>\n",
       "      <th>717</th>\n",
       "      <td>1</td>\n",
       "      <td>NaN</td>\n",
       "    </tr>\n",
       "    <tr>\n",
       "      <th>720</th>\n",
       "      <td>1</td>\n",
       "      <td>UNKNOWN</td>\n",
       "    </tr>\n",
       "    <tr>\n",
       "      <th>1271</th>\n",
       "      <td>1</td>\n",
       "      <td>NaN</td>\n",
       "    </tr>\n",
       "    <tr>\n",
       "      <th>1611</th>\n",
       "      <td>1</td>\n",
       "      <td>NaN</td>\n",
       "    </tr>\n",
       "    <tr>\n",
       "      <th>1658</th>\n",
       "      <td>1</td>\n",
       "      <td>NaN</td>\n",
       "    </tr>\n",
       "    <tr>\n",
       "      <th>2355</th>\n",
       "      <td>1</td>\n",
       "      <td>NaN</td>\n",
       "    </tr>\n",
       "    <tr>\n",
       "      <th>2501</th>\n",
       "      <td>1</td>\n",
       "      <td>UNKNOWN</td>\n",
       "    </tr>\n",
       "    <tr>\n",
       "      <th>2510</th>\n",
       "      <td>1</td>\n",
       "      <td>UNKNOWN</td>\n",
       "    </tr>\n",
       "    <tr>\n",
       "      <th>3135</th>\n",
       "      <td>1</td>\n",
       "      <td>UNKNOWN</td>\n",
       "    </tr>\n",
       "    <tr>\n",
       "      <th>3673</th>\n",
       "      <td>1</td>\n",
       "      <td>UNKNOWN</td>\n",
       "    </tr>\n",
       "    <tr>\n",
       "      <th>3910</th>\n",
       "      <td>1</td>\n",
       "      <td>UNKNOWN</td>\n",
       "    </tr>\n",
       "    <tr>\n",
       "      <th>5123</th>\n",
       "      <td>1</td>\n",
       "      <td>NaN</td>\n",
       "    </tr>\n",
       "    <tr>\n",
       "      <th>5262</th>\n",
       "      <td>1</td>\n",
       "      <td>NaN</td>\n",
       "    </tr>\n",
       "    <tr>\n",
       "      <th>5889</th>\n",
       "      <td>1</td>\n",
       "      <td>NaN</td>\n",
       "    </tr>\n",
       "    <tr>\n",
       "      <th>7047</th>\n",
       "      <td>1</td>\n",
       "      <td>UNKNOWN</td>\n",
       "    </tr>\n",
       "    <tr>\n",
       "      <th>9880</th>\n",
       "      <td>1</td>\n",
       "      <td>NaN</td>\n",
       "    </tr>\n",
       "    <tr>\n",
       "      <th>10812</th>\n",
       "      <td>1</td>\n",
       "      <td>NaN</td>\n",
       "    </tr>\n",
       "    <tr>\n",
       "      <th>12571</th>\n",
       "      <td>1</td>\n",
       "      <td>UNKNOWN</td>\n",
       "    </tr>\n",
       "    <tr>\n",
       "      <th>12704</th>\n",
       "      <td>1</td>\n",
       "      <td>NaN</td>\n",
       "    </tr>\n",
       "    <tr>\n",
       "      <th>13615</th>\n",
       "      <td>1</td>\n",
       "      <td>UNKNOWN</td>\n",
       "    </tr>\n",
       "  </tbody>\n",
       "</table>\n",
       "</div>"
      ],
      "text/plain": [
       "       isDropback dropbackType\n",
       "468             1      UNKNOWN\n",
       "530             1      UNKNOWN\n",
       "620             1          NaN\n",
       "717             1          NaN\n",
       "720             1      UNKNOWN\n",
       "1271            1          NaN\n",
       "1611            1          NaN\n",
       "1658            1          NaN\n",
       "2355            1          NaN\n",
       "2501            1      UNKNOWN\n",
       "2510            1      UNKNOWN\n",
       "3135            1      UNKNOWN\n",
       "3673            1      UNKNOWN\n",
       "3910            1      UNKNOWN\n",
       "5123            1          NaN\n",
       "5262            1          NaN\n",
       "5889            1          NaN\n",
       "7047            1      UNKNOWN\n",
       "9880            1          NaN\n",
       "10812           1          NaN\n",
       "12571           1      UNKNOWN\n",
       "12704           1          NaN\n",
       "13615           1      UNKNOWN"
      ]
     },
     "execution_count": 54,
     "metadata": {},
     "output_type": "execute_result"
    }
   ],
   "source": [
    "plays.query('qbSpike==1')[['isDropback', 'dropbackType']]"
   ]
  },
  {
   "cell_type": "code",
   "execution_count": 55,
   "id": "cc03a913",
   "metadata": {},
   "outputs": [
    {
     "data": {
      "text/plain": [
       "468      UNKNOWN\n",
       "530      UNKNOWN\n",
       "620      UNKNOWN\n",
       "717      UNKNOWN\n",
       "720      UNKNOWN\n",
       "1271     UNKNOWN\n",
       "1611     UNKNOWN\n",
       "1658     UNKNOWN\n",
       "2355     UNKNOWN\n",
       "2501     UNKNOWN\n",
       "2510     UNKNOWN\n",
       "3135     UNKNOWN\n",
       "3673     UNKNOWN\n",
       "3910     UNKNOWN\n",
       "5123     UNKNOWN\n",
       "5262     UNKNOWN\n",
       "5889     UNKNOWN\n",
       "7047     UNKNOWN\n",
       "9880     UNKNOWN\n",
       "10812    UNKNOWN\n",
       "12571    UNKNOWN\n",
       "12704    UNKNOWN\n",
       "13615    UNKNOWN\n",
       "Name: dropbackType, dtype: object"
      ]
     },
     "execution_count": 55,
     "metadata": {},
     "output_type": "execute_result"
    }
   ],
   "source": [
    "plays.loc[plays['qbSpike'] == 1, 'dropbackType'] = plays.loc[plays['qbSpike'] == 1, 'dropbackType'].fillna(\"UNKNOWN\")\n",
    "\n",
    "plays[plays['qbSpike']==1]['dropbackType']"
   ]
  },
  {
   "cell_type": "code",
   "execution_count": 56,
   "id": "a193fe14",
   "metadata": {},
   "outputs": [
    {
     "data": {
      "text/plain": [
       "isDropback      0\n",
       "dropbackType    0\n",
       "dtype: int64"
      ]
     },
     "execution_count": 56,
     "metadata": {},
     "output_type": "execute_result"
    }
   ],
   "source": [
    "plays.query('qbSpike==0')[['isDropback', 'dropbackType']].isna().sum()"
   ]
  },
  {
   "cell_type": "code",
   "execution_count": 57,
   "id": "2b1faec2",
   "metadata": {},
   "outputs": [
    {
     "data": {
      "text/html": [
       "<div>\n",
       "<style scoped>\n",
       "    .dataframe tbody tr th:only-of-type {\n",
       "        vertical-align: middle;\n",
       "    }\n",
       "\n",
       "    .dataframe tbody tr th {\n",
       "        vertical-align: top;\n",
       "    }\n",
       "\n",
       "    .dataframe thead th {\n",
       "        text-align: right;\n",
       "    }\n",
       "</style>\n",
       "<table border=\"1\" class=\"dataframe\">\n",
       "  <thead>\n",
       "    <tr style=\"text-align: right;\">\n",
       "      <th></th>\n",
       "      <th>gameId</th>\n",
       "      <th>playId</th>\n",
       "      <th>playDescription</th>\n",
       "      <th>quarter</th>\n",
       "      <th>down</th>\n",
       "      <th>yardsToGo</th>\n",
       "      <th>possessionTeam</th>\n",
       "      <th>defensiveTeam</th>\n",
       "      <th>yardlineSide</th>\n",
       "      <th>yardlineNumber</th>\n",
       "      <th>...</th>\n",
       "      <th>prePenaltyYardsGained</th>\n",
       "      <th>yardsGained</th>\n",
       "      <th>isDropback</th>\n",
       "      <th>pff_runConceptPrimary</th>\n",
       "      <th>pff_runConceptSecondary</th>\n",
       "      <th>pff_runPassOption</th>\n",
       "      <th>pff_passCoverage</th>\n",
       "      <th>pff_manZone</th>\n",
       "      <th>distanceFromOwnEndZone</th>\n",
       "      <th>penalty</th>\n",
       "    </tr>\n",
       "  </thead>\n",
       "  <tbody>\n",
       "  </tbody>\n",
       "</table>\n",
       "<p>0 rows × 45 columns</p>\n",
       "</div>"
      ],
      "text/plain": [
       "Empty DataFrame\n",
       "Columns: [gameId, playId, playDescription, quarter, down, yardsToGo, possessionTeam, defensiveTeam, yardlineSide, yardlineNumber, gameClock, preSnapHomeScore, preSnapVisitorScore, absoluteYardlineNumber, offenseFormation, receiverAlignment, playClockAtSnap, passResult, passLength, targetX, targetY, playAction, dropbackType, dropbackDistance, passLocationType, timeToThrow, timeInTackleBox, timeToSack, passTippedAtLine, unblockedPressure, qbSpike, qbKneel, qbSneak, rushLocationType, penaltyYards, prePenaltyYardsGained, yardsGained, isDropback, pff_runConceptPrimary, pff_runConceptSecondary, pff_runPassOption, pff_passCoverage, pff_manZone, distanceFromOwnEndZone, penalty]\n",
       "Index: []\n",
       "\n",
       "[0 rows x 45 columns]"
      ]
     },
     "execution_count": 57,
     "metadata": {},
     "output_type": "execute_result"
    }
   ],
   "source": [
    "plays[plays['playDescription'].apply(spikes) & (plays['qbSpike'].isna())]"
   ]
  },
  {
   "cell_type": "code",
   "execution_count": 58,
   "id": "130492f6",
   "metadata": {},
   "outputs": [],
   "source": [
    "plays['qbSpike'] = plays['qbSpike'].fillna(0).astype(int)"
   ]
  },
  {
   "cell_type": "markdown",
   "id": "f6fd8ee2",
   "metadata": {},
   "source": [
    "### `qbSneak` ✅"
   ]
  },
  {
   "cell_type": "code",
   "execution_count": 59,
   "id": "54454033",
   "metadata": {},
   "outputs": [
    {
     "data": {
      "text/html": [
       "<div>\n",
       "<style scoped>\n",
       "    .dataframe tbody tr th:only-of-type {\n",
       "        vertical-align: middle;\n",
       "    }\n",
       "\n",
       "    .dataframe tbody tr th {\n",
       "        vertical-align: top;\n",
       "    }\n",
       "\n",
       "    .dataframe thead th {\n",
       "        text-align: right;\n",
       "    }\n",
       "</style>\n",
       "<table border=\"1\" class=\"dataframe\">\n",
       "  <thead>\n",
       "    <tr style=\"text-align: right;\">\n",
       "      <th></th>\n",
       "      <th>gameId</th>\n",
       "      <th>playId</th>\n",
       "      <th>playDescription</th>\n",
       "      <th>quarter</th>\n",
       "      <th>down</th>\n",
       "      <th>yardsToGo</th>\n",
       "      <th>possessionTeam</th>\n",
       "      <th>defensiveTeam</th>\n",
       "      <th>yardlineSide</th>\n",
       "      <th>yardlineNumber</th>\n",
       "      <th>...</th>\n",
       "      <th>prePenaltyYardsGained</th>\n",
       "      <th>yardsGained</th>\n",
       "      <th>isDropback</th>\n",
       "      <th>pff_runConceptPrimary</th>\n",
       "      <th>pff_runConceptSecondary</th>\n",
       "      <th>pff_runPassOption</th>\n",
       "      <th>pff_passCoverage</th>\n",
       "      <th>pff_manZone</th>\n",
       "      <th>distanceFromOwnEndZone</th>\n",
       "      <th>penalty</th>\n",
       "    </tr>\n",
       "  </thead>\n",
       "  <tbody>\n",
       "  </tbody>\n",
       "</table>\n",
       "<p>0 rows × 45 columns</p>\n",
       "</div>"
      ],
      "text/plain": [
       "Empty DataFrame\n",
       "Columns: [gameId, playId, playDescription, quarter, down, yardsToGo, possessionTeam, defensiveTeam, yardlineSide, yardlineNumber, gameClock, preSnapHomeScore, preSnapVisitorScore, absoluteYardlineNumber, offenseFormation, receiverAlignment, playClockAtSnap, passResult, passLength, targetX, targetY, playAction, dropbackType, dropbackDistance, passLocationType, timeToThrow, timeInTackleBox, timeToSack, passTippedAtLine, unblockedPressure, qbSpike, qbKneel, qbSneak, rushLocationType, penaltyYards, prePenaltyYardsGained, yardsGained, isDropback, pff_runConceptPrimary, pff_runConceptSecondary, pff_runPassOption, pff_passCoverage, pff_manZone, distanceFromOwnEndZone, penalty]\n",
       "Index: []\n",
       "\n",
       "[0 rows x 45 columns]"
      ]
     },
     "execution_count": 59,
     "metadata": {},
     "output_type": "execute_result"
    }
   ],
   "source": [
    "\n",
    "plays[plays[['qbSpike', 'qbKneel', 'qbSneak']].sum(axis=1)>=2]"
   ]
  },
  {
   "cell_type": "code",
   "execution_count": 60,
   "id": "ceb9fa97",
   "metadata": {},
   "outputs": [
    {
     "data": {
      "text/plain": [
       "9336"
      ]
     },
     "execution_count": 60,
     "metadata": {},
     "output_type": "execute_result"
    }
   ],
   "source": [
    "plays['qbSneak'].isna().sum()"
   ]
  },
  {
   "cell_type": "code",
   "execution_count": 61,
   "id": "a2aaf6c1",
   "metadata": {},
   "outputs": [
    {
     "data": {
      "text/plain": [
       "array(['SNEAK'], dtype=object)"
      ]
     },
     "execution_count": 61,
     "metadata": {},
     "output_type": "execute_result"
    }
   ],
   "source": [
    "plays.query('qbSneak==1')['pff_runConceptPrimary'].unique()"
   ]
  },
  {
   "cell_type": "code",
   "execution_count": 62,
   "id": "6e74b3fc",
   "metadata": {},
   "outputs": [
    {
     "data": {
      "text/plain": [
       "array(['MAN', 'INSIDE ZONE', 'UNDEFINED', 'PULL LEAD', 'OUTSIDE ZONE',\n",
       "       nan, 'TRAP', 'POWER', 'COUNTER', 'DRAW', 'TRICK', 'FB RUN'],\n",
       "      dtype=object)"
      ]
     },
     "execution_count": 62,
     "metadata": {},
     "output_type": "execute_result"
    }
   ],
   "source": [
    "plays.query('qbSneak==0')['pff_runConceptPrimary'].unique()"
   ]
  },
  {
   "cell_type": "code",
   "execution_count": 63,
   "id": "b7c01283",
   "metadata": {},
   "outputs": [
    {
     "data": {
      "text/plain": [
       "array([nan, 'OUTSIDE ZONE', 'INSIDE ZONE', 'MAN', 'UNDEFINED', 'DRAW',\n",
       "       'POWER', 'COUNTER', 'TRICK', 'PULL LEAD', 'TRAP', 'FB RUN'],\n",
       "      dtype=object)"
      ]
     },
     "execution_count": 63,
     "metadata": {},
     "output_type": "execute_result"
    }
   ],
   "source": [
    "plays.query('qbSneak.isna()')['pff_runConceptPrimary'].unique()"
   ]
  },
  {
   "cell_type": "code",
   "execution_count": 64,
   "id": "d89615d4",
   "metadata": {},
   "outputs": [
    {
     "data": {
      "text/plain": [
       "0          (1:54) (Shotgun) J.Burrow pass short middle to T.Boyd to CIN 30 for 9 yards (J.Hawkins).\n",
       "1      (2:13) (Shotgun) J.Burrow pass short right to H.Hurst to CIN 12 for 4 yards (L.Vander Esch).\n",
       "2           (2:00) (Shotgun) D.Mills pass short right to D.Pierce to HST 26 for 6 yards (D.Walker).\n",
       "3     (9:28) (Shotgun) P.Mahomes pass short left to I.Pacheco to TEN 19 for 4 yards (Z.Cunningham).\n",
       "8         (12:51) (Shotgun) J.Hurts pass incomplete short right to D.Smith (A.Bryant) [J.Cominsky].\n",
       "9                (5:22) (Shotgun) C.Rush pass short left to M.Gallup to 50 for 15 yards (K.Fuller).\n",
       "10                                (8:51) (Shotgun) C.Rush pass incomplete short right to D.Schultz.\n",
       "Name: playDescription, dtype: object"
      ]
     },
     "execution_count": 64,
     "metadata": {},
     "output_type": "execute_result"
    }
   ],
   "source": [
    "plays.query('qbSneak.isna()')['playDescription'].head(7)"
   ]
  },
  {
   "cell_type": "markdown",
   "id": "5c4831be",
   "metadata": {},
   "source": [
    "Пасы?"
   ]
  },
  {
   "cell_type": "code",
   "execution_count": 65,
   "id": "b3066009",
   "metadata": {},
   "outputs": [],
   "source": [
    "def had_pass(row):\n",
    "    return True if ' pass ' in row.lower() else False\n"
   ]
  },
  {
   "cell_type": "code",
   "execution_count": 66,
   "id": "8aa047aa",
   "metadata": {},
   "outputs": [
    {
     "data": {
      "text/plain": [
       "8705"
      ]
     },
     "execution_count": 66,
     "metadata": {},
     "output_type": "execute_result"
    }
   ],
   "source": [
    "len(plays[(plays['playDescription'].apply(had_pass)) & (plays['qbSneak'].isna())])"
   ]
  },
  {
   "cell_type": "code",
   "execution_count": 67,
   "id": "ad642a03",
   "metadata": {},
   "outputs": [],
   "source": [
    "plays.loc[(plays['playDescription'].apply(had_pass)) & (plays['qbSneak'].isna()), 'qbSneak'] = 0"
   ]
  },
  {
   "cell_type": "code",
   "execution_count": 68,
   "id": "6921e7fe",
   "metadata": {},
   "outputs": [
    {
     "data": {
      "text/plain": [
       "90                                   (5:04) (Shotgun) M.Trubisky sacked at PIT 10 for -3 yards (J.Phillips).\n",
       "101      (10:55) (Shotgun) M.Mariota sacked at SEA 36 for -7 yards (D.Taylor). FUMBLES (D.Taylor) [D.Tayl...\n",
       "133                                          (:38) (Shotgun) D.Carr sacked at LV 12 for -7 yards (R.Weaver).\n",
       "135                                     (12:49) (Shotgun) A.Rodgers sacked at GB 43 for -5 yards (D.Wonnum).\n",
       "232                                              (13:33) B.Mayfield sacked at CAR 42 for -3 yards (D.Davis).\n",
       "                                                        ...                                                 \n",
       "16061                                      (:41) (Shotgun) Z.Wilson sacked at NYJ 14 for -5 yards (D.Jones).\n",
       "16074                                        (14:21) (Shotgun) D.Carr sacked at LV 24 for -8 yards (J.Watt).\n",
       "16082                                              (14:47) J.Fields sacked at CHI 15 for -5 yards (P.Smith).\n",
       "16099                               (5:06) (Shotgun) J.Herbert sacked at LAC 22 for -7 yards (M.Henningsen).\n",
       "16107    (2:05) (Shotgun) T.Heinicke sacked at WAS 7 for -12 yards (sack split by Y.Ngakoue and I.Odenigbo).\n",
       "Name: playDescription, Length: 631, dtype: object"
      ]
     },
     "execution_count": 68,
     "metadata": {},
     "output_type": "execute_result"
    }
   ],
   "source": [
    "plays.query('qbSneak.isna()')['playDescription']"
   ]
  },
  {
   "cell_type": "code",
   "execution_count": 69,
   "id": "1cd4096d",
   "metadata": {},
   "outputs": [
    {
     "data": {
      "text/plain": [
       "609"
      ]
     },
     "execution_count": 69,
     "metadata": {},
     "output_type": "execute_result"
    }
   ],
   "source": [
    "def sacked(row):\n",
    "    return True if 'sack' in row.lower() else False\n",
    "\n",
    "len(plays.loc[(plays['playDescription'].apply(sacked))])"
   ]
  },
  {
   "cell_type": "code",
   "execution_count": 70,
   "id": "4c821ae0",
   "metadata": {},
   "outputs": [
    {
     "data": {
      "text/plain": [
       "608"
      ]
     },
     "execution_count": 70,
     "metadata": {},
     "output_type": "execute_result"
    }
   ],
   "source": [
    "len(plays.loc[(plays['qbSneak'].isna()) & (plays['passResult']==\"S\") & (plays['playDescription'].apply(sacked))])"
   ]
  },
  {
   "cell_type": "code",
   "execution_count": 71,
   "id": "7fa5727f",
   "metadata": {},
   "outputs": [],
   "source": [
    "plays.loc[(plays['qbSneak'].isna()) & (plays['passResult']==\"S\") & (plays['playDescription'].apply(sacked)), 'qbSneak'] = 0"
   ]
  },
  {
   "cell_type": "markdown",
   "id": "ec4836c8",
   "metadata": {},
   "source": [
    "Оставшиеся:"
   ]
  },
  {
   "cell_type": "code",
   "execution_count": 72,
   "id": "fb5054e9",
   "metadata": {},
   "outputs": [
    {
     "data": {
      "text/html": [
       "<div>\n",
       "<style scoped>\n",
       "    .dataframe tbody tr th:only-of-type {\n",
       "        vertical-align: middle;\n",
       "    }\n",
       "\n",
       "    .dataframe tbody tr th {\n",
       "        vertical-align: top;\n",
       "    }\n",
       "\n",
       "    .dataframe thead th {\n",
       "        text-align: right;\n",
       "    }\n",
       "</style>\n",
       "<table border=\"1\" class=\"dataframe\">\n",
       "  <thead>\n",
       "    <tr style=\"text-align: right;\">\n",
       "      <th></th>\n",
       "      <th>playDescription</th>\n",
       "      <th>qbSpike</th>\n",
       "    </tr>\n",
       "  </thead>\n",
       "  <tbody>\n",
       "    <tr>\n",
       "      <th>468</th>\n",
       "      <td>(:15) (No Huddle) J.Allen spiked the ball to stop the clock.</td>\n",
       "      <td>1</td>\n",
       "    </tr>\n",
       "    <tr>\n",
       "      <th>530</th>\n",
       "      <td>(:01) K.Cousins spiked the ball to stop the clock.</td>\n",
       "      <td>1</td>\n",
       "    </tr>\n",
       "    <tr>\n",
       "      <th>620</th>\n",
       "      <td>(:14) (No Huddle) M.Ryan spiked the ball to stop the clock.</td>\n",
       "      <td>1</td>\n",
       "    </tr>\n",
       "    <tr>\n",
       "      <th>717</th>\n",
       "      <td>(:09) M.Trubisky spiked the ball to stop the clock.</td>\n",
       "      <td>1</td>\n",
       "    </tr>\n",
       "    <tr>\n",
       "      <th>720</th>\n",
       "      <td>(:17) (No Huddle) J.Brissett spiked the ball to stop the clock.</td>\n",
       "      <td>1</td>\n",
       "    </tr>\n",
       "    <tr>\n",
       "      <th>1271</th>\n",
       "      <td>(:19) (No Huddle) T.Lawrence spiked the ball to stop the clock.</td>\n",
       "      <td>1</td>\n",
       "    </tr>\n",
       "    <tr>\n",
       "      <th>1611</th>\n",
       "      <td>(:37) (No Huddle) K.Murray spiked the ball to stop the clock.</td>\n",
       "      <td>1</td>\n",
       "    </tr>\n",
       "    <tr>\n",
       "      <th>1658</th>\n",
       "      <td>(1:01) (No Huddle) T.Brady spiked the ball to stop the clock.</td>\n",
       "      <td>1</td>\n",
       "    </tr>\n",
       "    <tr>\n",
       "      <th>2355</th>\n",
       "      <td>(:28) (No Huddle) K.Murray spiked the ball to stop the clock.</td>\n",
       "      <td>1</td>\n",
       "    </tr>\n",
       "    <tr>\n",
       "      <th>2501</th>\n",
       "      <td>(:04) (No Huddle) K.Cousins spiked the ball to stop the clock.</td>\n",
       "      <td>1</td>\n",
       "    </tr>\n",
       "    <tr>\n",
       "      <th>2510</th>\n",
       "      <td>(:04) T.Lawrence spiked the ball to stop the clock.</td>\n",
       "      <td>1</td>\n",
       "    </tr>\n",
       "    <tr>\n",
       "      <th>3135</th>\n",
       "      <td>(:06) (No Huddle) A.Rodgers spiked the ball to stop the clock.</td>\n",
       "      <td>1</td>\n",
       "    </tr>\n",
       "    <tr>\n",
       "      <th>3673</th>\n",
       "      <td>(:02) (No Huddle) J.Love spiked the ball to stop the clock.</td>\n",
       "      <td>1</td>\n",
       "    </tr>\n",
       "    <tr>\n",
       "      <th>3910</th>\n",
       "      <td>(:24) J.Goff spiked the ball to stop the clock.</td>\n",
       "      <td>1</td>\n",
       "    </tr>\n",
       "    <tr>\n",
       "      <th>5123</th>\n",
       "      <td>(:14) (No Huddle) J.Brissett spiked the ball to stop the clock.</td>\n",
       "      <td>1</td>\n",
       "    </tr>\n",
       "    <tr>\n",
       "      <th>5262</th>\n",
       "      <td>(:29) (No Huddle) T.Brady spiked the ball to stop the clock.</td>\n",
       "      <td>1</td>\n",
       "    </tr>\n",
       "    <tr>\n",
       "      <th>5889</th>\n",
       "      <td>(:04) (No Huddle) M.Mariota spiked the ball to stop the clock.</td>\n",
       "      <td>1</td>\n",
       "    </tr>\n",
       "    <tr>\n",
       "      <th>7047</th>\n",
       "      <td>(:05) (No Huddle) R.Tannehill spiked the ball to stop the clock.</td>\n",
       "      <td>1</td>\n",
       "    </tr>\n",
       "    <tr>\n",
       "      <th>9880</th>\n",
       "      <td>(:09) (No Huddle) L.Jackson spiked the ball to stop the clock.</td>\n",
       "      <td>1</td>\n",
       "    </tr>\n",
       "    <tr>\n",
       "      <th>10812</th>\n",
       "      <td>(:24) J.Winston spiked the ball to stop the clock.</td>\n",
       "      <td>1</td>\n",
       "    </tr>\n",
       "    <tr>\n",
       "      <th>12571</th>\n",
       "      <td>(:04) (No Huddle) C.Rush spiked the ball to stop the clock.</td>\n",
       "      <td>1</td>\n",
       "    </tr>\n",
       "    <tr>\n",
       "      <th>12704</th>\n",
       "      <td>(:29) (No Huddle) J.Brissett spiked the ball to stop the clock.</td>\n",
       "      <td>1</td>\n",
       "    </tr>\n",
       "    <tr>\n",
       "      <th>13615</th>\n",
       "      <td>(:38) (No Huddle) J.Winston spiked the ball to stop the clock. PENALTY on NO-J.Winston, Intentio...</td>\n",
       "      <td>1</td>\n",
       "    </tr>\n",
       "  </tbody>\n",
       "</table>\n",
       "</div>"
      ],
      "text/plain": [
       "                                                                                           playDescription  \\\n",
       "468                                           (:15) (No Huddle) J.Allen spiked the ball to stop the clock.   \n",
       "530                                                     (:01) K.Cousins spiked the ball to stop the clock.   \n",
       "620                                            (:14) (No Huddle) M.Ryan spiked the ball to stop the clock.   \n",
       "717                                                    (:09) M.Trubisky spiked the ball to stop the clock.   \n",
       "720                                        (:17) (No Huddle) J.Brissett spiked the ball to stop the clock.   \n",
       "1271                                       (:19) (No Huddle) T.Lawrence spiked the ball to stop the clock.   \n",
       "1611                                         (:37) (No Huddle) K.Murray spiked the ball to stop the clock.   \n",
       "1658                                         (1:01) (No Huddle) T.Brady spiked the ball to stop the clock.   \n",
       "2355                                         (:28) (No Huddle) K.Murray spiked the ball to stop the clock.   \n",
       "2501                                        (:04) (No Huddle) K.Cousins spiked the ball to stop the clock.   \n",
       "2510                                                   (:04) T.Lawrence spiked the ball to stop the clock.   \n",
       "3135                                        (:06) (No Huddle) A.Rodgers spiked the ball to stop the clock.   \n",
       "3673                                           (:02) (No Huddle) J.Love spiked the ball to stop the clock.   \n",
       "3910                                                       (:24) J.Goff spiked the ball to stop the clock.   \n",
       "5123                                       (:14) (No Huddle) J.Brissett spiked the ball to stop the clock.   \n",
       "5262                                          (:29) (No Huddle) T.Brady spiked the ball to stop the clock.   \n",
       "5889                                        (:04) (No Huddle) M.Mariota spiked the ball to stop the clock.   \n",
       "7047                                      (:05) (No Huddle) R.Tannehill spiked the ball to stop the clock.   \n",
       "9880                                        (:09) (No Huddle) L.Jackson spiked the ball to stop the clock.   \n",
       "10812                                                   (:24) J.Winston spiked the ball to stop the clock.   \n",
       "12571                                          (:04) (No Huddle) C.Rush spiked the ball to stop the clock.   \n",
       "12704                                      (:29) (No Huddle) J.Brissett spiked the ball to stop the clock.   \n",
       "13615  (:38) (No Huddle) J.Winston spiked the ball to stop the clock. PENALTY on NO-J.Winston, Intentio...   \n",
       "\n",
       "       qbSpike  \n",
       "468          1  \n",
       "530          1  \n",
       "620          1  \n",
       "717          1  \n",
       "720          1  \n",
       "1271         1  \n",
       "1611         1  \n",
       "1658         1  \n",
       "2355         1  \n",
       "2501         1  \n",
       "2510         1  \n",
       "3135         1  \n",
       "3673         1  \n",
       "3910         1  \n",
       "5123         1  \n",
       "5262         1  \n",
       "5889         1  \n",
       "7047         1  \n",
       "9880         1  \n",
       "10812        1  \n",
       "12571        1  \n",
       "12704        1  \n",
       "13615        1  "
      ]
     },
     "execution_count": 72,
     "metadata": {},
     "output_type": "execute_result"
    }
   ],
   "source": [
    "plays[plays['qbSneak'].isna()][['playDescription', 'qbSpike']]"
   ]
  },
  {
   "cell_type": "code",
   "execution_count": 73,
   "id": "1766ecb2",
   "metadata": {},
   "outputs": [],
   "source": [
    "plays.loc[plays['qbSpike'] == 1, 'qbSneak'] = 0"
   ]
  },
  {
   "cell_type": "code",
   "execution_count": 74,
   "id": "78932305",
   "metadata": {},
   "outputs": [
    {
     "data": {
      "text/plain": [
       "0"
      ]
     },
     "execution_count": 74,
     "metadata": {},
     "output_type": "execute_result"
    }
   ],
   "source": [
    "plays['qbSneak'].isna().sum()"
   ]
  },
  {
   "cell_type": "markdown",
   "id": "69de9fc0",
   "metadata": {},
   "source": [
    "# Pass\n",
    "\n",
    "\n",
    "`passLocationType`, `passResult`, `passLength`, `targetX`, `targetY`, `passTippedAtLine`"
   ]
  },
  {
   "cell_type": "code",
   "execution_count": 75,
   "id": "9b71c119",
   "metadata": {},
   "outputs": [
    {
     "data": {
      "text/plain": [
       "NA    6388\n",
       "C     5624\n",
       "I     2911\n",
       "S      608\n",
       "R      400\n",
       "IN     193\n",
       "Name: passResult, dtype: int64"
      ]
     },
     "execution_count": 75,
     "metadata": {},
     "output_type": "execute_result"
    }
   ],
   "source": [
    "# plays.query('passResult.isna()')\n",
    "\n",
    "plays.passResult.fillna('NA').value_counts()"
   ]
  },
  {
   "cell_type": "markdown",
   "id": "c3d699fc",
   "metadata": {},
   "source": [
    "1. Check playdescription strings\n",
    "2. Check other fields."
   ]
  },
  {
   "cell_type": "markdown",
   "id": "78495a96",
   "metadata": {},
   "source": [
    "#### 1. Check Incomplete \n",
    "\n"
   ]
  },
  {
   "cell_type": "code",
   "execution_count": 76,
   "id": "ebbc2c98",
   "metadata": {},
   "outputs": [
    {
     "data": {
      "text/plain": [
       "I     2888\n",
       "C        5\n",
       "IN       1\n",
       "Name: passResult, dtype: int64"
      ]
     },
     "execution_count": 76,
     "metadata": {},
     "output_type": "execute_result"
    }
   ],
   "source": [
    "plays[plays['playDescription'].str.contains('incomplete', case=False)]['passResult'].value_counts()"
   ]
  },
  {
   "cell_type": "code",
   "execution_count": 77,
   "id": "67d2a5c9",
   "metadata": {},
   "outputs": [],
   "source": [
    "# pd.set_option('max_colwidth', 300)\n",
    "\n",
    "\n",
    "# plays[\n",
    "#     (plays['playDescription'].str.contains('incomplete', case=False)) &\n",
    "#     (plays['passResult'] != 'I')\n",
    "# ]['playDescription'].to_frame()\n",
    "\n",
    "# ok"
   ]
  },
  {
   "cell_type": "code",
   "execution_count": 78,
   "id": "7b13bcac",
   "metadata": {},
   "outputs": [
    {
     "data": {
      "text/plain": [
       "playDescription    0\n",
       "passLength         0\n",
       "targetX            0\n",
       "targetY            0\n",
       "dtype: int64"
      ]
     },
     "execution_count": 78,
     "metadata": {},
     "output_type": "execute_result"
    }
   ],
   "source": [
    "plays.query('passResult==\"C\"')[['playDescription', 'passLength', 'targetX', 'targetY' ]].isna().sum()"
   ]
  },
  {
   "cell_type": "code",
   "execution_count": 79,
   "id": "db34e6bf",
   "metadata": {},
   "outputs": [
    {
     "data": {
      "text/plain": [
       "True"
      ]
     },
     "execution_count": 79,
     "metadata": {},
     "output_type": "execute_result"
    }
   ],
   "source": [
    "completed = set(plays.query('passResult==\"C\"').index)  # 5624 штук\n",
    "\n",
    "had_pass_set = set(plays.loc[(plays['playDescription'].apply(had_pass))].index)\n",
    "\n",
    "completed.issubset(had_pass_set)"
   ]
  },
  {
   "cell_type": "code",
   "execution_count": 80,
   "id": "a9e22666",
   "metadata": {},
   "outputs": [
    {
     "data": {
      "text/html": [
       "<div>\n",
       "<style scoped>\n",
       "    .dataframe tbody tr th:only-of-type {\n",
       "        vertical-align: middle;\n",
       "    }\n",
       "\n",
       "    .dataframe tbody tr th {\n",
       "        vertical-align: top;\n",
       "    }\n",
       "\n",
       "    .dataframe thead th {\n",
       "        text-align: right;\n",
       "    }\n",
       "</style>\n",
       "<table border=\"1\" class=\"dataframe\">\n",
       "  <thead>\n",
       "    <tr style=\"text-align: right;\">\n",
       "      <th></th>\n",
       "      <th>gameId</th>\n",
       "      <th>playId</th>\n",
       "      <th>playDescription</th>\n",
       "      <th>quarter</th>\n",
       "      <th>down</th>\n",
       "      <th>yardsToGo</th>\n",
       "      <th>possessionTeam</th>\n",
       "      <th>defensiveTeam</th>\n",
       "      <th>yardlineSide</th>\n",
       "      <th>yardlineNumber</th>\n",
       "      <th>...</th>\n",
       "      <th>prePenaltyYardsGained</th>\n",
       "      <th>yardsGained</th>\n",
       "      <th>isDropback</th>\n",
       "      <th>pff_runConceptPrimary</th>\n",
       "      <th>pff_runConceptSecondary</th>\n",
       "      <th>pff_runPassOption</th>\n",
       "      <th>pff_passCoverage</th>\n",
       "      <th>pff_manZone</th>\n",
       "      <th>distanceFromOwnEndZone</th>\n",
       "      <th>penalty</th>\n",
       "    </tr>\n",
       "  </thead>\n",
       "  <tbody>\n",
       "    <tr>\n",
       "      <th>8</th>\n",
       "      <td>2022091104</td>\n",
       "      <td>3662</td>\n",
       "      <td>(12:51) (Shotgun) J.Hurts pass incomplete short right to D.Smith (A.Bryant) [J.Cominsky].</td>\n",
       "      <td>4</td>\n",
       "      <td>3</td>\n",
       "      <td>12</td>\n",
       "      <td>PHI</td>\n",
       "      <td>DET</td>\n",
       "      <td>PHI</td>\n",
       "      <td>35</td>\n",
       "      <td>...</td>\n",
       "      <td>0.0</td>\n",
       "      <td>0</td>\n",
       "      <td>1</td>\n",
       "      <td>NaN</td>\n",
       "      <td>NaN</td>\n",
       "      <td>0</td>\n",
       "      <td>Cover-0</td>\n",
       "      <td>Man</td>\n",
       "      <td>35</td>\n",
       "      <td>0</td>\n",
       "    </tr>\n",
       "    <tr>\n",
       "      <th>10</th>\n",
       "      <td>2022100912</td>\n",
       "      <td>445</td>\n",
       "      <td>(8:51) (Shotgun) C.Rush pass incomplete short right to D.Schultz.</td>\n",
       "      <td>1</td>\n",
       "      <td>3</td>\n",
       "      <td>5</td>\n",
       "      <td>DAL</td>\n",
       "      <td>LA</td>\n",
       "      <td>LA</td>\n",
       "      <td>15</td>\n",
       "      <td>...</td>\n",
       "      <td>0.0</td>\n",
       "      <td>0</td>\n",
       "      <td>1</td>\n",
       "      <td>NaN</td>\n",
       "      <td>NaN</td>\n",
       "      <td>0</td>\n",
       "      <td>Cover-3 Seam</td>\n",
       "      <td>Zone</td>\n",
       "      <td>85</td>\n",
       "      <td>0</td>\n",
       "    </tr>\n",
       "    <tr>\n",
       "      <th>17</th>\n",
       "      <td>2022102308</td>\n",
       "      <td>3304</td>\n",
       "      <td>(2:57) (No Huddle, Shotgun) D.Mills pass incomplete short left to D.Ogunbowale.</td>\n",
       "      <td>4</td>\n",
       "      <td>2</td>\n",
       "      <td>1</td>\n",
       "      <td>HOU</td>\n",
       "      <td>LV</td>\n",
       "      <td>HOU</td>\n",
       "      <td>29</td>\n",
       "      <td>...</td>\n",
       "      <td>0.0</td>\n",
       "      <td>0</td>\n",
       "      <td>1</td>\n",
       "      <td>NaN</td>\n",
       "      <td>NaN</td>\n",
       "      <td>0</td>\n",
       "      <td>Quarters</td>\n",
       "      <td>Zone</td>\n",
       "      <td>29</td>\n",
       "      <td>0</td>\n",
       "    </tr>\n",
       "    <tr>\n",
       "      <th>23</th>\n",
       "      <td>2022092506</td>\n",
       "      <td>1412</td>\n",
       "      <td>(8:41) J.Burrow pass incomplete short right to J.Mixon [L.Joyner].</td>\n",
       "      <td>2</td>\n",
       "      <td>1</td>\n",
       "      <td>4</td>\n",
       "      <td>CIN</td>\n",
       "      <td>NYJ</td>\n",
       "      <td>NYJ</td>\n",
       "      <td>4</td>\n",
       "      <td>...</td>\n",
       "      <td>0.0</td>\n",
       "      <td>0</td>\n",
       "      <td>1</td>\n",
       "      <td>OUTSIDE ZONE</td>\n",
       "      <td>NaN</td>\n",
       "      <td>0</td>\n",
       "      <td>Cover-0</td>\n",
       "      <td>Man</td>\n",
       "      <td>96</td>\n",
       "      <td>0</td>\n",
       "    </tr>\n",
       "    <tr>\n",
       "      <th>30</th>\n",
       "      <td>2022091803</td>\n",
       "      <td>1222</td>\n",
       "      <td>(6:03) (Shotgun) M.Ryan pass incomplete short middle to D.Patmon.</td>\n",
       "      <td>2</td>\n",
       "      <td>3</td>\n",
       "      <td>6</td>\n",
       "      <td>IND</td>\n",
       "      <td>JAX</td>\n",
       "      <td>IND</td>\n",
       "      <td>26</td>\n",
       "      <td>...</td>\n",
       "      <td>0.0</td>\n",
       "      <td>0</td>\n",
       "      <td>1</td>\n",
       "      <td>NaN</td>\n",
       "      <td>NaN</td>\n",
       "      <td>0</td>\n",
       "      <td>2-Man</td>\n",
       "      <td>Man</td>\n",
       "      <td>26</td>\n",
       "      <td>0</td>\n",
       "    </tr>\n",
       "    <tr>\n",
       "      <th>...</th>\n",
       "      <td>...</td>\n",
       "      <td>...</td>\n",
       "      <td>...</td>\n",
       "      <td>...</td>\n",
       "      <td>...</td>\n",
       "      <td>...</td>\n",
       "      <td>...</td>\n",
       "      <td>...</td>\n",
       "      <td>...</td>\n",
       "      <td>...</td>\n",
       "      <td>...</td>\n",
       "      <td>...</td>\n",
       "      <td>...</td>\n",
       "      <td>...</td>\n",
       "      <td>...</td>\n",
       "      <td>...</td>\n",
       "      <td>...</td>\n",
       "      <td>...</td>\n",
       "      <td>...</td>\n",
       "      <td>...</td>\n",
       "      <td>...</td>\n",
       "    </tr>\n",
       "    <tr>\n",
       "      <th>16100</th>\n",
       "      <td>2022101611</td>\n",
       "      <td>742</td>\n",
       "      <td>(:53) (Shotgun) J.Hurts pass incomplete short right. Thrown away from outside the pocket.</td>\n",
       "      <td>1</td>\n",
       "      <td>2</td>\n",
       "      <td>12</td>\n",
       "      <td>PHI</td>\n",
       "      <td>DAL</td>\n",
       "      <td>DAL</td>\n",
       "      <td>18</td>\n",
       "      <td>...</td>\n",
       "      <td>0.0</td>\n",
       "      <td>0</td>\n",
       "      <td>1</td>\n",
       "      <td>OUTSIDE ZONE</td>\n",
       "      <td>NaN</td>\n",
       "      <td>1</td>\n",
       "      <td>Cover-1</td>\n",
       "      <td>Man</td>\n",
       "      <td>82</td>\n",
       "      <td>0</td>\n",
       "    </tr>\n",
       "    <tr>\n",
       "      <th>16103</th>\n",
       "      <td>2022092513</td>\n",
       "      <td>532</td>\n",
       "      <td>(7:19) (Shotgun) R.Wilson pass incomplete short middle to A.Okwuegbunam.</td>\n",
       "      <td>1</td>\n",
       "      <td>3</td>\n",
       "      <td>2</td>\n",
       "      <td>DEN</td>\n",
       "      <td>SF</td>\n",
       "      <td>DEN</td>\n",
       "      <td>33</td>\n",
       "      <td>...</td>\n",
       "      <td>0.0</td>\n",
       "      <td>0</td>\n",
       "      <td>1</td>\n",
       "      <td>NaN</td>\n",
       "      <td>NaN</td>\n",
       "      <td>0</td>\n",
       "      <td>Cover-2</td>\n",
       "      <td>Zone</td>\n",
       "      <td>33</td>\n",
       "      <td>0</td>\n",
       "    </tr>\n",
       "    <tr>\n",
       "      <th>16119</th>\n",
       "      <td>2022110604</td>\n",
       "      <td>1051</td>\n",
       "      <td>(12:49) (Shotgun) T.Lawrence pass incomplete short right to E.Engram.</td>\n",
       "      <td>2</td>\n",
       "      <td>3</td>\n",
       "      <td>4</td>\n",
       "      <td>JAX</td>\n",
       "      <td>LV</td>\n",
       "      <td>JAX</td>\n",
       "      <td>31</td>\n",
       "      <td>...</td>\n",
       "      <td>0.0</td>\n",
       "      <td>0</td>\n",
       "      <td>1</td>\n",
       "      <td>NaN</td>\n",
       "      <td>NaN</td>\n",
       "      <td>0</td>\n",
       "      <td>Cover-2</td>\n",
       "      <td>Zone</td>\n",
       "      <td>31</td>\n",
       "      <td>0</td>\n",
       "    </tr>\n",
       "    <tr>\n",
       "      <th>16120</th>\n",
       "      <td>2022103005</td>\n",
       "      <td>3492</td>\n",
       "      <td>(12:32) (Shotgun) K.Cousins pass incomplete deep right.</td>\n",
       "      <td>4</td>\n",
       "      <td>1</td>\n",
       "      <td>10</td>\n",
       "      <td>MIN</td>\n",
       "      <td>ARI</td>\n",
       "      <td>MIN</td>\n",
       "      <td>25</td>\n",
       "      <td>...</td>\n",
       "      <td>0.0</td>\n",
       "      <td>0</td>\n",
       "      <td>1</td>\n",
       "      <td>NaN</td>\n",
       "      <td>NaN</td>\n",
       "      <td>0</td>\n",
       "      <td>Cover-3</td>\n",
       "      <td>Zone</td>\n",
       "      <td>25</td>\n",
       "      <td>0</td>\n",
       "    </tr>\n",
       "    <tr>\n",
       "      <th>16122</th>\n",
       "      <td>2022091809</td>\n",
       "      <td>719</td>\n",
       "      <td>(:45) C.Rush pass incomplete deep right to C.Lamb.</td>\n",
       "      <td>1</td>\n",
       "      <td>1</td>\n",
       "      <td>10</td>\n",
       "      <td>DAL</td>\n",
       "      <td>CIN</td>\n",
       "      <td>CIN</td>\n",
       "      <td>47</td>\n",
       "      <td>...</td>\n",
       "      <td>0.0</td>\n",
       "      <td>0</td>\n",
       "      <td>1</td>\n",
       "      <td>UNDEFINED</td>\n",
       "      <td>NaN</td>\n",
       "      <td>0</td>\n",
       "      <td>Cover-3</td>\n",
       "      <td>Zone</td>\n",
       "      <td>53</td>\n",
       "      <td>0</td>\n",
       "    </tr>\n",
       "  </tbody>\n",
       "</table>\n",
       "<p>2888 rows × 45 columns</p>\n",
       "</div>"
      ],
      "text/plain": [
       "           gameId  playId  \\\n",
       "8      2022091104    3662   \n",
       "10     2022100912     445   \n",
       "17     2022102308    3304   \n",
       "23     2022092506    1412   \n",
       "30     2022091803    1222   \n",
       "...           ...     ...   \n",
       "16100  2022101611     742   \n",
       "16103  2022092513     532   \n",
       "16119  2022110604    1051   \n",
       "16120  2022103005    3492   \n",
       "16122  2022091809     719   \n",
       "\n",
       "                                                                                 playDescription  \\\n",
       "8      (12:51) (Shotgun) J.Hurts pass incomplete short right to D.Smith (A.Bryant) [J.Cominsky].   \n",
       "10                             (8:51) (Shotgun) C.Rush pass incomplete short right to D.Schultz.   \n",
       "17               (2:57) (No Huddle, Shotgun) D.Mills pass incomplete short left to D.Ogunbowale.   \n",
       "23                            (8:41) J.Burrow pass incomplete short right to J.Mixon [L.Joyner].   \n",
       "30                             (6:03) (Shotgun) M.Ryan pass incomplete short middle to D.Patmon.   \n",
       "...                                                                                          ...   \n",
       "16100  (:53) (Shotgun) J.Hurts pass incomplete short right. Thrown away from outside the pocket.   \n",
       "16103                   (7:19) (Shotgun) R.Wilson pass incomplete short middle to A.Okwuegbunam.   \n",
       "16119                      (12:49) (Shotgun) T.Lawrence pass incomplete short right to E.Engram.   \n",
       "16120                                    (12:32) (Shotgun) K.Cousins pass incomplete deep right.   \n",
       "16122                                         (:45) C.Rush pass incomplete deep right to C.Lamb.   \n",
       "\n",
       "       quarter  down  yardsToGo possessionTeam defensiveTeam yardlineSide  \\\n",
       "8            4     3         12            PHI           DET          PHI   \n",
       "10           1     3          5            DAL            LA           LA   \n",
       "17           4     2          1            HOU            LV          HOU   \n",
       "23           2     1          4            CIN           NYJ          NYJ   \n",
       "30           2     3          6            IND           JAX          IND   \n",
       "...        ...   ...        ...            ...           ...          ...   \n",
       "16100        1     2         12            PHI           DAL          DAL   \n",
       "16103        1     3          2            DEN            SF          DEN   \n",
       "16119        2     3          4            JAX            LV          JAX   \n",
       "16120        4     1         10            MIN           ARI          MIN   \n",
       "16122        1     1         10            DAL           CIN          CIN   \n",
       "\n",
       "       yardlineNumber  ... prePenaltyYardsGained  yardsGained  isDropback  \\\n",
       "8                  35  ...                   0.0            0           1   \n",
       "10                 15  ...                   0.0            0           1   \n",
       "17                 29  ...                   0.0            0           1   \n",
       "23                  4  ...                   0.0            0           1   \n",
       "30                 26  ...                   0.0            0           1   \n",
       "...               ...  ...                   ...          ...         ...   \n",
       "16100              18  ...                   0.0            0           1   \n",
       "16103              33  ...                   0.0            0           1   \n",
       "16119              31  ...                   0.0            0           1   \n",
       "16120              25  ...                   0.0            0           1   \n",
       "16122              47  ...                   0.0            0           1   \n",
       "\n",
       "       pff_runConceptPrimary pff_runConceptSecondary pff_runPassOption  \\\n",
       "8                        NaN                     NaN                 0   \n",
       "10                       NaN                     NaN                 0   \n",
       "17                       NaN                     NaN                 0   \n",
       "23              OUTSIDE ZONE                     NaN                 0   \n",
       "30                       NaN                     NaN                 0   \n",
       "...                      ...                     ...               ...   \n",
       "16100           OUTSIDE ZONE                     NaN                 1   \n",
       "16103                    NaN                     NaN                 0   \n",
       "16119                    NaN                     NaN                 0   \n",
       "16120                    NaN                     NaN                 0   \n",
       "16122              UNDEFINED                     NaN                 0   \n",
       "\n",
       "       pff_passCoverage pff_manZone  distanceFromOwnEndZone  penalty  \n",
       "8               Cover-0         Man                      35        0  \n",
       "10         Cover-3 Seam        Zone                      85        0  \n",
       "17             Quarters        Zone                      29        0  \n",
       "23              Cover-0         Man                      96        0  \n",
       "30                2-Man         Man                      26        0  \n",
       "...                 ...         ...                     ...      ...  \n",
       "16100           Cover-1         Man                      82        0  \n",
       "16103           Cover-2        Zone                      33        0  \n",
       "16119           Cover-2        Zone                      31        0  \n",
       "16120           Cover-3        Zone                      25        0  \n",
       "16122           Cover-3        Zone                      53        0  \n",
       "\n",
       "[2888 rows x 45 columns]"
      ]
     },
     "execution_count": 80,
     "metadata": {},
     "output_type": "execute_result"
    }
   ],
   "source": [
    "completed = (plays.loc[(plays['passResult']==\"C\") & (plays['playDescription'].apply(had_pass))])\n",
    "\n",
    "plays[(plays['playDescription'].str.contains('incomplete', case=False)) & (plays['passResult'] == 'I')]"
   ]
  },
  {
   "cell_type": "code",
   "execution_count": null,
   "id": "29c709a2",
   "metadata": {},
   "outputs": [],
   "source": []
  },
  {
   "cell_type": "code",
   "execution_count": 81,
   "id": "f0acc03c",
   "metadata": {},
   "outputs": [
    {
     "data": {
      "text/plain": [
       "False"
      ]
     },
     "execution_count": 81,
     "metadata": {},
     "output_type": "execute_result"
    }
   ],
   "source": [
    "len(plays.loc[(plays['playDescription'].apply(sacked))]) == len(plays.loc[(plays['passResult']==\"S\")])\n"
   ]
  },
  {
   "cell_type": "code",
   "execution_count": 82,
   "id": "25b041c3",
   "metadata": {},
   "outputs": [
    {
     "data": {
      "text/html": [
       "<div>\n",
       "<style scoped>\n",
       "    .dataframe tbody tr th:only-of-type {\n",
       "        vertical-align: middle;\n",
       "    }\n",
       "\n",
       "    .dataframe tbody tr th {\n",
       "        vertical-align: top;\n",
       "    }\n",
       "\n",
       "    .dataframe thead th {\n",
       "        text-align: right;\n",
       "    }\n",
       "</style>\n",
       "<table border=\"1\" class=\"dataframe\">\n",
       "  <thead>\n",
       "    <tr style=\"text-align: right;\">\n",
       "      <th></th>\n",
       "      <th>playDescription</th>\n",
       "      <th>passResult</th>\n",
       "      <th>passLength</th>\n",
       "      <th>targetX</th>\n",
       "      <th>targetY</th>\n",
       "    </tr>\n",
       "  </thead>\n",
       "  <tbody>\n",
       "    <tr>\n",
       "      <th>3005</th>\n",
       "      <td>(3:37) T.Heinicke sacked at GB 48 for -10 yards (K.Enagbare). FUMBLES (K.Enagbare) [K.Enagbare],...</td>\n",
       "      <td>I</td>\n",
       "      <td>-7.0</td>\n",
       "      <td>96.19</td>\n",
       "      <td>32.02</td>\n",
       "    </tr>\n",
       "  </tbody>\n",
       "</table>\n",
       "</div>"
      ],
      "text/plain": [
       "                                                                                          playDescription  \\\n",
       "3005  (3:37) T.Heinicke sacked at GB 48 for -10 yards (K.Enagbare). FUMBLES (K.Enagbare) [K.Enagbare],...   \n",
       "\n",
       "     passResult  passLength  targetX  targetY  \n",
       "3005          I        -7.0    96.19    32.02  "
      ]
     },
     "execution_count": 82,
     "metadata": {},
     "output_type": "execute_result"
    }
   ],
   "source": [
    "idx = list(set(plays.loc[(plays['playDescription'].apply(sacked))].index) - set(plays.loc[(plays['passResult']==\"S\")].index))\n",
    "plays.loc[idx][['playDescription', 'passResult', 'passLength', 'targetX', 'targetY' ]]\n",
    "\n"
   ]
  },
  {
   "cell_type": "code",
   "execution_count": 83,
   "id": "88062bc9",
   "metadata": {},
   "outputs": [],
   "source": [
    "# plays.loc[(plays['playDescription'].str.contains('sacked', case=False))]['passResult'].fillna('NA').value_counts()"
   ]
  },
  {
   "cell_type": "code",
   "execution_count": 84,
   "id": "405e4eca",
   "metadata": {},
   "outputs": [
    {
     "name": "stdout",
     "output_type": "stream",
     "text": [
      "164\n",
      "0\n",
      "0\n"
     ]
    }
   ],
   "source": [
    "print(plays.loc[(plays['playDescription'].apply(kneels))]['passResult'].isna().sum())\n",
    "print(plays.loc[(plays['playDescription'].apply(spikes))]['passResult'].isna().sum())\n",
    "print(plays.loc[(plays['playDescription'].apply(had_pass))]['passResult'].isna().sum())"
   ]
  },
  {
   "cell_type": "code",
   "execution_count": 85,
   "id": "19435604",
   "metadata": {},
   "outputs": [],
   "source": [
    "plays.loc[(plays['qbKneel']==1, 'passResult')] = \"NoPass\""
   ]
  },
  {
   "cell_type": "code",
   "execution_count": 86,
   "id": "62608574",
   "metadata": {},
   "outputs": [
    {
     "name": "stdout",
     "output_type": "stream",
     "text": [
      "['NoPass']\n",
      "['I']\n",
      "['C' 'I' 'IN' 'R']\n"
     ]
    }
   ],
   "source": [
    "print(plays.loc[(plays['playDescription'].apply(kneels))]['passResult'].unique())\n",
    "print(plays.loc[(plays['playDescription'].apply(spikes))]['passResult'].unique())\n",
    "print(plays.loc[(plays['playDescription'].apply(had_pass))]['passResult'].unique())"
   ]
  },
  {
   "cell_type": "code",
   "execution_count": 87,
   "id": "39c8a274",
   "metadata": {},
   "outputs": [
    {
     "data": {
      "text/html": [
       "<div>\n",
       "<style scoped>\n",
       "    .dataframe tbody tr th:only-of-type {\n",
       "        vertical-align: middle;\n",
       "    }\n",
       "\n",
       "    .dataframe tbody tr th {\n",
       "        vertical-align: top;\n",
       "    }\n",
       "\n",
       "    .dataframe thead th {\n",
       "        text-align: right;\n",
       "    }\n",
       "</style>\n",
       "<table border=\"1\" class=\"dataframe\">\n",
       "  <thead>\n",
       "    <tr style=\"text-align: right;\">\n",
       "      <th></th>\n",
       "      <th>playDescription</th>\n",
       "      <th>passResult</th>\n",
       "      <th>timeToThrow</th>\n",
       "      <th>timeInTackleBox</th>\n",
       "      <th>passLength</th>\n",
       "      <th>targetX</th>\n",
       "      <th>dropbackType</th>\n",
       "      <th>targetY</th>\n",
       "      <th>dropbackDistance</th>\n",
       "      <th>yardsGained</th>\n",
       "    </tr>\n",
       "  </thead>\n",
       "  <tbody>\n",
       "    <tr>\n",
       "      <th>468</th>\n",
       "      <td>(:15) (No Huddle) J.Allen spiked the ball to stop the clock.</td>\n",
       "      <td>I</td>\n",
       "      <td>NaN</td>\n",
       "      <td>NaN</td>\n",
       "      <td>0.0</td>\n",
       "      <td>NaN</td>\n",
       "      <td>UNKNOWN</td>\n",
       "      <td>NaN</td>\n",
       "      <td>NaN</td>\n",
       "      <td>0</td>\n",
       "    </tr>\n",
       "    <tr>\n",
       "      <th>530</th>\n",
       "      <td>(:01) K.Cousins spiked the ball to stop the clock.</td>\n",
       "      <td>I</td>\n",
       "      <td>NaN</td>\n",
       "      <td>NaN</td>\n",
       "      <td>0.0</td>\n",
       "      <td>NaN</td>\n",
       "      <td>UNKNOWN</td>\n",
       "      <td>NaN</td>\n",
       "      <td>NaN</td>\n",
       "      <td>0</td>\n",
       "    </tr>\n",
       "    <tr>\n",
       "      <th>620</th>\n",
       "      <td>(:14) (No Huddle) M.Ryan spiked the ball to stop the clock.</td>\n",
       "      <td>I</td>\n",
       "      <td>NaN</td>\n",
       "      <td>NaN</td>\n",
       "      <td>0.0</td>\n",
       "      <td>NaN</td>\n",
       "      <td>UNKNOWN</td>\n",
       "      <td>NaN</td>\n",
       "      <td>NaN</td>\n",
       "      <td>0</td>\n",
       "    </tr>\n",
       "    <tr>\n",
       "      <th>717</th>\n",
       "      <td>(:09) M.Trubisky spiked the ball to stop the clock.</td>\n",
       "      <td>I</td>\n",
       "      <td>NaN</td>\n",
       "      <td>NaN</td>\n",
       "      <td>0.0</td>\n",
       "      <td>NaN</td>\n",
       "      <td>UNKNOWN</td>\n",
       "      <td>NaN</td>\n",
       "      <td>NaN</td>\n",
       "      <td>0</td>\n",
       "    </tr>\n",
       "    <tr>\n",
       "      <th>720</th>\n",
       "      <td>(:17) (No Huddle) J.Brissett spiked the ball to stop the clock.</td>\n",
       "      <td>I</td>\n",
       "      <td>NaN</td>\n",
       "      <td>NaN</td>\n",
       "      <td>NaN</td>\n",
       "      <td>NaN</td>\n",
       "      <td>UNKNOWN</td>\n",
       "      <td>NaN</td>\n",
       "      <td>NaN</td>\n",
       "      <td>0</td>\n",
       "    </tr>\n",
       "    <tr>\n",
       "      <th>1271</th>\n",
       "      <td>(:19) (No Huddle) T.Lawrence spiked the ball to stop the clock.</td>\n",
       "      <td>I</td>\n",
       "      <td>NaN</td>\n",
       "      <td>NaN</td>\n",
       "      <td>NaN</td>\n",
       "      <td>NaN</td>\n",
       "      <td>UNKNOWN</td>\n",
       "      <td>NaN</td>\n",
       "      <td>NaN</td>\n",
       "      <td>0</td>\n",
       "    </tr>\n",
       "    <tr>\n",
       "      <th>1611</th>\n",
       "      <td>(:37) (No Huddle) K.Murray spiked the ball to stop the clock.</td>\n",
       "      <td>I</td>\n",
       "      <td>NaN</td>\n",
       "      <td>NaN</td>\n",
       "      <td>0.0</td>\n",
       "      <td>NaN</td>\n",
       "      <td>UNKNOWN</td>\n",
       "      <td>NaN</td>\n",
       "      <td>NaN</td>\n",
       "      <td>0</td>\n",
       "    </tr>\n",
       "    <tr>\n",
       "      <th>1658</th>\n",
       "      <td>(1:01) (No Huddle) T.Brady spiked the ball to stop the clock.</td>\n",
       "      <td>I</td>\n",
       "      <td>NaN</td>\n",
       "      <td>NaN</td>\n",
       "      <td>0.0</td>\n",
       "      <td>NaN</td>\n",
       "      <td>UNKNOWN</td>\n",
       "      <td>NaN</td>\n",
       "      <td>NaN</td>\n",
       "      <td>0</td>\n",
       "    </tr>\n",
       "    <tr>\n",
       "      <th>2355</th>\n",
       "      <td>(:28) (No Huddle) K.Murray spiked the ball to stop the clock.</td>\n",
       "      <td>I</td>\n",
       "      <td>NaN</td>\n",
       "      <td>NaN</td>\n",
       "      <td>0.0</td>\n",
       "      <td>NaN</td>\n",
       "      <td>UNKNOWN</td>\n",
       "      <td>NaN</td>\n",
       "      <td>NaN</td>\n",
       "      <td>0</td>\n",
       "    </tr>\n",
       "    <tr>\n",
       "      <th>2501</th>\n",
       "      <td>(:04) (No Huddle) K.Cousins spiked the ball to stop the clock.</td>\n",
       "      <td>I</td>\n",
       "      <td>NaN</td>\n",
       "      <td>NaN</td>\n",
       "      <td>0.0</td>\n",
       "      <td>NaN</td>\n",
       "      <td>UNKNOWN</td>\n",
       "      <td>NaN</td>\n",
       "      <td>NaN</td>\n",
       "      <td>0</td>\n",
       "    </tr>\n",
       "    <tr>\n",
       "      <th>2510</th>\n",
       "      <td>(:04) T.Lawrence spiked the ball to stop the clock.</td>\n",
       "      <td>I</td>\n",
       "      <td>NaN</td>\n",
       "      <td>NaN</td>\n",
       "      <td>-1.0</td>\n",
       "      <td>NaN</td>\n",
       "      <td>UNKNOWN</td>\n",
       "      <td>NaN</td>\n",
       "      <td>NaN</td>\n",
       "      <td>0</td>\n",
       "    </tr>\n",
       "    <tr>\n",
       "      <th>3135</th>\n",
       "      <td>(:06) (No Huddle) A.Rodgers spiked the ball to stop the clock.</td>\n",
       "      <td>I</td>\n",
       "      <td>NaN</td>\n",
       "      <td>NaN</td>\n",
       "      <td>0.0</td>\n",
       "      <td>NaN</td>\n",
       "      <td>UNKNOWN</td>\n",
       "      <td>NaN</td>\n",
       "      <td>NaN</td>\n",
       "      <td>0</td>\n",
       "    </tr>\n",
       "    <tr>\n",
       "      <th>3673</th>\n",
       "      <td>(:02) (No Huddle) J.Love spiked the ball to stop the clock.</td>\n",
       "      <td>I</td>\n",
       "      <td>NaN</td>\n",
       "      <td>NaN</td>\n",
       "      <td>0.0</td>\n",
       "      <td>NaN</td>\n",
       "      <td>UNKNOWN</td>\n",
       "      <td>NaN</td>\n",
       "      <td>NaN</td>\n",
       "      <td>0</td>\n",
       "    </tr>\n",
       "    <tr>\n",
       "      <th>3910</th>\n",
       "      <td>(:24) J.Goff spiked the ball to stop the clock.</td>\n",
       "      <td>I</td>\n",
       "      <td>NaN</td>\n",
       "      <td>NaN</td>\n",
       "      <td>0.0</td>\n",
       "      <td>NaN</td>\n",
       "      <td>UNKNOWN</td>\n",
       "      <td>NaN</td>\n",
       "      <td>NaN</td>\n",
       "      <td>0</td>\n",
       "    </tr>\n",
       "    <tr>\n",
       "      <th>5123</th>\n",
       "      <td>(:14) (No Huddle) J.Brissett spiked the ball to stop the clock.</td>\n",
       "      <td>I</td>\n",
       "      <td>NaN</td>\n",
       "      <td>NaN</td>\n",
       "      <td>0.0</td>\n",
       "      <td>NaN</td>\n",
       "      <td>UNKNOWN</td>\n",
       "      <td>NaN</td>\n",
       "      <td>NaN</td>\n",
       "      <td>0</td>\n",
       "    </tr>\n",
       "    <tr>\n",
       "      <th>5262</th>\n",
       "      <td>(:29) (No Huddle) T.Brady spiked the ball to stop the clock.</td>\n",
       "      <td>I</td>\n",
       "      <td>NaN</td>\n",
       "      <td>NaN</td>\n",
       "      <td>0.0</td>\n",
       "      <td>NaN</td>\n",
       "      <td>UNKNOWN</td>\n",
       "      <td>NaN</td>\n",
       "      <td>NaN</td>\n",
       "      <td>0</td>\n",
       "    </tr>\n",
       "    <tr>\n",
       "      <th>5889</th>\n",
       "      <td>(:04) (No Huddle) M.Mariota spiked the ball to stop the clock.</td>\n",
       "      <td>I</td>\n",
       "      <td>NaN</td>\n",
       "      <td>NaN</td>\n",
       "      <td>0.0</td>\n",
       "      <td>NaN</td>\n",
       "      <td>UNKNOWN</td>\n",
       "      <td>NaN</td>\n",
       "      <td>NaN</td>\n",
       "      <td>0</td>\n",
       "    </tr>\n",
       "    <tr>\n",
       "      <th>7047</th>\n",
       "      <td>(:05) (No Huddle) R.Tannehill spiked the ball to stop the clock.</td>\n",
       "      <td>I</td>\n",
       "      <td>NaN</td>\n",
       "      <td>NaN</td>\n",
       "      <td>NaN</td>\n",
       "      <td>NaN</td>\n",
       "      <td>UNKNOWN</td>\n",
       "      <td>NaN</td>\n",
       "      <td>NaN</td>\n",
       "      <td>0</td>\n",
       "    </tr>\n",
       "    <tr>\n",
       "      <th>9880</th>\n",
       "      <td>(:09) (No Huddle) L.Jackson spiked the ball to stop the clock.</td>\n",
       "      <td>I</td>\n",
       "      <td>NaN</td>\n",
       "      <td>NaN</td>\n",
       "      <td>0.0</td>\n",
       "      <td>NaN</td>\n",
       "      <td>UNKNOWN</td>\n",
       "      <td>NaN</td>\n",
       "      <td>NaN</td>\n",
       "      <td>0</td>\n",
       "    </tr>\n",
       "    <tr>\n",
       "      <th>10812</th>\n",
       "      <td>(:24) J.Winston spiked the ball to stop the clock.</td>\n",
       "      <td>I</td>\n",
       "      <td>NaN</td>\n",
       "      <td>NaN</td>\n",
       "      <td>-1.0</td>\n",
       "      <td>NaN</td>\n",
       "      <td>UNKNOWN</td>\n",
       "      <td>NaN</td>\n",
       "      <td>NaN</td>\n",
       "      <td>0</td>\n",
       "    </tr>\n",
       "    <tr>\n",
       "      <th>12571</th>\n",
       "      <td>(:04) (No Huddle) C.Rush spiked the ball to stop the clock.</td>\n",
       "      <td>I</td>\n",
       "      <td>NaN</td>\n",
       "      <td>NaN</td>\n",
       "      <td>0.0</td>\n",
       "      <td>NaN</td>\n",
       "      <td>UNKNOWN</td>\n",
       "      <td>NaN</td>\n",
       "      <td>NaN</td>\n",
       "      <td>0</td>\n",
       "    </tr>\n",
       "    <tr>\n",
       "      <th>12704</th>\n",
       "      <td>(:29) (No Huddle) J.Brissett spiked the ball to stop the clock.</td>\n",
       "      <td>I</td>\n",
       "      <td>NaN</td>\n",
       "      <td>NaN</td>\n",
       "      <td>1.0</td>\n",
       "      <td>NaN</td>\n",
       "      <td>UNKNOWN</td>\n",
       "      <td>NaN</td>\n",
       "      <td>NaN</td>\n",
       "      <td>0</td>\n",
       "    </tr>\n",
       "    <tr>\n",
       "      <th>13615</th>\n",
       "      <td>(:38) (No Huddle) J.Winston spiked the ball to stop the clock. PENALTY on NO-J.Winston, Intentio...</td>\n",
       "      <td>I</td>\n",
       "      <td>NaN</td>\n",
       "      <td>NaN</td>\n",
       "      <td>0.0</td>\n",
       "      <td>NaN</td>\n",
       "      <td>UNKNOWN</td>\n",
       "      <td>NaN</td>\n",
       "      <td>NaN</td>\n",
       "      <td>-10</td>\n",
       "    </tr>\n",
       "  </tbody>\n",
       "</table>\n",
       "</div>"
      ],
      "text/plain": [
       "                                                                                           playDescription  \\\n",
       "468                                           (:15) (No Huddle) J.Allen spiked the ball to stop the clock.   \n",
       "530                                                     (:01) K.Cousins spiked the ball to stop the clock.   \n",
       "620                                            (:14) (No Huddle) M.Ryan spiked the ball to stop the clock.   \n",
       "717                                                    (:09) M.Trubisky spiked the ball to stop the clock.   \n",
       "720                                        (:17) (No Huddle) J.Brissett spiked the ball to stop the clock.   \n",
       "1271                                       (:19) (No Huddle) T.Lawrence spiked the ball to stop the clock.   \n",
       "1611                                         (:37) (No Huddle) K.Murray spiked the ball to stop the clock.   \n",
       "1658                                         (1:01) (No Huddle) T.Brady spiked the ball to stop the clock.   \n",
       "2355                                         (:28) (No Huddle) K.Murray spiked the ball to stop the clock.   \n",
       "2501                                        (:04) (No Huddle) K.Cousins spiked the ball to stop the clock.   \n",
       "2510                                                   (:04) T.Lawrence spiked the ball to stop the clock.   \n",
       "3135                                        (:06) (No Huddle) A.Rodgers spiked the ball to stop the clock.   \n",
       "3673                                           (:02) (No Huddle) J.Love spiked the ball to stop the clock.   \n",
       "3910                                                       (:24) J.Goff spiked the ball to stop the clock.   \n",
       "5123                                       (:14) (No Huddle) J.Brissett spiked the ball to stop the clock.   \n",
       "5262                                          (:29) (No Huddle) T.Brady spiked the ball to stop the clock.   \n",
       "5889                                        (:04) (No Huddle) M.Mariota spiked the ball to stop the clock.   \n",
       "7047                                      (:05) (No Huddle) R.Tannehill spiked the ball to stop the clock.   \n",
       "9880                                        (:09) (No Huddle) L.Jackson spiked the ball to stop the clock.   \n",
       "10812                                                   (:24) J.Winston spiked the ball to stop the clock.   \n",
       "12571                                          (:04) (No Huddle) C.Rush spiked the ball to stop the clock.   \n",
       "12704                                      (:29) (No Huddle) J.Brissett spiked the ball to stop the clock.   \n",
       "13615  (:38) (No Huddle) J.Winston spiked the ball to stop the clock. PENALTY on NO-J.Winston, Intentio...   \n",
       "\n",
       "      passResult  timeToThrow  timeInTackleBox  passLength  targetX  \\\n",
       "468            I          NaN              NaN         0.0      NaN   \n",
       "530            I          NaN              NaN         0.0      NaN   \n",
       "620            I          NaN              NaN         0.0      NaN   \n",
       "717            I          NaN              NaN         0.0      NaN   \n",
       "720            I          NaN              NaN         NaN      NaN   \n",
       "1271           I          NaN              NaN         NaN      NaN   \n",
       "1611           I          NaN              NaN         0.0      NaN   \n",
       "1658           I          NaN              NaN         0.0      NaN   \n",
       "2355           I          NaN              NaN         0.0      NaN   \n",
       "2501           I          NaN              NaN         0.0      NaN   \n",
       "2510           I          NaN              NaN        -1.0      NaN   \n",
       "3135           I          NaN              NaN         0.0      NaN   \n",
       "3673           I          NaN              NaN         0.0      NaN   \n",
       "3910           I          NaN              NaN         0.0      NaN   \n",
       "5123           I          NaN              NaN         0.0      NaN   \n",
       "5262           I          NaN              NaN         0.0      NaN   \n",
       "5889           I          NaN              NaN         0.0      NaN   \n",
       "7047           I          NaN              NaN         NaN      NaN   \n",
       "9880           I          NaN              NaN         0.0      NaN   \n",
       "10812          I          NaN              NaN        -1.0      NaN   \n",
       "12571          I          NaN              NaN         0.0      NaN   \n",
       "12704          I          NaN              NaN         1.0      NaN   \n",
       "13615          I          NaN              NaN         0.0      NaN   \n",
       "\n",
       "      dropbackType  targetY  dropbackDistance  yardsGained  \n",
       "468        UNKNOWN      NaN               NaN            0  \n",
       "530        UNKNOWN      NaN               NaN            0  \n",
       "620        UNKNOWN      NaN               NaN            0  \n",
       "717        UNKNOWN      NaN               NaN            0  \n",
       "720        UNKNOWN      NaN               NaN            0  \n",
       "1271       UNKNOWN      NaN               NaN            0  \n",
       "1611       UNKNOWN      NaN               NaN            0  \n",
       "1658       UNKNOWN      NaN               NaN            0  \n",
       "2355       UNKNOWN      NaN               NaN            0  \n",
       "2501       UNKNOWN      NaN               NaN            0  \n",
       "2510       UNKNOWN      NaN               NaN            0  \n",
       "3135       UNKNOWN      NaN               NaN            0  \n",
       "3673       UNKNOWN      NaN               NaN            0  \n",
       "3910       UNKNOWN      NaN               NaN            0  \n",
       "5123       UNKNOWN      NaN               NaN            0  \n",
       "5262       UNKNOWN      NaN               NaN            0  \n",
       "5889       UNKNOWN      NaN               NaN            0  \n",
       "7047       UNKNOWN      NaN               NaN            0  \n",
       "9880       UNKNOWN      NaN               NaN            0  \n",
       "10812      UNKNOWN      NaN               NaN            0  \n",
       "12571      UNKNOWN      NaN               NaN            0  \n",
       "12704      UNKNOWN      NaN               NaN            0  \n",
       "13615      UNKNOWN      NaN               NaN          -10  "
      ]
     },
     "execution_count": 87,
     "metadata": {},
     "output_type": "execute_result"
    }
   ],
   "source": [
    "plays.loc[(plays['playDescription'].apply(spikes))][['playDescription', 'passResult', 'timeToThrow', \n",
    "                                                     'timeInTackleBox', 'passLength', 'targetX', \n",
    "                                                     'dropbackType', 'targetY', 'dropbackDistance', 'yardsGained']]"
   ]
  },
  {
   "cell_type": "markdown",
   "id": "a5646104",
   "metadata": {},
   "source": [
    "# 💊\n"
   ]
  },
  {
   "cell_type": "code",
   "execution_count": 88,
   "id": "a8a5bd73",
   "metadata": {},
   "outputs": [],
   "source": [
    "plays.loc[(plays['playDescription'].apply(spikes)), 'passResult'] = 'NoPass'"
   ]
  },
  {
   "cell_type": "code",
   "execution_count": null,
   "id": "d2a48bbf",
   "metadata": {},
   "outputs": [],
   "source": []
  },
  {
   "cell_type": "code",
   "execution_count": 89,
   "id": "c537a69b",
   "metadata": {},
   "outputs": [
    {
     "data": {
      "text/html": [
       "<div>\n",
       "<style scoped>\n",
       "    .dataframe tbody tr th:only-of-type {\n",
       "        vertical-align: middle;\n",
       "    }\n",
       "\n",
       "    .dataframe tbody tr th {\n",
       "        vertical-align: top;\n",
       "    }\n",
       "\n",
       "    .dataframe thead th {\n",
       "        text-align: right;\n",
       "    }\n",
       "</style>\n",
       "<table border=\"1\" class=\"dataframe\">\n",
       "  <thead>\n",
       "    <tr style=\"text-align: right;\">\n",
       "      <th></th>\n",
       "      <th>playDescription</th>\n",
       "      <th>passResult</th>\n",
       "      <th>timeToThrow</th>\n",
       "      <th>timeInTackleBox</th>\n",
       "      <th>passLength</th>\n",
       "      <th>targetX</th>\n",
       "      <th>dropbackType</th>\n",
       "      <th>targetY</th>\n",
       "      <th>dropbackDistance</th>\n",
       "      <th>yardsGained</th>\n",
       "    </tr>\n",
       "  </thead>\n",
       "  <tbody>\n",
       "    <tr>\n",
       "      <th>12</th>\n",
       "      <td>(:35) (Shotgun) A.Rodgers pass deep left intended for R.Cobb INTERCEPTED by H.Smith [Z.Smith] at...</td>\n",
       "      <td>IN</td>\n",
       "      <td>4.506</td>\n",
       "      <td>3.5</td>\n",
       "      <td>45.0</td>\n",
       "      <td>75.33</td>\n",
       "      <td>SCRAMBLE</td>\n",
       "      <td>43.82</td>\n",
       "      <td>2.63</td>\n",
       "      <td>0</td>\n",
       "    </tr>\n",
       "    <tr>\n",
       "      <th>61</th>\n",
       "      <td>(:23) (Shotgun) P.Walker pass deep left to D.Moore for 62 yards, TOUCHDOWN. PENALTY on CAR-D.Moo...</td>\n",
       "      <td>C</td>\n",
       "      <td>5.438</td>\n",
       "      <td>3.5</td>\n",
       "      <td>62.0</td>\n",
       "      <td>112.35</td>\n",
       "      <td>SCRAMBLE</td>\n",
       "      <td>40.71</td>\n",
       "      <td>4.59</td>\n",
       "      <td>62</td>\n",
       "    </tr>\n",
       "    <tr>\n",
       "      <th>113</th>\n",
       "      <td>(10:14) (Shotgun) M.Mariota pass short left to T.Allgeier to ATL 23 for 5 yards (D.Jackson).</td>\n",
       "      <td>C</td>\n",
       "      <td>4.104</td>\n",
       "      <td>3.8</td>\n",
       "      <td>-5.0</td>\n",
       "      <td>22.27</td>\n",
       "      <td>SCRAMBLE</td>\n",
       "      <td>33.89</td>\n",
       "      <td>2.61</td>\n",
       "      <td>5</td>\n",
       "    </tr>\n",
       "    <tr>\n",
       "      <th>138</th>\n",
       "      <td>(4:01) (Shotgun) J.Allen pass incomplete short left.</td>\n",
       "      <td>I</td>\n",
       "      <td>5.105</td>\n",
       "      <td>3.9</td>\n",
       "      <td>11.0</td>\n",
       "      <td>NaN</td>\n",
       "      <td>SCRAMBLE</td>\n",
       "      <td>NaN</td>\n",
       "      <td>2.93</td>\n",
       "      <td>0</td>\n",
       "    </tr>\n",
       "    <tr>\n",
       "      <th>151</th>\n",
       "      <td>(6:38) (Shotgun) J.Flacco pass incomplete deep right to E.Moore.</td>\n",
       "      <td>I</td>\n",
       "      <td>5.038</td>\n",
       "      <td>3.1</td>\n",
       "      <td>16.0</td>\n",
       "      <td>67.84</td>\n",
       "      <td>SCRAMBLE</td>\n",
       "      <td>53.17</td>\n",
       "      <td>2.14</td>\n",
       "      <td>0</td>\n",
       "    </tr>\n",
       "    <tr>\n",
       "      <th>...</th>\n",
       "      <td>...</td>\n",
       "      <td>...</td>\n",
       "      <td>...</td>\n",
       "      <td>...</td>\n",
       "      <td>...</td>\n",
       "      <td>...</td>\n",
       "      <td>...</td>\n",
       "      <td>...</td>\n",
       "      <td>...</td>\n",
       "      <td>...</td>\n",
       "    </tr>\n",
       "    <tr>\n",
       "      <th>16019</th>\n",
       "      <td>(9:30) (Shotgun) T.Lawrence pass incomplete short right.</td>\n",
       "      <td>I</td>\n",
       "      <td>5.739</td>\n",
       "      <td>3.2</td>\n",
       "      <td>0.0</td>\n",
       "      <td>NaN</td>\n",
       "      <td>SCRAMBLE</td>\n",
       "      <td>NaN</td>\n",
       "      <td>3.99</td>\n",
       "      <td>0</td>\n",
       "    </tr>\n",
       "    <tr>\n",
       "      <th>16028</th>\n",
       "      <td>(14:09) (Shotgun) J.Herbert pass incomplete short left to R.Rodgers (T.Andersen).</td>\n",
       "      <td>I</td>\n",
       "      <td>4.938</td>\n",
       "      <td>3.3</td>\n",
       "      <td>-7.0</td>\n",
       "      <td>71.72</td>\n",
       "      <td>SCRAMBLE</td>\n",
       "      <td>1.16</td>\n",
       "      <td>4.37</td>\n",
       "      <td>0</td>\n",
       "    </tr>\n",
       "    <tr>\n",
       "      <th>16048</th>\n",
       "      <td>(10:42) (Shotgun) J.Allen pass short right to Z.Moss to LA 26 for 8 yards (B.Wagner).</td>\n",
       "      <td>C</td>\n",
       "      <td>4.905</td>\n",
       "      <td>3.7</td>\n",
       "      <td>6.0</td>\n",
       "      <td>38.35</td>\n",
       "      <td>SCRAMBLE</td>\n",
       "      <td>45.54</td>\n",
       "      <td>1.75</td>\n",
       "      <td>8</td>\n",
       "    </tr>\n",
       "    <tr>\n",
       "      <th>16066</th>\n",
       "      <td>(13:23) (Shotgun) J.Fields pass incomplete short right to I.Smith-Marsette [K.Thibodeaux].</td>\n",
       "      <td>I</td>\n",
       "      <td>6.226</td>\n",
       "      <td>4.2</td>\n",
       "      <td>4.0</td>\n",
       "      <td>37.85</td>\n",
       "      <td>SCRAMBLE</td>\n",
       "      <td>-2.06</td>\n",
       "      <td>2.58</td>\n",
       "      <td>0</td>\n",
       "    </tr>\n",
       "    <tr>\n",
       "      <th>16100</th>\n",
       "      <td>(:53) (Shotgun) J.Hurts pass incomplete short right. Thrown away from outside the pocket.</td>\n",
       "      <td>I</td>\n",
       "      <td>5.506</td>\n",
       "      <td>3.9</td>\n",
       "      <td>14.0</td>\n",
       "      <td>NaN</td>\n",
       "      <td>SCRAMBLE</td>\n",
       "      <td>NaN</td>\n",
       "      <td>2.17</td>\n",
       "      <td>0</td>\n",
       "    </tr>\n",
       "  </tbody>\n",
       "</table>\n",
       "<p>455 rows × 10 columns</p>\n",
       "</div>"
      ],
      "text/plain": [
       "                                                                                           playDescription  \\\n",
       "12     (:35) (Shotgun) A.Rodgers pass deep left intended for R.Cobb INTERCEPTED by H.Smith [Z.Smith] at...   \n",
       "61     (:23) (Shotgun) P.Walker pass deep left to D.Moore for 62 yards, TOUCHDOWN. PENALTY on CAR-D.Moo...   \n",
       "113           (10:14) (Shotgun) M.Mariota pass short left to T.Allgeier to ATL 23 for 5 yards (D.Jackson).   \n",
       "138                                                   (4:01) (Shotgun) J.Allen pass incomplete short left.   \n",
       "151                                       (6:38) (Shotgun) J.Flacco pass incomplete deep right to E.Moore.   \n",
       "...                                                                                                    ...   \n",
       "16019                                             (9:30) (Shotgun) T.Lawrence pass incomplete short right.   \n",
       "16028                    (14:09) (Shotgun) J.Herbert pass incomplete short left to R.Rodgers (T.Andersen).   \n",
       "16048                (10:42) (Shotgun) J.Allen pass short right to Z.Moss to LA 26 for 8 yards (B.Wagner).   \n",
       "16066           (13:23) (Shotgun) J.Fields pass incomplete short right to I.Smith-Marsette [K.Thibodeaux].   \n",
       "16100            (:53) (Shotgun) J.Hurts pass incomplete short right. Thrown away from outside the pocket.   \n",
       "\n",
       "      passResult  timeToThrow  timeInTackleBox  passLength  targetX  \\\n",
       "12            IN        4.506              3.5        45.0    75.33   \n",
       "61             C        5.438              3.5        62.0   112.35   \n",
       "113            C        4.104              3.8        -5.0    22.27   \n",
       "138            I        5.105              3.9        11.0      NaN   \n",
       "151            I        5.038              3.1        16.0    67.84   \n",
       "...          ...          ...              ...         ...      ...   \n",
       "16019          I        5.739              3.2         0.0      NaN   \n",
       "16028          I        4.938              3.3        -7.0    71.72   \n",
       "16048          C        4.905              3.7         6.0    38.35   \n",
       "16066          I        6.226              4.2         4.0    37.85   \n",
       "16100          I        5.506              3.9        14.0      NaN   \n",
       "\n",
       "      dropbackType  targetY  dropbackDistance  yardsGained  \n",
       "12        SCRAMBLE    43.82              2.63            0  \n",
       "61        SCRAMBLE    40.71              4.59           62  \n",
       "113       SCRAMBLE    33.89              2.61            5  \n",
       "138       SCRAMBLE      NaN              2.93            0  \n",
       "151       SCRAMBLE    53.17              2.14            0  \n",
       "...            ...      ...               ...          ...  \n",
       "16019     SCRAMBLE      NaN              3.99            0  \n",
       "16028     SCRAMBLE     1.16              4.37            0  \n",
       "16048     SCRAMBLE    45.54              1.75            8  \n",
       "16066     SCRAMBLE    -2.06              2.58            0  \n",
       "16100     SCRAMBLE      NaN              2.17            0  \n",
       "\n",
       "[455 rows x 10 columns]"
      ]
     },
     "execution_count": 89,
     "metadata": {},
     "output_type": "execute_result"
    }
   ],
   "source": [
    "plays.loc[\n",
    "    (plays['playDescription'].apply(had_pass)) & \n",
    "    (plays['dropbackType']=='SCRAMBLE')\n",
    "][['playDescription', 'passResult', 'timeToThrow','timeInTackleBox', 'passLength',\n",
    "   'targetX', 'dropbackType', 'targetY', 'dropbackDistance', 'yardsGained']]"
   ]
  },
  {
   "cell_type": "code",
   "execution_count": 90,
   "id": "74a0c167",
   "metadata": {},
   "outputs": [
    {
     "data": {
      "text/plain": [
       "NA        6224\n",
       "C         5624\n",
       "I         2888\n",
       "S          608\n",
       "R          400\n",
       "IN         193\n",
       "NoPass     187\n",
       "Name: passResult, dtype: int64"
      ]
     },
     "execution_count": 90,
     "metadata": {},
     "output_type": "execute_result"
    }
   ],
   "source": [
    "plays.passResult.fillna('NA').value_counts()"
   ]
  },
  {
   "cell_type": "code",
   "execution_count": 91,
   "id": "c014b5c7",
   "metadata": {},
   "outputs": [
    {
     "name": "stdout",
     "output_type": "stream",
     "text": [
      "120\n"
     ]
    },
    {
     "data": {
      "text/html": [
       "<div>\n",
       "<style scoped>\n",
       "    .dataframe tbody tr th:only-of-type {\n",
       "        vertical-align: middle;\n",
       "    }\n",
       "\n",
       "    .dataframe tbody tr th {\n",
       "        vertical-align: top;\n",
       "    }\n",
       "\n",
       "    .dataframe thead th {\n",
       "        text-align: right;\n",
       "    }\n",
       "</style>\n",
       "<table border=\"1\" class=\"dataframe\">\n",
       "  <thead>\n",
       "    <tr style=\"text-align: right;\">\n",
       "      <th></th>\n",
       "      <th>passResult</th>\n",
       "      <th>playDescription</th>\n",
       "      <th>rushLocationType</th>\n",
       "      <th>pff_runConceptPrimary</th>\n",
       "    </tr>\n",
       "  </thead>\n",
       "  <tbody>\n",
       "    <tr>\n",
       "      <th>44</th>\n",
       "      <td>NaN</td>\n",
       "      <td>(14:01) J.Brissett right guard to CLV 37 for 3 yards (L.Wilson).</td>\n",
       "      <td>INSIDE_RIGHT</td>\n",
       "      <td>SNEAK</td>\n",
       "    </tr>\n",
       "    <tr>\n",
       "      <th>47</th>\n",
       "      <td>NaN</td>\n",
       "      <td>(1:06) J.Hurts up the middle to DET 39 for 1 yard (D.Barnes).</td>\n",
       "      <td>INSIDE_RIGHT</td>\n",
       "      <td>SNEAK</td>\n",
       "    </tr>\n",
       "    <tr>\n",
       "      <th>49</th>\n",
       "      <td>NaN</td>\n",
       "      <td>(3:10) T.Lawrence FUMBLES (Aborted) at JAX 34, RECOVERED by PHI-H.Reddick at JAX 35.</td>\n",
       "      <td>OUTSIDE_LEFT</td>\n",
       "      <td>SNEAK</td>\n",
       "    </tr>\n",
       "    <tr>\n",
       "      <th>81</th>\n",
       "      <td>NaN</td>\n",
       "      <td>(13:49) K.Cousins up the middle to MIN 37 for 3 yards (L.Fotu; V.Dimukeje).</td>\n",
       "      <td>INSIDE_RIGHT</td>\n",
       "      <td>SNEAK</td>\n",
       "    </tr>\n",
       "    <tr>\n",
       "      <th>106</th>\n",
       "      <td>NaN</td>\n",
       "      <td>(2:00) M.Trubisky up the middle to TB 26 for 3 yards (D.White).</td>\n",
       "      <td>INSIDE_RIGHT</td>\n",
       "      <td>SNEAK</td>\n",
       "    </tr>\n",
       "    <tr>\n",
       "      <th>...</th>\n",
       "      <td>...</td>\n",
       "      <td>...</td>\n",
       "      <td>...</td>\n",
       "      <td>...</td>\n",
       "    </tr>\n",
       "    <tr>\n",
       "      <th>15642</th>\n",
       "      <td>NaN</td>\n",
       "      <td>(11:29) D.Prescott up the middle pushed ob at CHI 18 for 25 yards (E.Jackson).</td>\n",
       "      <td>INSIDE_RIGHT</td>\n",
       "      <td>SNEAK</td>\n",
       "    </tr>\n",
       "    <tr>\n",
       "      <th>15868</th>\n",
       "      <td>NaN</td>\n",
       "      <td>(5:41) (No Huddle) J.Garoppolo up the middle to SF 37 for 3 yards (N.Bolton).</td>\n",
       "      <td>INSIDE_LEFT</td>\n",
       "      <td>SNEAK</td>\n",
       "    </tr>\n",
       "    <tr>\n",
       "      <th>15878</th>\n",
       "      <td>NaN</td>\n",
       "      <td>(5:48) T.Lawrence right guard to IND 40 for 2 yards (D.Buckner; T.Lewis).</td>\n",
       "      <td>INSIDE_RIGHT</td>\n",
       "      <td>SNEAK</td>\n",
       "    </tr>\n",
       "    <tr>\n",
       "      <th>15954</th>\n",
       "      <td>NaN</td>\n",
       "      <td>(10:14) J.Hurts up the middle for 1 yard, TOUCHDOWN.</td>\n",
       "      <td>INSIDE_LEFT</td>\n",
       "      <td>SNEAK</td>\n",
       "    </tr>\n",
       "    <tr>\n",
       "      <th>16098</th>\n",
       "      <td>NaN</td>\n",
       "      <td>(10:23) J.Allen up the middle to BUF 37 for 3 yards (C.Jones).</td>\n",
       "      <td>INSIDE_LEFT</td>\n",
       "      <td>SNEAK</td>\n",
       "    </tr>\n",
       "  </tbody>\n",
       "</table>\n",
       "<p>120 rows × 4 columns</p>\n",
       "</div>"
      ],
      "text/plain": [
       "      passResult  \\\n",
       "44           NaN   \n",
       "47           NaN   \n",
       "49           NaN   \n",
       "81           NaN   \n",
       "106          NaN   \n",
       "...          ...   \n",
       "15642        NaN   \n",
       "15868        NaN   \n",
       "15878        NaN   \n",
       "15954        NaN   \n",
       "16098        NaN   \n",
       "\n",
       "                                                                            playDescription  \\\n",
       "44                         (14:01) J.Brissett right guard to CLV 37 for 3 yards (L.Wilson).   \n",
       "47                            (1:06) J.Hurts up the middle to DET 39 for 1 yard (D.Barnes).   \n",
       "49     (3:10) T.Lawrence FUMBLES (Aborted) at JAX 34, RECOVERED by PHI-H.Reddick at JAX 35.   \n",
       "81              (13:49) K.Cousins up the middle to MIN 37 for 3 yards (L.Fotu; V.Dimukeje).   \n",
       "106                         (2:00) M.Trubisky up the middle to TB 26 for 3 yards (D.White).   \n",
       "...                                                                                     ...   \n",
       "15642        (11:29) D.Prescott up the middle pushed ob at CHI 18 for 25 yards (E.Jackson).   \n",
       "15868         (5:41) (No Huddle) J.Garoppolo up the middle to SF 37 for 3 yards (N.Bolton).   \n",
       "15878             (5:48) T.Lawrence right guard to IND 40 for 2 yards (D.Buckner; T.Lewis).   \n",
       "15954                                  (10:14) J.Hurts up the middle for 1 yard, TOUCHDOWN.   \n",
       "16098                        (10:23) J.Allen up the middle to BUF 37 for 3 yards (C.Jones).   \n",
       "\n",
       "      rushLocationType pff_runConceptPrimary  \n",
       "44        INSIDE_RIGHT                 SNEAK  \n",
       "47        INSIDE_RIGHT                 SNEAK  \n",
       "49        OUTSIDE_LEFT                 SNEAK  \n",
       "81        INSIDE_RIGHT                 SNEAK  \n",
       "106       INSIDE_RIGHT                 SNEAK  \n",
       "...                ...                   ...  \n",
       "15642     INSIDE_RIGHT                 SNEAK  \n",
       "15868      INSIDE_LEFT                 SNEAK  \n",
       "15878     INSIDE_RIGHT                 SNEAK  \n",
       "15954      INSIDE_LEFT                 SNEAK  \n",
       "16098      INSIDE_LEFT                 SNEAK  \n",
       "\n",
       "[120 rows x 4 columns]"
      ]
     },
     "execution_count": 91,
     "metadata": {},
     "output_type": "execute_result"
    }
   ],
   "source": [
    "print(plays.loc[(plays['qbSneak']==1)]['passResult'].isna().sum())\n",
    "\n",
    "plays.loc[(plays['qbSneak']==1)][['passResult', 'playDescription', 'rushLocationType', 'pff_runConceptPrimary']]"
   ]
  },
  {
   "cell_type": "code",
   "execution_count": 92,
   "id": "affbc91c",
   "metadata": {},
   "outputs": [
    {
     "data": {
      "text/plain": [
       "array(['INSIDE_RIGHT', 'OUTSIDE_LEFT', 'OUTSIDE_RIGHT', 'INSIDE_LEFT'],\n",
       "      dtype=object)"
      ]
     },
     "execution_count": 92,
     "metadata": {},
     "output_type": "execute_result"
    }
   ],
   "source": [
    "plays.loc[(plays['qbSneak']==1) & (plays['passResult'].isna())]['rushLocationType'].unique()"
   ]
  },
  {
   "cell_type": "markdown",
   "id": "043f827b",
   "metadata": {},
   "source": [
    "# 💊\n",
    "### Sneak - \"NoPass\". "
   ]
  },
  {
   "cell_type": "code",
   "execution_count": 93,
   "id": "917875e2",
   "metadata": {},
   "outputs": [],
   "source": [
    "plays.loc[(plays['qbSneak']==1), 'passResult'] = \"NoPass\""
   ]
  },
  {
   "cell_type": "markdown",
   "id": "a55bf9f3",
   "metadata": {},
   "source": []
  },
  {
   "cell_type": "code",
   "execution_count": 94,
   "id": "c021a113",
   "metadata": {},
   "outputs": [
    {
     "data": {
      "text/plain": [
       "NA        6104\n",
       "C         5624\n",
       "I         2888\n",
       "S          608\n",
       "R          400\n",
       "NoPass     307\n",
       "IN         193\n",
       "Name: passResult, dtype: int64"
      ]
     },
     "execution_count": 94,
     "metadata": {},
     "output_type": "execute_result"
    }
   ],
   "source": [
    "plays.passResult.fillna('NA').value_counts()"
   ]
  },
  {
   "cell_type": "code",
   "execution_count": 95,
   "id": "c9904c10",
   "metadata": {},
   "outputs": [
    {
     "data": {
      "text/plain": [
       "C     5624\n",
       "I     2888\n",
       "IN     193\n",
       "R        1\n",
       "Name: passResult, dtype: int64"
      ]
     },
     "execution_count": 95,
     "metadata": {},
     "output_type": "execute_result"
    }
   ],
   "source": [
    "plays.loc[(plays['playDescription'].apply(had_pass))]['passResult'].fillna('NA').value_counts()"
   ]
  },
  {
   "cell_type": "code",
   "execution_count": 96,
   "id": "83d562b0",
   "metadata": {
    "scrolled": false
   },
   "outputs": [
    {
     "data": {
      "text/plain": [
       "9898    (10:37) (Shotgun) J.Fields scrambles up the middle to CHI 23 for 3 yards. J.Fields pass short middle to E.St. Brown to GB 49 for 28 yards. PENALTY on CHI-J.Fields, Illegal Forward Pass, 5 yards, enforced at CHI 23.\n",
       "Name: playDescription, dtype: object"
      ]
     },
     "execution_count": 96,
     "metadata": {},
     "output_type": "execute_result"
    }
   ],
   "source": [
    "pd.set_option('max_colwidth', 300)\n",
    "\n",
    "plays.loc[(plays['playDescription'].apply(had_pass)) & (plays['passResult']=='R')]['playDescription']"
   ]
  },
  {
   "cell_type": "code",
   "execution_count": 97,
   "id": "23af99df",
   "metadata": {},
   "outputs": [
    {
     "data": {
      "text/plain": [
       "Series([], Name: playDescription, dtype: object)"
      ]
     },
     "execution_count": 97,
     "metadata": {},
     "output_type": "execute_result"
    }
   ],
   "source": [
    "pd.set_option('max_colwidth', 100)\n",
    "plays.loc[(plays['playDescription'].apply(had_pass)) & (plays['passResult'].isna())]['playDescription']"
   ]
  },
  {
   "cell_type": "code",
   "execution_count": 98,
   "id": "9fbc9492",
   "metadata": {},
   "outputs": [
    {
     "data": {
      "text/plain": [
       "passResult    6104\n",
       "passLength    7398\n",
       "targetX       7748\n",
       "targetY       7748\n",
       "dtype: int64"
      ]
     },
     "execution_count": 98,
     "metadata": {},
     "output_type": "execute_result"
    }
   ],
   "source": [
    "plays[['passResult', 'passLength', 'targetX', 'targetY']].isna().sum()"
   ]
  },
  {
   "cell_type": "code",
   "execution_count": 99,
   "id": "0b81455d",
   "metadata": {},
   "outputs": [
    {
     "data": {
      "text/plain": [
       "playDescription       0\n",
       "passLength         6104\n",
       "targetX            6104\n",
       "targetY            6104\n",
       "dtype: int64"
      ]
     },
     "execution_count": 99,
     "metadata": {},
     "output_type": "execute_result"
    }
   ],
   "source": [
    "plays[plays['passResult'].isna()][['playDescription', 'passLength', 'targetX', 'targetY']].isna().sum()"
   ]
  },
  {
   "cell_type": "code",
   "execution_count": 100,
   "id": "861b1629",
   "metadata": {},
   "outputs": [
    {
     "data": {
      "text/plain": [
       "rushLocationType          0\n",
       "pff_runConceptPrimary    14\n",
       "dtype: int64"
      ]
     },
     "execution_count": 100,
     "metadata": {},
     "output_type": "execute_result"
    }
   ],
   "source": [
    "plays.query('passResult.isna() and passLength.isna() and targetX.isna() and targetY.isna()')[['rushLocationType', 'pff_runConceptPrimary']].isna().sum()\n"
   ]
  },
  {
   "cell_type": "code",
   "execution_count": 101,
   "id": "6da759b1",
   "metadata": {},
   "outputs": [
    {
     "data": {
      "text/html": [
       "<div>\n",
       "<style scoped>\n",
       "    .dataframe tbody tr th:only-of-type {\n",
       "        vertical-align: middle;\n",
       "    }\n",
       "\n",
       "    .dataframe tbody tr th {\n",
       "        vertical-align: top;\n",
       "    }\n",
       "\n",
       "    .dataframe thead th {\n",
       "        text-align: right;\n",
       "    }\n",
       "</style>\n",
       "<table border=\"1\" class=\"dataframe\">\n",
       "  <thead>\n",
       "    <tr style=\"text-align: right;\">\n",
       "      <th></th>\n",
       "      <th>playDescription</th>\n",
       "      <th>rushLocationType</th>\n",
       "      <th>pff_runConceptPrimary</th>\n",
       "    </tr>\n",
       "  </thead>\n",
       "  <tbody>\n",
       "    <tr>\n",
       "      <th>4</th>\n",
       "      <td>(2:16) (Shotgun) L.Jackson up the middle to TB 28 for -1 yards (R.Nunez-Roches).</td>\n",
       "      <td>INSIDE_LEFT</td>\n",
       "      <td>MAN</td>\n",
       "    </tr>\n",
       "    <tr>\n",
       "      <th>5</th>\n",
       "      <td>(14:15) Ja.Williams up the middle to DET 32 for 3 yards (C.Barton; U.Nwosu).</td>\n",
       "      <td>INSIDE_RIGHT</td>\n",
       "      <td>MAN</td>\n",
       "    </tr>\n",
       "    <tr>\n",
       "      <th>6</th>\n",
       "      <td>(:29) (Shotgun) J.Wilkins up the middle to IND 45 for 5 yards (J.Uche).</td>\n",
       "      <td>OUTSIDE_LEFT</td>\n",
       "      <td>INSIDE ZONE</td>\n",
       "    </tr>\n",
       "    <tr>\n",
       "      <th>11</th>\n",
       "      <td>(12:55) (Shotgun) A.Dillon left tackle to WAS 46 for no gain (J.Smith-Williams; M.Sweat).</td>\n",
       "      <td>INSIDE_LEFT</td>\n",
       "      <td>PULL LEAD</td>\n",
       "    </tr>\n",
       "    <tr>\n",
       "      <th>15</th>\n",
       "      <td>(3:18) J.Herron reported in as eligible.  J.Jacobs left guard to DEN 3 for -2 yards (D.Jones).</td>\n",
       "      <td>OUTSIDE_LEFT</td>\n",
       "      <td>MAN</td>\n",
       "    </tr>\n",
       "    <tr>\n",
       "      <th>...</th>\n",
       "      <td>...</td>\n",
       "      <td>...</td>\n",
       "      <td>...</td>\n",
       "    </tr>\n",
       "    <tr>\n",
       "      <th>16109</th>\n",
       "      <td>(:36) S.Barkley right end to NYG 49 for -1 yards (C.Bryant).</td>\n",
       "      <td>OUTSIDE_RIGHT</td>\n",
       "      <td>PULL LEAD</td>\n",
       "    </tr>\n",
       "    <tr>\n",
       "      <th>16111</th>\n",
       "      <td>(2:17) (Shotgun) H.Haskins up the middle to TEN 38 for 3 yards (T.Johnson).</td>\n",
       "      <td>INSIDE_RIGHT</td>\n",
       "      <td>MAN</td>\n",
       "    </tr>\n",
       "    <tr>\n",
       "      <th>16115</th>\n",
       "      <td>(2:49) J.Mixon up the middle to PIT 3 for -2 yards (T.Watt, A.Highsmith). PIT-A.Highsmith was in...</td>\n",
       "      <td>OUTSIDE_LEFT</td>\n",
       "      <td>MAN</td>\n",
       "    </tr>\n",
       "    <tr>\n",
       "      <th>16118</th>\n",
       "      <td>(13:41) (Shotgun) C.Patterson right tackle to NO 17 for 8 yards (M.Maye, T.Mathieu).</td>\n",
       "      <td>OUTSIDE_LEFT</td>\n",
       "      <td>OUTSIDE ZONE</td>\n",
       "    </tr>\n",
       "    <tr>\n",
       "      <th>16123</th>\n",
       "      <td>(15:00) Br.Hall up the middle for 34 yards, TOUCHDOWN.</td>\n",
       "      <td>INSIDE_LEFT</td>\n",
       "      <td>COUNTER</td>\n",
       "    </tr>\n",
       "  </tbody>\n",
       "</table>\n",
       "<p>6104 rows × 3 columns</p>\n",
       "</div>"
      ],
      "text/plain": [
       "                                                                                           playDescription  \\\n",
       "4                         (2:16) (Shotgun) L.Jackson up the middle to TB 28 for -1 yards (R.Nunez-Roches).   \n",
       "5                             (14:15) Ja.Williams up the middle to DET 32 for 3 yards (C.Barton; U.Nwosu).   \n",
       "6                                  (:29) (Shotgun) J.Wilkins up the middle to IND 45 for 5 yards (J.Uche).   \n",
       "11               (12:55) (Shotgun) A.Dillon left tackle to WAS 46 for no gain (J.Smith-Williams; M.Sweat).   \n",
       "15          (3:18) J.Herron reported in as eligible.  J.Jacobs left guard to DEN 3 for -2 yards (D.Jones).   \n",
       "...                                                                                                    ...   \n",
       "16109                                         (:36) S.Barkley right end to NYG 49 for -1 yards (C.Bryant).   \n",
       "16111                          (2:17) (Shotgun) H.Haskins up the middle to TEN 38 for 3 yards (T.Johnson).   \n",
       "16115  (2:49) J.Mixon up the middle to PIT 3 for -2 yards (T.Watt, A.Highsmith). PIT-A.Highsmith was in...   \n",
       "16118                 (13:41) (Shotgun) C.Patterson right tackle to NO 17 for 8 yards (M.Maye, T.Mathieu).   \n",
       "16123                                               (15:00) Br.Hall up the middle for 34 yards, TOUCHDOWN.   \n",
       "\n",
       "      rushLocationType pff_runConceptPrimary  \n",
       "4          INSIDE_LEFT                   MAN  \n",
       "5         INSIDE_RIGHT                   MAN  \n",
       "6         OUTSIDE_LEFT           INSIDE ZONE  \n",
       "11         INSIDE_LEFT             PULL LEAD  \n",
       "15        OUTSIDE_LEFT                   MAN  \n",
       "...                ...                   ...  \n",
       "16109    OUTSIDE_RIGHT             PULL LEAD  \n",
       "16111     INSIDE_RIGHT                   MAN  \n",
       "16115     OUTSIDE_LEFT                   MAN  \n",
       "16118     OUTSIDE_LEFT          OUTSIDE ZONE  \n",
       "16123      INSIDE_LEFT               COUNTER  \n",
       "\n",
       "[6104 rows x 3 columns]"
      ]
     },
     "execution_count": 101,
     "metadata": {},
     "output_type": "execute_result"
    }
   ],
   "source": [
    "plays.query('passResult.isna() and passLength.isna()'\n",
    "            ' and targetX.isna() and targetY.isna()')[['playDescription', 'rushLocationType', 'pff_runConceptPrimary']]\n",
    "\n"
   ]
  },
  {
   "cell_type": "code",
   "execution_count": 102,
   "id": "244a313f",
   "metadata": {},
   "outputs": [
    {
     "data": {
      "text/html": [
       "<div>\n",
       "<style scoped>\n",
       "    .dataframe tbody tr th:only-of-type {\n",
       "        vertical-align: middle;\n",
       "    }\n",
       "\n",
       "    .dataframe tbody tr th {\n",
       "        vertical-align: top;\n",
       "    }\n",
       "\n",
       "    .dataframe thead th {\n",
       "        text-align: right;\n",
       "    }\n",
       "</style>\n",
       "<table border=\"1\" class=\"dataframe\">\n",
       "  <thead>\n",
       "    <tr style=\"text-align: right;\">\n",
       "      <th></th>\n",
       "      <th>playDescription</th>\n",
       "      <th>rushLocationType</th>\n",
       "      <th>pff_runConceptPrimary</th>\n",
       "    </tr>\n",
       "  </thead>\n",
       "  <tbody>\n",
       "    <tr>\n",
       "      <th>4</th>\n",
       "      <td>(2:16) (Shotgun) L.Jackson up the middle to TB 28 for -1 yards (R.Nunez-Roches).</td>\n",
       "      <td>INSIDE_LEFT</td>\n",
       "      <td>MAN</td>\n",
       "    </tr>\n",
       "    <tr>\n",
       "      <th>5</th>\n",
       "      <td>(14:15) Ja.Williams up the middle to DET 32 for 3 yards (C.Barton; U.Nwosu).</td>\n",
       "      <td>INSIDE_RIGHT</td>\n",
       "      <td>MAN</td>\n",
       "    </tr>\n",
       "    <tr>\n",
       "      <th>6</th>\n",
       "      <td>(:29) (Shotgun) J.Wilkins up the middle to IND 45 for 5 yards (J.Uche).</td>\n",
       "      <td>OUTSIDE_LEFT</td>\n",
       "      <td>INSIDE ZONE</td>\n",
       "    </tr>\n",
       "    <tr>\n",
       "      <th>11</th>\n",
       "      <td>(12:55) (Shotgun) A.Dillon left tackle to WAS 46 for no gain (J.Smith-Williams; M.Sweat).</td>\n",
       "      <td>INSIDE_LEFT</td>\n",
       "      <td>PULL LEAD</td>\n",
       "    </tr>\n",
       "    <tr>\n",
       "      <th>15</th>\n",
       "      <td>(3:18) J.Herron reported in as eligible.  J.Jacobs left guard to DEN 3 for -2 yards (D.Jones).</td>\n",
       "      <td>OUTSIDE_LEFT</td>\n",
       "      <td>MAN</td>\n",
       "    </tr>\n",
       "    <tr>\n",
       "      <th>...</th>\n",
       "      <td>...</td>\n",
       "      <td>...</td>\n",
       "      <td>...</td>\n",
       "    </tr>\n",
       "    <tr>\n",
       "      <th>16109</th>\n",
       "      <td>(:36) S.Barkley right end to NYG 49 for -1 yards (C.Bryant).</td>\n",
       "      <td>OUTSIDE_RIGHT</td>\n",
       "      <td>PULL LEAD</td>\n",
       "    </tr>\n",
       "    <tr>\n",
       "      <th>16111</th>\n",
       "      <td>(2:17) (Shotgun) H.Haskins up the middle to TEN 38 for 3 yards (T.Johnson).</td>\n",
       "      <td>INSIDE_RIGHT</td>\n",
       "      <td>MAN</td>\n",
       "    </tr>\n",
       "    <tr>\n",
       "      <th>16115</th>\n",
       "      <td>(2:49) J.Mixon up the middle to PIT 3 for -2 yards (T.Watt, A.Highsmith). PIT-A.Highsmith was in...</td>\n",
       "      <td>OUTSIDE_LEFT</td>\n",
       "      <td>MAN</td>\n",
       "    </tr>\n",
       "    <tr>\n",
       "      <th>16118</th>\n",
       "      <td>(13:41) (Shotgun) C.Patterson right tackle to NO 17 for 8 yards (M.Maye, T.Mathieu).</td>\n",
       "      <td>OUTSIDE_LEFT</td>\n",
       "      <td>OUTSIDE ZONE</td>\n",
       "    </tr>\n",
       "    <tr>\n",
       "      <th>16123</th>\n",
       "      <td>(15:00) Br.Hall up the middle for 34 yards, TOUCHDOWN.</td>\n",
       "      <td>INSIDE_LEFT</td>\n",
       "      <td>COUNTER</td>\n",
       "    </tr>\n",
       "  </tbody>\n",
       "</table>\n",
       "<p>6103 rows × 3 columns</p>\n",
       "</div>"
      ],
      "text/plain": [
       "                                                                                           playDescription  \\\n",
       "4                         (2:16) (Shotgun) L.Jackson up the middle to TB 28 for -1 yards (R.Nunez-Roches).   \n",
       "5                             (14:15) Ja.Williams up the middle to DET 32 for 3 yards (C.Barton; U.Nwosu).   \n",
       "6                                  (:29) (Shotgun) J.Wilkins up the middle to IND 45 for 5 yards (J.Uche).   \n",
       "11               (12:55) (Shotgun) A.Dillon left tackle to WAS 46 for no gain (J.Smith-Williams; M.Sweat).   \n",
       "15          (3:18) J.Herron reported in as eligible.  J.Jacobs left guard to DEN 3 for -2 yards (D.Jones).   \n",
       "...                                                                                                    ...   \n",
       "16109                                         (:36) S.Barkley right end to NYG 49 for -1 yards (C.Bryant).   \n",
       "16111                          (2:17) (Shotgun) H.Haskins up the middle to TEN 38 for 3 yards (T.Johnson).   \n",
       "16115  (2:49) J.Mixon up the middle to PIT 3 for -2 yards (T.Watt, A.Highsmith). PIT-A.Highsmith was in...   \n",
       "16118                 (13:41) (Shotgun) C.Patterson right tackle to NO 17 for 8 yards (M.Maye, T.Mathieu).   \n",
       "16123                                               (15:00) Br.Hall up the middle for 34 yards, TOUCHDOWN.   \n",
       "\n",
       "      rushLocationType pff_runConceptPrimary  \n",
       "4          INSIDE_LEFT                   MAN  \n",
       "5         INSIDE_RIGHT                   MAN  \n",
       "6         OUTSIDE_LEFT           INSIDE ZONE  \n",
       "11         INSIDE_LEFT             PULL LEAD  \n",
       "15        OUTSIDE_LEFT                   MAN  \n",
       "...                ...                   ...  \n",
       "16109    OUTSIDE_RIGHT             PULL LEAD  \n",
       "16111     INSIDE_RIGHT                   MAN  \n",
       "16115     OUTSIDE_LEFT                   MAN  \n",
       "16118     OUTSIDE_LEFT          OUTSIDE ZONE  \n",
       "16123      INSIDE_LEFT               COUNTER  \n",
       "\n",
       "[6103 rows x 3 columns]"
      ]
     },
     "execution_count": 102,
     "metadata": {},
     "output_type": "execute_result"
    }
   ],
   "source": [
    "plays.query('passResult.isna() and passLength.isna()'\n",
    "            ' and targetX.isna() and targetY.isna()'\n",
    "            ' and rushLocationType!= \"UNKNOWN\"')[['playDescription', 'rushLocationType', 'pff_runConceptPrimary']]"
   ]
  },
  {
   "cell_type": "code",
   "execution_count": 103,
   "id": "01d9128d",
   "metadata": {},
   "outputs": [
    {
     "data": {
      "text/plain": [
       "array(['R'], dtype=object)"
      ]
     },
     "execution_count": 103,
     "metadata": {},
     "output_type": "execute_result"
    }
   ],
   "source": [
    "plays[plays['playDescription'].str.contains('scrambles', case=False, na=False)]['passResult'].unique()"
   ]
  },
  {
   "cell_type": "code",
   "execution_count": 104,
   "id": "7be74af5",
   "metadata": {},
   "outputs": [
    {
     "data": {
      "text/plain": [
       "4148    (:25) (No Huddle, Shotgun) B.Bolden left end to LV 23 for 5 yards. Lateral to F.Moreau to LV 28 for 5 yards (T.Herndon). FUMBLES (T.Herndon), RECOVERED by JAX-D.Lloyd at LV 25. D.Lloyd to LV 14 for 11 yards (D.Parham).\n",
       "Name: playDescription, dtype: object"
      ]
     },
     "execution_count": 104,
     "metadata": {},
     "output_type": "execute_result"
    }
   ],
   "source": [
    "pd.set_option('max_colwidth', 300)\n",
    "plays[(plays['passResult'].isna()) & (plays['playDescription'].str.contains('lateral|backward', case=False, na=False))]['playDescription']"
   ]
  },
  {
   "cell_type": "code",
   "execution_count": 105,
   "id": "d538765a",
   "metadata": {},
   "outputs": [
    {
     "data": {
      "text/html": [
       "<div>\n",
       "<style scoped>\n",
       "    .dataframe tbody tr th:only-of-type {\n",
       "        vertical-align: middle;\n",
       "    }\n",
       "\n",
       "    .dataframe tbody tr th {\n",
       "        vertical-align: top;\n",
       "    }\n",
       "\n",
       "    .dataframe thead th {\n",
       "        text-align: right;\n",
       "    }\n",
       "</style>\n",
       "<table border=\"1\" class=\"dataframe\">\n",
       "  <thead>\n",
       "    <tr style=\"text-align: right;\">\n",
       "      <th></th>\n",
       "      <th>playDescription</th>\n",
       "      <th>qbSneak</th>\n",
       "      <th>passResult</th>\n",
       "      <th>rushLocationType</th>\n",
       "      <th>pff_runConceptPrimary</th>\n",
       "      <th>passLocationType</th>\n",
       "      <th>passLength</th>\n",
       "      <th>targetX</th>\n",
       "      <th>targetY</th>\n",
       "    </tr>\n",
       "  </thead>\n",
       "  <tbody>\n",
       "    <tr>\n",
       "      <th>29</th>\n",
       "      <td>(8:54) C.Van Lanen reported in as eligible.  T.Lawrence pass short right to J.Robinson for 3 yards, TOUCHDOWN.</td>\n",
       "      <td>0</td>\n",
       "      <td>C</td>\n",
       "      <td>NaN</td>\n",
       "      <td>MAN</td>\n",
       "      <td>OUTSIDE_RIGHT</td>\n",
       "      <td>3.0</td>\n",
       "      <td>10.10</td>\n",
       "      <td>44.41</td>\n",
       "    </tr>\n",
       "    <tr>\n",
       "      <th>34</th>\n",
       "      <td>(3:39) M.Stafford pass short left to Al.Robinson for 5 yards, TOUCHDOWN.</td>\n",
       "      <td>0</td>\n",
       "      <td>C</td>\n",
       "      <td>NaN</td>\n",
       "      <td>MAN</td>\n",
       "      <td>INSIDE_BOX</td>\n",
       "      <td>5.0</td>\n",
       "      <td>112.34</td>\n",
       "      <td>46.03</td>\n",
       "    </tr>\n",
       "    <tr>\n",
       "      <th>40</th>\n",
       "      <td>(4:49) T.Allgeier left guard for 1 yard, TOUCHDOWN.</td>\n",
       "      <td>False</td>\n",
       "      <td>NaN</td>\n",
       "      <td>OUTSIDE_LEFT</td>\n",
       "      <td>MAN</td>\n",
       "      <td>NaN</td>\n",
       "      <td>NaN</td>\n",
       "      <td>NaN</td>\n",
       "      <td>NaN</td>\n",
       "    </tr>\n",
       "    <tr>\n",
       "      <th>61</th>\n",
       "      <td>(:23) (Shotgun) P.Walker pass deep left to D.Moore for 62 yards, TOUCHDOWN. PENALTY on CAR-D.Moore, Unsportsmanlike Conduct, 15 yards, enforced between downs.</td>\n",
       "      <td>0</td>\n",
       "      <td>C</td>\n",
       "      <td>NaN</td>\n",
       "      <td>NaN</td>\n",
       "      <td>OUTSIDE_LEFT</td>\n",
       "      <td>62.0</td>\n",
       "      <td>112.35</td>\n",
       "      <td>40.71</td>\n",
       "    </tr>\n",
       "    <tr>\n",
       "      <th>67</th>\n",
       "      <td>(7:46) (Shotgun) R.Tannehill pass short middle to C.Okonkwo for 8 yards, TOUCHDOWN. IND-S.Leonard was injured during the play.</td>\n",
       "      <td>0</td>\n",
       "      <td>C</td>\n",
       "      <td>NaN</td>\n",
       "      <td>NaN</td>\n",
       "      <td>INSIDE_BOX</td>\n",
       "      <td>6.0</td>\n",
       "      <td>107.35</td>\n",
       "      <td>23.54</td>\n",
       "    </tr>\n",
       "    <tr>\n",
       "      <th>...</th>\n",
       "      <td>...</td>\n",
       "      <td>...</td>\n",
       "      <td>...</td>\n",
       "      <td>...</td>\n",
       "      <td>...</td>\n",
       "      <td>...</td>\n",
       "      <td>...</td>\n",
       "      <td>...</td>\n",
       "      <td>...</td>\n",
       "    </tr>\n",
       "    <tr>\n",
       "      <th>16063</th>\n",
       "      <td>(9:43) (Shotgun) P.Mahomes pass short left to T.Kelce for 9 yards, TOUCHDOWN [M.Golden].</td>\n",
       "      <td>0</td>\n",
       "      <td>C</td>\n",
       "      <td>NaN</td>\n",
       "      <td>OUTSIDE ZONE</td>\n",
       "      <td>INSIDE_BOX</td>\n",
       "      <td>9.0</td>\n",
       "      <td>6.65</td>\n",
       "      <td>4.74</td>\n",
       "    </tr>\n",
       "    <tr>\n",
       "      <th>16081</th>\n",
       "      <td>(9:21) K.Cousins pass short right to J.Jefferson for 5 yards, TOUCHDOWN.</td>\n",
       "      <td>0</td>\n",
       "      <td>C</td>\n",
       "      <td>NaN</td>\n",
       "      <td>INSIDE ZONE</td>\n",
       "      <td>INSIDE_BOX</td>\n",
       "      <td>3.0</td>\n",
       "      <td>108.39</td>\n",
       "      <td>5.10</td>\n",
       "    </tr>\n",
       "    <tr>\n",
       "      <th>16084</th>\n",
       "      <td>(14:27) J.Goff pass short middle to J.Reynolds for 3 yards, TOUCHDOWN. Penalty on SEA-M.Jackson, Defensive Holding, declined.</td>\n",
       "      <td>0</td>\n",
       "      <td>C</td>\n",
       "      <td>NaN</td>\n",
       "      <td>INSIDE ZONE</td>\n",
       "      <td>INSIDE_BOX</td>\n",
       "      <td>3.0</td>\n",
       "      <td>4.90</td>\n",
       "      <td>29.59</td>\n",
       "    </tr>\n",
       "    <tr>\n",
       "      <th>16097</th>\n",
       "      <td>(1:10) (Shotgun) J.Dobbins left tackle for 4 yards, TOUCHDOWN.</td>\n",
       "      <td>False</td>\n",
       "      <td>NaN</td>\n",
       "      <td>INSIDE_LEFT</td>\n",
       "      <td>MAN</td>\n",
       "      <td>NaN</td>\n",
       "      <td>NaN</td>\n",
       "      <td>NaN</td>\n",
       "      <td>NaN</td>\n",
       "    </tr>\n",
       "    <tr>\n",
       "      <th>16123</th>\n",
       "      <td>(15:00) Br.Hall up the middle for 34 yards, TOUCHDOWN.</td>\n",
       "      <td>False</td>\n",
       "      <td>NaN</td>\n",
       "      <td>INSIDE_LEFT</td>\n",
       "      <td>COUNTER</td>\n",
       "      <td>NaN</td>\n",
       "      <td>NaN</td>\n",
       "      <td>NaN</td>\n",
       "      <td>NaN</td>\n",
       "    </tr>\n",
       "  </tbody>\n",
       "</table>\n",
       "<p>631 rows × 9 columns</p>\n",
       "</div>"
      ],
      "text/plain": [
       "                                                                                                                                                      playDescription  \\\n",
       "29                                                     (8:54) C.Van Lanen reported in as eligible.  T.Lawrence pass short right to J.Robinson for 3 yards, TOUCHDOWN.   \n",
       "34                                                                                           (3:39) M.Stafford pass short left to Al.Robinson for 5 yards, TOUCHDOWN.   \n",
       "40                                                                                                                (4:49) T.Allgeier left guard for 1 yard, TOUCHDOWN.   \n",
       "61     (:23) (Shotgun) P.Walker pass deep left to D.Moore for 62 yards, TOUCHDOWN. PENALTY on CAR-D.Moore, Unsportsmanlike Conduct, 15 yards, enforced between downs.   \n",
       "67                                     (7:46) (Shotgun) R.Tannehill pass short middle to C.Okonkwo for 8 yards, TOUCHDOWN. IND-S.Leonard was injured during the play.   \n",
       "...                                                                                                                                                               ...   \n",
       "16063                                                                        (9:43) (Shotgun) P.Mahomes pass short left to T.Kelce for 9 yards, TOUCHDOWN [M.Golden].   \n",
       "16081                                                                                        (9:21) K.Cousins pass short right to J.Jefferson for 5 yards, TOUCHDOWN.   \n",
       "16084                                   (14:27) J.Goff pass short middle to J.Reynolds for 3 yards, TOUCHDOWN. Penalty on SEA-M.Jackson, Defensive Holding, declined.   \n",
       "16097                                                                                                  (1:10) (Shotgun) J.Dobbins left tackle for 4 yards, TOUCHDOWN.   \n",
       "16123                                                                                                          (15:00) Br.Hall up the middle for 34 yards, TOUCHDOWN.   \n",
       "\n",
       "      qbSneak passResult rushLocationType pff_runConceptPrimary  \\\n",
       "29          0          C              NaN                   MAN   \n",
       "34          0          C              NaN                   MAN   \n",
       "40      False        NaN     OUTSIDE_LEFT                   MAN   \n",
       "61          0          C              NaN                   NaN   \n",
       "67          0          C              NaN                   NaN   \n",
       "...       ...        ...              ...                   ...   \n",
       "16063       0          C              NaN          OUTSIDE ZONE   \n",
       "16081       0          C              NaN           INSIDE ZONE   \n",
       "16084       0          C              NaN           INSIDE ZONE   \n",
       "16097   False        NaN      INSIDE_LEFT                   MAN   \n",
       "16123   False        NaN      INSIDE_LEFT               COUNTER   \n",
       "\n",
       "      passLocationType  passLength  targetX  targetY  \n",
       "29       OUTSIDE_RIGHT         3.0    10.10    44.41  \n",
       "34          INSIDE_BOX         5.0   112.34    46.03  \n",
       "40                 NaN         NaN      NaN      NaN  \n",
       "61        OUTSIDE_LEFT        62.0   112.35    40.71  \n",
       "67          INSIDE_BOX         6.0   107.35    23.54  \n",
       "...                ...         ...      ...      ...  \n",
       "16063       INSIDE_BOX         9.0     6.65     4.74  \n",
       "16081       INSIDE_BOX         3.0   108.39     5.10  \n",
       "16084       INSIDE_BOX         3.0     4.90    29.59  \n",
       "16097              NaN         NaN      NaN      NaN  \n",
       "16123              NaN         NaN      NaN      NaN  \n",
       "\n",
       "[631 rows x 9 columns]"
      ]
     },
     "execution_count": 105,
     "metadata": {},
     "output_type": "execute_result"
    }
   ],
   "source": [
    "plays.loc[(plays['playDescription'].str.contains('touchdown', case=False))][['playDescription', 'qbSneak', 'passResult',\n",
    "                                                                             'rushLocationType', 'pff_runConceptPrimary', \n",
    "                                                                             'passLocationType', 'passLength', 'targetX',\n",
    "                                                                             'targetY']]\n",
    "\n"
   ]
  },
  {
   "cell_type": "code",
   "execution_count": 106,
   "id": "2f27b180",
   "metadata": {},
   "outputs": [
    {
     "data": {
      "text/plain": [
       "6104"
      ]
     },
     "execution_count": 106,
     "metadata": {},
     "output_type": "execute_result"
    }
   ],
   "source": [
    "plays['passResult'].isna().sum()"
   ]
  },
  {
   "cell_type": "code",
   "execution_count": 107,
   "id": "2459c3d6",
   "metadata": {},
   "outputs": [
    {
     "data": {
      "text/plain": [
       "6104"
      ]
     },
     "execution_count": 107,
     "metadata": {},
     "output_type": "execute_result"
    }
   ],
   "source": [
    "len(plays[\n",
    "    (plays['passResult'].isna()) &\n",
    "    (plays['passLength'].isna()) & (plays['targetX'].isna()) & (plays['targetY'].isna())\n",
    "])"
   ]
  },
  {
   "cell_type": "code",
   "execution_count": 108,
   "id": "0889c023",
   "metadata": {},
   "outputs": [
    {
     "data": {
      "text/plain": [
       "array([0])"
      ]
     },
     "execution_count": 108,
     "metadata": {},
     "output_type": "execute_result"
    }
   ],
   "source": [
    "plays[\n",
    "    (plays['passResult'].isna()) &\n",
    "    (plays['passLength'].isna()) & (plays['targetX'].isna()) & (plays['targetY'].isna())\n",
    "]['isDropback'].unique()\n"
   ]
  },
  {
   "cell_type": "code",
   "execution_count": 109,
   "id": "9a314fb2",
   "metadata": {},
   "outputs": [],
   "source": [
    "plays['passResult'] = plays['passResult'].fillna(\"NoPass\")"
   ]
  },
  {
   "cell_type": "code",
   "execution_count": 110,
   "id": "e95f306a",
   "metadata": {},
   "outputs": [
    {
     "data": {
      "text/html": [
       "<div>\n",
       "<style scoped>\n",
       "    .dataframe tbody tr th:only-of-type {\n",
       "        vertical-align: middle;\n",
       "    }\n",
       "\n",
       "    .dataframe tbody tr th {\n",
       "        vertical-align: top;\n",
       "    }\n",
       "\n",
       "    .dataframe thead th {\n",
       "        text-align: right;\n",
       "    }\n",
       "</style>\n",
       "<table border=\"1\" class=\"dataframe\">\n",
       "  <thead>\n",
       "    <tr style=\"text-align: right;\">\n",
       "      <th></th>\n",
       "      <th>gameId</th>\n",
       "      <th>playId</th>\n",
       "      <th>playDescription</th>\n",
       "      <th>quarter</th>\n",
       "      <th>down</th>\n",
       "      <th>yardsToGo</th>\n",
       "      <th>possessionTeam</th>\n",
       "      <th>defensiveTeam</th>\n",
       "      <th>yardlineSide</th>\n",
       "      <th>yardlineNumber</th>\n",
       "      <th>...</th>\n",
       "      <th>prePenaltyYardsGained</th>\n",
       "      <th>yardsGained</th>\n",
       "      <th>isDropback</th>\n",
       "      <th>pff_runConceptPrimary</th>\n",
       "      <th>pff_runConceptSecondary</th>\n",
       "      <th>pff_runPassOption</th>\n",
       "      <th>pff_passCoverage</th>\n",
       "      <th>pff_manZone</th>\n",
       "      <th>distanceFromOwnEndZone</th>\n",
       "      <th>penalty</th>\n",
       "    </tr>\n",
       "  </thead>\n",
       "  <tbody>\n",
       "  </tbody>\n",
       "</table>\n",
       "<p>0 rows × 45 columns</p>\n",
       "</div>"
      ],
      "text/plain": [
       "Empty DataFrame\n",
       "Columns: [gameId, playId, playDescription, quarter, down, yardsToGo, possessionTeam, defensiveTeam, yardlineSide, yardlineNumber, gameClock, preSnapHomeScore, preSnapVisitorScore, absoluteYardlineNumber, offenseFormation, receiverAlignment, playClockAtSnap, passResult, passLength, targetX, targetY, playAction, dropbackType, dropbackDistance, passLocationType, timeToThrow, timeInTackleBox, timeToSack, passTippedAtLine, unblockedPressure, qbSpike, qbKneel, qbSneak, rushLocationType, penaltyYards, prePenaltyYardsGained, yardsGained, isDropback, pff_runConceptPrimary, pff_runConceptSecondary, pff_runPassOption, pff_passCoverage, pff_manZone, distanceFromOwnEndZone, penalty]\n",
       "Index: []\n",
       "\n",
       "[0 rows x 45 columns]"
      ]
     },
     "execution_count": 110,
     "metadata": {},
     "output_type": "execute_result"
    }
   ],
   "source": [
    " plays[\n",
    "    (plays['passResult'].isna()) &\n",
    "    (plays['playDescription'].str.contains(' pass', case=False, na=False))\n",
    "]"
   ]
  },
  {
   "cell_type": "code",
   "execution_count": 111,
   "id": "1e8acf5e",
   "metadata": {},
   "outputs": [
    {
     "data": {
      "text/plain": [
       "array(['NoPass'], dtype=object)"
      ]
     },
     "execution_count": 111,
     "metadata": {},
     "output_type": "execute_result"
    }
   ],
   "source": [
    "plays.loc[(plays['qbSneak']==1) | (plays['qbKneel']==1) | (plays['qbSpike']==1)]['passResult'].unique()"
   ]
  },
  {
   "cell_type": "markdown",
   "id": "21d7a9c5",
   "metadata": {},
   "source": [
    "### `passLocationType` ✅\n",
    "\n",
    "\n",
    "6812 missing values\n",
    "\n",
    "The location type of where the QB was at the time of throw (Inside Tackle Box, Outside Left, Outside Right, Unknown, text)"
   ]
  },
  {
   "cell_type": "code",
   "execution_count": 112,
   "id": "28f322f6",
   "metadata": {},
   "outputs": [
    {
     "data": {
      "text/plain": [
       "INSIDE_BOX       8018\n",
       "NA               6812\n",
       "OUTSIDE_RIGHT     811\n",
       "OUTSIDE_LEFT      482\n",
       "UNKNOWN             1\n",
       "Name: passLocationType, dtype: int64"
      ]
     },
     "execution_count": 112,
     "metadata": {},
     "output_type": "execute_result"
    }
   ],
   "source": [
    "plays['passLocationType'].fillna('NA').value_counts()"
   ]
  },
  {
   "cell_type": "code",
   "execution_count": 113,
   "id": "d86b2d9c",
   "metadata": {},
   "outputs": [
    {
     "data": {
      "text/html": [
       "<div>\n",
       "<style scoped>\n",
       "    .dataframe tbody tr th:only-of-type {\n",
       "        vertical-align: middle;\n",
       "    }\n",
       "\n",
       "    .dataframe tbody tr th {\n",
       "        vertical-align: top;\n",
       "    }\n",
       "\n",
       "    .dataframe thead th {\n",
       "        text-align: right;\n",
       "    }\n",
       "</style>\n",
       "<table border=\"1\" class=\"dataframe\">\n",
       "  <thead>\n",
       "    <tr style=\"text-align: right;\">\n",
       "      <th></th>\n",
       "      <th>passLocationType</th>\n",
       "      <th>timeInTackleBox</th>\n",
       "      <th>timeToThrow</th>\n",
       "      <th>dropbackType</th>\n",
       "      <th>passResult</th>\n",
       "    </tr>\n",
       "  </thead>\n",
       "  <tbody>\n",
       "    <tr>\n",
       "      <th>0</th>\n",
       "      <td>INSIDE_BOX</td>\n",
       "      <td>2.528538</td>\n",
       "      <td>2.531454</td>\n",
       "      <td>{'TRADITIONAL': 7804, 'DESIGNED_ROLLOUT_RIGHT': 124, 'DESIGNED_ROLLOUT_LEFT': 87, 'DESIGNED_RUN': 2, 'SCRAMBLE_ROLLOUT_RIGHT': 1}</td>\n",
       "      <td>{'C': 5111, 'I': 2355, 'S': 390, 'IN': 162}</td>\n",
       "    </tr>\n",
       "    <tr>\n",
       "      <th>1</th>\n",
       "      <td>OUTSIDE_LEFT</td>\n",
       "      <td>3.524421</td>\n",
       "      <td>4.420753</td>\n",
       "      <td>{'SCRAMBLE': 184, 'TRADITIONAL': 179, 'DESIGNED_ROLLOUT_LEFT': 102, 'SCRAMBLE_ROLLOUT_LEFT': 16, 'DESIGNED_RUN': 1}</td>\n",
       "      <td>{'C': 180, 'I': 177, 'S': 117, 'IN': 8}</td>\n",
       "    </tr>\n",
       "    <tr>\n",
       "      <th>2</th>\n",
       "      <td>OUTSIDE_RIGHT</td>\n",
       "      <td>3.100000</td>\n",
       "      <td>4.186400</td>\n",
       "      <td>{'SCRAMBLE': 318, 'DESIGNED_ROLLOUT_RIGHT': 244, 'TRADITIONAL': 165, 'SCRAMBLE_ROLLOUT_RIGHT': 81, 'DESIGNED_RUN': 2, 'DESIGNED_ROLLOUT_LEFT': 1}</td>\n",
       "      <td>{'I': 355, 'C': 332, 'S': 101, 'IN': 23}</td>\n",
       "    </tr>\n",
       "    <tr>\n",
       "      <th>3</th>\n",
       "      <td>UNKNOWN</td>\n",
       "      <td>2.436000</td>\n",
       "      <td>2.436000</td>\n",
       "      <td>{'TRADITIONAL': 1}</td>\n",
       "      <td>{'I': 1}</td>\n",
       "    </tr>\n",
       "  </tbody>\n",
       "</table>\n",
       "</div>"
      ],
      "text/plain": [
       "  passLocationType  timeInTackleBox  timeToThrow  \\\n",
       "0       INSIDE_BOX         2.528538     2.531454   \n",
       "1     OUTSIDE_LEFT         3.524421     4.420753   \n",
       "2    OUTSIDE_RIGHT         3.100000     4.186400   \n",
       "3          UNKNOWN         2.436000     2.436000   \n",
       "\n",
       "                                                                                                                                        dropbackType  \\\n",
       "0                  {'TRADITIONAL': 7804, 'DESIGNED_ROLLOUT_RIGHT': 124, 'DESIGNED_ROLLOUT_LEFT': 87, 'DESIGNED_RUN': 2, 'SCRAMBLE_ROLLOUT_RIGHT': 1}   \n",
       "1                                {'SCRAMBLE': 184, 'TRADITIONAL': 179, 'DESIGNED_ROLLOUT_LEFT': 102, 'SCRAMBLE_ROLLOUT_LEFT': 16, 'DESIGNED_RUN': 1}   \n",
       "2  {'SCRAMBLE': 318, 'DESIGNED_ROLLOUT_RIGHT': 244, 'TRADITIONAL': 165, 'SCRAMBLE_ROLLOUT_RIGHT': 81, 'DESIGNED_RUN': 2, 'DESIGNED_ROLLOUT_LEFT': 1}   \n",
       "3                                                                                                                                 {'TRADITIONAL': 1}   \n",
       "\n",
       "                                    passResult  \n",
       "0  {'C': 5111, 'I': 2355, 'S': 390, 'IN': 162}  \n",
       "1      {'C': 180, 'I': 177, 'S': 117, 'IN': 8}  \n",
       "2     {'I': 355, 'C': 332, 'S': 101, 'IN': 23}  \n",
       "3                                     {'I': 1}  "
      ]
     },
     "execution_count": 113,
     "metadata": {},
     "output_type": "execute_result"
    }
   ],
   "source": [
    "location_analysis = plays.groupby('passLocationType').agg({\n",
    "    'timeInTackleBox': 'mean',  \n",
    "    'timeToThrow': 'mean', 'dropbackType': lambda x: x.value_counts().to_dict(),  #\n",
    "    'passResult': lambda x: x.value_counts().to_dict(), }).reset_index()\n",
    "\n",
    "\n",
    "location_analysis\n"
   ]
  },
  {
   "cell_type": "code",
   "execution_count": 114,
   "id": "669544f5",
   "metadata": {},
   "outputs": [],
   "source": [
    "# plays.query('passLocationType==\"UNKNOWN\"').T"
   ]
  },
  {
   "cell_type": "code",
   "execution_count": 115,
   "id": "ce8300cf",
   "metadata": {},
   "outputs": [],
   "source": [
    "plays.loc[ (plays['passLocationType'] == 'UNKNOWN'), 'passLocationType'] = 'INSIDE_BOX'"
   ]
  },
  {
   "cell_type": "code",
   "execution_count": 117,
   "id": "0835069e",
   "metadata": {},
   "outputs": [
    {
     "data": {
      "text/html": [
       "<div>\n",
       "<style scoped>\n",
       "    .dataframe tbody tr th:only-of-type {\n",
       "        vertical-align: middle;\n",
       "    }\n",
       "\n",
       "    .dataframe tbody tr th {\n",
       "        vertical-align: top;\n",
       "    }\n",
       "\n",
       "    .dataframe thead th {\n",
       "        text-align: right;\n",
       "    }\n",
       "</style>\n",
       "<table border=\"1\" class=\"dataframe\">\n",
       "  <thead>\n",
       "    <tr style=\"text-align: right;\">\n",
       "      <th></th>\n",
       "      <th>passLocationType</th>\n",
       "    </tr>\n",
       "    <tr>\n",
       "      <th>passResult</th>\n",
       "      <th></th>\n",
       "    </tr>\n",
       "  </thead>\n",
       "  <tbody>\n",
       "    <tr>\n",
       "      <th>C</th>\n",
       "      <td>[INSIDE_BOX, OUTSIDE_RIGHT, OUTSIDE_LEFT, nan]</td>\n",
       "    </tr>\n",
       "    <tr>\n",
       "      <th>I</th>\n",
       "      <td>[INSIDE_BOX, OUTSIDE_RIGHT, OUTSIDE_LEFT]</td>\n",
       "    </tr>\n",
       "    <tr>\n",
       "      <th>IN</th>\n",
       "      <td>[OUTSIDE_LEFT, OUTSIDE_RIGHT, INSIDE_BOX]</td>\n",
       "    </tr>\n",
       "    <tr>\n",
       "      <th>NoPass</th>\n",
       "      <td>[nan]</td>\n",
       "    </tr>\n",
       "    <tr>\n",
       "      <th>R</th>\n",
       "      <td>[nan]</td>\n",
       "    </tr>\n",
       "    <tr>\n",
       "      <th>S</th>\n",
       "      <td>[OUTSIDE_LEFT, INSIDE_BOX, OUTSIDE_RIGHT]</td>\n",
       "    </tr>\n",
       "  </tbody>\n",
       "</table>\n",
       "</div>"
      ],
      "text/plain": [
       "                                          passLocationType\n",
       "passResult                                                \n",
       "C           [INSIDE_BOX, OUTSIDE_RIGHT, OUTSIDE_LEFT, nan]\n",
       "I                [INSIDE_BOX, OUTSIDE_RIGHT, OUTSIDE_LEFT]\n",
       "IN               [OUTSIDE_LEFT, OUTSIDE_RIGHT, INSIDE_BOX]\n",
       "NoPass                                               [nan]\n",
       "R                                                    [nan]\n",
       "S                [OUTSIDE_LEFT, INSIDE_BOX, OUTSIDE_RIGHT]"
      ]
     },
     "execution_count": 117,
     "metadata": {},
     "output_type": "execute_result"
    }
   ],
   "source": [
    "plays.groupby('passResult')['passLocationType'].unique().to_frame()"
   ]
  },
  {
   "cell_type": "code",
   "execution_count": 118,
   "id": "41b5d19c",
   "metadata": {},
   "outputs": [
    {
     "data": {
      "text/html": [
       "<div>\n",
       "<style scoped>\n",
       "    .dataframe tbody tr th:only-of-type {\n",
       "        vertical-align: middle;\n",
       "    }\n",
       "\n",
       "    .dataframe tbody tr th {\n",
       "        vertical-align: top;\n",
       "    }\n",
       "\n",
       "    .dataframe thead th {\n",
       "        text-align: right;\n",
       "    }\n",
       "</style>\n",
       "<table border=\"1\" class=\"dataframe\">\n",
       "  <thead>\n",
       "    <tr style=\"text-align: right;\">\n",
       "      <th></th>\n",
       "      <th>timeToThrow</th>\n",
       "      <th>timeInTackleBox</th>\n",
       "      <th>passResult</th>\n",
       "      <th>playDescription</th>\n",
       "    </tr>\n",
       "  </thead>\n",
       "  <tbody>\n",
       "    <tr>\n",
       "      <th>621</th>\n",
       "      <td>3.470</td>\n",
       "      <td>2.0</td>\n",
       "      <td>I</td>\n",
       "      <td>(2:15) C.Wentz pass incomplete short right [D.Wilson]. PENALTY on WAS-C.Wentz, Intentional Grounding, 14 yards, enforced at DAL 17.</td>\n",
       "    </tr>\n",
       "    <tr>\n",
       "      <th>629</th>\n",
       "      <td>3.904</td>\n",
       "      <td>1.9</td>\n",
       "      <td>C</td>\n",
       "      <td>(2:50) M.Mariota pass deep right to O.Zaccheaus to SEA 39 for 23 yards (T.Woolen) [P.Ford].</td>\n",
       "    </tr>\n",
       "    <tr>\n",
       "      <th>4130</th>\n",
       "      <td>3.337</td>\n",
       "      <td>1.6</td>\n",
       "      <td>I</td>\n",
       "      <td>(10:32) J.Allen pass incomplete deep right to R.Gilliam.</td>\n",
       "    </tr>\n",
       "    <tr>\n",
       "      <th>4741</th>\n",
       "      <td>4.204</td>\n",
       "      <td>2.9</td>\n",
       "      <td>I</td>\n",
       "      <td>(6:46) (Shotgun) M.Mariota pass incomplete short left to K.Pitts (G.Delpit).</td>\n",
       "    </tr>\n",
       "    <tr>\n",
       "      <th>5830</th>\n",
       "      <td>6.774</td>\n",
       "      <td>3.4</td>\n",
       "      <td>I</td>\n",
       "      <td>(8:34) R.Wilson pass incomplete short right to J.Williams (J.Adams).</td>\n",
       "    </tr>\n",
       "    <tr>\n",
       "      <th>7060</th>\n",
       "      <td>6.239</td>\n",
       "      <td>2.9</td>\n",
       "      <td>I</td>\n",
       "      <td>(1:22) (Shotgun) L.Jackson pass incomplete deep middle to D.Robinson (J.Love).</td>\n",
       "    </tr>\n",
       "    <tr>\n",
       "      <th>8001</th>\n",
       "      <td>3.970</td>\n",
       "      <td>3.1</td>\n",
       "      <td>I</td>\n",
       "      <td>(6:14) (Shotgun) T.Tagovailoa pass incomplete short left to T.Hill.</td>\n",
       "    </tr>\n",
       "    <tr>\n",
       "      <th>8249</th>\n",
       "      <td>4.638</td>\n",
       "      <td>2.5</td>\n",
       "      <td>C</td>\n",
       "      <td>(10:57) (Shotgun) D.Jones pass short left to R.James pushed ob at JAX 35 for 2 yards (A.Key).</td>\n",
       "    </tr>\n",
       "    <tr>\n",
       "      <th>9093</th>\n",
       "      <td>4.505</td>\n",
       "      <td>3.3</td>\n",
       "      <td>I</td>\n",
       "      <td>(8:48) (Shotgun) M.Mariota pass incomplete deep left to K.Pitts.</td>\n",
       "    </tr>\n",
       "    <tr>\n",
       "      <th>9174</th>\n",
       "      <td>4.137</td>\n",
       "      <td>2.1</td>\n",
       "      <td>I</td>\n",
       "      <td>(4:47) (Shotgun) M.Mariota pass incomplete deep left to K.Pitts.</td>\n",
       "    </tr>\n",
       "    <tr>\n",
       "      <th>9239</th>\n",
       "      <td>3.770</td>\n",
       "      <td>2.8</td>\n",
       "      <td>I</td>\n",
       "      <td>(11:12) (Shotgun) M.Mariota pass incomplete short right to D.London [D.Davis].</td>\n",
       "    </tr>\n",
       "    <tr>\n",
       "      <th>10334</th>\n",
       "      <td>3.904</td>\n",
       "      <td>1.4</td>\n",
       "      <td>I</td>\n",
       "      <td>(9:31) M.Mariota pass incomplete deep left to F.Franks.</td>\n",
       "    </tr>\n",
       "    <tr>\n",
       "      <th>11684</th>\n",
       "      <td>4.571</td>\n",
       "      <td>3.2</td>\n",
       "      <td>I</td>\n",
       "      <td>(6:29) (Shotgun) M.Ryan pass incomplete short left to P.Campbell [A.Gotsis].</td>\n",
       "    </tr>\n",
       "    <tr>\n",
       "      <th>11820</th>\n",
       "      <td>3.437</td>\n",
       "      <td>1.9</td>\n",
       "      <td>C</td>\n",
       "      <td>(7:58) J.Garoppolo pass deep left to D.Samuel to KC 9 for 22 yards (Ja.Watson). 3 YAC</td>\n",
       "    </tr>\n",
       "    <tr>\n",
       "      <th>12091</th>\n",
       "      <td>5.338</td>\n",
       "      <td>3.6</td>\n",
       "      <td>I</td>\n",
       "      <td>(1:20) (Shotgun) T.Bridgewater pass incomplete short right [B.Hill].</td>\n",
       "    </tr>\n",
       "    <tr>\n",
       "      <th>12542</th>\n",
       "      <td>4.572</td>\n",
       "      <td>3.2</td>\n",
       "      <td>C</td>\n",
       "      <td>(1:06) M.Stafford pass short left to Al.Robinson to CAR 17 for 22 yards (K.Taylor).</td>\n",
       "    </tr>\n",
       "    <tr>\n",
       "      <th>13857</th>\n",
       "      <td>3.137</td>\n",
       "      <td>1.9</td>\n",
       "      <td>I</td>\n",
       "      <td>(2:17) R.Tannehill pass incomplete short middle to R.Woods (J.Brown).</td>\n",
       "    </tr>\n",
       "    <tr>\n",
       "      <th>13928</th>\n",
       "      <td>3.504</td>\n",
       "      <td>3.1</td>\n",
       "      <td>I</td>\n",
       "      <td>(13:19) R.Tannehill pass incomplete short right to D.Henry.</td>\n",
       "    </tr>\n",
       "    <tr>\n",
       "      <th>14009</th>\n",
       "      <td>3.370</td>\n",
       "      <td>2.7</td>\n",
       "      <td>I</td>\n",
       "      <td>(7:46) T.Tagovailoa pass incomplete short right to D.Smythe.</td>\n",
       "    </tr>\n",
       "    <tr>\n",
       "      <th>15097</th>\n",
       "      <td>4.605</td>\n",
       "      <td>3.2</td>\n",
       "      <td>C</td>\n",
       "      <td>(15:00) T.Bridgewater pass short right to A.Ingold to MIA 27 for 2 yards (D.Hunter).</td>\n",
       "    </tr>\n",
       "  </tbody>\n",
       "</table>\n",
       "</div>"
      ],
      "text/plain": [
       "       timeToThrow  timeInTackleBox passResult  \\\n",
       "621          3.470              2.0          I   \n",
       "629          3.904              1.9          C   \n",
       "4130         3.337              1.6          I   \n",
       "4741         4.204              2.9          I   \n",
       "5830         6.774              3.4          I   \n",
       "7060         6.239              2.9          I   \n",
       "8001         3.970              3.1          I   \n",
       "8249         4.638              2.5          C   \n",
       "9093         4.505              3.3          I   \n",
       "9174         4.137              2.1          I   \n",
       "9239         3.770              2.8          I   \n",
       "10334        3.904              1.4          I   \n",
       "11684        4.571              3.2          I   \n",
       "11820        3.437              1.9          C   \n",
       "12091        5.338              3.6          I   \n",
       "12542        4.572              3.2          C   \n",
       "13857        3.137              1.9          I   \n",
       "13928        3.504              3.1          I   \n",
       "14009        3.370              2.7          I   \n",
       "15097        4.605              3.2          C   \n",
       "\n",
       "                                                                                                                           playDescription  \n",
       "621    (2:15) C.Wentz pass incomplete short right [D.Wilson]. PENALTY on WAS-C.Wentz, Intentional Grounding, 14 yards, enforced at DAL 17.  \n",
       "629                                            (2:50) M.Mariota pass deep right to O.Zaccheaus to SEA 39 for 23 yards (T.Woolen) [P.Ford].  \n",
       "4130                                                                              (10:32) J.Allen pass incomplete deep right to R.Gilliam.  \n",
       "4741                                                          (6:46) (Shotgun) M.Mariota pass incomplete short left to K.Pitts (G.Delpit).  \n",
       "5830                                                                  (8:34) R.Wilson pass incomplete short right to J.Williams (J.Adams).  \n",
       "7060                                                        (1:22) (Shotgun) L.Jackson pass incomplete deep middle to D.Robinson (J.Love).  \n",
       "8001                                                                   (6:14) (Shotgun) T.Tagovailoa pass incomplete short left to T.Hill.  \n",
       "8249                                         (10:57) (Shotgun) D.Jones pass short left to R.James pushed ob at JAX 35 for 2 yards (A.Key).  \n",
       "9093                                                                      (8:48) (Shotgun) M.Mariota pass incomplete deep left to K.Pitts.  \n",
       "9174                                                                      (4:47) (Shotgun) M.Mariota pass incomplete deep left to K.Pitts.  \n",
       "9239                                                        (11:12) (Shotgun) M.Mariota pass incomplete short right to D.London [D.Davis].  \n",
       "10334                                                                              (9:31) M.Mariota pass incomplete deep left to F.Franks.  \n",
       "11684                                                         (6:29) (Shotgun) M.Ryan pass incomplete short left to P.Campbell [A.Gotsis].  \n",
       "11820                                                (7:58) J.Garoppolo pass deep left to D.Samuel to KC 9 for 22 yards (Ja.Watson). 3 YAC  \n",
       "12091                                                                 (1:20) (Shotgun) T.Bridgewater pass incomplete short right [B.Hill].  \n",
       "12542                                                  (1:06) M.Stafford pass short left to Al.Robinson to CAR 17 for 22 yards (K.Taylor).  \n",
       "13857                                                                (2:17) R.Tannehill pass incomplete short middle to R.Woods (J.Brown).  \n",
       "13928                                                                          (13:19) R.Tannehill pass incomplete short right to D.Henry.  \n",
       "14009                                                                         (7:46) T.Tagovailoa pass incomplete short right to D.Smythe.  \n",
       "15097                                                 (15:00) T.Bridgewater pass short right to A.Ingold to MIA 27 for 2 yards (D.Hunter).  "
      ]
     },
     "execution_count": 118,
     "metadata": {},
     "output_type": "execute_result"
    }
   ],
   "source": [
    "plays.loc[\n",
    "    (plays['timeToThrow'] > plays['timeInTackleBox'] + 1e-6) & (plays['passLocationType']=='INSIDE_BOX')\n",
    "\n",
    "][['timeToThrow', 'timeInTackleBox', 'passResult', 'playDescription']]"
   ]
  },
  {
   "cell_type": "code",
   "execution_count": 119,
   "id": "e64f948d",
   "metadata": {},
   "outputs": [],
   "source": [
    "# plays.loc[\n",
    "#     (plays['timeToThrow'] > plays['timeInTackleBox'] + 1e-6) & (plays['passLocationType']=='INSIDE_BOX'), 'passLocationType'] = np.NaN"
   ]
  },
  {
   "cell_type": "code",
   "execution_count": 120,
   "id": "6deda451",
   "metadata": {},
   "outputs": [],
   "source": [
    "plays.loc[plays['passResult'].isin(['NoPass', 'R']), 'passLocationType'] = 'NoPass'"
   ]
  },
  {
   "cell_type": "code",
   "execution_count": 121,
   "id": "24e84e1b",
   "metadata": {},
   "outputs": [
    {
     "data": {
      "text/html": [
       "<div>\n",
       "<style scoped>\n",
       "    .dataframe tbody tr th:only-of-type {\n",
       "        vertical-align: middle;\n",
       "    }\n",
       "\n",
       "    .dataframe tbody tr th {\n",
       "        vertical-align: top;\n",
       "    }\n",
       "\n",
       "    .dataframe thead th {\n",
       "        text-align: right;\n",
       "    }\n",
       "</style>\n",
       "<table border=\"1\" class=\"dataframe\">\n",
       "  <thead>\n",
       "    <tr style=\"text-align: right;\">\n",
       "      <th></th>\n",
       "      <th>passResult</th>\n",
       "      <th>playDescription</th>\n",
       "      <th>qbSpike</th>\n",
       "      <th>timeToThrow</th>\n",
       "      <th>timeInTackleBox</th>\n",
       "      <th>passLength</th>\n",
       "      <th>dropbackType</th>\n",
       "      <th>dropbackDistance</th>\n",
       "    </tr>\n",
       "  </thead>\n",
       "  <tbody>\n",
       "    <tr>\n",
       "      <th>7043</th>\n",
       "      <td>C</td>\n",
       "      <td>(12:42) (Shotgun) B.Berrios pass short right to Z.Wilson for 2 yards, TOUCHDOWN.</td>\n",
       "      <td>0</td>\n",
       "      <td>3.27</td>\n",
       "      <td>0.0</td>\n",
       "      <td>2.0</td>\n",
       "      <td>DESIGNED_ROLLOUT_RIGHT</td>\n",
       "      <td>1.22</td>\n",
       "    </tr>\n",
       "  </tbody>\n",
       "</table>\n",
       "</div>"
      ],
      "text/plain": [
       "     passResult  \\\n",
       "7043          C   \n",
       "\n",
       "                                                                       playDescription  \\\n",
       "7043  (12:42) (Shotgun) B.Berrios pass short right to Z.Wilson for 2 yards, TOUCHDOWN.   \n",
       "\n",
       "      qbSpike  timeToThrow  timeInTackleBox  passLength  \\\n",
       "7043        0         3.27              0.0         2.0   \n",
       "\n",
       "                dropbackType  dropbackDistance  \n",
       "7043  DESIGNED_ROLLOUT_RIGHT              1.22  "
      ]
     },
     "execution_count": 121,
     "metadata": {},
     "output_type": "execute_result"
    }
   ],
   "source": [
    "# plays.query('dropbackType in (\"DESIGNED_RUN\", \"QB_SNEAK\")')['passLocationType'].unique()\n",
    "\n",
    "plays.query('passLocationType.isna()')[['passResult', 'playDescription', 'qbSpike',\n",
    "                                        'timeToThrow', 'timeInTackleBox', 'passLength', 'dropbackType', 'dropbackDistance' ]]"
   ]
  },
  {
   "cell_type": "code",
   "execution_count": 122,
   "id": "ac860ae5",
   "metadata": {},
   "outputs": [],
   "source": [
    "plays.loc[7043, 'passLocationType'] = 'OUTSIDE_RIGHT'"
   ]
  },
  {
   "cell_type": "code",
   "execution_count": 123,
   "id": "e813f60e",
   "metadata": {},
   "outputs": [
    {
     "data": {
      "text/plain": [
       "0"
      ]
     },
     "execution_count": 123,
     "metadata": {},
     "output_type": "execute_result"
    }
   ],
   "source": [
    "plays['passLocationType'].isna().sum() "
   ]
  },
  {
   "cell_type": "markdown",
   "id": "ee3fd27a",
   "metadata": {},
   "source": [
    "### `passLength` ✅\n",
    "\n",
    "7398 gaps"
   ]
  },
  {
   "cell_type": "code",
   "execution_count": 124,
   "id": "6af3ee95",
   "metadata": {},
   "outputs": [
    {
     "data": {
      "text/html": [
       "<div>\n",
       "<style scoped>\n",
       "    .dataframe tbody tr th:only-of-type {\n",
       "        vertical-align: middle;\n",
       "    }\n",
       "\n",
       "    .dataframe tbody tr th {\n",
       "        vertical-align: top;\n",
       "    }\n",
       "\n",
       "    .dataframe thead th {\n",
       "        text-align: right;\n",
       "    }\n",
       "</style>\n",
       "<table border=\"1\" class=\"dataframe\">\n",
       "  <thead>\n",
       "    <tr style=\"text-align: right;\">\n",
       "      <th></th>\n",
       "      <th>playDescription</th>\n",
       "      <th>passResult</th>\n",
       "    </tr>\n",
       "  </thead>\n",
       "  <tbody>\n",
       "    <tr>\n",
       "      <th>54</th>\n",
       "      <td>(14:52) (Shotgun) M.Ryan pass incomplete short right to J.Taylor.</td>\n",
       "      <td>I</td>\n",
       "    </tr>\n",
       "    <tr>\n",
       "      <th>125</th>\n",
       "      <td>(14:56) B.Mayfield pass incomplete short right to R.Anderson (J.Clowney).</td>\n",
       "      <td>I</td>\n",
       "    </tr>\n",
       "    <tr>\n",
       "      <th>140</th>\n",
       "      <td>(5:13) K.Pickett pass short right to Z.Gentry to PHI 39 for 3 yards (K.White).</td>\n",
       "      <td>C</td>\n",
       "    </tr>\n",
       "    <tr>\n",
       "      <th>185</th>\n",
       "      <td>(3:52) (Shotgun) A.Rodgers pass incomplete short right to C.Watson.</td>\n",
       "      <td>I</td>\n",
       "    </tr>\n",
       "    <tr>\n",
       "      <th>239</th>\n",
       "      <td>(:44) (No Huddle, Shotgun) J.Brissett pass short left to N.Chubb to NE 23 for 14 yards (D.Ekuale).</td>\n",
       "      <td>C</td>\n",
       "    </tr>\n",
       "  </tbody>\n",
       "</table>\n",
       "</div>"
      ],
      "text/plain": [
       "                                                                                        playDescription  \\\n",
       "54                                    (14:52) (Shotgun) M.Ryan pass incomplete short right to J.Taylor.   \n",
       "125                           (14:56) B.Mayfield pass incomplete short right to R.Anderson (J.Clowney).   \n",
       "140                      (5:13) K.Pickett pass short right to Z.Gentry to PHI 39 for 3 yards (K.White).   \n",
       "185                                 (3:52) (Shotgun) A.Rodgers pass incomplete short right to C.Watson.   \n",
       "239  (:44) (No Huddle, Shotgun) J.Brissett pass short left to N.Chubb to NE 23 for 14 yards (D.Ekuale).   \n",
       "\n",
       "    passResult  \n",
       "54           I  \n",
       "125          I  \n",
       "140          C  \n",
       "185          I  \n",
       "239          C  "
      ]
     },
     "execution_count": 124,
     "metadata": {},
     "output_type": "execute_result"
    }
   ],
   "source": [
    "plays[plays['passLength']==0][['playDescription', 'passResult']].head()"
   ]
  },
  {
   "cell_type": "code",
   "execution_count": 125,
   "id": "1b261be0",
   "metadata": {},
   "outputs": [
    {
     "data": {
      "text/plain": [
       "array([nan,  0., -1.,  1.])"
      ]
     },
     "execution_count": 125,
     "metadata": {},
     "output_type": "execute_result"
    }
   ],
   "source": [
    "plays[plays['passResult']==\"NoPass\"]['passLength'].unique()"
   ]
  },
  {
   "cell_type": "code",
   "execution_count": 126,
   "id": "260ebb1f",
   "metadata": {},
   "outputs": [],
   "source": [
    "plays.loc[plays['passResult']==\"NoPass\", 'passLength'] = 0"
   ]
  },
  {
   "cell_type": "code",
   "execution_count": 127,
   "id": "0d6dba17",
   "metadata": {},
   "outputs": [
    {
     "data": {
      "text/plain": [
       "array(['R', 'S'], dtype=object)"
      ]
     },
     "execution_count": 127,
     "metadata": {},
     "output_type": "execute_result"
    }
   ],
   "source": [
    "plays[plays['passLength'].isna()]['passResult'].unique()"
   ]
  },
  {
   "cell_type": "code",
   "execution_count": 128,
   "id": "ed6ab867",
   "metadata": {},
   "outputs": [],
   "source": [
    "plays.loc[plays['passResult']==\"S\", 'passLength'] = 0"
   ]
  },
  {
   "cell_type": "code",
   "execution_count": 129,
   "id": "cb79c88e",
   "metadata": {},
   "outputs": [
    {
     "data": {
      "text/plain": [
       "array([nan,  0.])"
      ]
     },
     "execution_count": 129,
     "metadata": {},
     "output_type": "execute_result"
    }
   ],
   "source": [
    "plays.loc[plays['passResult']==\"R\", 'passLength'].unique()"
   ]
  },
  {
   "cell_type": "code",
   "execution_count": 130,
   "id": "c91022b7",
   "metadata": {},
   "outputs": [
    {
     "data": {
      "text/html": [
       "<div>\n",
       "<style scoped>\n",
       "    .dataframe tbody tr th:only-of-type {\n",
       "        vertical-align: middle;\n",
       "    }\n",
       "\n",
       "    .dataframe tbody tr th {\n",
       "        vertical-align: top;\n",
       "    }\n",
       "\n",
       "    .dataframe thead th {\n",
       "        text-align: right;\n",
       "    }\n",
       "</style>\n",
       "<table border=\"1\" class=\"dataframe\">\n",
       "  <thead>\n",
       "    <tr style=\"text-align: right;\">\n",
       "      <th></th>\n",
       "      <th>gameId</th>\n",
       "      <th>playId</th>\n",
       "      <th>playDescription</th>\n",
       "      <th>quarter</th>\n",
       "      <th>down</th>\n",
       "      <th>yardsToGo</th>\n",
       "      <th>possessionTeam</th>\n",
       "      <th>defensiveTeam</th>\n",
       "      <th>yardlineSide</th>\n",
       "      <th>yardlineNumber</th>\n",
       "      <th>...</th>\n",
       "      <th>prePenaltyYardsGained</th>\n",
       "      <th>yardsGained</th>\n",
       "      <th>isDropback</th>\n",
       "      <th>pff_runConceptPrimary</th>\n",
       "      <th>pff_runConceptSecondary</th>\n",
       "      <th>pff_runPassOption</th>\n",
       "      <th>pff_passCoverage</th>\n",
       "      <th>pff_manZone</th>\n",
       "      <th>distanceFromOwnEndZone</th>\n",
       "      <th>penalty</th>\n",
       "    </tr>\n",
       "  </thead>\n",
       "  <tbody>\n",
       "    <tr>\n",
       "      <th>9898</th>\n",
       "      <td>2022091812</td>\n",
       "      <td>1128</td>\n",
       "      <td>(10:37) (Shotgun) J.Fields scrambles up the middle to CHI 23 for 3 yards. J.Fields pass short middle to E.St. Brown to GB 49 for 28 yards. PENALTY on CHI-J.Fields, Illegal Forward Pass, 5 yards, enforced at CHI 23.</td>\n",
       "      <td>2</td>\n",
       "      <td>3</td>\n",
       "      <td>10</td>\n",
       "      <td>CHI</td>\n",
       "      <td>GB</td>\n",
       "      <td>CHI</td>\n",
       "      <td>20</td>\n",
       "      <td>...</td>\n",
       "      <td>31.0</td>\n",
       "      <td>-2</td>\n",
       "      <td>1</td>\n",
       "      <td>NaN</td>\n",
       "      <td>NaN</td>\n",
       "      <td>0</td>\n",
       "      <td>Cover 6-Left</td>\n",
       "      <td>Zone</td>\n",
       "      <td>20</td>\n",
       "      <td>1</td>\n",
       "    </tr>\n",
       "  </tbody>\n",
       "</table>\n",
       "<p>1 rows × 45 columns</p>\n",
       "</div>"
      ],
      "text/plain": [
       "          gameId  playId  \\\n",
       "9898  2022091812    1128   \n",
       "\n",
       "                                                                                                                                                                                                             playDescription  \\\n",
       "9898  (10:37) (Shotgun) J.Fields scrambles up the middle to CHI 23 for 3 yards. J.Fields pass short middle to E.St. Brown to GB 49 for 28 yards. PENALTY on CHI-J.Fields, Illegal Forward Pass, 5 yards, enforced at CHI 23.   \n",
       "\n",
       "      quarter  down  yardsToGo possessionTeam defensiveTeam yardlineSide  \\\n",
       "9898        2     3         10            CHI            GB          CHI   \n",
       "\n",
       "      yardlineNumber  ... prePenaltyYardsGained  yardsGained  isDropback  \\\n",
       "9898              20  ...                  31.0           -2           1   \n",
       "\n",
       "      pff_runConceptPrimary pff_runConceptSecondary pff_runPassOption  \\\n",
       "9898                    NaN                     NaN                 0   \n",
       "\n",
       "      pff_passCoverage pff_manZone  distanceFromOwnEndZone  penalty  \n",
       "9898      Cover 6-Left        Zone                      20        1  \n",
       "\n",
       "[1 rows x 45 columns]"
      ]
     },
     "execution_count": 130,
     "metadata": {},
     "output_type": "execute_result"
    }
   ],
   "source": [
    "plays[\n",
    "    (plays['playDescription'].str.contains('scramble', case=False)) &\n",
    "    (~plays['passLength'].isna())\n",
    "]"
   ]
  },
  {
   "cell_type": "code",
   "execution_count": 131,
   "id": "891511b5",
   "metadata": {},
   "outputs": [],
   "source": [
    "plays.loc[plays['passResult']==\"R\", 'passLength'] = 0"
   ]
  },
  {
   "cell_type": "code",
   "execution_count": 132,
   "id": "d1699ba4",
   "metadata": {},
   "outputs": [],
   "source": [
    "plays['passAfterScramble'] = (\n",
    "    ((plays['passResult'] == 'R') | (plays['dropbackType'].str.contains('scramble', case=False, na=False))) &\n",
    "    (plays['targetX'].notna() | plays['targetY'].notna() | plays['playDescription'].str.contains(' pass', case=False, na=False))\n",
    ").astype(int)"
   ]
  },
  {
   "cell_type": "code",
   "execution_count": 133,
   "id": "afabe1e2",
   "metadata": {},
   "outputs": [
    {
     "data": {
      "text/html": [
       "<div>\n",
       "<style scoped>\n",
       "    .dataframe tbody tr th:only-of-type {\n",
       "        vertical-align: middle;\n",
       "    }\n",
       "\n",
       "    .dataframe tbody tr th {\n",
       "        vertical-align: top;\n",
       "    }\n",
       "\n",
       "    .dataframe thead th {\n",
       "        text-align: right;\n",
       "    }\n",
       "</style>\n",
       "<table border=\"1\" class=\"dataframe\">\n",
       "  <thead>\n",
       "    <tr style=\"text-align: right;\">\n",
       "      <th></th>\n",
       "      <th>passResult</th>\n",
       "      <th>dropbackType</th>\n",
       "      <th>timeToThrow</th>\n",
       "      <th>timeInTackleBox</th>\n",
       "      <th>targetX</th>\n",
       "      <th>targetY</th>\n",
       "      <th>playDescription</th>\n",
       "    </tr>\n",
       "  </thead>\n",
       "  <tbody>\n",
       "    <tr>\n",
       "      <th>12</th>\n",
       "      <td>IN</td>\n",
       "      <td>SCRAMBLE</td>\n",
       "      <td>4.506</td>\n",
       "      <td>3.5</td>\n",
       "      <td>75.33</td>\n",
       "      <td>43.82</td>\n",
       "      <td>(:35) (Shotgun) A.Rodgers pass deep left intended for R.Cobb INTERCEPTED by H.Smith [Z.Smith] at MIN 30. H.Smith to MIN 30 for no gain (R.Cobb).</td>\n",
       "    </tr>\n",
       "    <tr>\n",
       "      <th>61</th>\n",
       "      <td>C</td>\n",
       "      <td>SCRAMBLE</td>\n",
       "      <td>5.438</td>\n",
       "      <td>3.5</td>\n",
       "      <td>112.35</td>\n",
       "      <td>40.71</td>\n",
       "      <td>(:23) (Shotgun) P.Walker pass deep left to D.Moore for 62 yards, TOUCHDOWN. PENALTY on CAR-D.Moore, Unsportsmanlike Conduct, 15 yards, enforced between downs.</td>\n",
       "    </tr>\n",
       "    <tr>\n",
       "      <th>113</th>\n",
       "      <td>C</td>\n",
       "      <td>SCRAMBLE</td>\n",
       "      <td>4.104</td>\n",
       "      <td>3.8</td>\n",
       "      <td>22.27</td>\n",
       "      <td>33.89</td>\n",
       "      <td>(10:14) (Shotgun) M.Mariota pass short left to T.Allgeier to ATL 23 for 5 yards (D.Jackson).</td>\n",
       "    </tr>\n",
       "    <tr>\n",
       "      <th>138</th>\n",
       "      <td>I</td>\n",
       "      <td>SCRAMBLE</td>\n",
       "      <td>5.105</td>\n",
       "      <td>3.9</td>\n",
       "      <td>NaN</td>\n",
       "      <td>NaN</td>\n",
       "      <td>(4:01) (Shotgun) J.Allen pass incomplete short left.</td>\n",
       "    </tr>\n",
       "    <tr>\n",
       "      <th>151</th>\n",
       "      <td>I</td>\n",
       "      <td>SCRAMBLE</td>\n",
       "      <td>5.038</td>\n",
       "      <td>3.1</td>\n",
       "      <td>67.84</td>\n",
       "      <td>53.17</td>\n",
       "      <td>(6:38) (Shotgun) J.Flacco pass incomplete deep right to E.Moore.</td>\n",
       "    </tr>\n",
       "    <tr>\n",
       "      <th>...</th>\n",
       "      <td>...</td>\n",
       "      <td>...</td>\n",
       "      <td>...</td>\n",
       "      <td>...</td>\n",
       "      <td>...</td>\n",
       "      <td>...</td>\n",
       "      <td>...</td>\n",
       "    </tr>\n",
       "    <tr>\n",
       "      <th>16019</th>\n",
       "      <td>I</td>\n",
       "      <td>SCRAMBLE</td>\n",
       "      <td>5.739</td>\n",
       "      <td>3.2</td>\n",
       "      <td>NaN</td>\n",
       "      <td>NaN</td>\n",
       "      <td>(9:30) (Shotgun) T.Lawrence pass incomplete short right.</td>\n",
       "    </tr>\n",
       "    <tr>\n",
       "      <th>16028</th>\n",
       "      <td>I</td>\n",
       "      <td>SCRAMBLE</td>\n",
       "      <td>4.938</td>\n",
       "      <td>3.3</td>\n",
       "      <td>71.72</td>\n",
       "      <td>1.16</td>\n",
       "      <td>(14:09) (Shotgun) J.Herbert pass incomplete short left to R.Rodgers (T.Andersen).</td>\n",
       "    </tr>\n",
       "    <tr>\n",
       "      <th>16048</th>\n",
       "      <td>C</td>\n",
       "      <td>SCRAMBLE</td>\n",
       "      <td>4.905</td>\n",
       "      <td>3.7</td>\n",
       "      <td>38.35</td>\n",
       "      <td>45.54</td>\n",
       "      <td>(10:42) (Shotgun) J.Allen pass short right to Z.Moss to LA 26 for 8 yards (B.Wagner).</td>\n",
       "    </tr>\n",
       "    <tr>\n",
       "      <th>16066</th>\n",
       "      <td>I</td>\n",
       "      <td>SCRAMBLE</td>\n",
       "      <td>6.226</td>\n",
       "      <td>4.2</td>\n",
       "      <td>37.85</td>\n",
       "      <td>-2.06</td>\n",
       "      <td>(13:23) (Shotgun) J.Fields pass incomplete short right to I.Smith-Marsette [K.Thibodeaux].</td>\n",
       "    </tr>\n",
       "    <tr>\n",
       "      <th>16100</th>\n",
       "      <td>I</td>\n",
       "      <td>SCRAMBLE</td>\n",
       "      <td>5.506</td>\n",
       "      <td>3.9</td>\n",
       "      <td>NaN</td>\n",
       "      <td>NaN</td>\n",
       "      <td>(:53) (Shotgun) J.Hurts pass incomplete short right. Thrown away from outside the pocket.</td>\n",
       "    </tr>\n",
       "  </tbody>\n",
       "</table>\n",
       "<p>539 rows × 7 columns</p>\n",
       "</div>"
      ],
      "text/plain": [
       "      passResult dropbackType  timeToThrow  timeInTackleBox  targetX  targetY  \\\n",
       "12            IN     SCRAMBLE        4.506              3.5    75.33    43.82   \n",
       "61             C     SCRAMBLE        5.438              3.5   112.35    40.71   \n",
       "113            C     SCRAMBLE        4.104              3.8    22.27    33.89   \n",
       "138            I     SCRAMBLE        5.105              3.9      NaN      NaN   \n",
       "151            I     SCRAMBLE        5.038              3.1    67.84    53.17   \n",
       "...          ...          ...          ...              ...      ...      ...   \n",
       "16019          I     SCRAMBLE        5.739              3.2      NaN      NaN   \n",
       "16028          I     SCRAMBLE        4.938              3.3    71.72     1.16   \n",
       "16048          C     SCRAMBLE        4.905              3.7    38.35    45.54   \n",
       "16066          I     SCRAMBLE        6.226              4.2    37.85    -2.06   \n",
       "16100          I     SCRAMBLE        5.506              3.9      NaN      NaN   \n",
       "\n",
       "                                                                                                                                                      playDescription  \n",
       "12                   (:35) (Shotgun) A.Rodgers pass deep left intended for R.Cobb INTERCEPTED by H.Smith [Z.Smith] at MIN 30. H.Smith to MIN 30 for no gain (R.Cobb).  \n",
       "61     (:23) (Shotgun) P.Walker pass deep left to D.Moore for 62 yards, TOUCHDOWN. PENALTY on CAR-D.Moore, Unsportsmanlike Conduct, 15 yards, enforced between downs.  \n",
       "113                                                                      (10:14) (Shotgun) M.Mariota pass short left to T.Allgeier to ATL 23 for 5 yards (D.Jackson).  \n",
       "138                                                                                                              (4:01) (Shotgun) J.Allen pass incomplete short left.  \n",
       "151                                                                                                  (6:38) (Shotgun) J.Flacco pass incomplete deep right to E.Moore.  \n",
       "...                                                                                                                                                               ...  \n",
       "16019                                                                                                        (9:30) (Shotgun) T.Lawrence pass incomplete short right.  \n",
       "16028                                                                               (14:09) (Shotgun) J.Herbert pass incomplete short left to R.Rodgers (T.Andersen).  \n",
       "16048                                                                           (10:42) (Shotgun) J.Allen pass short right to Z.Moss to LA 26 for 8 yards (B.Wagner).  \n",
       "16066                                                                      (13:23) (Shotgun) J.Fields pass incomplete short right to I.Smith-Marsette [K.Thibodeaux].  \n",
       "16100                                                                       (:53) (Shotgun) J.Hurts pass incomplete short right. Thrown away from outside the pocket.  \n",
       "\n",
       "[539 rows x 7 columns]"
      ]
     },
     "execution_count": 133,
     "metadata": {},
     "output_type": "execute_result"
    }
   ],
   "source": [
    "plays.query('passAfterScramble==1')[['passResult', 'dropbackType', 'timeToThrow', 'timeInTackleBox', 'targetX', 'targetY', 'playDescription']]"
   ]
  },
  {
   "cell_type": "code",
   "execution_count": 134,
   "id": "6f1ad3aa",
   "metadata": {},
   "outputs": [
    {
     "data": {
      "text/plain": [
       "0"
      ]
     },
     "execution_count": 134,
     "metadata": {},
     "output_type": "execute_result"
    }
   ],
   "source": [
    "plays['passLength'].isna().sum()"
   ]
  },
  {
   "cell_type": "markdown",
   "id": "b27504fd",
   "metadata": {},
   "source": [
    "### `targetX`, `targetY` ✅"
   ]
  },
  {
   "cell_type": "code",
   "execution_count": 135,
   "id": "8392b5d2",
   "metadata": {},
   "outputs": [
    {
     "data": {
      "text/html": [
       "<div>\n",
       "<style scoped>\n",
       "    .dataframe tbody tr th:only-of-type {\n",
       "        vertical-align: middle;\n",
       "    }\n",
       "\n",
       "    .dataframe tbody tr th {\n",
       "        vertical-align: top;\n",
       "    }\n",
       "\n",
       "    .dataframe thead th {\n",
       "        text-align: right;\n",
       "    }\n",
       "</style>\n",
       "<table border=\"1\" class=\"dataframe\">\n",
       "  <thead>\n",
       "    <tr style=\"text-align: right;\">\n",
       "      <th></th>\n",
       "      <th>targetX</th>\n",
       "      <th>targetY</th>\n",
       "    </tr>\n",
       "    <tr>\n",
       "      <th>passResult</th>\n",
       "      <th></th>\n",
       "      <th></th>\n",
       "    </tr>\n",
       "  </thead>\n",
       "  <tbody>\n",
       "    <tr>\n",
       "      <th>C</th>\n",
       "      <td>0</td>\n",
       "      <td>0</td>\n",
       "    </tr>\n",
       "    <tr>\n",
       "      <th>I</th>\n",
       "      <td>329</td>\n",
       "      <td>329</td>\n",
       "    </tr>\n",
       "    <tr>\n",
       "      <th>IN</th>\n",
       "      <td>0</td>\n",
       "      <td>0</td>\n",
       "    </tr>\n",
       "    <tr>\n",
       "      <th>NoPass</th>\n",
       "      <td>6411</td>\n",
       "      <td>6411</td>\n",
       "    </tr>\n",
       "    <tr>\n",
       "      <th>R</th>\n",
       "      <td>400</td>\n",
       "      <td>400</td>\n",
       "    </tr>\n",
       "    <tr>\n",
       "      <th>S</th>\n",
       "      <td>608</td>\n",
       "      <td>608</td>\n",
       "    </tr>\n",
       "  </tbody>\n",
       "</table>\n",
       "</div>"
      ],
      "text/plain": [
       "            targetX  targetY\n",
       "passResult                  \n",
       "C                 0        0\n",
       "I               329      329\n",
       "IN                0        0\n",
       "NoPass         6411     6411\n",
       "R               400      400\n",
       "S               608      608"
      ]
     },
     "execution_count": 135,
     "metadata": {},
     "output_type": "execute_result"
    }
   ],
   "source": [
    "plays.groupby('passResult')[['targetX', 'targetY']].agg(lambda x: x.isna().sum())"
   ]
  },
  {
   "cell_type": "markdown",
   "id": "f409c886",
   "metadata": {},
   "source": [
    "### `passTippedAtLine` ✅"
   ]
  },
  {
   "cell_type": "code",
   "execution_count": 136,
   "id": "3546af7f",
   "metadata": {},
   "outputs": [
    {
     "data": {
      "text/plain": [
       "False    9109\n",
       "NaN      6788\n",
       "True      227\n",
       "Name: passTippedAtLine, dtype: int64"
      ]
     },
     "execution_count": 136,
     "metadata": {},
     "output_type": "execute_result"
    }
   ],
   "source": [
    "plays.passTippedAtLine.value_counts(dropna=False)"
   ]
  },
  {
   "cell_type": "code",
   "execution_count": 137,
   "id": "c46d408d",
   "metadata": {},
   "outputs": [
    {
     "data": {
      "text/html": [
       "<div>\n",
       "<style scoped>\n",
       "    .dataframe tbody tr th:only-of-type {\n",
       "        vertical-align: middle;\n",
       "    }\n",
       "\n",
       "    .dataframe tbody tr th {\n",
       "        vertical-align: top;\n",
       "    }\n",
       "\n",
       "    .dataframe thead th {\n",
       "        text-align: right;\n",
       "    }\n",
       "</style>\n",
       "<table border=\"1\" class=\"dataframe\">\n",
       "  <thead>\n",
       "    <tr style=\"text-align: right;\">\n",
       "      <th></th>\n",
       "      <th></th>\n",
       "      <th>targetX</th>\n",
       "      <th>targetY</th>\n",
       "    </tr>\n",
       "    <tr>\n",
       "      <th>passTippedAtLine</th>\n",
       "      <th>passResult</th>\n",
       "      <th></th>\n",
       "      <th></th>\n",
       "    </tr>\n",
       "  </thead>\n",
       "  <tbody>\n",
       "    <tr>\n",
       "      <th rowspan=\"5\" valign=\"top\">False</th>\n",
       "      <th>C</th>\n",
       "      <td>0</td>\n",
       "      <td>0</td>\n",
       "    </tr>\n",
       "    <tr>\n",
       "      <th>I</th>\n",
       "      <td>328</td>\n",
       "      <td>328</td>\n",
       "    </tr>\n",
       "    <tr>\n",
       "      <th>IN</th>\n",
       "      <td>0</td>\n",
       "      <td>0</td>\n",
       "    </tr>\n",
       "    <tr>\n",
       "      <th>NoPass</th>\n",
       "      <td>23</td>\n",
       "      <td>23</td>\n",
       "    </tr>\n",
       "    <tr>\n",
       "      <th>S</th>\n",
       "      <td>608</td>\n",
       "      <td>608</td>\n",
       "    </tr>\n",
       "    <tr>\n",
       "      <th rowspan=\"3\" valign=\"top\">True</th>\n",
       "      <th>C</th>\n",
       "      <td>0</td>\n",
       "      <td>0</td>\n",
       "    </tr>\n",
       "    <tr>\n",
       "      <th>I</th>\n",
       "      <td>1</td>\n",
       "      <td>1</td>\n",
       "    </tr>\n",
       "    <tr>\n",
       "      <th>IN</th>\n",
       "      <td>0</td>\n",
       "      <td>0</td>\n",
       "    </tr>\n",
       "  </tbody>\n",
       "</table>\n",
       "</div>"
      ],
      "text/plain": [
       "                             targetX  targetY\n",
       "passTippedAtLine passResult                  \n",
       "False            C                 0        0\n",
       "                 I               328      328\n",
       "                 IN                0        0\n",
       "                 NoPass           23       23\n",
       "                 S               608      608\n",
       "True             C                 0        0\n",
       "                 I                 1        1\n",
       "                 IN                0        0"
      ]
     },
     "execution_count": 137,
     "metadata": {},
     "output_type": "execute_result"
    }
   ],
   "source": [
    "plays.groupby(['passTippedAtLine', 'passResult'])[['targetX', 'targetY']].agg(lambda x: x.isna().sum())"
   ]
  },
  {
   "cell_type": "code",
   "execution_count": 138,
   "id": "295f30e5",
   "metadata": {},
   "outputs": [
    {
     "data": {
      "text/html": [
       "<div>\n",
       "<style scoped>\n",
       "    .dataframe tbody tr th:only-of-type {\n",
       "        vertical-align: middle;\n",
       "    }\n",
       "\n",
       "    .dataframe tbody tr th {\n",
       "        vertical-align: top;\n",
       "    }\n",
       "\n",
       "    .dataframe thead th {\n",
       "        text-align: right;\n",
       "    }\n",
       "</style>\n",
       "<table border=\"1\" class=\"dataframe\">\n",
       "  <thead>\n",
       "    <tr style=\"text-align: right;\">\n",
       "      <th></th>\n",
       "      <th>targetX</th>\n",
       "      <th>targetY</th>\n",
       "    </tr>\n",
       "    <tr>\n",
       "      <th>passResult</th>\n",
       "      <th></th>\n",
       "      <th></th>\n",
       "    </tr>\n",
       "  </thead>\n",
       "  <tbody>\n",
       "    <tr>\n",
       "      <th>NoPass</th>\n",
       "      <td>6388</td>\n",
       "      <td>6388</td>\n",
       "    </tr>\n",
       "    <tr>\n",
       "      <th>R</th>\n",
       "      <td>400</td>\n",
       "      <td>400</td>\n",
       "    </tr>\n",
       "  </tbody>\n",
       "</table>\n",
       "</div>"
      ],
      "text/plain": [
       "            targetX  targetY\n",
       "passResult                  \n",
       "NoPass         6388     6388\n",
       "R               400      400"
      ]
     },
     "execution_count": 138,
     "metadata": {},
     "output_type": "execute_result"
    }
   ],
   "source": [
    "plays.query('passTippedAtLine.isna()').groupby('passResult')[['targetX', 'targetY']].agg(lambda x: x.isna().sum())"
   ]
  },
  {
   "cell_type": "code",
   "execution_count": 139,
   "id": "178bf222",
   "metadata": {},
   "outputs": [],
   "source": [
    "# plays.loc[(plays['passTippedAtLine'].isna()) & (plays['passResult']==\"R\"), 'passLength'] = False\n",
    "\n",
    "\n",
    "plays['passTippedAtLine'] = plays['passTippedAtLine'].fillna(False).astype(int)"
   ]
  },
  {
   "cell_type": "markdown",
   "id": "8ae05266",
   "metadata": {},
   "source": [
    "# Dropback \n",
    "\n",
    "\n",
    "`isDropback`, `dropbackType`, `dropbackDistance`\n",
    "\n",
    "\n",
    "✅ `isDropback` -- no missing values\n",
    "\n",
    "✅ `dropbackType` -- T\n",
    "\n",
    "['TRADITIONAL', 'DESIGNED_RUN', nan, 'SCRAMBLE', 'SCRAMBLE_ROLLOUT_LEFT', 'DESIGNED_ROLLOUT_RIGHT', 'DESIGNED_ROLLOUT_LEFT', 'QB_SNEAK', 'UNKNOWN', 'SCRAMBLE_ROLLOUT_RIGHT']"
   ]
  },
  {
   "cell_type": "code",
   "execution_count": 140,
   "id": "415e6707",
   "metadata": {},
   "outputs": [
    {
     "data": {
      "text/plain": [
       "isDropback\n",
       "0                    [NoPass]\n",
       "1    [C, I, IN, R, S, NoPass]\n",
       "Name: passResult, dtype: object"
      ]
     },
     "execution_count": 140,
     "metadata": {},
     "output_type": "execute_result"
    }
   ],
   "source": [
    "plays.groupby('isDropback')['passResult'].unique()"
   ]
  },
  {
   "cell_type": "code",
   "execution_count": 141,
   "id": "0f4e946c",
   "metadata": {},
   "outputs": [
    {
     "data": {
      "text/plain": [
       "dropbackType    1\n",
       "dtype: int64"
      ]
     },
     "execution_count": 141,
     "metadata": {},
     "output_type": "execute_result"
    }
   ],
   "source": [
    "plays.query('isDropback==1')[['dropbackType']].isna().sum()"
   ]
  },
  {
   "cell_type": "code",
   "execution_count": 142,
   "id": "e95808e7",
   "metadata": {},
   "outputs": [
    {
     "data": {
      "text/plain": [
       "dropbackType    5790\n",
       "dtype: int64"
      ]
     },
     "execution_count": 142,
     "metadata": {},
     "output_type": "execute_result"
    }
   ],
   "source": [
    "plays.query('isDropback==0')[['dropbackType']].isna().sum()"
   ]
  },
  {
   "cell_type": "code",
   "execution_count": 143,
   "id": "ac9dc171",
   "metadata": {
    "scrolled": false
   },
   "outputs": [
    {
     "data": {
      "text/html": [
       "<div>\n",
       "<style scoped>\n",
       "    .dataframe tbody tr th:only-of-type {\n",
       "        vertical-align: middle;\n",
       "    }\n",
       "\n",
       "    .dataframe tbody tr th {\n",
       "        vertical-align: top;\n",
       "    }\n",
       "\n",
       "    .dataframe thead th {\n",
       "        text-align: right;\n",
       "    }\n",
       "</style>\n",
       "<table border=\"1\" class=\"dataframe\">\n",
       "  <thead>\n",
       "    <tr style=\"text-align: right;\">\n",
       "      <th></th>\n",
       "      <th>903</th>\n",
       "    </tr>\n",
       "  </thead>\n",
       "  <tbody>\n",
       "    <tr>\n",
       "      <th>gameId</th>\n",
       "      <td>2022091108</td>\n",
       "    </tr>\n",
       "    <tr>\n",
       "      <th>playId</th>\n",
       "      <td>3396</td>\n",
       "    </tr>\n",
       "    <tr>\n",
       "      <th>playDescription</th>\n",
       "      <td>(3:27) (Shotgun) K.Toney scrambles left end to TEN 22 for 4 yards (K.Fulton).</td>\n",
       "    </tr>\n",
       "    <tr>\n",
       "      <th>quarter</th>\n",
       "      <td>4</td>\n",
       "    </tr>\n",
       "    <tr>\n",
       "      <th>down</th>\n",
       "      <td>1</td>\n",
       "    </tr>\n",
       "    <tr>\n",
       "      <th>yardsToGo</th>\n",
       "      <td>10</td>\n",
       "    </tr>\n",
       "    <tr>\n",
       "      <th>possessionTeam</th>\n",
       "      <td>NYG</td>\n",
       "    </tr>\n",
       "    <tr>\n",
       "      <th>defensiveTeam</th>\n",
       "      <td>TEN</td>\n",
       "    </tr>\n",
       "    <tr>\n",
       "      <th>yardlineSide</th>\n",
       "      <td>TEN</td>\n",
       "    </tr>\n",
       "    <tr>\n",
       "      <th>yardlineNumber</th>\n",
       "      <td>26</td>\n",
       "    </tr>\n",
       "    <tr>\n",
       "      <th>gameClock</th>\n",
       "      <td>03:27</td>\n",
       "    </tr>\n",
       "    <tr>\n",
       "      <th>preSnapHomeScore</th>\n",
       "      <td>20</td>\n",
       "    </tr>\n",
       "    <tr>\n",
       "      <th>preSnapVisitorScore</th>\n",
       "      <td>13</td>\n",
       "    </tr>\n",
       "    <tr>\n",
       "      <th>absoluteYardlineNumber</th>\n",
       "      <td>84</td>\n",
       "    </tr>\n",
       "    <tr>\n",
       "      <th>offenseFormation</th>\n",
       "      <td>SHOTGUN</td>\n",
       "    </tr>\n",
       "    <tr>\n",
       "      <th>receiverAlignment</th>\n",
       "      <td>2x1</td>\n",
       "    </tr>\n",
       "    <tr>\n",
       "      <th>playClockAtSnap</th>\n",
       "      <td>5.0</td>\n",
       "    </tr>\n",
       "    <tr>\n",
       "      <th>passResult</th>\n",
       "      <td>R</td>\n",
       "    </tr>\n",
       "    <tr>\n",
       "      <th>passLength</th>\n",
       "      <td>0.0</td>\n",
       "    </tr>\n",
       "    <tr>\n",
       "      <th>targetX</th>\n",
       "      <td>NaN</td>\n",
       "    </tr>\n",
       "    <tr>\n",
       "      <th>targetY</th>\n",
       "      <td>NaN</td>\n",
       "    </tr>\n",
       "    <tr>\n",
       "      <th>playAction</th>\n",
       "      <td>1</td>\n",
       "    </tr>\n",
       "    <tr>\n",
       "      <th>dropbackType</th>\n",
       "      <td>NaN</td>\n",
       "    </tr>\n",
       "    <tr>\n",
       "      <th>dropbackDistance</th>\n",
       "      <td>NaN</td>\n",
       "    </tr>\n",
       "    <tr>\n",
       "      <th>passLocationType</th>\n",
       "      <td>NoPass</td>\n",
       "    </tr>\n",
       "    <tr>\n",
       "      <th>timeToThrow</th>\n",
       "      <td>NaN</td>\n",
       "    </tr>\n",
       "    <tr>\n",
       "      <th>timeInTackleBox</th>\n",
       "      <td>NaN</td>\n",
       "    </tr>\n",
       "    <tr>\n",
       "      <th>timeToSack</th>\n",
       "      <td>NaN</td>\n",
       "    </tr>\n",
       "    <tr>\n",
       "      <th>passTippedAtLine</th>\n",
       "      <td>0</td>\n",
       "    </tr>\n",
       "    <tr>\n",
       "      <th>unblockedPressure</th>\n",
       "      <td>NaN</td>\n",
       "    </tr>\n",
       "    <tr>\n",
       "      <th>qbSpike</th>\n",
       "      <td>0</td>\n",
       "    </tr>\n",
       "    <tr>\n",
       "      <th>qbKneel</th>\n",
       "      <td>0</td>\n",
       "    </tr>\n",
       "    <tr>\n",
       "      <th>qbSneak</th>\n",
       "      <td>False</td>\n",
       "    </tr>\n",
       "    <tr>\n",
       "      <th>rushLocationType</th>\n",
       "      <td>INSIDE_LEFT</td>\n",
       "    </tr>\n",
       "    <tr>\n",
       "      <th>penaltyYards</th>\n",
       "      <td>0.0</td>\n",
       "    </tr>\n",
       "    <tr>\n",
       "      <th>prePenaltyYardsGained</th>\n",
       "      <td>4.0</td>\n",
       "    </tr>\n",
       "    <tr>\n",
       "      <th>yardsGained</th>\n",
       "      <td>4</td>\n",
       "    </tr>\n",
       "    <tr>\n",
       "      <th>isDropback</th>\n",
       "      <td>1</td>\n",
       "    </tr>\n",
       "    <tr>\n",
       "      <th>pff_runConceptPrimary</th>\n",
       "      <td>PULL LEAD</td>\n",
       "    </tr>\n",
       "    <tr>\n",
       "      <th>pff_runConceptSecondary</th>\n",
       "      <td>NaN</td>\n",
       "    </tr>\n",
       "    <tr>\n",
       "      <th>pff_runPassOption</th>\n",
       "      <td>0</td>\n",
       "    </tr>\n",
       "    <tr>\n",
       "      <th>pff_passCoverage</th>\n",
       "      <td>Quarters</td>\n",
       "    </tr>\n",
       "    <tr>\n",
       "      <th>pff_manZone</th>\n",
       "      <td>Zone</td>\n",
       "    </tr>\n",
       "    <tr>\n",
       "      <th>distanceFromOwnEndZone</th>\n",
       "      <td>74</td>\n",
       "    </tr>\n",
       "    <tr>\n",
       "      <th>penalty</th>\n",
       "      <td>0</td>\n",
       "    </tr>\n",
       "    <tr>\n",
       "      <th>passAfterScramble</th>\n",
       "      <td>0</td>\n",
       "    </tr>\n",
       "  </tbody>\n",
       "</table>\n",
       "</div>"
      ],
      "text/plain": [
       "                                                                                                   903\n",
       "gameId                                                                                      2022091108\n",
       "playId                                                                                            3396\n",
       "playDescription          (3:27) (Shotgun) K.Toney scrambles left end to TEN 22 for 4 yards (K.Fulton).\n",
       "quarter                                                                                              4\n",
       "down                                                                                                 1\n",
       "yardsToGo                                                                                           10\n",
       "possessionTeam                                                                                     NYG\n",
       "defensiveTeam                                                                                      TEN\n",
       "yardlineSide                                                                                       TEN\n",
       "yardlineNumber                                                                                      26\n",
       "gameClock                                                                                        03:27\n",
       "preSnapHomeScore                                                                                    20\n",
       "preSnapVisitorScore                                                                                 13\n",
       "absoluteYardlineNumber                                                                              84\n",
       "offenseFormation                                                                               SHOTGUN\n",
       "receiverAlignment                                                                                  2x1\n",
       "playClockAtSnap                                                                                    5.0\n",
       "passResult                                                                                           R\n",
       "passLength                                                                                         0.0\n",
       "targetX                                                                                            NaN\n",
       "targetY                                                                                            NaN\n",
       "playAction                                                                                           1\n",
       "dropbackType                                                                                       NaN\n",
       "dropbackDistance                                                                                   NaN\n",
       "passLocationType                                                                                NoPass\n",
       "timeToThrow                                                                                        NaN\n",
       "timeInTackleBox                                                                                    NaN\n",
       "timeToSack                                                                                         NaN\n",
       "passTippedAtLine                                                                                     0\n",
       "unblockedPressure                                                                                  NaN\n",
       "qbSpike                                                                                              0\n",
       "qbKneel                                                                                              0\n",
       "qbSneak                                                                                          False\n",
       "rushLocationType                                                                           INSIDE_LEFT\n",
       "penaltyYards                                                                                       0.0\n",
       "prePenaltyYardsGained                                                                              4.0\n",
       "yardsGained                                                                                          4\n",
       "isDropback                                                                                           1\n",
       "pff_runConceptPrimary                                                                        PULL LEAD\n",
       "pff_runConceptSecondary                                                                            NaN\n",
       "pff_runPassOption                                                                                    0\n",
       "pff_passCoverage                                                                              Quarters\n",
       "pff_manZone                                                                                       Zone\n",
       "distanceFromOwnEndZone                                                                              74\n",
       "penalty                                                                                              0\n",
       "passAfterScramble                                                                                    0"
      ]
     },
     "execution_count": 143,
     "metadata": {},
     "output_type": "execute_result"
    }
   ],
   "source": [
    "plays.query('isDropback==1 and dropbackType.isna()').T"
   ]
  },
  {
   "cell_type": "code",
   "execution_count": 144,
   "id": "f81342aa",
   "metadata": {},
   "outputs": [],
   "source": [
    "plays.loc[903, 'dropbackType'] = 'DESIGNED_ROLLOUT_RIGHT'"
   ]
  },
  {
   "cell_type": "markdown",
   "id": "17de0c4e",
   "metadata": {},
   "source": [
    "Fill in the gaps with the \"UNKNOWN\" value? \n",
    "\n"
   ]
  },
  {
   "cell_type": "code",
   "execution_count": 145,
   "id": "db988730",
   "metadata": {},
   "outputs": [
    {
     "data": {
      "text/html": [
       "<div>\n",
       "<style scoped>\n",
       "    .dataframe tbody tr th:only-of-type {\n",
       "        vertical-align: middle;\n",
       "    }\n",
       "\n",
       "    .dataframe tbody tr th {\n",
       "        vertical-align: top;\n",
       "    }\n",
       "\n",
       "    .dataframe thead th {\n",
       "        text-align: right;\n",
       "    }\n",
       "</style>\n",
       "<table border=\"1\" class=\"dataframe\">\n",
       "  <thead>\n",
       "    <tr style=\"text-align: right;\">\n",
       "      <th></th>\n",
       "      <th>playDescription</th>\n",
       "      <th>isDropback</th>\n",
       "      <th>qbSpike</th>\n",
       "      <th>qbKneel</th>\n",
       "    </tr>\n",
       "  </thead>\n",
       "  <tbody>\n",
       "    <tr>\n",
       "      <th>53</th>\n",
       "      <td>(1:16) J.Brissett kneels to CIN 10 for no gain.</td>\n",
       "      <td>0</td>\n",
       "      <td>0</td>\n",
       "      <td>1</td>\n",
       "    </tr>\n",
       "    <tr>\n",
       "      <th>121</th>\n",
       "      <td>(4:05) C.Edmonds up the middle to MIA 9 for 1 yard (D.Wise).</td>\n",
       "      <td>0</td>\n",
       "      <td>0</td>\n",
       "      <td>0</td>\n",
       "    </tr>\n",
       "    <tr>\n",
       "      <th>173</th>\n",
       "      <td>(1:31) C.Rush kneels to DAL 38 for -1 yards.</td>\n",
       "      <td>0</td>\n",
       "      <td>0</td>\n",
       "      <td>1</td>\n",
       "    </tr>\n",
       "    <tr>\n",
       "      <th>180</th>\n",
       "      <td>(:05) R.Wilson kneels to DEN 24 for -1 yards.</td>\n",
       "      <td>0</td>\n",
       "      <td>0</td>\n",
       "      <td>1</td>\n",
       "    </tr>\n",
       "    <tr>\n",
       "      <th>222</th>\n",
       "      <td>(3:38) (Shotgun) D.Montgomery left guard to SF 44 for 1 yard (A.Al-Shaair; C.Ward).</td>\n",
       "      <td>0</td>\n",
       "      <td>0</td>\n",
       "      <td>0</td>\n",
       "    </tr>\n",
       "    <tr>\n",
       "      <th>...</th>\n",
       "      <td>...</td>\n",
       "      <td>...</td>\n",
       "      <td>...</td>\n",
       "      <td>...</td>\n",
       "    </tr>\n",
       "    <tr>\n",
       "      <th>13554</th>\n",
       "      <td>(1:32) (Shotgun) A.Rodgers Aborted. J.Myers FUMBLES at GB 43, recovered by GB-A.Dillon at GB 33.</td>\n",
       "      <td>0</td>\n",
       "      <td>0</td>\n",
       "      <td>0</td>\n",
       "    </tr>\n",
       "    <tr>\n",
       "      <th>13615</th>\n",
       "      <td>(:38) (No Huddle) J.Winston spiked the ball to stop the clock. PENALTY on NO-J.Winston, Intentional Grounding, 10 yards, enforced at ATL 40.</td>\n",
       "      <td>1</td>\n",
       "      <td>1</td>\n",
       "      <td>0</td>\n",
       "    </tr>\n",
       "    <tr>\n",
       "      <th>13671</th>\n",
       "      <td>(:11) J.Herbert kneels to LAC 34 for -1 yards.</td>\n",
       "      <td>0</td>\n",
       "      <td>0</td>\n",
       "      <td>1</td>\n",
       "    </tr>\n",
       "    <tr>\n",
       "      <th>13727</th>\n",
       "      <td>(:06) A.Rodgers kneels to GB 15 for -1 yards.</td>\n",
       "      <td>0</td>\n",
       "      <td>0</td>\n",
       "      <td>1</td>\n",
       "    </tr>\n",
       "    <tr>\n",
       "      <th>14556</th>\n",
       "      <td>(:39) C.Rush kneels to NYG 31 for -1 yards.</td>\n",
       "      <td>0</td>\n",
       "      <td>0</td>\n",
       "      <td>1</td>\n",
       "    </tr>\n",
       "  </tbody>\n",
       "</table>\n",
       "<p>173 rows × 4 columns</p>\n",
       "</div>"
      ],
      "text/plain": [
       "                                                                                                                                    playDescription  \\\n",
       "53                                                                                                  (1:16) J.Brissett kneels to CIN 10 for no gain.   \n",
       "121                                                                                    (4:05) C.Edmonds up the middle to MIA 9 for 1 yard (D.Wise).   \n",
       "173                                                                                                    (1:31) C.Rush kneels to DAL 38 for -1 yards.   \n",
       "180                                                                                                   (:05) R.Wilson kneels to DEN 24 for -1 yards.   \n",
       "222                                                             (3:38) (Shotgun) D.Montgomery left guard to SF 44 for 1 yard (A.Al-Shaair; C.Ward).   \n",
       "...                                                                                                                                             ...   \n",
       "13554                                              (1:32) (Shotgun) A.Rodgers Aborted. J.Myers FUMBLES at GB 43, recovered by GB-A.Dillon at GB 33.   \n",
       "13615  (:38) (No Huddle) J.Winston spiked the ball to stop the clock. PENALTY on NO-J.Winston, Intentional Grounding, 10 yards, enforced at ATL 40.   \n",
       "13671                                                                                                (:11) J.Herbert kneels to LAC 34 for -1 yards.   \n",
       "13727                                                                                                 (:06) A.Rodgers kneels to GB 15 for -1 yards.   \n",
       "14556                                                                                                   (:39) C.Rush kneels to NYG 31 for -1 yards.   \n",
       "\n",
       "       isDropback  qbSpike  qbKneel  \n",
       "53              0        0        1  \n",
       "121             0        0        0  \n",
       "173             0        0        1  \n",
       "180             0        0        1  \n",
       "222             0        0        0  \n",
       "...           ...      ...      ...  \n",
       "13554           0        0        0  \n",
       "13615           1        1        0  \n",
       "13671           0        0        1  \n",
       "13727           0        0        1  \n",
       "14556           0        0        1  \n",
       "\n",
       "[173 rows x 4 columns]"
      ]
     },
     "execution_count": 145,
     "metadata": {},
     "output_type": "execute_result"
    }
   ],
   "source": [
    "plays.query('dropbackType==\"UNKNOWN\"')[['playDescription', 'isDropback', 'qbSpike', 'qbKneel']]"
   ]
  },
  {
   "cell_type": "code",
   "execution_count": 147,
   "id": "a381ff84",
   "metadata": {},
   "outputs": [
    {
     "data": {
      "text/html": [
       "<div>\n",
       "<style scoped>\n",
       "    .dataframe tbody tr th:only-of-type {\n",
       "        vertical-align: middle;\n",
       "    }\n",
       "\n",
       "    .dataframe tbody tr th {\n",
       "        vertical-align: top;\n",
       "    }\n",
       "\n",
       "    .dataframe thead th {\n",
       "        text-align: right;\n",
       "    }\n",
       "</style>\n",
       "<table border=\"1\" class=\"dataframe\">\n",
       "  <thead>\n",
       "    <tr style=\"text-align: right;\">\n",
       "      <th></th>\n",
       "      <th>dropbackType</th>\n",
       "      <th>playDescription</th>\n",
       "      <th>isDropback</th>\n",
       "      <th>offenseFormation</th>\n",
       "    </tr>\n",
       "  </thead>\n",
       "  <tbody>\n",
       "    <tr>\n",
       "      <th>53</th>\n",
       "      <td>UNKNOWN</td>\n",
       "      <td>(1:16) J.Brissett kneels to CIN 10 for no gain.</td>\n",
       "      <td>0</td>\n",
       "      <td>NaN</td>\n",
       "    </tr>\n",
       "    <tr>\n",
       "      <th>173</th>\n",
       "      <td>UNKNOWN</td>\n",
       "      <td>(1:31) C.Rush kneels to DAL 38 for -1 yards.</td>\n",
       "      <td>0</td>\n",
       "      <td>NaN</td>\n",
       "    </tr>\n",
       "    <tr>\n",
       "      <th>180</th>\n",
       "      <td>UNKNOWN</td>\n",
       "      <td>(:05) R.Wilson kneels to DEN 24 for -1 yards.</td>\n",
       "      <td>0</td>\n",
       "      <td>NaN</td>\n",
       "    </tr>\n",
       "    <tr>\n",
       "      <th>286</th>\n",
       "      <td>UNKNOWN</td>\n",
       "      <td>(:09) G.Smith kneels to DEN 49 for -1 yards.</td>\n",
       "      <td>0</td>\n",
       "      <td>NaN</td>\n",
       "    </tr>\n",
       "    <tr>\n",
       "      <th>340</th>\n",
       "      <td>UNKNOWN</td>\n",
       "      <td>(1:09) M.Jones kneels to NYJ 47 for -2 yards.</td>\n",
       "      <td>0</td>\n",
       "      <td>NaN</td>\n",
       "    </tr>\n",
       "    <tr>\n",
       "      <th>607</th>\n",
       "      <td>UNKNOWN</td>\n",
       "      <td>(:25) S.Ehlinger kneels to IND 13 for -1 yards.</td>\n",
       "      <td>0</td>\n",
       "      <td>NaN</td>\n",
       "    </tr>\n",
       "    <tr>\n",
       "      <th>612</th>\n",
       "      <td>UNKNOWN</td>\n",
       "      <td>(:15) A.Rodgers kneels to GB 24 for -1 yards.</td>\n",
       "      <td>0</td>\n",
       "      <td>NaN</td>\n",
       "    </tr>\n",
       "    <tr>\n",
       "      <th>1356</th>\n",
       "      <td>UNKNOWN</td>\n",
       "      <td>(:18) M.Jones kneels to NE 23 for -2 yards.</td>\n",
       "      <td>0</td>\n",
       "      <td>NaN</td>\n",
       "    </tr>\n",
       "    <tr>\n",
       "      <th>1584</th>\n",
       "      <td>UNKNOWN</td>\n",
       "      <td>(1:01) J.Fields kneels to HST 11 for no gain.</td>\n",
       "      <td>0</td>\n",
       "      <td>NaN</td>\n",
       "    </tr>\n",
       "    <tr>\n",
       "      <th>1666</th>\n",
       "      <td>UNKNOWN</td>\n",
       "      <td>(1:13) R.Tannehill kneels to LV 43 for -1 yards.</td>\n",
       "      <td>0</td>\n",
       "      <td>NaN</td>\n",
       "    </tr>\n",
       "  </tbody>\n",
       "</table>\n",
       "</div>"
      ],
      "text/plain": [
       "     dropbackType                                   playDescription  \\\n",
       "53        UNKNOWN   (1:16) J.Brissett kneels to CIN 10 for no gain.   \n",
       "173       UNKNOWN      (1:31) C.Rush kneels to DAL 38 for -1 yards.   \n",
       "180       UNKNOWN     (:05) R.Wilson kneels to DEN 24 for -1 yards.   \n",
       "286       UNKNOWN      (:09) G.Smith kneels to DEN 49 for -1 yards.   \n",
       "340       UNKNOWN     (1:09) M.Jones kneels to NYJ 47 for -2 yards.   \n",
       "607       UNKNOWN   (:25) S.Ehlinger kneels to IND 13 for -1 yards.   \n",
       "612       UNKNOWN     (:15) A.Rodgers kneels to GB 24 for -1 yards.   \n",
       "1356      UNKNOWN       (:18) M.Jones kneels to NE 23 for -2 yards.   \n",
       "1584      UNKNOWN     (1:01) J.Fields kneels to HST 11 for no gain.   \n",
       "1666      UNKNOWN  (1:13) R.Tannehill kneels to LV 43 for -1 yards.   \n",
       "\n",
       "      isDropback offenseFormation  \n",
       "53             0              NaN  \n",
       "173            0              NaN  \n",
       "180            0              NaN  \n",
       "286            0              NaN  \n",
       "340            0              NaN  \n",
       "607            0              NaN  \n",
       "612            0              NaN  \n",
       "1356           0              NaN  \n",
       "1584           0              NaN  \n",
       "1666           0              NaN  "
      ]
     },
     "execution_count": 147,
     "metadata": {},
     "output_type": "execute_result"
    }
   ],
   "source": [
    "plays.query('~dropbackType.isna() and qbKneel==1')[['dropbackType', 'playDescription', 'isDropback', 'offenseFormation']].head(10)\n"
   ]
  },
  {
   "cell_type": "code",
   "execution_count": 148,
   "id": "0d3a531f",
   "metadata": {},
   "outputs": [
    {
     "data": {
      "text/html": [
       "<div>\n",
       "<style scoped>\n",
       "    .dataframe tbody tr th:only-of-type {\n",
       "        vertical-align: middle;\n",
       "    }\n",
       "\n",
       "    .dataframe tbody tr th {\n",
       "        vertical-align: top;\n",
       "    }\n",
       "\n",
       "    .dataframe thead th {\n",
       "        text-align: right;\n",
       "    }\n",
       "</style>\n",
       "<table border=\"1\" class=\"dataframe\">\n",
       "  <thead>\n",
       "    <tr style=\"text-align: right;\">\n",
       "      <th></th>\n",
       "      <th>dropbackType</th>\n",
       "      <th>playDescription</th>\n",
       "      <th>isDropback</th>\n",
       "      <th>offenseFormation</th>\n",
       "    </tr>\n",
       "  </thead>\n",
       "  <tbody>\n",
       "    <tr>\n",
       "      <th>7</th>\n",
       "      <td>NaN</td>\n",
       "      <td>(:35) K.Murray kneels to CAR 29 for -1 yards.</td>\n",
       "      <td>0</td>\n",
       "      <td>NaN</td>\n",
       "    </tr>\n",
       "    <tr>\n",
       "      <th>25</th>\n",
       "      <td>NaN</td>\n",
       "      <td>(:10) G.Smith kneels to SEA 24 for -1 yards.</td>\n",
       "      <td>0</td>\n",
       "      <td>NaN</td>\n",
       "    </tr>\n",
       "    <tr>\n",
       "      <th>197</th>\n",
       "      <td>NaN</td>\n",
       "      <td>(:53) J.Herbert kneels to LV 23 for -1 yards.</td>\n",
       "      <td>0</td>\n",
       "      <td>NaN</td>\n",
       "    </tr>\n",
       "    <tr>\n",
       "      <th>224</th>\n",
       "      <td>NaN</td>\n",
       "      <td>(:27) J.Fields kneels to NE 3 for -1 yards.</td>\n",
       "      <td>0</td>\n",
       "      <td>NaN</td>\n",
       "    </tr>\n",
       "    <tr>\n",
       "      <th>393</th>\n",
       "      <td>NaN</td>\n",
       "      <td>(:11) T.Lawrence kneels to JAX 20 for -1 yards.</td>\n",
       "      <td>0</td>\n",
       "      <td>NaN</td>\n",
       "    </tr>\n",
       "    <tr>\n",
       "      <th>476</th>\n",
       "      <td>NaN</td>\n",
       "      <td>(1:30) C.Henne kneels to KC 19 for -1 yards.</td>\n",
       "      <td>0</td>\n",
       "      <td>NaN</td>\n",
       "    </tr>\n",
       "    <tr>\n",
       "      <th>498</th>\n",
       "      <td>NaN</td>\n",
       "      <td>(:25) G.Smith kneels to SEA 8 for -1 yards.</td>\n",
       "      <td>0</td>\n",
       "      <td>NaN</td>\n",
       "    </tr>\n",
       "    <tr>\n",
       "      <th>579</th>\n",
       "      <td>NaN</td>\n",
       "      <td>(:29) J.Burrow kneels to CIN 43 for -1 yards.</td>\n",
       "      <td>0</td>\n",
       "      <td>NaN</td>\n",
       "    </tr>\n",
       "    <tr>\n",
       "      <th>623</th>\n",
       "      <td>NaN</td>\n",
       "      <td>(:11) J.Brissett kneels to CLV 24 for -1 yards.</td>\n",
       "      <td>0</td>\n",
       "      <td>NaN</td>\n",
       "    </tr>\n",
       "    <tr>\n",
       "      <th>635</th>\n",
       "      <td>NaN</td>\n",
       "      <td>(:15) B.Mayfield kneels to CAR 24 for -1 yards.</td>\n",
       "      <td>0</td>\n",
       "      <td>NaN</td>\n",
       "    </tr>\n",
       "  </tbody>\n",
       "</table>\n",
       "</div>"
      ],
      "text/plain": [
       "    dropbackType                                  playDescription  isDropback  \\\n",
       "7            NaN    (:35) K.Murray kneels to CAR 29 for -1 yards.           0   \n",
       "25           NaN     (:10) G.Smith kneels to SEA 24 for -1 yards.           0   \n",
       "197          NaN    (:53) J.Herbert kneels to LV 23 for -1 yards.           0   \n",
       "224          NaN      (:27) J.Fields kneels to NE 3 for -1 yards.           0   \n",
       "393          NaN  (:11) T.Lawrence kneels to JAX 20 for -1 yards.           0   \n",
       "476          NaN     (1:30) C.Henne kneels to KC 19 for -1 yards.           0   \n",
       "498          NaN      (:25) G.Smith kneels to SEA 8 for -1 yards.           0   \n",
       "579          NaN    (:29) J.Burrow kneels to CIN 43 for -1 yards.           0   \n",
       "623          NaN  (:11) J.Brissett kneels to CLV 24 for -1 yards.           0   \n",
       "635          NaN  (:15) B.Mayfield kneels to CAR 24 for -1 yards.           0   \n",
       "\n",
       "    offenseFormation  \n",
       "7                NaN  \n",
       "25               NaN  \n",
       "197              NaN  \n",
       "224              NaN  \n",
       "393              NaN  \n",
       "476              NaN  \n",
       "498              NaN  \n",
       "579              NaN  \n",
       "623              NaN  \n",
       "635              NaN  "
      ]
     },
     "execution_count": 148,
     "metadata": {},
     "output_type": "execute_result"
    }
   ],
   "source": [
    "plays.query('dropbackType.isna() and qbKneel==1')[['dropbackType', 'playDescription', 'isDropback', 'offenseFormation']].head(10)"
   ]
  },
  {
   "cell_type": "code",
   "execution_count": 149,
   "id": "1e787c88",
   "metadata": {},
   "outputs": [
    {
     "name": "stdout",
     "output_type": "stream",
     "text": [
      "[nan 'UNKNOWN']\n",
      "[0]\n"
     ]
    }
   ],
   "source": [
    "print(plays.query('qbKneel==1')['dropbackType'].unique())\n",
    "print(plays.query('qbKneel==1')[ 'isDropback'].unique())"
   ]
  },
  {
   "cell_type": "code",
   "execution_count": 150,
   "id": "6019d0ea",
   "metadata": {},
   "outputs": [],
   "source": [
    "plays.loc[plays['qbKneel'] == 1, 'dropbackType'] = plays.loc[plays['qbKneel'] == 1, 'dropbackType'].fillna('UNKNOWN')"
   ]
  },
  {
   "cell_type": "code",
   "execution_count": 151,
   "id": "f18c1656",
   "metadata": {},
   "outputs": [
    {
     "name": "stdout",
     "output_type": "stream",
     "text": [
      "['UNKNOWN']\n",
      "[1]\n"
     ]
    }
   ],
   "source": [
    "print(plays.query('qbSpike==1')['dropbackType'].unique())\n",
    "print(plays.query('qbSpike==1')[ 'isDropback'].unique())"
   ]
  },
  {
   "cell_type": "code",
   "execution_count": 152,
   "id": "0d966401",
   "metadata": {},
   "outputs": [
    {
     "data": {
      "text/plain": [
       "array(['DESIGNED_RUN', nan, 'UNKNOWN', 'QB_SNEAK',\n",
       "       'SCRAMBLE_ROLLOUT_RIGHT', 'SCRAMBLE', 'SCRAMBLE_ROLLOUT_LEFT'],\n",
       "      dtype=object)"
      ]
     },
     "execution_count": 152,
     "metadata": {},
     "output_type": "execute_result"
    }
   ],
   "source": [
    "plays.query('isDropback==0')[ 'dropbackType'].unique()"
   ]
  },
  {
   "cell_type": "code",
   "execution_count": 153,
   "id": "b6942174",
   "metadata": {},
   "outputs": [
    {
     "data": {
      "text/plain": [
       "array(['TRADITIONAL', 'DESIGNED_RUN', nan, 'UNKNOWN', 'SCRAMBLE',\n",
       "       'SCRAMBLE_ROLLOUT_LEFT', 'DESIGNED_ROLLOUT_RIGHT',\n",
       "       'DESIGNED_ROLLOUT_LEFT', 'QB_SNEAK', 'SCRAMBLE_ROLLOUT_RIGHT'],\n",
       "      dtype=object)"
      ]
     },
     "execution_count": 153,
     "metadata": {},
     "output_type": "execute_result"
    }
   ],
   "source": [
    "plays.dropbackType.unique()"
   ]
  },
  {
   "cell_type": "code",
   "execution_count": 154,
   "id": "3f42256f",
   "metadata": {},
   "outputs": [
    {
     "data": {
      "text/html": [
       "<div>\n",
       "<style scoped>\n",
       "    .dataframe tbody tr th:only-of-type {\n",
       "        vertical-align: middle;\n",
       "    }\n",
       "\n",
       "    .dataframe tbody tr th {\n",
       "        vertical-align: top;\n",
       "    }\n",
       "\n",
       "    .dataframe thead th {\n",
       "        text-align: right;\n",
       "    }\n",
       "</style>\n",
       "<table border=\"1\" class=\"dataframe\">\n",
       "  <thead>\n",
       "    <tr style=\"text-align: right;\">\n",
       "      <th></th>\n",
       "      <th>dropbackType</th>\n",
       "      <th>playDescription</th>\n",
       "      <th>isDropback</th>\n",
       "      <th>offenseFormation</th>\n",
       "    </tr>\n",
       "  </thead>\n",
       "  <tbody>\n",
       "    <tr>\n",
       "      <th>4</th>\n",
       "      <td>DESIGNED_RUN</td>\n",
       "      <td>(2:16) (Shotgun) L.Jackson up the middle to TB 28 for -1 yards (R.Nunez-Roches).</td>\n",
       "      <td>0</td>\n",
       "      <td>PISTOL</td>\n",
       "    </tr>\n",
       "    <tr>\n",
       "      <th>44</th>\n",
       "      <td>QB_SNEAK</td>\n",
       "      <td>(14:01) J.Brissett right guard to CLV 37 for 3 yards (L.Wilson).</td>\n",
       "      <td>0</td>\n",
       "      <td>SINGLEBACK</td>\n",
       "    </tr>\n",
       "    <tr>\n",
       "      <th>47</th>\n",
       "      <td>QB_SNEAK</td>\n",
       "      <td>(1:06) J.Hurts up the middle to DET 39 for 1 yard (D.Barnes).</td>\n",
       "      <td>0</td>\n",
       "      <td>I_FORM</td>\n",
       "    </tr>\n",
       "    <tr>\n",
       "      <th>58</th>\n",
       "      <td>DESIGNED_RUN</td>\n",
       "      <td>(12:41) (Shotgun) L.Jackson right tackle to BLT 40 for 4 yards (C.Mosley, J.Whitehead).</td>\n",
       "      <td>0</td>\n",
       "      <td>EMPTY</td>\n",
       "    </tr>\n",
       "    <tr>\n",
       "      <th>64</th>\n",
       "      <td>DESIGNED_RUN</td>\n",
       "      <td>(11:47) (No Huddle, Shotgun) M.Mariota right tackle to SF 15 for 5 yards (K.Hyder).</td>\n",
       "      <td>0</td>\n",
       "      <td>SHOTGUN</td>\n",
       "    </tr>\n",
       "    <tr>\n",
       "      <th>...</th>\n",
       "      <td>...</td>\n",
       "      <td>...</td>\n",
       "      <td>...</td>\n",
       "      <td>...</td>\n",
       "    </tr>\n",
       "    <tr>\n",
       "      <th>16011</th>\n",
       "      <td>DESIGNED_RUN</td>\n",
       "      <td>(5:22) (No Huddle, Shotgun) J.Hurts left end to HST 4 for no gain (J.Owens).</td>\n",
       "      <td>0</td>\n",
       "      <td>PISTOL</td>\n",
       "    </tr>\n",
       "    <tr>\n",
       "      <th>16071</th>\n",
       "      <td>DESIGNED_RUN</td>\n",
       "      <td>(4:44) (Shotgun) P.Mahomes left end to TB 3 for 9 yards (L.Ryan).</td>\n",
       "      <td>0</td>\n",
       "      <td>SHOTGUN</td>\n",
       "    </tr>\n",
       "    <tr>\n",
       "      <th>16072</th>\n",
       "      <td>DESIGNED_RUN</td>\n",
       "      <td>(9:02) (Shotgun) S.Ehlinger left guard to NE 40 for 2 yards (J.Tavai).</td>\n",
       "      <td>0</td>\n",
       "      <td>SHOTGUN</td>\n",
       "    </tr>\n",
       "    <tr>\n",
       "      <th>16079</th>\n",
       "      <td>DESIGNED_RUN</td>\n",
       "      <td>(1:41) 7-T.Hill at quarterback. (Shotgun) T.Hill right end to CIN 19 for -1 yards (E.Apple).</td>\n",
       "      <td>0</td>\n",
       "      <td>WILDCAT</td>\n",
       "    </tr>\n",
       "    <tr>\n",
       "      <th>16098</th>\n",
       "      <td>QB_SNEAK</td>\n",
       "      <td>(10:23) J.Allen up the middle to BUF 37 for 3 yards (C.Jones).</td>\n",
       "      <td>0</td>\n",
       "      <td>I_FORM</td>\n",
       "    </tr>\n",
       "  </tbody>\n",
       "</table>\n",
       "<p>448 rows × 4 columns</p>\n",
       "</div>"
      ],
      "text/plain": [
       "       dropbackType  \\\n",
       "4      DESIGNED_RUN   \n",
       "44         QB_SNEAK   \n",
       "47         QB_SNEAK   \n",
       "58     DESIGNED_RUN   \n",
       "64     DESIGNED_RUN   \n",
       "...             ...   \n",
       "16011  DESIGNED_RUN   \n",
       "16071  DESIGNED_RUN   \n",
       "16072  DESIGNED_RUN   \n",
       "16079  DESIGNED_RUN   \n",
       "16098      QB_SNEAK   \n",
       "\n",
       "                                                                                    playDescription  \\\n",
       "4                  (2:16) (Shotgun) L.Jackson up the middle to TB 28 for -1 yards (R.Nunez-Roches).   \n",
       "44                                 (14:01) J.Brissett right guard to CLV 37 for 3 yards (L.Wilson).   \n",
       "47                                    (1:06) J.Hurts up the middle to DET 39 for 1 yard (D.Barnes).   \n",
       "58          (12:41) (Shotgun) L.Jackson right tackle to BLT 40 for 4 yards (C.Mosley, J.Whitehead).   \n",
       "64              (11:47) (No Huddle, Shotgun) M.Mariota right tackle to SF 15 for 5 yards (K.Hyder).   \n",
       "...                                                                                             ...   \n",
       "16011                  (5:22) (No Huddle, Shotgun) J.Hurts left end to HST 4 for no gain (J.Owens).   \n",
       "16071                             (4:44) (Shotgun) P.Mahomes left end to TB 3 for 9 yards (L.Ryan).   \n",
       "16072                        (9:02) (Shotgun) S.Ehlinger left guard to NE 40 for 2 yards (J.Tavai).   \n",
       "16079  (1:41) 7-T.Hill at quarterback. (Shotgun) T.Hill right end to CIN 19 for -1 yards (E.Apple).   \n",
       "16098                                (10:23) J.Allen up the middle to BUF 37 for 3 yards (C.Jones).   \n",
       "\n",
       "       isDropback offenseFormation  \n",
       "4               0           PISTOL  \n",
       "44              0       SINGLEBACK  \n",
       "47              0           I_FORM  \n",
       "58              0            EMPTY  \n",
       "64              0          SHOTGUN  \n",
       "...           ...              ...  \n",
       "16011           0           PISTOL  \n",
       "16071           0          SHOTGUN  \n",
       "16072           0          SHOTGUN  \n",
       "16079           0          WILDCAT  \n",
       "16098           0           I_FORM  \n",
       "\n",
       "[448 rows x 4 columns]"
      ]
     },
     "execution_count": 154,
     "metadata": {},
     "output_type": "execute_result"
    }
   ],
   "source": [
    "plays.query('isDropback==0 and ~dropbackType.isna() and dropbackType!= \"UNKNOWN\"')[['dropbackType', 'playDescription',\n",
    "                                                                                    'isDropback', 'offenseFormation']]\n"
   ]
  },
  {
   "cell_type": "code",
   "execution_count": 155,
   "id": "a5b4e3d9",
   "metadata": {},
   "outputs": [
    {
     "data": {
      "text/plain": [
       "array(['DESIGNED_RUN', 'QB_SNEAK', 'SCRAMBLE_ROLLOUT_RIGHT', 'SCRAMBLE',\n",
       "       'SCRAMBLE_ROLLOUT_LEFT'], dtype=object)"
      ]
     },
     "execution_count": 155,
     "metadata": {},
     "output_type": "execute_result"
    }
   ],
   "source": [
    "plays.query('isDropback==0 and ~dropbackType.isna() and dropbackType!= \"UNKNOWN\"')['dropbackType'].unique()\n"
   ]
  },
  {
   "cell_type": "code",
   "execution_count": 156,
   "id": "3633b51b",
   "metadata": {},
   "outputs": [
    {
     "data": {
      "text/plain": [
       "array(['TRADITIONAL', 'SCRAMBLE', 'SCRAMBLE_ROLLOUT_LEFT',\n",
       "       'DESIGNED_ROLLOUT_RIGHT', 'DESIGNED_ROLLOUT_LEFT',\n",
       "       'SCRAMBLE_ROLLOUT_RIGHT', 'DESIGNED_RUN'], dtype=object)"
      ]
     },
     "execution_count": 156,
     "metadata": {},
     "output_type": "execute_result"
    }
   ],
   "source": [
    "plays.query('isDropback==1 and ~dropbackType.isna() and dropbackType!= \"UNKNOWN\"')['dropbackType'].unique()\n"
   ]
  },
  {
   "cell_type": "code",
   "execution_count": 157,
   "id": "9f165107",
   "metadata": {},
   "outputs": [],
   "source": [
    "plays['dropbackType'] = plays['dropbackType'].fillna(\"UNKNOWN\")"
   ]
  },
  {
   "cell_type": "markdown",
   "id": "e1b6a360",
   "metadata": {},
   "source": [
    "### `dropbackDistance` ✅"
   ]
  },
  {
   "cell_type": "markdown",
   "id": "4219d9f2",
   "metadata": {},
   "source": [
    "### `playAction` ✅"
   ]
  },
  {
   "cell_type": "code",
   "execution_count": 158,
   "id": "65224561",
   "metadata": {},
   "outputs": [
    {
     "data": {
      "text/plain": [
       "0"
      ]
     },
     "execution_count": 158,
     "metadata": {},
     "output_type": "execute_result"
    }
   ],
   "source": [
    "plays.playAction.isna().sum()"
   ]
  },
  {
   "cell_type": "markdown",
   "id": "31171fb5",
   "metadata": {},
   "source": [
    "### `unblockedPressure` ✅\n",
    "\n"
   ]
  },
  {
   "cell_type": "code",
   "execution_count": 159,
   "id": "b93a3578",
   "metadata": {},
   "outputs": [
    {
     "data": {
      "text/plain": [
       "False    9051\n",
       "NaN      6369\n",
       "True      704\n",
       "Name: unblockedPressure, dtype: int64"
      ]
     },
     "execution_count": 159,
     "metadata": {},
     "output_type": "execute_result"
    }
   ],
   "source": [
    "plays.unblockedPressure.value_counts(dropna=False)"
   ]
  },
  {
   "cell_type": "markdown",
   "id": "09dbed1d",
   "metadata": {},
   "source": [
    "### `timeToThrow`, `timeInTackleBox` ✅"
   ]
  },
  {
   "cell_type": "code",
   "execution_count": 160,
   "id": "f6daf772",
   "metadata": {},
   "outputs": [
    {
     "data": {
      "text/plain": [
       "NoPass    6411\n",
       "S          608\n",
       "R          400\n",
       "Name: passResult, dtype: int64"
      ]
     },
     "execution_count": 160,
     "metadata": {},
     "output_type": "execute_result"
    }
   ],
   "source": [
    "plays.query('timeToThrow.isna()')['passResult'].value_counts()"
   ]
  },
  {
   "cell_type": "code",
   "execution_count": 161,
   "id": "aaabb123",
   "metadata": {},
   "outputs": [
    {
     "data": {
      "text/plain": [
       "NoPass    6411\n",
       "R          400\n",
       "S          396\n",
       "Name: passResult, dtype: int64"
      ]
     },
     "execution_count": 161,
     "metadata": {},
     "output_type": "execute_result"
    }
   ],
   "source": [
    "plays.query('timeInTackleBox.isna()')['passResult'].value_counts()"
   ]
  },
  {
   "cell_type": "markdown",
   "id": "f562af39",
   "metadata": {},
   "source": [
    "### `timeToSack` ✅"
   ]
  },
  {
   "cell_type": "code",
   "execution_count": 162,
   "id": "66fa9879",
   "metadata": {},
   "outputs": [],
   "source": [
    "# plays.query('timeToSack.isna()')['passResult'].value_counts()"
   ]
  },
  {
   "cell_type": "code",
   "execution_count": 163,
   "id": "b7351342",
   "metadata": {},
   "outputs": [],
   "source": [
    "# plays.query('~timeToSack.isna()')['passResult'].value_counts()"
   ]
  },
  {
   "cell_type": "markdown",
   "id": "050a473b",
   "metadata": {},
   "source": [
    "# Defence"
   ]
  },
  {
   "cell_type": "markdown",
   "id": "fa31c670",
   "metadata": {},
   "source": [
    "## `pff_passCoverage`"
   ]
  },
  {
   "cell_type": "code",
   "execution_count": 164,
   "id": "69d32ad9",
   "metadata": {},
   "outputs": [
    {
     "data": {
      "text/plain": [
       "0         Cover-3\n",
       "1        Quarters\n",
       "2        Quarters\n",
       "3        Quarters\n",
       "4         Cover-1\n",
       "           ...   \n",
       "16119     Cover-2\n",
       "16120     Cover-3\n",
       "16121    Quarters\n",
       "16122     Cover-3\n",
       "16123     Cover-3\n",
       "Name: pff_passCoverage, Length: 16124, dtype: object"
      ]
     },
     "execution_count": 164,
     "metadata": {},
     "output_type": "execute_result"
    }
   ],
   "source": [
    "plays['pff_passCoverage']"
   ]
  },
  {
   "cell_type": "markdown",
   "id": "82a086db",
   "metadata": {},
   "source": [
    "# Offense"
   ]
  },
  {
   "cell_type": "markdown",
   "id": "ee0c8b5c",
   "metadata": {},
   "source": [
    "## `playAction` ✅ "
   ]
  },
  {
   "cell_type": "markdown",
   "id": "82a721bd",
   "metadata": {},
   "source": [
    "### `pff_runConceptPrimary`, `pff_runConceptSecondary` ✅"
   ]
  },
  {
   "cell_type": "code",
   "execution_count": 169,
   "id": "085f46b2",
   "metadata": {},
   "outputs": [
    {
     "data": {
      "text/plain": [
       "array([nan, 'MAN', 'INSIDE ZONE', 'UNDEFINED', 'PULL LEAD',\n",
       "       'OUTSIDE ZONE', 'TRAP', 'SNEAK', 'POWER', 'COUNTER', 'DRAW',\n",
       "       'TRICK', 'FB RUN'], dtype=object)"
      ]
     },
     "execution_count": 169,
     "metadata": {},
     "output_type": "execute_result"
    }
   ],
   "source": [
    "plays.pff_runConceptPrimary.unique()"
   ]
  },
  {
   "cell_type": "code",
   "execution_count": 170,
   "id": "90cc6fd6",
   "metadata": {},
   "outputs": [
    {
     "data": {
      "text/plain": [
       "array([nan, 'READ OPTION', 'LEAD', 'PITCH', 'INVERTED;READ OPTION',\n",
       "       'SPLIT', 'MISDIRECTION', 'READ OPTION;SPLIT', 'LEAD;PITCH',\n",
       "       'CROSS LEAD;LEAD', 'CROSS LEAD', 'LEAD;SPLIT', 'PITCH;SPLIT',\n",
       "       'READ OPTION;SPEED OPTION', 'LEAD;READ OPTION;SPLIT',\n",
       "       'LEAD;QB RUNS', 'QB RUNS', 'LEAD;READ OPTION',\n",
       "       'CROSS LEAD;READ OPTION', 'CROSS LEAD;QB RUNS',\n",
       "       'MISDIRECTION;PITCH', 'LEAD;SPEED OPTION',\n",
       "       'READ OPTION;SPEED OPTION;SPLIT', 'INVERTED;READ OPTION;SPLIT',\n",
       "       'SPEED OPTION', 'BACKSIDE FOLD',\n",
       "       'INVERTED;READ OPTION;SPEED OPTION',\n",
       "       'CROSS LEAD;READ OPTION;SPLIT', 'CROSS LEAD;LEAD;READ OPTION',\n",
       "       'CROSS LEAD;INVERTED;READ OPTION', 'CROSS LEAD;SPLIT',\n",
       "       'CROSS LEAD;PITCH', 'CROSS LEAD;MISDIRECTION',\n",
       "       'MISDIRECTION;SPLIT', 'CROSS LEAD;READ OPTION;SPEED OPTION',\n",
       "       'LEAD;MISDIRECTION', 'QB RUNS;SPLIT', 'MISDIRECTION;QB RUNS',\n",
       "       'LEAD;READ OPTION;SPEED OPTION', 'LEAD;PITCH;SPLIT',\n",
       "       'CROSS LEAD;LEAD;QB RUNS', 'BACKSIDE FOLD;QB RUNS',\n",
       "       'BACKSIDE FOLD;PITCH', 'LEAD;LEAD'], dtype=object)"
      ]
     },
     "execution_count": 170,
     "metadata": {},
     "output_type": "execute_result"
    }
   ],
   "source": [
    "plays.pff_runConceptSecondary.unique()"
   ]
  },
  {
   "cell_type": "code",
   "execution_count": 171,
   "id": "32f6c6a7",
   "metadata": {},
   "outputs": [
    {
     "data": {
      "text/plain": [
       "True    120\n",
       "Name: qbSneak, dtype: int64"
      ]
     },
     "execution_count": 171,
     "metadata": {},
     "output_type": "execute_result"
    }
   ],
   "source": [
    "plays.query('pff_runConceptPrimary==\"SNEAK\"')['qbSneak'].value_counts(dropna=False)"
   ]
  },
  {
   "cell_type": "code",
   "execution_count": 172,
   "id": "0b69051a",
   "metadata": {},
   "outputs": [
    {
     "data": {
      "text/plain": [
       "0       16004\n",
       "True      120\n",
       "Name: qbSneak, dtype: int64"
      ]
     },
     "execution_count": 172,
     "metadata": {},
     "output_type": "execute_result"
    }
   ],
   "source": [
    "plays.qbSneak.value_counts(dropna=False)"
   ]
  },
  {
   "cell_type": "code",
   "execution_count": 173,
   "id": "ab02ba9a",
   "metadata": {},
   "outputs": [
    {
     "data": {
      "text/plain": [
       "0    186\n",
       "1     67\n",
       "Name: playAction, dtype: int64"
      ]
     },
     "execution_count": 173,
     "metadata": {},
     "output_type": "execute_result"
    }
   ],
   "source": [
    "plays.query('pff_runConceptPrimary==\"TRICK\"')['playAction'].value_counts(dropna=False)"
   ]
  },
  {
   "cell_type": "code",
   "execution_count": 174,
   "id": "7f096aa1",
   "metadata": {},
   "outputs": [
    {
     "data": {
      "text/plain": [
       "194        NaN\n",
       "198        NaN\n",
       "249        NaN\n",
       "251      SPLIT\n",
       "279       LEAD\n",
       "         ...  \n",
       "15844      NaN\n",
       "15869      NaN\n",
       "15898      NaN\n",
       "15918    SPLIT\n",
       "15975      NaN\n",
       "Name: pff_runConceptSecondary, Length: 253, dtype: object"
      ]
     },
     "execution_count": 174,
     "metadata": {},
     "output_type": "execute_result"
    }
   ],
   "source": [
    "plays.query('pff_runConceptPrimary==\"TRICK\"')['pff_runConceptSecondary']"
   ]
  },
  {
   "cell_type": "code",
   "execution_count": 175,
   "id": "59471a58",
   "metadata": {},
   "outputs": [],
   "source": [
    "plays['pff_runConceptPrimary'] = plays['pff_runConceptPrimary'].fillna(\"UNKNOWN\")\n",
    "plays['pff_runConceptSecondary'] = plays['pff_runConceptSecondary'].fillna(\"UNKNOWN\")"
   ]
  },
  {
   "cell_type": "markdown",
   "id": "b7eb1294",
   "metadata": {},
   "source": [
    "### `rushLocationType` ✅\n",
    "\n"
   ]
  },
  {
   "cell_type": "code",
   "execution_count": 176,
   "id": "009e3303",
   "metadata": {},
   "outputs": [
    {
     "data": {
      "text/plain": [
       "array([nan, 'INSIDE_LEFT', 'INSIDE_RIGHT', 'OUTSIDE_LEFT', 'UNKNOWN',\n",
       "       'OUTSIDE_RIGHT'], dtype=object)"
      ]
     },
     "execution_count": 176,
     "metadata": {},
     "output_type": "execute_result"
    }
   ],
   "source": [
    "plays.rushLocationType.unique()"
   ]
  },
  {
   "cell_type": "code",
   "execution_count": 177,
   "id": "4bf18e13",
   "metadata": {},
   "outputs": [],
   "source": [
    "plays['rushLocationType'] = plays['rushLocationType'].fillna(\"UNKNOWN\")\n"
   ]
  },
  {
   "cell_type": "code",
   "execution_count": null,
   "id": "1d70a528",
   "metadata": {},
   "outputs": [],
   "source": []
  },
  {
   "cell_type": "markdown",
   "id": "69b8fc4e",
   "metadata": {},
   "source": [
    "## `offenseFormation`, `playDescription`\n",
    "\n",
    "`offenseFormation`, `playDescription` -- different formations? "
   ]
  },
  {
   "cell_type": "code",
   "execution_count": 178,
   "id": "90943c8a",
   "metadata": {},
   "outputs": [
    {
     "data": {
      "text/html": [
       "<div>\n",
       "<style scoped>\n",
       "    .dataframe tbody tr th:only-of-type {\n",
       "        vertical-align: middle;\n",
       "    }\n",
       "\n",
       "    .dataframe tbody tr th {\n",
       "        vertical-align: top;\n",
       "    }\n",
       "\n",
       "    .dataframe thead th {\n",
       "        text-align: right;\n",
       "    }\n",
       "</style>\n",
       "<table border=\"1\" class=\"dataframe\">\n",
       "  <thead>\n",
       "    <tr style=\"text-align: right;\">\n",
       "      <th></th>\n",
       "      <th>offenseFormation</th>\n",
       "      <th>playDescription</th>\n",
       "      <th>passResult</th>\n",
       "      <th>dropbackType</th>\n",
       "      <th>dropbackDistance</th>\n",
       "      <th>playAction</th>\n",
       "      <th>qbKneel</th>\n",
       "    </tr>\n",
       "  </thead>\n",
       "  <tbody>\n",
       "    <tr>\n",
       "      <th>0</th>\n",
       "      <td>EMPTY</td>\n",
       "      <td>(1:54) (Shotgun) J.Burrow pass short middle to T.Boyd to CIN 30 for 9 yards (J.Hawkins).</td>\n",
       "      <td>C</td>\n",
       "      <td>TRADITIONAL</td>\n",
       "      <td>2.40</td>\n",
       "      <td>0</td>\n",
       "      <td>0</td>\n",
       "    </tr>\n",
       "    <tr>\n",
       "      <th>1</th>\n",
       "      <td>EMPTY</td>\n",
       "      <td>(2:13) (Shotgun) J.Burrow pass short right to H.Hurst to CIN 12 for 4 yards (L.Vander Esch).</td>\n",
       "      <td>C</td>\n",
       "      <td>TRADITIONAL</td>\n",
       "      <td>1.14</td>\n",
       "      <td>0</td>\n",
       "      <td>0</td>\n",
       "    </tr>\n",
       "    <tr>\n",
       "      <th>2</th>\n",
       "      <td>SHOTGUN</td>\n",
       "      <td>(2:00) (Shotgun) D.Mills pass short right to D.Pierce to HST 26 for 6 yards (D.Walker).</td>\n",
       "      <td>C</td>\n",
       "      <td>TRADITIONAL</td>\n",
       "      <td>3.20</td>\n",
       "      <td>0</td>\n",
       "      <td>0</td>\n",
       "    </tr>\n",
       "    <tr>\n",
       "      <th>3</th>\n",
       "      <td>SHOTGUN</td>\n",
       "      <td>(9:28) (Shotgun) P.Mahomes pass short left to I.Pacheco to TEN 19 for 4 yards (Z.Cunningham).</td>\n",
       "      <td>C</td>\n",
       "      <td>TRADITIONAL</td>\n",
       "      <td>3.02</td>\n",
       "      <td>0</td>\n",
       "      <td>0</td>\n",
       "    </tr>\n",
       "    <tr>\n",
       "      <th>4</th>\n",
       "      <td>PISTOL</td>\n",
       "      <td>(2:16) (Shotgun) L.Jackson up the middle to TB 28 for -1 yards (R.Nunez-Roches).</td>\n",
       "      <td>NoPass</td>\n",
       "      <td>DESIGNED_RUN</td>\n",
       "      <td>2.03</td>\n",
       "      <td>1</td>\n",
       "      <td>0</td>\n",
       "    </tr>\n",
       "  </tbody>\n",
       "</table>\n",
       "</div>"
      ],
      "text/plain": [
       "  offenseFormation  \\\n",
       "0            EMPTY   \n",
       "1            EMPTY   \n",
       "2          SHOTGUN   \n",
       "3          SHOTGUN   \n",
       "4           PISTOL   \n",
       "\n",
       "                                                                                 playDescription  \\\n",
       "0       (1:54) (Shotgun) J.Burrow pass short middle to T.Boyd to CIN 30 for 9 yards (J.Hawkins).   \n",
       "1   (2:13) (Shotgun) J.Burrow pass short right to H.Hurst to CIN 12 for 4 yards (L.Vander Esch).   \n",
       "2        (2:00) (Shotgun) D.Mills pass short right to D.Pierce to HST 26 for 6 yards (D.Walker).   \n",
       "3  (9:28) (Shotgun) P.Mahomes pass short left to I.Pacheco to TEN 19 for 4 yards (Z.Cunningham).   \n",
       "4               (2:16) (Shotgun) L.Jackson up the middle to TB 28 for -1 yards (R.Nunez-Roches).   \n",
       "\n",
       "  passResult  dropbackType  dropbackDistance  playAction  qbKneel  \n",
       "0          C   TRADITIONAL              2.40           0        0  \n",
       "1          C   TRADITIONAL              1.14           0        0  \n",
       "2          C   TRADITIONAL              3.20           0        0  \n",
       "3          C   TRADITIONAL              3.02           0        0  \n",
       "4     NoPass  DESIGNED_RUN              2.03           1        0  "
      ]
     },
     "execution_count": 178,
     "metadata": {},
     "output_type": "execute_result"
    }
   ],
   "source": [
    "plays[['offenseFormation', 'playDescription', 'passResult', 'dropbackType', 'dropbackDistance', 'playAction', 'qbKneel']].head(5)"
   ]
  },
  {
   "cell_type": "code",
   "execution_count": 179,
   "id": "44f9536a",
   "metadata": {},
   "outputs": [
    {
     "data": {
      "text/plain": [
       "offenseFormation                                                                                       EMPTY\n",
       "playDescription     (1:54) (Shotgun) J.Burrow pass short middle to T.Boyd to CIN 30 for 9 yards (J.Hawkins).\n",
       "Name: 0, dtype: object"
      ]
     },
     "execution_count": 179,
     "metadata": {},
     "output_type": "execute_result"
    }
   ],
   "source": [
    "plays.loc[0, ['offenseFormation', 'playDescription']]"
   ]
  },
  {
   "cell_type": "markdown",
   "id": "5fa7829a",
   "metadata": {},
   "source": [
    "`offenseFormation` has 188 missing values из них 165 с kneels - true и 23 - с kneels false."
   ]
  },
  {
   "cell_type": "code",
   "execution_count": 180,
   "id": "30af784f",
   "metadata": {},
   "outputs": [
    {
     "data": {
      "text/plain": [
       "7            (:35) K.Murray kneels to CAR 29 for -1 yards.\n",
       "25            (:10) G.Smith kneels to SEA 24 for -1 yards.\n",
       "53         (1:16) J.Brissett kneels to CIN 10 for no gain.\n",
       "173           (1:31) C.Rush kneels to DAL 38 for -1 yards.\n",
       "180          (:05) R.Wilson kneels to DEN 24 for -1 yards.\n",
       "                               ...                        \n",
       "13671       (:11) J.Herbert kneels to LAC 34 for -1 yards.\n",
       "13727        (:06) A.Rodgers kneels to GB 15 for -1 yards.\n",
       "13990    (:18) T.Tagovailoa kneels to MIA 19 for -1 yards.\n",
       "14556          (:39) C.Rush kneels to NYG 31 for -1 yards.\n",
       "14565        (:13) R.Wilson kneels to HST 25 for -1 yards.\n",
       "Name: playDescription, Length: 188, dtype: object"
      ]
     },
     "execution_count": 180,
     "metadata": {},
     "output_type": "execute_result"
    }
   ],
   "source": [
    "plays.query(\"offenseFormation.isna()\")['playDescription']"
   ]
  },
  {
   "cell_type": "code",
   "execution_count": 181,
   "id": "86567289",
   "metadata": {},
   "outputs": [
    {
     "data": {
      "text/plain": [
       "164"
      ]
     },
     "execution_count": 181,
     "metadata": {},
     "output_type": "execute_result"
    }
   ],
   "source": [
    "plays.qbKneel.sum()"
   ]
  },
  {
   "cell_type": "markdown",
   "id": "156fa316",
   "metadata": {},
   "source": []
  },
  {
   "cell_type": "code",
   "execution_count": null,
   "id": "024c8bcc",
   "metadata": {},
   "outputs": [],
   "source": []
  },
  {
   "cell_type": "markdown",
   "id": "62ec1796",
   "metadata": {},
   "source": [
    "# Coverage\n",
    "\n",
    "###  `pff_manZone`, `pff_passCoverage` ✅"
   ]
  },
  {
   "cell_type": "code",
   "execution_count": 182,
   "id": "22ce0fa0",
   "metadata": {},
   "outputs": [
    {
     "data": {
      "text/plain": [
       "array(['Zone', 'Man', nan, 'Other'], dtype=object)"
      ]
     },
     "execution_count": 182,
     "metadata": {},
     "output_type": "execute_result"
    }
   ],
   "source": [
    "plays.pff_manZone.unique()"
   ]
  },
  {
   "cell_type": "code",
   "execution_count": 183,
   "id": "e6a92ffd",
   "metadata": {},
   "outputs": [
    {
     "data": {
      "text/plain": [
       "array(['Cover-3', 'Quarters', 'Cover-1', 'Cover 6-Left', 'Cover-2', nan,\n",
       "       'Cover-0', 'Cover-3 Seam', 'Cover-6 Right', 'Goal Line',\n",
       "       'Red Zone', '2-Man', 'Cover-3 Double Cloud', 'Bracket',\n",
       "       'Miscellaneous', 'Cover-3 Cloud Left', 'Prevent', 'Cover-1 Double',\n",
       "       'Cover-3 Cloud Right'], dtype=object)"
      ]
     },
     "execution_count": 183,
     "metadata": {},
     "output_type": "execute_result"
    }
   ],
   "source": [
    "plays.pff_passCoverage.unique()"
   ]
  },
  {
   "cell_type": "code",
   "execution_count": 184,
   "id": "f4a57795",
   "metadata": {},
   "outputs": [
    {
     "data": {
      "text/plain": [
       "array([nan], dtype=object)"
      ]
     },
     "execution_count": 184,
     "metadata": {},
     "output_type": "execute_result"
    }
   ],
   "source": [
    "plays.query('pff_manZone.isna()')['pff_passCoverage'].unique()"
   ]
  },
  {
   "cell_type": "code",
   "execution_count": 185,
   "id": "0c7a1608",
   "metadata": {},
   "outputs": [
    {
     "data": {
      "text/plain": [
       "array([nan], dtype=object)"
      ]
     },
     "execution_count": 185,
     "metadata": {},
     "output_type": "execute_result"
    }
   ],
   "source": [
    "plays.query('pff_passCoverage.isna()')['pff_manZone'].unique()"
   ]
  },
  {
   "cell_type": "code",
   "execution_count": 186,
   "id": "dc07fc78",
   "metadata": {},
   "outputs": [
    {
     "data": {
      "text/plain": [
       "array(['Goal Line', 'Red Zone', 'Bracket', 'Miscellaneous', 'Prevent'],\n",
       "      dtype=object)"
      ]
     },
     "execution_count": 186,
     "metadata": {},
     "output_type": "execute_result"
    }
   ],
   "source": [
    "plays.query('pff_manZone==\"Other\"')['pff_passCoverage'].unique()"
   ]
  },
  {
   "cell_type": "code",
   "execution_count": 187,
   "id": "253610ac",
   "metadata": {},
   "outputs": [],
   "source": [
    "import pandas as pd "
   ]
  },
  {
   "cell_type": "code",
   "execution_count": 188,
   "id": "06efd23f",
   "metadata": {},
   "outputs": [],
   "source": [
    "players =  pd.read_csv('nfl_data/players.csv')\n",
    "pp =  pd.read_csv('nfl_data/player_play.csv')\n",
    "pp = pp.merge(plays, on=['gameId', 'playId']).merge(players[['position', 'nflId']], on='nflId', how='left')"
   ]
  },
  {
   "cell_type": "code",
   "execution_count": 189,
   "id": "42676776",
   "metadata": {},
   "outputs": [
    {
     "data": {
      "text/html": [
       "<div>\n",
       "<style scoped>\n",
       "    .dataframe tbody tr th:only-of-type {\n",
       "        vertical-align: middle;\n",
       "    }\n",
       "\n",
       "    .dataframe tbody tr th {\n",
       "        vertical-align: top;\n",
       "    }\n",
       "\n",
       "    .dataframe thead th {\n",
       "        text-align: right;\n",
       "    }\n",
       "</style>\n",
       "<table border=\"1\" class=\"dataframe\">\n",
       "  <thead>\n",
       "    <tr style=\"text-align: right;\">\n",
       "      <th></th>\n",
       "      <th>pff_manZone</th>\n",
       "      <th>pff_defensiveCoverageAssignment</th>\n",
       "    </tr>\n",
       "  </thead>\n",
       "  <tbody>\n",
       "    <tr>\n",
       "      <th>132</th>\n",
       "      <td>Man</td>\n",
       "      <td>NaN</td>\n",
       "    </tr>\n",
       "    <tr>\n",
       "      <th>133</th>\n",
       "      <td>Man</td>\n",
       "      <td>NaN</td>\n",
       "    </tr>\n",
       "    <tr>\n",
       "      <th>134</th>\n",
       "      <td>Man</td>\n",
       "      <td>NaN</td>\n",
       "    </tr>\n",
       "    <tr>\n",
       "      <th>135</th>\n",
       "      <td>Man</td>\n",
       "      <td>NaN</td>\n",
       "    </tr>\n",
       "    <tr>\n",
       "      <th>136</th>\n",
       "      <td>Man</td>\n",
       "      <td>NaN</td>\n",
       "    </tr>\n",
       "  </tbody>\n",
       "</table>\n",
       "</div>"
      ],
      "text/plain": [
       "    pff_manZone pff_defensiveCoverageAssignment\n",
       "132         Man                             NaN\n",
       "133         Man                             NaN\n",
       "134         Man                             NaN\n",
       "135         Man                             NaN\n",
       "136         Man                             NaN"
      ]
     },
     "metadata": {},
     "output_type": "display_data"
    },
    {
     "data": {
      "text/html": [
       "<div>\n",
       "<style scoped>\n",
       "    .dataframe tbody tr th:only-of-type {\n",
       "        vertical-align: middle;\n",
       "    }\n",
       "\n",
       "    .dataframe tbody tr th {\n",
       "        vertical-align: top;\n",
       "    }\n",
       "\n",
       "    .dataframe thead th {\n",
       "        text-align: right;\n",
       "    }\n",
       "</style>\n",
       "<table border=\"1\" class=\"dataframe\">\n",
       "  <thead>\n",
       "    <tr style=\"text-align: right;\">\n",
       "      <th></th>\n",
       "      <th>pff_manZone</th>\n",
       "      <th>pff_defensiveCoverageAssignment</th>\n",
       "    </tr>\n",
       "  </thead>\n",
       "  <tbody>\n",
       "    <tr>\n",
       "      <th>0</th>\n",
       "      <td>Zone</td>\n",
       "      <td>NaN</td>\n",
       "    </tr>\n",
       "    <tr>\n",
       "      <th>1</th>\n",
       "      <td>Zone</td>\n",
       "      <td>NaN</td>\n",
       "    </tr>\n",
       "    <tr>\n",
       "      <th>2</th>\n",
       "      <td>Zone</td>\n",
       "      <td>NaN</td>\n",
       "    </tr>\n",
       "    <tr>\n",
       "      <th>3</th>\n",
       "      <td>Zone</td>\n",
       "      <td>NaN</td>\n",
       "    </tr>\n",
       "    <tr>\n",
       "      <th>4</th>\n",
       "      <td>Zone</td>\n",
       "      <td>NaN</td>\n",
       "    </tr>\n",
       "  </tbody>\n",
       "</table>\n",
       "</div>"
      ],
      "text/plain": [
       "  pff_manZone pff_defensiveCoverageAssignment\n",
       "0        Zone                             NaN\n",
       "1        Zone                             NaN\n",
       "2        Zone                             NaN\n",
       "3        Zone                             NaN\n",
       "4        Zone                             NaN"
      ]
     },
     "metadata": {},
     "output_type": "display_data"
    }
   ],
   "source": [
    "display(pp.query('pff_manZone==\"Man\" and pff_defensiveCoverageAssignment.isna()')[['pff_manZone','pff_defensiveCoverageAssignment']].head())\n",
    "display(pp.query('pff_manZone==\"Zone\" and pff_defensiveCoverageAssignment.isna()')[['pff_manZone','pff_defensiveCoverageAssignment']].head())"
   ]
  },
  {
   "cell_type": "code",
   "execution_count": 190,
   "id": "9ccb9c91",
   "metadata": {},
   "outputs": [],
   "source": [
    "pp['pff_defensiveCoverageAssignment'] = pp['pff_defensiveCoverageAssignment'].where(pp['pff_defensiveCoverageAssignment'].notna(),\n",
    "        pp['pff_manZone'].map({'Man': 'MAN', 'Zone': 'ZONE'}))"
   ]
  },
  {
   "cell_type": "code",
   "execution_count": 191,
   "id": "8d4a5073",
   "metadata": {},
   "outputs": [
    {
     "data": {
      "text/plain": [
       "pff_manZone                        Man\n",
       "pff_defensiveCoverageAssignment    MAN\n",
       "Name: 132, dtype: object"
      ]
     },
     "execution_count": 191,
     "metadata": {},
     "output_type": "execute_result"
    }
   ],
   "source": [
    "pp.loc[132][['pff_manZone','pff_defensiveCoverageAssignment']]"
   ]
  },
  {
   "cell_type": "code",
   "execution_count": 192,
   "id": "f0f5ea75",
   "metadata": {},
   "outputs": [
    {
     "data": {
      "text/plain": [
       "pff_manZone                        Zone\n",
       "pff_defensiveCoverageAssignment    ZONE\n",
       "Name: 4, dtype: object"
      ]
     },
     "execution_count": 192,
     "metadata": {},
     "output_type": "execute_result"
    }
   ],
   "source": [
    "pp.loc[4][['pff_manZone','pff_defensiveCoverageAssignment']]"
   ]
  },
  {
   "cell_type": "code",
   "execution_count": 193,
   "id": "5e23af3b",
   "metadata": {},
   "outputs": [
    {
     "data": {
      "text/plain": [
       "array(['ZONE', 'HCR', '4OR', 'FL', 'CFR', '4IR', '2L', 'HCL', 'CFL', '3L',\n",
       "       'HOL', '3R', '3M', 'MAN', 'DF', '2R', 'FR', '4OL', '4IL', nan,\n",
       "       'PRE'], dtype=object)"
      ]
     },
     "execution_count": 193,
     "metadata": {},
     "output_type": "execute_result"
    }
   ],
   "source": [
    "pp.pff_defensiveCoverageAssignment.unique()"
   ]
  },
  {
   "cell_type": "markdown",
   "id": "25c00a5c",
   "metadata": {},
   "source": [
    "###  `sackYardsAsOffense`, `sackYardsAsDefense` ✅"
   ]
  },
  {
   "cell_type": "code",
   "execution_count": 194,
   "id": "106764f8",
   "metadata": {},
   "outputs": [
    {
     "data": {
      "text/plain": [
       "0"
      ]
     },
     "execution_count": 194,
     "metadata": {},
     "output_type": "execute_result"
    }
   ],
   "source": [
    "pp[['sackYardsAsOffense', 'timeToSack']]\n",
    "\n",
    "pp.query('timeToSack.isna()')['sackYardsAsOffense'].sum()"
   ]
  },
  {
   "cell_type": "code",
   "execution_count": 195,
   "id": "f155dced",
   "metadata": {},
   "outputs": [
    {
     "data": {
      "text/plain": [
       "0"
      ]
     },
     "execution_count": 195,
     "metadata": {},
     "output_type": "execute_result"
    }
   ],
   "source": [
    "pp.query('timeToSack.isna()')['sackYardsAsDefense'].sum()"
   ]
  },
  {
   "cell_type": "markdown",
   "id": "05cd78de",
   "metadata": {},
   "source": [
    "### `routeRan`"
   ]
  },
  {
   "cell_type": "code",
   "execution_count": 204,
   "id": "7050df19",
   "metadata": {},
   "outputs": [
    {
     "data": {
      "text/html": [
       "<div>\n",
       "<style scoped>\n",
       "    .dataframe tbody tr th:only-of-type {\n",
       "        vertical-align: middle;\n",
       "    }\n",
       "\n",
       "    .dataframe tbody tr th {\n",
       "        vertical-align: top;\n",
       "    }\n",
       "\n",
       "    .dataframe thead th {\n",
       "        text-align: right;\n",
       "    }\n",
       "</style>\n",
       "<table border=\"1\" class=\"dataframe\">\n",
       "  <thead>\n",
       "    <tr style=\"text-align: right;\">\n",
       "      <th></th>\n",
       "      <th>passResult</th>\n",
       "      <th>position</th>\n",
       "    </tr>\n",
       "  </thead>\n",
       "  <tbody>\n",
       "    <tr>\n",
       "      <th>76453</th>\n",
       "      <td>R</td>\n",
       "      <td>WR</td>\n",
       "    </tr>\n",
       "    <tr>\n",
       "      <th>159984</th>\n",
       "      <td>C</td>\n",
       "      <td>QB</td>\n",
       "    </tr>\n",
       "    <tr>\n",
       "      <th>215423</th>\n",
       "      <td>C</td>\n",
       "      <td>QB</td>\n",
       "    </tr>\n",
       "    <tr>\n",
       "      <th>273136</th>\n",
       "      <td>C</td>\n",
       "      <td>QB</td>\n",
       "    </tr>\n",
       "    <tr>\n",
       "      <th>294381</th>\n",
       "      <td>C</td>\n",
       "      <td>QB</td>\n",
       "    </tr>\n",
       "  </tbody>\n",
       "</table>\n",
       "</div>"
      ],
      "text/plain": [
       "       passResult position\n",
       "76453           R       WR\n",
       "159984          C       QB\n",
       "215423          C       QB\n",
       "273136          C       QB\n",
       "294381          C       QB"
      ]
     },
     "execution_count": 204,
     "metadata": {},
     "output_type": "execute_result"
    }
   ],
   "source": [
    "pp.query('routeRan.isna() and hadPassReception==1')[['passResult', 'position']]"
   ]
  },
  {
   "cell_type": "code",
   "execution_count": 209,
   "id": "df534e96",
   "metadata": {},
   "outputs": [
    {
     "data": {
      "text/html": [
       "<div>\n",
       "<style scoped>\n",
       "    .dataframe tbody tr th:only-of-type {\n",
       "        vertical-align: middle;\n",
       "    }\n",
       "\n",
       "    .dataframe tbody tr th {\n",
       "        vertical-align: top;\n",
       "    }\n",
       "\n",
       "    .dataframe thead th {\n",
       "        text-align: right;\n",
       "    }\n",
       "</style>\n",
       "<table border=\"1\" class=\"dataframe\">\n",
       "  <thead>\n",
       "    <tr style=\"text-align: right;\">\n",
       "      <th></th>\n",
       "      <th>gameId</th>\n",
       "      <th>playId</th>\n",
       "      <th>nflId</th>\n",
       "      <th>teamAbbr</th>\n",
       "      <th>hadRushAttempt</th>\n",
       "      <th>rushingYards</th>\n",
       "      <th>hadDropback</th>\n",
       "      <th>passingYards</th>\n",
       "      <th>sackYardsAsOffense</th>\n",
       "      <th>hadPassReception</th>\n",
       "      <th>...</th>\n",
       "      <th>isDropback</th>\n",
       "      <th>pff_runConceptPrimary</th>\n",
       "      <th>pff_runConceptSecondary</th>\n",
       "      <th>pff_runPassOption</th>\n",
       "      <th>pff_passCoverage</th>\n",
       "      <th>pff_manZone</th>\n",
       "      <th>distanceFromOwnEndZone</th>\n",
       "      <th>penalty</th>\n",
       "      <th>passAfterScramble</th>\n",
       "      <th>position</th>\n",
       "    </tr>\n",
       "  </thead>\n",
       "  <tbody>\n",
       "    <tr>\n",
       "      <th>3075</th>\n",
       "      <td>2022091100</td>\n",
       "      <td>783</td>\n",
       "      <td>45244</td>\n",
       "      <td>NO</td>\n",
       "      <td>0</td>\n",
       "      <td>0</td>\n",
       "      <td>0</td>\n",
       "      <td>0</td>\n",
       "      <td>0</td>\n",
       "      <td>1</td>\n",
       "      <td>...</td>\n",
       "      <td>1</td>\n",
       "      <td>UNKNOWN</td>\n",
       "      <td>UNKNOWN</td>\n",
       "      <td>0</td>\n",
       "      <td>Cover-1</td>\n",
       "      <td>Man</td>\n",
       "      <td>70</td>\n",
       "      <td>0</td>\n",
       "      <td>0</td>\n",
       "      <td>QB</td>\n",
       "    </tr>\n",
       "    <tr>\n",
       "      <th>153081</th>\n",
       "      <td>2022100210</td>\n",
       "      <td>867</td>\n",
       "      <td>53431</td>\n",
       "      <td>NYJ</td>\n",
       "      <td>0</td>\n",
       "      <td>0</td>\n",
       "      <td>0</td>\n",
       "      <td>0</td>\n",
       "      <td>0</td>\n",
       "      <td>1</td>\n",
       "      <td>...</td>\n",
       "      <td>1</td>\n",
       "      <td>TRICK</td>\n",
       "      <td>UNKNOWN</td>\n",
       "      <td>0</td>\n",
       "      <td>Red Zone</td>\n",
       "      <td>Other</td>\n",
       "      <td>98</td>\n",
       "      <td>0</td>\n",
       "      <td>0</td>\n",
       "      <td>QB</td>\n",
       "    </tr>\n",
       "    <tr>\n",
       "      <th>159984</th>\n",
       "      <td>2022100212</td>\n",
       "      <td>2811</td>\n",
       "      <td>38605</td>\n",
       "      <td>DEN</td>\n",
       "      <td>0</td>\n",
       "      <td>0</td>\n",
       "      <td>1</td>\n",
       "      <td>1</td>\n",
       "      <td>0</td>\n",
       "      <td>1</td>\n",
       "      <td>...</td>\n",
       "      <td>1</td>\n",
       "      <td>UNKNOWN</td>\n",
       "      <td>UNKNOWN</td>\n",
       "      <td>0</td>\n",
       "      <td>Cover-6 Right</td>\n",
       "      <td>Zone</td>\n",
       "      <td>1</td>\n",
       "      <td>0</td>\n",
       "      <td>0</td>\n",
       "      <td>QB</td>\n",
       "    </tr>\n",
       "    <tr>\n",
       "      <th>215423</th>\n",
       "      <td>2022101601</td>\n",
       "      <td>3890</td>\n",
       "      <td>54602</td>\n",
       "      <td>NE</td>\n",
       "      <td>0</td>\n",
       "      <td>0</td>\n",
       "      <td>1</td>\n",
       "      <td>-6</td>\n",
       "      <td>0</td>\n",
       "      <td>1</td>\n",
       "      <td>...</td>\n",
       "      <td>1</td>\n",
       "      <td>UNKNOWN</td>\n",
       "      <td>UNKNOWN</td>\n",
       "      <td>0</td>\n",
       "      <td>Cover-3</td>\n",
       "      <td>Zone</td>\n",
       "      <td>48</td>\n",
       "      <td>0</td>\n",
       "      <td>0</td>\n",
       "      <td>QB</td>\n",
       "    </tr>\n",
       "    <tr>\n",
       "      <th>246128</th>\n",
       "      <td>2022102000</td>\n",
       "      <td>1104</td>\n",
       "      <td>45244</td>\n",
       "      <td>NO</td>\n",
       "      <td>0</td>\n",
       "      <td>0</td>\n",
       "      <td>0</td>\n",
       "      <td>0</td>\n",
       "      <td>0</td>\n",
       "      <td>1</td>\n",
       "      <td>...</td>\n",
       "      <td>1</td>\n",
       "      <td>UNKNOWN</td>\n",
       "      <td>UNKNOWN</td>\n",
       "      <td>0</td>\n",
       "      <td>Cover-0</td>\n",
       "      <td>Man</td>\n",
       "      <td>97</td>\n",
       "      <td>0</td>\n",
       "      <td>0</td>\n",
       "      <td>QB</td>\n",
       "    </tr>\n",
       "    <tr>\n",
       "      <th>273136</th>\n",
       "      <td>2022102309</td>\n",
       "      <td>3333</td>\n",
       "      <td>52414</td>\n",
       "      <td>LAC</td>\n",
       "      <td>0</td>\n",
       "      <td>0</td>\n",
       "      <td>1</td>\n",
       "      <td>-8</td>\n",
       "      <td>0</td>\n",
       "      <td>1</td>\n",
       "      <td>...</td>\n",
       "      <td>1</td>\n",
       "      <td>UNKNOWN</td>\n",
       "      <td>UNKNOWN</td>\n",
       "      <td>0</td>\n",
       "      <td>Cover-3 Seam</td>\n",
       "      <td>Zone</td>\n",
       "      <td>33</td>\n",
       "      <td>0</td>\n",
       "      <td>0</td>\n",
       "      <td>QB</td>\n",
       "    </tr>\n",
       "    <tr>\n",
       "      <th>294381</th>\n",
       "      <td>2022103003</td>\n",
       "      <td>2051</td>\n",
       "      <td>43290</td>\n",
       "      <td>DET</td>\n",
       "      <td>0</td>\n",
       "      <td>0</td>\n",
       "      <td>1</td>\n",
       "      <td>5</td>\n",
       "      <td>0</td>\n",
       "      <td>1</td>\n",
       "      <td>...</td>\n",
       "      <td>1</td>\n",
       "      <td>UNKNOWN</td>\n",
       "      <td>UNKNOWN</td>\n",
       "      <td>0</td>\n",
       "      <td>Cover-3</td>\n",
       "      <td>Zone</td>\n",
       "      <td>46</td>\n",
       "      <td>0</td>\n",
       "      <td>0</td>\n",
       "      <td>QB</td>\n",
       "    </tr>\n",
       "    <tr>\n",
       "      <th>300889</th>\n",
       "      <td>2022103006</td>\n",
       "      <td>533</td>\n",
       "      <td>45244</td>\n",
       "      <td>NO</td>\n",
       "      <td>0</td>\n",
       "      <td>0</td>\n",
       "      <td>0</td>\n",
       "      <td>0</td>\n",
       "      <td>0</td>\n",
       "      <td>1</td>\n",
       "      <td>...</td>\n",
       "      <td>1</td>\n",
       "      <td>UNKNOWN</td>\n",
       "      <td>UNKNOWN</td>\n",
       "      <td>0</td>\n",
       "      <td>Cover-2</td>\n",
       "      <td>Zone</td>\n",
       "      <td>20</td>\n",
       "      <td>0</td>\n",
       "      <td>0</td>\n",
       "      <td>QB</td>\n",
       "    </tr>\n",
       "  </tbody>\n",
       "</table>\n",
       "<p>8 rows × 95 columns</p>\n",
       "</div>"
      ],
      "text/plain": [
       "            gameId  playId  nflId teamAbbr  hadRushAttempt  rushingYards  \\\n",
       "3075    2022091100     783  45244       NO               0             0   \n",
       "153081  2022100210     867  53431      NYJ               0             0   \n",
       "159984  2022100212    2811  38605      DEN               0             0   \n",
       "215423  2022101601    3890  54602       NE               0             0   \n",
       "246128  2022102000    1104  45244       NO               0             0   \n",
       "273136  2022102309    3333  52414      LAC               0             0   \n",
       "294381  2022103003    2051  43290      DET               0             0   \n",
       "300889  2022103006     533  45244       NO               0             0   \n",
       "\n",
       "        hadDropback  passingYards  sackYardsAsOffense  hadPassReception  ...  \\\n",
       "3075              0             0                   0                 1  ...   \n",
       "153081            0             0                   0                 1  ...   \n",
       "159984            1             1                   0                 1  ...   \n",
       "215423            1            -6                   0                 1  ...   \n",
       "246128            0             0                   0                 1  ...   \n",
       "273136            1            -8                   0                 1  ...   \n",
       "294381            1             5                   0                 1  ...   \n",
       "300889            0             0                   0                 1  ...   \n",
       "\n",
       "        isDropback  pff_runConceptPrimary  pff_runConceptSecondary  \\\n",
       "3075             1                UNKNOWN                  UNKNOWN   \n",
       "153081           1                  TRICK                  UNKNOWN   \n",
       "159984           1                UNKNOWN                  UNKNOWN   \n",
       "215423           1                UNKNOWN                  UNKNOWN   \n",
       "246128           1                UNKNOWN                  UNKNOWN   \n",
       "273136           1                UNKNOWN                  UNKNOWN   \n",
       "294381           1                UNKNOWN                  UNKNOWN   \n",
       "300889           1                UNKNOWN                  UNKNOWN   \n",
       "\n",
       "        pff_runPassOption  pff_passCoverage  pff_manZone  \\\n",
       "3075                    0           Cover-1          Man   \n",
       "153081                  0          Red Zone        Other   \n",
       "159984                  0     Cover-6 Right         Zone   \n",
       "215423                  0           Cover-3         Zone   \n",
       "246128                  0           Cover-0          Man   \n",
       "273136                  0      Cover-3 Seam         Zone   \n",
       "294381                  0           Cover-3         Zone   \n",
       "300889                  0           Cover-2         Zone   \n",
       "\n",
       "        distanceFromOwnEndZone  penalty  passAfterScramble  position  \n",
       "3075                        70        0                  0        QB  \n",
       "153081                      98        0                  0        QB  \n",
       "159984                       1        0                  0        QB  \n",
       "215423                      48        0                  0        QB  \n",
       "246128                      97        0                  0        QB  \n",
       "273136                      33        0                  0        QB  \n",
       "294381                      46        0                  0        QB  \n",
       "300889                      20        0                  0        QB  \n",
       "\n",
       "[8 rows x 95 columns]"
      ]
     },
     "execution_count": 209,
     "metadata": {},
     "output_type": "execute_result"
    }
   ],
   "source": [
    "pp.query('hadPassReception==1 and position==\"QB\"')"
   ]
  },
  {
   "cell_type": "code",
   "execution_count": 197,
   "id": "9a36dec8",
   "metadata": {},
   "outputs": [],
   "source": [
    "# pp = pp.drop(['hadDropback'])"
   ]
  },
  {
   "cell_type": "code",
   "execution_count": 198,
   "id": "9450aaa5",
   "metadata": {},
   "outputs": [],
   "source": [
    "# pp = pp.drop(['qbSpike', 'qbKneel', 'isDropback', \n",
    "#                     'dropbackDistance', 'timeToSack', 'penalty','penaltyYards'], axis=1)"
   ]
  },
  {
   "cell_type": "code",
   "execution_count": null,
   "id": "c3cf676c",
   "metadata": {},
   "outputs": [],
   "source": []
  },
  {
   "cell_type": "code",
   "execution_count": null,
   "id": "84590900",
   "metadata": {},
   "outputs": [],
   "source": [
    "# pp = pp.drop(['qbSpike', 'qbKneel', 'isDropback', 'dropbackDistance', 'timeToSack', 'penalty','penaltyYards', 'hadDropback',\n",
    "#              'penaltyNames', 'timeToPressureAsPassRusher'], axis=1)\n",
    "\n",
    "# pp.to_csv('plays_new.csv', sep='\\t')"
   ]
  }
 ],
 "metadata": {
  "kernelspec": {
   "display_name": "Python 3 (ipykernel)",
   "language": "python",
   "name": "python3"
  },
  "language_info": {
   "codemirror_mode": {
    "name": "ipython",
    "version": 3
   },
   "file_extension": ".py",
   "mimetype": "text/x-python",
   "name": "python",
   "nbconvert_exporter": "python",
   "pygments_lexer": "ipython3",
   "version": "3.9.13"
  }
 },
 "nbformat": 4,
 "nbformat_minor": 5
}
